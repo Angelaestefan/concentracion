{
  "nbformat": 4,
  "nbformat_minor": 0,
  "metadata": {
    "colab": {
      "provenance": []
    },
    "kernelspec": {
      "name": "python3",
      "display_name": "Python 3"
    },
    "language_info": {
      "name": "python"
    }
  },
  "cells": [
    {
      "cell_type": "markdown",
      "source": [
        "# Modelado de distribuciones\n",
        "\n",
        "Las distribuciones que hemos utilizado hasta ahora se denominan distribuciones empíricas porque se basan en observaciones empíricas, es decir, en datos. Muchos conjuntos de datos que vemos en el mundo real pueden aproximarse estrechamente a una distribución teórica, que suele basarse en una función matemática simple.\n",
        "\n",
        "Como ejemplos, veremos que:\n",
        "\n",
        "*    En una **competición de tiro al plato**, el número de aciertos y fallos se modela bien mediante una **distribución binomial**.\n",
        "\n",
        "*    En deportes como el **hockey** y el **fútbol**, el número de goles en un partido sigue una **distribución de Poisson**, y el tiempo entre goles sigue una **distribución exponencial**.\n",
        "\n",
        "*    El **peso al nacer** sigue una **distribución normal**, también llamada gaussiana, y el **peso en la edad adulta** sigue una **distribución lognormal**.\n",
        "\n",
        "Para cada ejemplo, comenzaremos con una simulación basada en un modelo simple y mostraremos que los resultados de la simulación siguen una distribución teórica. A continuación, veremos en qué medida los datos reales concuerdan con el modelo."
      ],
      "metadata": {
        "id": "2w3Kswr_AVGe"
      }
    },
    {
      "cell_type": "code",
      "execution_count": null,
      "metadata": {
        "id": "-CLKk8cV_aG9"
      },
      "outputs": [],
      "source": [
        "import numpy as np\n",
        "import pandas as pd\n",
        "import matplotlib.pyplot as plt"
      ]
    },
    {
      "cell_type": "markdown",
      "source": [
        "# Algunas Herramientas..."
      ],
      "metadata": {
        "id": "__6ciWeHHax4"
      }
    },
    {
      "cell_type": "code",
      "source": [
        "def from_seq(seq, name=None, normalize=True, sort=True, ascending=True, dropna=True, na_position=\"last\", convert_to=\"PMF\"):\n",
        "  \"\"\"Crea un PMF a partir de una secuencia de valores.\n",
        "  Args:\n",
        "      seq: iterable\n",
        "      normalize: si se debe normalizar la serie (i.e, Pmf), por defecto True\n",
        "      sort: si se debe ordenar la serie por valores, por defecto True\n",
        "      ascending: si se debe ordenar en orden ascendente, por defecto True\n",
        "      dropna: si se deben eliminar los valores NaN, por defecto True\n",
        "      na_position: si es 'first', coloca los NaNs al principio;\n",
        "                  si es 'last', coloca los NaNs al final.\n",
        "      convert_to: si es 'Freq', Crea una tabla de frecuencia;\n",
        "                  si es 'PMF' (default), crea una funcion de masa de probabilidad;\n",
        "                  si es 'CDF', crea una función de distribución acumulada.\n",
        "\n",
        "  Returns: pd.Series\n",
        "  \"\"\"\n",
        "  if convert_to == \"Freq\":\n",
        "    normalize=False\n",
        "\n",
        "  # compute the value counts\n",
        "  series = pd.Series(seq, name=name).value_counts(normalize=normalize, sort=sort, dropna=dropna)\n",
        "\n",
        "  # sort in place, if desired\n",
        "  if sort:\n",
        "    series.sort_index(inplace=True, ascending=ascending, na_position=na_position)\n",
        "\n",
        "  if convert_to == \"CDF\":\n",
        "    series = np.cumsum(series)\n",
        "\n",
        "  return series\n",
        "\n",
        "def get_qs(Tab):\n",
        "    \"\"\"Obtener las cantidades.\n",
        "\n",
        "    Returns: NumPy array\n",
        "    \"\"\"\n",
        "    return Tab.index.values\n",
        "\n",
        "def get_ps(Tab):\n",
        "    \"\"\"Obtener las probabilidades.\n",
        "\n",
        "    Returns: NumPy array\n",
        "    \"\"\"\n",
        "    return Tab.values\n",
        "\n",
        "def plot_bar(Tab, xlabel=\"x\", ylabel=\"y\", title=\"tittle\"):\n",
        "    \"\"\"Crea un gráfico de barras.\n",
        "\n",
        "    Args:\n",
        "        kwargs: se pasa a plt.bar\n",
        "    \"\"\"\n",
        "    qs = get_qs(Tab)\n",
        "    ps = get_ps(Tab)\n",
        "\n",
        "    plt.bar(qs, ps)\n",
        "\n",
        "    plt.xlabel(xlabel)\n",
        "    plt.ylabel(ylabel)\n",
        "    plt.title(title)\n",
        "\n",
        "def plot_two_bars(Tab, Tab2, labels=None, xlabel=\"x\", ylabel=\"y\", title=\"tittle\", width=0.45):\n",
        "    \"\"\"Crea un gráfico comparativo de dos barras.\n",
        "    Args:\n",
        "        Tab: PMF de distribucion que presuntamente se aproxima al comportamiento de los datos\n",
        "        Tab2: PMF de los datos a analisar\n",
        "        labels: Etiquetas a ser mostradas en el grafico, i.e., modelo y datos.\n",
        "        xlabel: Etiqueta a mostrar en el eje x\n",
        "        ylabel: Etiqueta a mostrar en el eje y\n",
        "        tittle: Titulo que aparecera en el grafico.\n",
        "    \"\"\"\n",
        "    plt.figure(figsize=(8, 5))\n",
        "\n",
        "    qs = get_qs(Tab)\n",
        "    ps = get_ps(Tab)\n",
        "\n",
        "    plt.bar(qs, ps, align=\"edge\", width=-width, label=labels[0])\n",
        "\n",
        "    qs = get_qs(Tab2)\n",
        "    ps = get_ps(Tab2)\n",
        "\n",
        "    plt.bar(qs, ps, align=\"edge\", width=width, label=labels[1])\n",
        "\n",
        "    plt.xlabel(xlabel)\n",
        "    plt.ylabel(ylabel)\n",
        "    plt.title(title)\n",
        "    plt.legend()\n",
        "    plt.grid(axis='y', linestyle='--', alpha=0.6)\n",
        "\n",
        "def plot_cdf_plots(cdf_model, cdf_data, labels=[\"model\", \"data\"], xlabel=\"x\", ylabel=\"CDF\", title=\"\"):\n",
        "    \"\"\"Crea un gráfico comparativo de dos CDFs.\n",
        "    Args:\n",
        "        cdf_model: CDF de distribucion que presuntamente se aproxima al comportamiento de los datos\n",
        "        cdf_data: CDF de los datos a analisar\n",
        "        labels: Etiquetas a ser mostradas en el grafico, i.e., modelo y datos.\n",
        "        xlabel: Etiqueta a mostrar en el eje x\n",
        "        ylabel: Etiqueta a mostrar en el eje y\n",
        "        tittle: Titulo que aparecera en el grafico.\n",
        "    \"\"\"\n",
        "    plt.figure(figsize=(8, 5))\n",
        "\n",
        "    plt.plot(get_qs(cdf_model),get_ps(cdf_model), linestyle=\":\", color=\"gray\", label=labels[0])\n",
        "    plt.plot(get_qs(cdf_data),get_ps(cdf_data), label=labels[1])\n",
        "\n",
        "    plt.xlabel(xlabel)\n",
        "    plt.ylabel(ylabel)\n",
        "    plt.title(title)\n",
        "    plt.legend()"
      ],
      "metadata": {
        "id": "XjUZSWeMJ_Ca"
      },
      "execution_count": null,
      "outputs": []
    },
    {
      "cell_type": "markdown",
      "source": [
        "---\n",
        "\n",
        "## La distribución binomial\n",
        "\n",
        "Como primer ejemplo, consideraremos el deporte del [tiro al plato](https://en.wikipedia.org/wiki/Skeet_shooting), en el que los competidores utilizan escopetas para disparar a discos de arcilla que se lanzan al aire.\n",
        "En las competiciones internacionales, incluidas las Olimpiadas, hay cinco rondas con 25 blancos por ronda, con rondas adicionales según sea necesario para determinar un ganador.\n"
      ],
      "metadata": {
        "id": "Jh6Uru9UBVRH"
      }
    },
    {
      "cell_type": "markdown",
      "source": [
        "Como modelo, supongamos que todos los participantes tienen la misma probabilidad, `p`, de acertar en todos los blancos.\n",
        "\n",
        "<br>\n",
        "\n",
        "Por supuesto, este modelo es una simplificación: en realidad, algunos competidores tienen una probabilidad mayor que otros, e incluso para un mismo competidor, puede variar de un intento a otro.\n",
        "Pero, aunque no sea realista, este modelo hace algunas predicciones sorprendentemente precisas, como veremos.\n",
        "\n",
        "<br>\n",
        "\n",
        "Para simular el modelo, utilizaré la siguiente función, que toma el número de blancos (platos), `n`, y la probabilidad de acertar a cada uno, `p`, y devuelve una secuencia de 1 y 0 para indicar los aciertos y los fallos."
      ],
      "metadata": {
        "id": "Dz7g5KI7BY9l"
      }
    },
    {
      "cell_type": "code",
      "source": [
        "def flip(n, p):\n",
        "    choices = [1, 0]\n",
        "    probs = [p, 1 - p]\n",
        "    return np.random.choice(choices, n, p=probs)"
      ],
      "metadata": {
        "id": "koasZEKoA9jK"
      },
      "execution_count": null,
      "outputs": []
    },
    {
      "cell_type": "code",
      "source": [
        "# Inicializa el generador de números aleatorios para que obtengamos los mismos resultados cada vez.\n",
        "np.random.seed(1)"
      ],
      "metadata": {
        "id": "fdjC75H3DCS8"
      },
      "execution_count": null,
      "outputs": []
    },
    {
      "cell_type": "markdown",
      "source": [
        "Aquí hay un ejemplo que simula una ronda de 25 objetivos en la que la probabilidad de acertar cada uno es del 90%."
      ],
      "metadata": {
        "id": "8hMzYuSpDG2u"
      }
    },
    {
      "cell_type": "code",
      "source": [
        "objetivos = 25\n",
        "prob = 0.9\n",
        "\n",
        "flip(objetivos, prob)"
      ],
      "metadata": {
        "id": "sOrFdnIDA9lJ"
      },
      "execution_count": null,
      "outputs": []
    },
    {
      "cell_type": "markdown",
      "source": [
        "Si generamos una secuencia más larga y calculamos la `Pmf` de los resultados, podemos confirmar que las proporciones de 1 y 0 son correctas, al menos aproximadamente."
      ],
      "metadata": {
        "id": "3-FxX5vRDS_G"
      }
    },
    {
      "cell_type": "code",
      "source": [
        "seq = flip(1000, 0.9)\n",
        "pmf = from_seq(seq, convert_to=\"PMF\")\n",
        "\n",
        "pmf"
      ],
      "metadata": {
        "id": "cHy03PiWN_oS"
      },
      "execution_count": null,
      "outputs": []
    },
    {
      "cell_type": "markdown",
      "source": [
        "Ahora podemos usar la funcion `flip` para simular una sola ronda de tiro al plato y devolver el número de aciertos."
      ],
      "metadata": {
        "id": "vQbqsSn9C9xy"
      }
    },
    {
      "cell_type": "code",
      "source": [
        "def simulate_round(n, p):\n",
        "    seq = flip(n, p)\n",
        "    return seq.sum()"
      ],
      "metadata": {
        "id": "i4f06OAIDv2A"
      },
      "execution_count": null,
      "outputs": []
    },
    {
      "cell_type": "markdown",
      "source": [
        "En una competición grande, supongamos que 200 competidores disparan 5 rondas cada uno (200 $\\times$ 5 = 1,000 resultados), todos con la misma probabilidad de dar en el blanco, `p=0.9`.\n",
        "\n",
        "Podemos simular una competición como esa llamando a `simulate_round` 1000 veces."
      ],
      "metadata": {
        "id": "7DFzpHIEDNGo"
      }
    },
    {
      "cell_type": "code",
      "source": [
        "n = 25\n",
        "p = 0.9\n",
        "results_sim = [simulate_round(n, p) for i in range(1000)]"
      ],
      "metadata": {
        "id": "JQnlcYTyDU8J"
      },
      "execution_count": null,
      "outputs": []
    },
    {
      "cell_type": "code",
      "source": [
        "print(f\"Calculo: {np.mean(results_sim).item()}, Teorico: {n * p}\")"
      ],
      "metadata": {
        "id": "qSsm_10QDV45"
      },
      "execution_count": null,
      "outputs": []
    },
    {
      "cell_type": "markdown",
      "source": [
        "La puntuación media es cercana a `22.5`, que es el producto de `n` y `p`.\n",
        "\n",
        "Así es como se ve la distribución de los resultados."
      ],
      "metadata": {
        "id": "apzawaU9FZZ7"
      }
    },
    {
      "cell_type": "code",
      "source": [
        "pmf_sim = from_seq(results_sim)\n",
        "pmf_sim"
      ],
      "metadata": {
        "id": "LEa_7w8vYjqh"
      },
      "execution_count": null,
      "outputs": []
    },
    {
      "cell_type": "code",
      "source": [
        "pmf_sim.index"
      ],
      "metadata": {
        "id": "R-Y1Mk-rNGNG"
      },
      "execution_count": null,
      "outputs": []
    },
    {
      "cell_type": "code",
      "source": [
        "len(pmf_sim)"
      ],
      "metadata": {
        "id": "cIU2LL_CaaFv"
      },
      "execution_count": null,
      "outputs": []
    },
    {
      "cell_type": "code",
      "source": [
        "plot_bar(pmf_sim, xlabel='Hits', ylabel='PMF', title='Resultado de simulacion')\n",
        "plt.show()"
      ],
      "metadata": {
        "id": "I1doL7JmJ_Gu"
      },
      "execution_count": null,
      "outputs": []
    },
    {
      "cell_type": "markdown",
      "source": [
        "El pico está cerca de la media (`22.5`) y la distribución está **sesgada hacia la izquierda**."
      ],
      "metadata": {
        "id": "M3FxmhFBSTpE"
      }
    },
    {
      "cell_type": "markdown",
      "source": [
        "En lugar de realizar una simulación, podríamos haber predicho esta distribución.\n",
        "Matemáticamente, la distribución de estos resultados sigue una **distribución binomial**, que tiene una PMF fácil de calcular.\n",
        "\n",
        "Recordemos que la función de masa de probabilidad (PMF) de una distribución binomial se expresa como:\n",
        "\n",
        "$$\n",
        "P(X = k) = \\binom{n}{k} p^k (1 - p)^{n - k}\n",
        "$$\n",
        "\n",
        "donde:\n",
        "\n",
        "- $P(X = k)$: probabilidad de obtener exactamente \\( k \\) éxitos en \\( n \\) ensayos,\n",
        "- $\\binom{n}{k} = \\frac{n!}{k!(n-k)!}$: coeficiente binomial,\n",
        "- $p$: probabilidad de éxito en un ensayo,\n",
        "- $(1 - p)$: probabilidad de fracaso,\n",
        "- $k$: número de éxitos deseados,\n",
        "- $n$: número total de ensayos."
      ],
      "metadata": {
        "id": "yHgwBnxXTAvD"
      }
    },
    {
      "cell_type": "markdown",
      "source": [
        "La libreria `SciPy` proporciona la función `comb`, que calcula el número de combinaciones de `n` elementos tomando `k` a la vez.\n",
        "\n",
        "La funcion `binomial_pmf` calcula la probabilidad de obtener `k` aciertos de `n` intentos, dado `p`.\n",
        "Si llamamos a esta función con un rango de valores `k`, podemos crear un `Pmf` que represente la distribución de los resultados."
      ],
      "metadata": {
        "id": "3k5gvJePVX9B"
      }
    },
    {
      "cell_type": "code",
      "source": [
        "from scipy.special import comb\n",
        "\n",
        "def binomial_pmf(k, n, p):\n",
        "    return comb(n, k) * (p**k) * ((1 - p) ** (n - k))"
      ],
      "metadata": {
        "id": "_wAc6LXTDV-p"
      },
      "execution_count": null,
      "outputs": []
    },
    {
      "cell_type": "code",
      "source": [
        "ks = np.arange(16, n + 1)\n",
        "ps = binomial_pmf(ks, n, p)\n",
        "\n",
        "pmf_binom = pd.Series(data=ps, index=ks, name=\"binomial model\")\n",
        "pmf_binom"
      ],
      "metadata": {
        "id": "pJHK1dY_VXZZ"
      },
      "execution_count": null,
      "outputs": []
    },
    {
      "cell_type": "code",
      "source": [
        "pmf_sim"
      ],
      "metadata": {
        "id": "SF7uKhbev0QA"
      },
      "execution_count": null,
      "outputs": []
    },
    {
      "cell_type": "markdown",
      "source": [
        "Y así es como se ve en comparación con los resultados de la simulación."
      ],
      "metadata": {
        "id": "CXh2qqEK3guD"
      }
    },
    {
      "cell_type": "code",
      "source": [
        "plt.figure(figsize=(8, 5))\n",
        "\n",
        "plot_two_bars(pmf_sim, pmf_binom, labels=[\"resultados simulados\",\"modelo binomial\"], xlabel='Hits', ylabel='PMF', title='Resultado de simulacion')\n",
        "\n",
        "plt.show()"
      ],
      "metadata": {
        "id": "-HyikEF4YrqK"
      },
      "execution_count": null,
      "outputs": []
    },
    {
      "cell_type": "markdown",
      "source": [
        "Y así es como se ve en comparación con los resultados de la simulación.\n",
        "\n",
        "Son similares, con pequeñas diferencias debido a la variación aleatoria en los resultados de la simulación.\n",
        "Esta coincidencia no debería sorprender, ya que la simulación y el modelo se basan en los mismos supuestos, en particular el supuesto de que cada intento tiene la misma probabilidad de éxito.\n",
        "Una prueba más sólida de un modelo es cómo se compara con los datos reales.\n",
        "\n"
      ],
      "metadata": {
        "id": "bDpQ1TL33oQ-"
      }
    },
    {
      "cell_type": "markdown",
      "source": [
        "---\n",
        "\n",
        "# **EJEMPLO**\n",
        "\n",
        "\n",
        "De la página de Wikipedia sobre la competición masculina de tiro al plato en los Juegos Olímpicos de Verano de 2020, podemos extraer una tabla que muestra los resultados de las rondas de clasificación.\n",
        "Las instrucciones para descargar los datos se encuentran en este notebook, a continuacion:"
      ],
      "metadata": {
        "id": "4Fi1rKHm3oTy"
      }
    },
    {
      "cell_type": "markdown",
      "source": [
        "Descargar desde <https://en.wikipedia.org/wiki/Shooting_at_the_2020_Summer_Olympics_–_Men's_skeet>"
      ],
      "metadata": {
        "id": "ooMRVIX_4-Ss"
      }
    },
    {
      "cell_type": "code",
      "source": [
        "link = \"https://en.wikipedia.org/wiki/Shooting_at_the_2020_Summer_Olympics_%E2%80%93_Men%27s_skeet\"\n",
        "\n",
        "tables = pd.read_html(link)\n",
        "table = tables[6]\n",
        "table.head()"
      ],
      "metadata": {
        "id": "kYTzMO-w3KZA"
      },
      "execution_count": null,
      "outputs": []
    },
    {
      "cell_type": "markdown",
      "source": [
        "## Objetivo\n",
        "\n",
        "La idea de este ejercicio es verificar si con una **distribución binomial teorica** podemos aproximarnos a la distribucion empírica del número de aciertos/fallos en una **competición de tiro al plato**\n",
        "\n",
        "<br>\n",
        "\n",
        "Para esto necesitaremos:\n",
        "- Procesar los datos para obtener la informacion requerida.\n",
        "- Calcular la probabilidad empirica de exito para modelar su distribucion.\n",
        "- Comparar la distribuciones (teorica y empirica) para verificar/rechazar la aproximacion."
      ],
      "metadata": {
        "id": "yg_qKJfGCBeQ"
      }
    },
    {
      "cell_type": "markdown",
      "source": [
        "La tabla tiene una fila para cada competidor, con una columna para cada una de las cinco rondas (1, 2, 3, 4, 5).\n",
        "\n",
        "<br>\n",
        "\n",
        "Selecciona sola las columnas que contienen estos resultados (1, 2, 3, 4, 5) y utiliza la función de `NumPy` llamada `flatten` para transformar la tabla de rondas en un solo vector."
      ],
      "metadata": {
        "id": "XGsPV65G58bm"
      }
    },
    {
      "cell_type": "code",
      "source": [
        "columns = [\"1\", \"2\", \"3\", \"4\", \"5\"]\n",
        "results = table[columns].values.flatten()\n",
        "print(\"Tamaño:\", results.shape)\n",
        "results"
      ],
      "metadata": {
        "id": "TEl7BTik6Gp2"
      },
      "execution_count": null,
      "outputs": []
    },
    {
      "cell_type": "markdown",
      "source": [
        "Con 5 rondas para cada uno de los 30 competidores, deberiamos obtener un vector de 150 rondas totales\n",
        "\n",
        "<br>\n",
        "\n",
        "Dados los resultados de estas 150 rondas de 25 tiros cada una,\n",
        "\n",
        "Calcule la tasa de éxito global, para esto:\n",
        "- Calcule la cantidad de puntos/aciertos maximos se pueden obtener en el total de las rondas.\n",
        "- Calcule la cantidad de puntos/aciertos que se obtuvieron en las rondas."
      ],
      "metadata": {
        "id": "dg7dXpmA58d7"
      }
    },
    {
      "cell_type": "code",
      "source": [
        "total_shots = 25 * len(results) # Aciertos maximos posibles\n",
        "total_hits = results.sum() # Aciertos obtenidos\n",
        "\n",
        "n, total_shots, total_hits.item()"
      ],
      "metadata": {
        "id": "kvm2_tGx9XgX"
      },
      "execution_count": null,
      "outputs": []
    },
    {
      "cell_type": "markdown",
      "source": [
        "Por lo tanto, el calculo de la tasa de éxito global es del ___ %. Guardelo en una variable `p`."
      ],
      "metadata": {
        "id": "UHNdOXPg58gg"
      }
    },
    {
      "cell_type": "code",
      "source": [
        "p = total_hits / total_shots\n",
        "p.item()"
      ],
      "metadata": {
        "id": "UU6g97ey94YP"
      },
      "execution_count": null,
      "outputs": []
    },
    {
      "cell_type": "markdown",
      "source": [
        "Ahora calculemos una **función de masa de probabilidad** (Pmf), definida anteriormente `binomial_pmf(k, n, p)`, que represente la distribución binomial de una ronda `n=25` y el valor de `p` que acabamos de calcular.\n",
        "\n",
        "<br>\n",
        "\n",
        "Convierta el resultado en una `Series` de la libreria `pandas`.\n",
        "\n"
      ],
      "metadata": {
        "id": "6f77TLyO58lM"
      }
    },
    {
      "cell_type": "code",
      "source": [
        "#ks = np.arange(16, n + 1)\n",
        "\n",
        "ps = binomial_pmf(ks, n, p)\n",
        "\n",
        "pmf_binom = pd.Series(data=ps, index=ks, name=\"modelo binomial\")\n",
        "pmf_binom"
      ],
      "metadata": {
        "id": "J_WyAZso_t6R"
      },
      "execution_count": null,
      "outputs": []
    },
    {
      "cell_type": "markdown",
      "source": [
        "Y podemos compararla con la `Pmf` de los **resultados reales**. No olvides convertir los resultados reales en una `Series` de la libreria `pandas`, `from_seq`. Posteriormente, grafique en conjunto los resultados reales y el modelo binomial, `plot_two_bars`."
      ],
      "metadata": {
        "id": "C4VAj49w_ULU"
      }
    },
    {
      "cell_type": "code",
      "source": [
        "pmf_results = from_seq(results, name=\"resultados reales\", convert_to=\"PMF\")\n",
        "pmf_results"
      ],
      "metadata": {
        "id": "IZPxuypiMYZ3"
      },
      "execution_count": null,
      "outputs": []
    },
    {
      "cell_type": "code",
      "source": [
        "plt.figure(figsize=(8, 5))\n",
        "\n",
        "plot_two_bars(pmf_results, pmf_binom, labels=[\"resultados simulados\",\"modelo binomial\"], xlabel='Hits', ylabel='PMF', title='Comparacion')\n",
        "\n",
        "plt.show()"
      ],
      "metadata": {
        "id": "S_GH7ylePapo"
      },
      "execution_count": null,
      "outputs": []
    },
    {
      "cell_type": "markdown",
      "source": [
        "Menciona que tan bien se ajusta nuestro modelo a la distribucion de los datos, considerando que **parte de la hipótesis poco realista de que todos los competidores tienen la misma capacidad**, que no varía."
      ],
      "metadata": {
        "id": "-oL6MZbjTwuP"
      }
    },
    {
      "cell_type": "markdown",
      "source": [
        "```\n",
        "Son similares, con pequeñas diferencias debido a la variación aleatoria en los\n",
        "resultados de la simulación. Esta coincidencia no debería sorprender, ya que la\n",
        "simulación y el modelo se basan en los mismos supuestos, en particular el\n",
        "supuesto de que cada intento tiene la misma probabilidad de éxito. Una prueba\n",
        "más sólida de un modelo es cómo se compara con los datos reales.\n",
        "```"
      ],
      "metadata": {
        "id": "if_ODnghT_ex"
      }
    },
    {
      "cell_type": "code",
      "source": [
        "def qqplot(modelo, data):\n",
        "  # Número de muestras sintéticas a generar\n",
        "  n_samples = 1_000\n",
        "\n",
        "  # Generar muestras a partir de las PMF\n",
        "  prob_model = get_ps(modelo)\n",
        "  prob_model /= prob_model.sum()\n",
        "\n",
        "  prob_data = get_ps(data)\n",
        "  prob_data /= prob_data.sum()\n",
        "\n",
        "  modelo_sample = np.random.choice(get_qs(modelo), size=n_samples, p=prob_model)\n",
        "  data_sample = np.random.choice(get_qs(data), size=n_samples, p=prob_data)\n",
        "\n",
        "  # Ordenar las muestras\n",
        "  modelo_sorted = np.sort(modelo_sample)\n",
        "  data_sorted = np.sort(data_sample)\n",
        "\n",
        "  # Crear el QQ-plot comparando cuantiles de ambas muestras\n",
        "  plt.figure(figsize=(9, 9))\n",
        "  plt.plot(modelo_sorted, data_sorted, 'o', label=\"Quantile pairs\")\n",
        "  plt.plot([min(modelo_sample.min(), data_sample.min()), max(modelo_sample.max(), data_sample.max())],\n",
        "           [min(modelo_sample.min(), data_sample.min()), max(modelo_sample.max(), data_sample.max())],\n",
        "           'r--', label=\"Línea de 45°\")\n",
        "  plt.xlabel(\"Theoretical Quantiles\")\n",
        "  plt.ylabel(\"Sample Quantiles\")\n",
        "  plt.title(\"QQ-Plot: Comparación de dos distribuciones\")\n",
        "  plt.legend()\n",
        "  plt.grid(True)\n",
        "\n"
      ],
      "metadata": {
        "id": "7Q2fcNWfks_k"
      },
      "execution_count": null,
      "outputs": []
    },
    {
      "cell_type": "code",
      "source": [
        "qqplot(pmf_binom, pmf_results)"
      ],
      "metadata": {
        "id": "XooeofVGiCI_"
      },
      "execution_count": null,
      "outputs": []
    },
    {
      "cell_type": "markdown",
      "source": [
        "---\n",
        "---\n",
        "## La distribución de Poisson\n",
        "\n",
        "Como otro ejemplo en el que los resultados de los eventos deportivos siguen patrones predecibles, veamos el número de goles marcados en los partidos de hockey sobre hielo.\n",
        "\n",
        "Comenzaremos simulando un partido de `60` minutos, es decir, `3600` segundos, suponiendo que los equipos marcan un total de `6` goles por partido, de media, y que la probabilidad de marcar un gol, `p`,  es la misma durante cualquier segundo."
      ],
      "metadata": {
        "id": "Mg4jTIS1UIgo"
      }
    },
    {
      "cell_type": "code",
      "source": [
        "n = 3600\n",
        "m = 6\n",
        "p = m / 3600\n",
        "p"
      ],
      "metadata": {
        "id": "t6Dzznt6R_Oi"
      },
      "execution_count": null,
      "outputs": []
    },
    {
      "cell_type": "markdown",
      "source": [
        "Ahora podemos utilizar la siguiente función para simular `n` segundos y devolver el número total de goles marcados."
      ],
      "metadata": {
        "id": "zWPolZaEVxva"
      }
    },
    {
      "cell_type": "code",
      "source": [
        "def simulate_goals(n, p):\n",
        "    return flip(n, p).sum()"
      ],
      "metadata": {
        "id": "HvstMIHQVyCh"
      },
      "execution_count": null,
      "outputs": []
    },
    {
      "cell_type": "markdown",
      "source": [
        "Si simulamos muchos partidos (`1,001`), podemos confirmar que el número medio de goles por partido es cercano a `6`."
      ],
      "metadata": {
        "id": "uPVo4oupWA0H"
      }
    },
    {
      "cell_type": "code",
      "source": [
        "goals = [simulate_goals(n, p) for i in range(1001)]\n",
        "np.mean(goals)"
      ],
      "metadata": {
        "id": "1EurAlZPWA46"
      },
      "execution_count": null,
      "outputs": []
    },
    {
      "cell_type": "markdown",
      "source": [
        "Podríamos utilizar la `distribución binomial` para modelar estos resultados, pero cuando `n` es grande y `p` es pequeño, los resultados también se modelan bien mediante una `distribución de Poisson`, que se especifica mediante un valor que suele denotarse con la letra griega `λ`, que se pronuncia **lambda** y se representa en el código con la variable `lam` (`lambda` no es un nombre de variable válido porque es una palabra clave de Python).\n",
        "`lam` representa la tasa de goles marcados, que en el ejemplo es de 6 goles por partido.\n",
        "\n",
        "<br>\n",
        "\n",
        "La `PMF` de la **distribución de Poisson** es fácil de calcular: dado `lam`, podemos utilizar la siguiente función para calcular la probabilidad de ver `k` goles en un partido."
      ],
      "metadata": {
        "id": "PDJU5No_WMEH"
      }
    },
    {
      "cell_type": "code",
      "source": [
        "from scipy.special import factorial\n",
        "\n",
        "\n",
        "def poisson_pmf(k, lam):\n",
        "    \"\"\"Calcula la función de probabilidad de Poisson.\n",
        "\n",
        "    k (int o tipo matriz): El número de ocurrencias.\n",
        "    lam (float): El parámetro de tasa (λ) de la distribución de Poisson.\n",
        "\n",
        "    Devuelve: float o matriz de dimensiones variables.\n",
        "    \"\"\"\n",
        "    return (lam**k) * np.exp(-lam) / factorial(k)"
      ],
      "metadata": {
        "id": "pFsViWLzWgzg"
      },
      "execution_count": null,
      "outputs": []
    },
    {
      "cell_type": "markdown",
      "source": [
        "La libreria `SciPy` proporciona la función `factorial`, que calcula el producto de los números enteros desde `1` hasta `k`.\n",
        "\n",
        "Si llamamos a `poisson_pmf` con un rango de valores `k`, podemos crear una `Pmf` que represente la distribución de los resultados."
      ],
      "metadata": {
        "id": "Z8VtIsCRW3tK"
      }
    },
    {
      "cell_type": "code",
      "source": [
        "lam = 6\n",
        "ks = np.arange(20)\n",
        "ps = poisson_pmf(ks, lam)\n",
        "\n",
        "pmf_poisson = pd.Series(data=ps, index=ks, name=\"modelo Poisson\")\n",
        "pmf_poisson"
      ],
      "metadata": {
        "id": "UN6HH9ctW6Jr"
      },
      "execution_count": null,
      "outputs": []
    },
    {
      "cell_type": "markdown",
      "source": [
        "Podemos confirmar que la `media` de la distribución es cercana a `6`. Recuerde el `valor esperado`."
      ],
      "metadata": {
        "id": "1Qc5xl7-XlbI"
      }
    },
    {
      "cell_type": "code",
      "source": [
        "np.sum(get_ps(pmf_poisson) * get_qs(pmf_poisson)).item()"
      ],
      "metadata": {
        "id": "SyxunZBTXHox"
      },
      "execution_count": null,
      "outputs": []
    },
    {
      "cell_type": "markdown",
      "source": [
        "La siguiente figura compara los resultados de la simulación con la distribución de Poisson con la misma media."
      ],
      "metadata": {
        "id": "cCEyus1BW7hd"
      }
    },
    {
      "cell_type": "code",
      "source": [
        "pmf_sim = from_seq(goals)\n",
        "pmf_sim"
      ],
      "metadata": {
        "id": "ht_xheLLbA4n"
      },
      "execution_count": null,
      "outputs": []
    },
    {
      "cell_type": "code",
      "source": [
        "plt.figure(figsize=(8, 5))\n",
        "\n",
        "plot_two_bars(pmf_sim, pmf_poisson, labels=[\"Simulacion\",\"modelo Poisson\"], xlabel='Goals', ylabel='PMF', title='Comparacion')\n",
        "\n",
        "plt.show()"
      ],
      "metadata": {
        "id": "BwnW8KHKXr2D"
      },
      "execution_count": null,
      "outputs": []
    },
    {
      "cell_type": "markdown",
      "source": [
        "Las distribuciones son similares, salvo por pequeñas diferencias debidas a variaciones aleatorias.\n",
        "Esto no debería sorprender, ya que la simulación y el modelo de Poisson se basan en la misma hipótesis de que la probabilidad de marcar un gol es la misma durante cualquier segundo del partido.\n",
        "Por lo tanto, una prueba más rigurosa consiste en comprobar en qué medida el modelo se ajusta a los datos reales."
      ],
      "metadata": {
        "id": "FYJoO9QYZoFt"
      }
    },
    {
      "cell_type": "markdown",
      "source": [
        "---\n",
        "\n",
        "# **EJERCICIO**\n",
        "\n",
        "Desde `HockeyReference`, descargué los resultados de todos los partidos de la temporada regular 2023-2024 de la Liga Nacional de Hockey (NHL) (sin incluir los playoffs).\n",
        "\n",
        "Se extrajo información sobre los goles marcados durante los 60 minutos de juego reglamentario, sin incluir las prórrogas ni los tiros penales para desempatar.\n",
        "\n",
        "Los resultados se encuentran en un archivo HDF con una clave para cada partido y una lista de tiempos, en segundos desde el comienzo del partido, en los que se marcó un gol."
      ],
      "metadata": {
        "id": "-RRuEsKYZoNV"
      }
    },
    {
      "cell_type": "markdown",
      "source": [
        "Data original descargada de <https://www.hockey-reference.com/leagues/NHL_2024_games.html>"
      ],
      "metadata": {
        "id": "elis_9XzdbdY"
      }
    },
    {
      "cell_type": "markdown",
      "source": [
        "Así es como leemos las claves del archivo."
      ],
      "metadata": {
        "id": "wQ97J29zdzNM"
      }
    },
    {
      "cell_type": "code",
      "source": [
        "import requests\n",
        "\n",
        "# URL del archivo\n",
        "url = \"https://github.com/AllenDowney/ThinkStats/raw/v3/data/nhl_2023_2024.hdf\"\n",
        "filename = \"nhl_2023_2024.hdf\"  # Nombre local donde se guardará\n",
        "\n",
        "# Descargar el archivo\n",
        "response = requests.get(url)\n",
        "with open(filename, \"wb\") as f:\n",
        "    f.write(response.content)\n",
        "\n",
        "# Abrir el archivo y obtener las claves (keys)\n",
        "with pd.HDFStore(filename, \"r\") as store:\n",
        "    keys = store.keys()\n",
        "\n",
        "print(\"Partidos: \", len(keys))\n",
        "print(\"\\nPrimeros 5 partidos:\")\n",
        "for i in range(5):\n",
        "  print(keys[i])"
      ],
      "metadata": {
        "id": "ENRwjaJiexPi"
      },
      "execution_count": null,
      "outputs": []
    },
    {
      "cell_type": "markdown",
      "source": [
        "Hubo `1,312` partidos durante la temporada regular.\n",
        "\n",
        "Cada clave contiene la fecha del partido y una abreviatura de tres letras para el equipo local.\n",
        "\n",
        "Podemos usar `read_hdf` de la libreria `pandas` para buscar una clave y obtener la lista de veces que se marcó un gol."
      ],
      "metadata": {
        "id": "ZLrg_RDjd8ul"
      }
    },
    {
      "cell_type": "code",
      "source": [
        "times = pd.read_hdf(filename, key=keys[0])\n",
        "times"
      ],
      "metadata": {
        "id": "_VMdLSjld813"
      },
      "execution_count": null,
      "outputs": []
    },
    {
      "cell_type": "markdown",
      "source": [
        "En el primer partido de la temporada se marcaron `6 goles`, el primero tras `424 segundos` de juego y el último tras `3513 segundos`, cuando solo quedaban `87 segundos` para el final del partido.\n",
        "\n",
        "---\n",
        "\n"
      ],
      "metadata": {
        "id": "sI_qluUMd89d"
      }
    },
    {
      "cell_type": "code",
      "source": [
        "(3600 - times[5]).item()"
      ],
      "metadata": {
        "id": "Yf9Wv-ead9F7"
      },
      "execution_count": null,
      "outputs": []
    },
    {
      "cell_type": "markdown",
      "source": [
        "Utiliza un bucle que lea los resultados de todos los partidos (`keys`), utiliza la funcion `read_hdf` para poder leer del archivo los datos de cada juego en `keys`.\n",
        "\n",
        "```\n",
        "pd.read_hdf(filename, key=keys)\n",
        "```\n",
        "donde keys es cada uno de los partidos, por ejemplo:\n",
        "```\n",
        "/202310100PIT\n",
        "/202310100TBL\n",
        "/202310100VEG\n",
        "/202310110BOS\n",
        "/202310110CAR\n",
        "```\n",
        "\n",
        "cuenta el número de goles en cada uno y almacena los resultados en una lista, `goals`."
      ],
      "metadata": {
        "id": "TB4DMYbtiFEE"
      }
    },
    {
      "cell_type": "code",
      "source": [
        "# Tu codigo va aqui"
      ],
      "metadata": {
        "id": "t4Z6hGfvjCog"
      },
      "execution_count": null,
      "outputs": []
    },
    {
      "cell_type": "markdown",
      "source": [
        "Confirma que el promedio de goles en `goals` por partido sea alrededor de lo sospechado."
      ],
      "metadata": {
        "id": "tjJX9R5XiS-w"
      }
    },
    {
      "cell_type": "code",
      "source": [
        "# Tu codigo va aqui"
      ],
      "metadata": {
        "id": "xKRIC14Djrlw"
      },
      "execution_count": null,
      "outputs": []
    },
    {
      "cell_type": "markdown",
      "source": [
        "Podemos utilizar `poisson_pmf` para crear una `Pmf` (convertir en una `Series`) que represente una distribución de Poisson con la misma `media` que los datos."
      ],
      "metadata": {
        "id": "81rteYvxjhm9"
      }
    },
    {
      "cell_type": "code",
      "source": [
        "# Tu codigo va aqui"
      ],
      "metadata": {
        "id": "bUHFwxPQjsha"
      },
      "execution_count": null,
      "outputs": []
    },
    {
      "cell_type": "markdown",
      "source": [
        "Compara con la `Pmf` de los **resultados reales**, puedes utilizar `from_seq`, y grafique en conjunto los resultados reales y el modelo Poisson, `plot_two_bars`.\n",
        "\n",
        "Nombra la variable que contenga el pmf de los **resultados reales** como `pmf_goals`.\n",
        "\n"
      ],
      "metadata": {
        "id": "v557-mXUjh8_"
      }
    },
    {
      "cell_type": "code",
      "source": [
        "# Tu codigo va aqui"
      ],
      "metadata": {
        "id": "hahKIcTOjvbB"
      },
      "execution_count": null,
      "outputs": []
    },
    {
      "cell_type": "markdown",
      "source": [
        "Menciona que tan bien se ajusta nuestro modelo a la distribucion de los datos"
      ],
      "metadata": {
        "id": "gknKp7c0ptDd"
      }
    },
    {
      "cell_type": "markdown",
      "source": [
        "```\n",
        "# Tu respuesta va aqui\n",
        "```"
      ],
      "metadata": {
        "id": "Tu8xlSc4ptDd"
      }
    },
    {
      "cell_type": "markdown",
      "source": [
        "A continuacion se muestra el QQ-plot del pmf de los datos reales, `pmf_goals`."
      ],
      "metadata": {
        "id": "CymvRiCzxfcN"
      }
    },
    {
      "cell_type": "code",
      "source": [
        "import statsmodels.api as sm\n",
        "from scipy import stats\n",
        "\n",
        "lam = 6\n",
        "\n",
        "fig = sm.qqplot(pmf_goals.index, dist=stats.poisson(lam), line=\"q\")\n",
        "\n",
        "plt.title(\"QQ Plot\")\n",
        "plt.grid()\n",
        "plt.show()"
      ],
      "metadata": {
        "id": "rxDxQI1-s1iu"
      },
      "execution_count": null,
      "outputs": []
    },
    {
      "cell_type": "markdown",
      "source": [
        "\n",
        "---\n",
        "---\n",
        "\n",
        "## La distribución exponencial\n",
        "\n",
        "Anteriormente, simulamos un modelo simple de un partido de hockey en el que un gol tiene la misma probabilidad de ser marcado durante cualquier segundo del partido.\n",
        "Bajo el mismo modelo, resulta que el tiempo hasta el primer gol sigue una **distribución exponencial**.\n",
        "\n",
        "Para demostrarlo, supongamos de nuevo que los equipos marcan un total de `6 goles de media`, y calculamos la `probabilidad de que se marque un gol durante cada segundo`.\n"
      ],
      "metadata": {
        "id": "IMEkf3ydG2ng"
      }
    },
    {
      "cell_type": "code",
      "source": [
        "n = 3600\n",
        "m = 6\n",
        "p = m / 3600\n",
        "p"
      ],
      "metadata": {
        "id": "_duYlG-0I3IW"
      },
      "execution_count": null,
      "outputs": []
    },
    {
      "cell_type": "markdown",
      "source": [
        "La siguiente función simula `n` segundos y utiliza la funcion `argmax` para encontrar el momento del primer gol."
      ],
      "metadata": {
        "id": "cTjf-LMvJe8c"
      }
    },
    {
      "cell_type": "code",
      "source": [
        "def simulate_first_goal(n, p):\n",
        "    return flip(n, p).argmax()"
      ],
      "metadata": {
        "id": "liZ5599dJeb4"
      },
      "execution_count": null,
      "outputs": []
    },
    {
      "cell_type": "markdown",
      "source": [
        "Esto funciona porque el resultado de `flip` es una secuencia de 1 y 0, por lo que el máximo es casi siempre 1.\n",
        "Si hay al menos un gol en la secuencia, `argmax` devuelve el índice del primero.\n",
        "Si no hay goles, devuelve 0, pero eso ocurre tan raramente que lo ignoraremos."
      ],
      "metadata": {
        "id": "q7eld9aWKW6p"
      }
    },
    {
      "cell_type": "code",
      "source": [
        "np.random.seed(3) #linea con propositos de reproducibilidad"
      ],
      "metadata": {
        "id": "en3_sDWhKn6w"
      },
      "execution_count": null,
      "outputs": []
    },
    {
      "cell_type": "markdown",
      "source": [
        "Utilice la funcion `simulate_first_goal` para simular `1,001` partidos y hacer una lista de los tiempos hasta el primer gol. Nombre la variable que contendra la lista como `first_goal_times`.\n",
        "\n",
        "Adicionalmente, Calcule el `tiempo promedio` hasta el primer gol."
      ],
      "metadata": {
        "id": "_hB0Fv5zLwaX"
      }
    },
    {
      "cell_type": "code",
      "source": [
        "# Tu codigo va aqui"
      ],
      "metadata": {
        "id": "6Q8psEm_Kn9c"
      },
      "execution_count": null,
      "outputs": []
    },
    {
      "cell_type": "code",
      "source": [
        "# Tu codigo va aqui"
      ],
      "metadata": {
        "id": "39fg3-3yOkip"
      },
      "execution_count": null,
      "outputs": []
    },
    {
      "cell_type": "markdown",
      "source": [
        "Cuando `n` es grande y `p` es pequeño, podemos demostrar matemáticamente que el tiempo esperado hasta el primer gol sigue una `distribución exponencial`.\n",
        "\n",
        "Dado que la simulación genera muchos valores de tiempo únicos, utilizaremos las `CDF` para comparar las distribuciones, en lugar de las `PMF`.\n",
        "Y la `CDF de la distribución exponencial` es fácil de calcular.\n",
        "\n",
        "Complete la funcion `exponential_CDF`."
      ],
      "metadata": {
        "id": "BxGQvRxnNhUN"
      }
    },
    {
      "cell_type": "code",
      "source": [
        "def exponential_CDF(x, lam):\n",
        "    \"\"\"\"Calcula la función de distribución acumulativa exponencial.\n",
        "\n",
        "    x: float o secuencia de floats\n",
        "    lam: parámetro de tasa\n",
        "\n",
        "    devuelve: flotante o matriz NumPy de probabilidad acumulativa\n",
        "    \"\"\"\n",
        "    # Tu codigo va aqui\n",
        "    #\n",
        "    #\n",
        "    #\n",
        "    return None"
      ],
      "metadata": {
        "id": "XaMu_d0RSVjC"
      },
      "execution_count": null,
      "outputs": []
    },
    {
      "cell_type": "markdown",
      "source": [
        "El valor de `lam` es el número promedio de eventos por unidad de tiempo; en este ejemplo, son goles por segundo.\n",
        "Podemos utilizar el promedio de los resultados simulados para calcular `lam`."
      ],
      "metadata": {
        "id": "GQOEAYZHNqWg"
      }
    },
    {
      "cell_type": "code",
      "source": [
        "lam = 1 / mean\n",
        "lam.item()"
      ],
      "metadata": {
        "id": "02EG0WXzP6Kw"
      },
      "execution_count": null,
      "outputs": []
    },
    {
      "cell_type": "markdown",
      "source": [
        "Si llamamos a esta función con un rango de valores de tiempo, podemos aproximar la distribución de los tiempos del primer gol.\n",
        "La función NumPy `linspace` crea una matriz de valores equidistantes; en este ejemplo, calcula `201` valores entre `0 y 3600`, ambos incluidos."
      ],
      "metadata": {
        "id": "tBl8vi99P6Ys"
      }
    },
    {
      "cell_type": "code",
      "source": [
        "ts = np.linspace(0, 3600, 201)\n",
        "ps = exponential_cdf(ts, lam)\n",
        "\n",
        "cdf_expo = pd.Series(data=ps, index=ts, name=\"exponential model\")\n",
        "cdf_expo"
      ],
      "metadata": {
        "id": "o2b-ldt1SBaa"
      },
      "execution_count": null,
      "outputs": []
    },
    {
      "cell_type": "markdown",
      "source": [
        "Ahora toca poner los datos simulados, obtenidos en `first_goal_times`, en su forma `CDF` para comparar las distribuciones. Puede utilizar la funcion `from_seq`. Nombre a la variable con el CDF como `cdf_sim`."
      ],
      "metadata": {
        "id": "ccqNb5cSlEid"
      }
    },
    {
      "cell_type": "code",
      "source": [
        "# Tu codigo va aqui"
      ],
      "metadata": {
        "id": "tczvp59-mLrb"
      },
      "execution_count": null,
      "outputs": []
    },
    {
      "cell_type": "markdown",
      "source": [
        "La siguiente figura compara los resultados de la simulación con la distribución exponencial que acabamos de calcular."
      ],
      "metadata": {
        "id": "E6KbGd7zSAfI"
      }
    },
    {
      "cell_type": "code",
      "source": [
        "plot_cdf_plots(cdf_expo, cdf_sim, labels=[\"Exponential model\", \"Simulacion\"], xlabel=\"Tiempo del primer gol (segundos)\")"
      ],
      "metadata": {
        "id": "cvrTozcVgyGV"
      },
      "execution_count": null,
      "outputs": []
    },
    {
      "cell_type": "markdown",
      "source": [
        "El modelo exponencial se ajusta muy bien a los resultados de la simulación, pero una prueba más rigurosa es ver cómo funciona con datos reales.\n",
        "\n",
        "\n",
        "**El siguiente bucle lee los resultados de todos los partidos, obtiene el tiempo del primer gol y almacena el resultado en una lista.\n",
        "Si no se marcaron goles, añade `nan` a la lista.**"
      ],
      "metadata": {
        "id": "2tMy1-giTE1i"
      }
    },
    {
      "cell_type": "code",
      "source": [
        "filename = \"nhl_2023_2024.hdf\"\n",
        "\n",
        "with pd.HDFStore(filename, \"r\") as store:\n",
        "    keys = store.keys()"
      ],
      "metadata": {
        "id": "oMbiLra8jqEp"
      },
      "execution_count": null,
      "outputs": []
    },
    {
      "cell_type": "code",
      "source": [
        "firsts = []\n",
        "\n",
        "for key in keys:\n",
        "    times = pd.read_hdf(filename, key=key)\n",
        "    if len(times) > 0:\n",
        "        firsts.append(times[0]) #tiempo del primer gol\n",
        "    else:\n",
        "        firsts.append(np.nan)   #si no hubiero goles, rellenar con NAN\n",
        "\n",
        "print(\"Tiempo (en segundos) de primer gol en los primeros 5 partidos\")\n",
        "for i in firsts[:5]:\n",
        "  print(i)"
      ],
      "metadata": {
        "id": "ZFx6UJd-ju0a"
      },
      "execution_count": null,
      "outputs": []
    },
    {
      "cell_type": "markdown",
      "source": [
        "Estima la tasa de goles marcados (variable `lam`), puedes utilizar la funcion `nanmean` de la libreria `numpy` (np), que calcula la media de los tiempos, ignorando los valores `nan`."
      ],
      "metadata": {
        "id": "XDSYQJsVkvAH"
      }
    },
    {
      "cell_type": "code",
      "source": [
        "# Tu codigo va aqui"
      ],
      "metadata": {
        "id": "ygVm6CzhkDrU"
      },
      "execution_count": null,
      "outputs": []
    },
    {
      "cell_type": "markdown",
      "source": [
        "Ahora podemos calcular la `CDF` de una `distribución exponencial` utilizando la funcion `exponential_cdf` con la misma tasa de goles que los datos (`lam`). LLama a esta variable como `cdf_expo`."
      ],
      "metadata": {
        "id": "0S0SHLjjnZnz"
      }
    },
    {
      "cell_type": "code",
      "source": [
        "# Tu codigo va aqui"
      ],
      "metadata": {
        "id": "DSsL0LXspAuc"
      },
      "execution_count": null,
      "outputs": []
    },
    {
      "cell_type": "markdown",
      "source": [
        "Para calcular la `CDF` de los `datos`, podemos utilizar la funcion `from_seq` con el argumento `dropna=False`, que incluye valores `nan` al final. Nombra la variable que contenga el CDF como `cdf_firsts`."
      ],
      "metadata": {
        "id": "7Xee2Iktno0d"
      }
    },
    {
      "cell_type": "code",
      "source": [
        "# Tu codigo va aqui"
      ],
      "metadata": {
        "id": "GPq50rUnyfxy"
      },
      "execution_count": null,
      "outputs": []
    },
    {
      "cell_type": "code",
      "source": [
        "cdf_firsts.tail()"
      ],
      "metadata": {
        "id": "VJfNdRBgopUi"
      },
      "execution_count": null,
      "outputs": []
    },
    {
      "cell_type": "markdown",
      "source": [
        "La siguiente figura compara la distribución exponencial con la distribución de los datos."
      ],
      "metadata": {
        "id": "igJT3T2Foyuq"
      }
    },
    {
      "cell_type": "code",
      "source": [
        "plot_cdf_plots(cdf_expo, cdf_firsts, labels=[\"Exponential model\", \"data\"], xlabel=\"Tiempo del primer gol (segundos)\")"
      ],
      "metadata": {
        "id": "enPw58uKoBKu"
      },
      "execution_count": null,
      "outputs": []
    },
    {
      "cell_type": "markdown",
      "source": [
        "Describe que tan bien/mal se ajusta nuestro modelo a la distribucion de los datos"
      ],
      "metadata": {
        "id": "UCWRAzEkVY4b"
      }
    },
    {
      "cell_type": "markdown",
      "source": [
        "```\n",
        "# Tu respuesta va aqui\n",
        "```"
      ],
      "metadata": {
        "id": "BveyBMXnVY7O"
      }
    },
    {
      "cell_type": "markdown",
      "source": [
        "La hipótesis subyacente de estos modelos (el modelo de Poisson para los goles y el modelo exponencial para los tiempos) es que un gol es igualmente probable en cualquier segundo del partido.\n",
        "\n",
        "Si le preguntas a un aficionado al hockey si eso es cierto, te dirá que no, y tendrá razón: el mundo real viola supuestos como estos de muchas maneras.\n",
        "Sin embargo, las distribuciones teóricas a menudo se ajustan muy bien a los datos reales."
      ],
      "metadata": {
        "id": "yNWAi2rjpUs1"
      }
    },
    {
      "cell_type": "markdown",
      "source": [
        "---\n",
        "---\n",
        "## La distribución Normal\n",
        "\n",
        "Muchas cosas que medimos en el mundo real siguen una **distribución normal**, también conocida como distribución gaussiana o *curva de campana*.\n",
        "Para ver de dónde provienen estas distribuciones, consideremos un modelo del crecimiento de las calabazas gigantes.\n",
        "\n",
        "Supongamos que cada día, una calabaza gana `1 libra` (≈ 0.45kg) si el tiempo es malo, `2 libras` (≈ 0.9kg) si el tiempo es regular y `3 libras` (≈ 1.36kg) si el tiempo es bueno.\n",
        "Y **supongamos que el tiempo cada día es malo, regular o bueno con la misma probabilidad**.\n",
        "\n",
        "<br>\n",
        "\n",
        "Podemos utilizar la siguiente función, `simulate_growth`, para simular este modelo durante `n` días y obtener el total de las ganancias de peso.\n"
      ],
      "metadata": {
        "id": "yk4CGHhkVlic"
      }
    },
    {
      "cell_type": "code",
      "source": [
        "def simulate_growth(n):\n",
        "  choices = [1, 2, 3]\n",
        "  gains = np.random.choice(choices, n)\n",
        "  return gains.sum()"
      ],
      "metadata": {
        "id": "RNffPYv1pXCY"
      },
      "execution_count": null,
      "outputs": []
    },
    {
      "cell_type": "markdown",
      "source": [
        "<br>\n",
        "\n",
        "El módulo `random` de `NumPy` proporciona una función `choice` que genera una matriz de `n` selecciones aleatorias a partir de una secuencia de valores, `choices` en este ejemplo.\n",
        "\n",
        "<br>\n",
        "\n",
        "Ahora supongamos que `1,001` personas cultivan calabazas gigantes en diferentes lugares con diferentes condiciones climáticas.\n",
        "Si simulamos el proceso de crecimiento durante `100 días`, obtenemos una lista de `1,001 pesos`."
      ],
      "metadata": {
        "id": "RslLQd9sXpLP"
      }
    },
    {
      "cell_type": "code",
      "source": [
        "sim_weights = [simulate_growth(100) for i in range(1001)]\n",
        "m, s = np.mean(sim_weights), np.std(sim_weights)\n",
        "\n",
        "print(f\"Peso promedio: {m:4f}, desviacion std: {s:4f}\")"
      ],
      "metadata": {
        "id": "R8zi9QaUYR33"
      },
      "execution_count": null,
      "outputs": []
    },
    {
      "cell_type": "markdown",
      "source": [
        "La `media` es cercana a `200 libras` y la `desviación estándar` es de aproximadamente `8 libras`.\n",
        "\n",
        "Para ver si los pesos siguen una `distribución normal`, utilizaremos la siguiente función, que toma una muestra y crea una `Cdf` que representa una distribución normal con la misma media y desviación estándar que la muestra, evaluada en el rango de 4 desviaciones estándar por debajo de la media a 4 desviaciones estándar por encima."
      ],
      "metadata": {
        "id": "s4MuwTHhYPiV"
      }
    },
    {
      "cell_type": "code",
      "source": [
        "from scipy.stats import norm\n",
        "\n",
        "def make_normal_model(data):\n",
        "  m, s = np.mean(data), np.std(data)\n",
        "\n",
        "  low, high = m - 4 * s, m + 4 * s\n",
        "\n",
        "  qs = np.linspace(low, high, 201)\n",
        "  ps = norm.cdf(qs, m, s)\n",
        "\n",
        "  return pd.Series(data=ps, index=qs, name=\"normal model\")"
      ],
      "metadata": {
        "id": "1MyZYWUSZYvq"
      },
      "execution_count": null,
      "outputs": []
    },
    {
      "cell_type": "markdown",
      "source": [
        "Aqui como usarlo, para convertir nuestro datos extraido del `modelo normal`:"
      ],
      "metadata": {
        "id": "McRGEofVZYM4"
      }
    },
    {
      "cell_type": "code",
      "source": [
        "cdf_model = make_normal_model(sim_weights)\n",
        "cdf_model"
      ],
      "metadata": {
        "id": "0gYED29WaJzQ"
      },
      "execution_count": null,
      "outputs": []
    },
    {
      "cell_type": "markdown",
      "source": [
        "Ahora podemos crear una `CDF` que represente la distribución de los resultados de la `simulación`."
      ],
      "metadata": {
        "id": "bn_kcO7sbaO5"
      }
    },
    {
      "cell_type": "code",
      "source": [
        "cdf_sim_weights = from_seq(sim_weights, name=\"simulation\", convert_to=\"CDF\")\n",
        "cdf_sim_weights"
      ],
      "metadata": {
        "id": "jpolgnn_agUu"
      },
      "execution_count": null,
      "outputs": []
    },
    {
      "cell_type": "markdown",
      "source": [
        "Usaremos la siguiente función `plot_cdf_plots` para comparar las distribuciones."
      ],
      "metadata": {
        "id": "RRoP49ENb9aE"
      }
    },
    {
      "cell_type": "code",
      "source": [
        "plot_cdf_plots(cdf_model, cdf_sim_weights, labels=[\"Normal model\", \"Simulation\"], xlabel=\"Weight (pounds)\")"
      ],
      "metadata": {
        "id": "j9KfJmhmb9hc"
      },
      "execution_count": null,
      "outputs": []
    },
    {
      "cell_type": "markdown",
      "source": [
        "El modelo normal se ajusta muy bien a la distribución de los pesos.\n",
        "En general, cuando sumamos suficientes factores aleatorios, la suma tiende a seguir una `distribución normal`.\n",
        "Esa es una consecuencia del `teorema del límite central`, al que volveremos mas adelante."
      ],
      "metadata": {
        "id": "iryjCwE7cVB4"
      }
    },
    {
      "cell_type": "markdown",
      "source": [
        "---\n",
        "---\n",
        "\n",
        "## La distribución log-normal\n",
        "\n",
        "Anteriormente, simulamos el crecimiento de las calabazas suponiendo que crecen entre `1` y `3 libras` al día, dependiendo del clima.\n",
        "En cambio, supongamos que su crecimiento es proporcional a su peso actual, de modo que las calabazas grandes ganan más peso al día que las pequeñas, lo que probablemente sea más realista.\n",
        "\n",
        "La siguiente función simula este tipo de crecimiento proporcional, en el que una calabaza gana un `3%` de su peso si el clima es malo, un `5%` si el clima es regular y un `7%` si el clima es bueno.\n",
        "Una vez más, supondremos que el clima es malo, regular o bueno en un día cualquiera con la misma probabilidad."
      ],
      "metadata": {
        "id": "BDlqKD2ydyTK"
      }
    },
    {
      "cell_type": "code",
      "source": [
        "def simulate_proportionate_growth(n):\n",
        "  choices = [1.03, 1.05, 1.07]\n",
        "  gains = np.random.choice(choices, n)\n",
        "  return gains.prod()"
      ],
      "metadata": {
        "id": "ZoEU1fnde-ak"
      },
      "execution_count": null,
      "outputs": []
    },
    {
      "cell_type": "markdown",
      "source": [
        "Si una calabaza aumenta un `3%` de su peso, el peso final es el producto del peso inicial y el factor `1.03`.\n",
        "Así que podemos calcular el peso después de `100 días` eligiendo factores aleatorios y multiplicándolos entre sí.\n",
        "\n",
        "Llamaremos a esta función `1001` veces para simular `1001` calabazas y guardar sus pesos. Adicionalmente, calcula la `media` y `desviacion estandar` del peso de las calabazas."
      ],
      "metadata": {
        "id": "hAK71SuCfKOi"
      }
    },
    {
      "cell_type": "code",
      "source": [
        "# Tu codigo va aqui"
      ],
      "metadata": {
        "id": "YgNq5M-VfIL_"
      },
      "execution_count": null,
      "outputs": []
    },
    {
      "cell_type": "markdown",
      "source": [
        "¿Que puedes observar respecto a lo obtenido del modelo anterior?"
      ],
      "metadata": {
        "id": "r6MwVV2kgzc2"
      }
    },
    {
      "cell_type": "markdown",
      "source": [
        "```\n",
        "# Tu respuesta va aqui\n",
        "```"
      ],
      "metadata": {
        "id": "6VX9ro6CgzfX"
      }
    },
    {
      "cell_type": "markdown",
      "source": [
        "Debemos demostrar matemáticamente que siguen una **distribución lognormal**, lo que significa que `los logaritmos de los pesos siguen una distribución normal`.\n",
        "\n",
        "Para comprobarlo, calcula los `logaritmos de los pesos` y su `media` y `desviación estándar`.\n",
        "Podríamos utilizar logaritmos con cualquier base, pero utiliza la `base 10` porque facilita la interpretación de los resultados."
      ],
      "metadata": {
        "id": "845F8BR8fYOz"
      }
    },
    {
      "cell_type": "code",
      "source": [
        "# Tu codigo va aqui"
      ],
      "metadata": {
        "id": "YS5xv3SBfIQU"
      },
      "execution_count": null,
      "outputs": []
    },
    {
      "cell_type": "markdown",
      "source": [
        "Toca poner nuestros datos (modelo y simulados) en forma:\n",
        "\n",
        "- Utiliza el logaritmo de los pesos (simulados) para modelar una distribucion normal y obtener un modelo. Puedes apoyarte en la funcion `make_normal_model`.\n",
        "- Utiliza estos datos simulados directamente en su forma `CDF`. Puedes apoyarte en la funcion `from_seq`."
      ],
      "metadata": {
        "id": "SmOpAKPzkNm8"
      }
    },
    {
      "cell_type": "code",
      "source": [
        "# Tu codigo va aqui"
      ],
      "metadata": {
        "id": "MJ2UOj3ZfIS4"
      },
      "execution_count": null,
      "outputs": []
    },
    {
      "cell_type": "code",
      "source": [
        "# Tu codigo va aqui"
      ],
      "metadata": {
        "id": "e8qQdzRfoL0a"
      },
      "execution_count": null,
      "outputs": []
    },
    {
      "cell_type": "markdown",
      "source": [
        "Ahora compara la `distribución de los logaritmos` con una `distribución normal` con la misma `media` y `desviación estándar`. Puedes apoyarte en la funcion `plot_cdf_plots`."
      ],
      "metadata": {
        "id": "-hmNHxaiifSd"
      }
    },
    {
      "cell_type": "code",
      "source": [
        "# Tu codigo va aqui"
      ],
      "metadata": {
        "id": "fTFnPqhBoL3L"
      },
      "execution_count": null,
      "outputs": []
    },
    {
      "cell_type": "markdown",
      "source": [
        "Menciona como este modelo LogNormal se ajusta a la simulación, tal y como esperábamos."
      ],
      "metadata": {
        "id": "UIjsOMkDqmq-"
      }
    },
    {
      "cell_type": "markdown",
      "source": [
        "```\n",
        "# Tu respuesta va aqui\n",
        "```"
      ],
      "metadata": {
        "id": "kawqo6xtqmzL"
      }
    }
  ]
}