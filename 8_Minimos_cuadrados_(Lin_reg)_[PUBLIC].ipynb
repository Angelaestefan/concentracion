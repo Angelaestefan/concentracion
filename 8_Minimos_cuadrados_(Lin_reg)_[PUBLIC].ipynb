{
  "cells": [
    {
      "cell_type": "markdown",
      "metadata": {
        "id": "view-in-github",
        "colab_type": "text"
      },
      "source": [
        "<a href=\"https://colab.research.google.com/github/Angelaestefan/concentracion/blob/master/8_Minimos_cuadrados_(Lin_reg)_%5BPUBLIC%5D.ipynb\" target=\"_parent\"><img src=\"https://colab.research.google.com/assets/colab-badge.svg\" alt=\"Open In Colab\"/></a>"
      ]
    },
    {
      "cell_type": "markdown",
      "id": "87ae6fa0",
      "metadata": {
        "id": "87ae6fa0"
      },
      "source": [
        "# Mínimos cuadrados\n",
        "\n",
        "Aqui se introduce la idea de ajustar un modelo a los datos.\n",
        "En este contexto, un **modelo** consiste en una descripción matemática de la relación entre variables, como una **línea recta**, y una descripción de la variación aleatoria, como una distribución normal.\n",
        "\n",
        "Cuando decimos que un modelo se ajusta a los datos, normalmente nos referimos a que minimiza los errores, que son las distancias entre el modelo y los datos.\n",
        "Comenzaremos con una de las formas más utilizadas de ajustar un modelo, minimizando la suma de los errores al cuadrado, lo que se denomina ajuste por mínimos cuadrados.\n",
        "\n",
        "También comenzaremos con modelos que funcionan con solo dos variables a la vez."
      ]
    },
    {
      "cell_type": "code",
      "execution_count": null,
      "id": "3504ead1",
      "metadata": {
        "tags": [],
        "id": "3504ead1"
      },
      "outputs": [],
      "source": [
        "from os.path import basename, exists\n",
        "def download(url):\n",
        "    filename = basename(url)\n",
        "    if not exists(filename):\n",
        "        from urllib.request import urlretrieve\n",
        "        local, _ = urlretrieve(url, filename)\n",
        "        print(\"Downloaded \" + local)"
      ]
    },
    {
      "cell_type": "code",
      "execution_count": null,
      "id": "586c1450",
      "metadata": {
        "tags": [],
        "id": "586c1450"
      },
      "outputs": [],
      "source": [
        "import numpy as np\n",
        "import pandas as pd\n",
        "import matplotlib.pyplot as plt"
      ]
    },
    {
      "cell_type": "markdown",
      "id": "e9c71994",
      "metadata": {
        "id": "e9c71994"
      },
      "source": [
        "## Ajuste por mínimos cuadrados\n",
        "\n",
        "Supongamos que eres un investigador en la Antártida y estás estudiando las poblaciones locales de pingüinos.\n",
        "Como parte de su recopilación de datos, captura una muestra de pingüinos, los mide y los pesa, y luego los libera ilesos.\n",
        "\n",
        "Puede ser difícil conseguir que los pingüinos permanezcan en la báscula el tiempo suficiente para obtener una medición precisa.\n",
        "Supongamos que para algunos pingüinos tenemos mediciones como el tamaño de las aletas y el pico, pero no el peso.\n",
        "Veamos si podemos utilizar las otras mediciones para completar los datos que faltan; este proceso se denomina **imputación**.\n",
        "\n",
        "Comenzaremos explorando la relación entre el peso y las mediciones, utilizando los datos recopilados entre 2007 y 2010 por investigadores de la estación Palmer en la Antártida."
      ]
    },
    {
      "cell_type": "markdown",
      "id": "cbbd7611",
      "metadata": {
        "tags": [],
        "id": "cbbd7611"
      },
      "source": [
        "La siguiente celda descarga los datos de un repositorio creado por Allison Horst.\n",
        "\n",
        "Horst AM, Hill AP, Gorman KB (2020). palmerpenguins: Palmer Archipelago (Antarctica) penguin data. R package version 0.1.0. https://allisonhorst.github.io/palmerpenguins/. doi: 10.5281/zenodo.3960218.\n",
        "\n",
        "Los datos se recopilaron como parte de la investigación que dio lugar a este artículo: Gorman KB, Williams TD, Fraser WR (2014). Ecological sexual dimorphism and environmental variability within a community of Antarctic penguins (genus Pygoscelis). PLoS ONE 9(3):e90081. https://doi.org/10.1371/journal.pone.0090081"
      ]
    },
    {
      "cell_type": "markdown",
      "id": "14ac7c6f",
      "metadata": {
        "id": "14ac7c6f"
      },
      "source": [
        "Podemos usar `read_csv` de `pandas` para leer la informacion."
      ]
    },
    {
      "cell_type": "code",
      "execution_count": null,
      "id": "620df7dd",
      "metadata": {
        "id": "620df7dd"
      },
      "outputs": [],
      "source": [
        "url = \"https://raw.githubusercontent.com/allisonhorst/palmerpenguins/c19a904462482430170bfe2c718775ddb7dbb885/inst/extdata/penguins_raw.csv\"\n",
        "\n",
        "penguins = pd.read_csv(url).dropna(subset=[\"Body Mass (g)\"])\n",
        "penguins.shape"
      ]
    },
    {
      "cell_type": "markdown",
      "id": "6b1c33a3",
      "metadata": {
        "id": "6b1c33a3"
      },
      "source": [
        "El conjunto de datos incluye mediciones de **151** pingüinos Adelia (`Adélie`).\n",
        "Podemos utilizar `query` para seleccionar las filas que contienen estos datos."
      ]
    },
    {
      "cell_type": "code",
      "execution_count": null,
      "id": "be0840eb",
      "metadata": {
        "id": "be0840eb"
      },
      "outputs": [],
      "source": [
        "adelie = penguins.query('Species.str.startswith(\"Adelie\")')\n",
        "len(adelie)"
      ]
    },
    {
      "cell_type": "markdown",
      "id": "956994da",
      "metadata": {
        "id": "956994da"
      },
      "source": [
        "Ahora supongamos que conocemos la longitud de las aletas de un pingüino Adelia. Veamos qué tan bien podemos predecir su peso.\n",
        "\n",
        "Primero seleccionaremos estas columnas del `DataFrame`."
      ]
    },
    {
      "cell_type": "code",
      "execution_count": null,
      "id": "cdaaa183",
      "metadata": {
        "id": "cdaaa183"
      },
      "outputs": [],
      "source": [
        "flipper_length = adelie[\"Flipper Length (mm)\"]\n",
        "body_mass = adelie[\"Body Mass (g)\"]"
      ]
    },
    {
      "cell_type": "markdown",
      "id": "7a935544",
      "metadata": {
        "id": "7a935544"
      },
      "source": [
        "Aquí hay un diagrama de dispersión (`scatter plot`) que muestra la relación entre estas cantidades."
      ]
    },
    {
      "cell_type": "code",
      "execution_count": null,
      "id": "e00b0008",
      "metadata": {
        "id": "e00b0008"
      },
      "outputs": [],
      "source": [
        "fig = plt.figure(figsize=(7, 7))\n",
        "plt.scatter(flipper_length, body_mass, marker=\".\", alpha=0.5)\n",
        "plt.xlabel(\"Flipper Length (mm)\")\n",
        "plt.ylabel(\"Body Mass (g)\")"
      ]
    },
    {
      "cell_type": "markdown",
      "id": "6d4d6645",
      "metadata": {
        "id": "6d4d6645"
      },
      "source": [
        "Parece que están relacionadas; podemos cuantificar la fuerza de la relación calculando el coeficiente de correlación. Podemos usar la funcion **`corrcoef`** de `numpy` que devuelve los coeficientes de correlación de Pearson."
      ]
    },
    {
      "cell_type": "code",
      "execution_count": null,
      "id": "39dbc4e2",
      "metadata": {
        "id": "39dbc4e2"
      },
      "outputs": [],
      "source": [
        "np.corrcoef(flipper_length, body_mass)"
      ]
    },
    {
      "cell_type": "markdown",
      "id": "7bcf989a",
      "metadata": {
        "id": "7bcf989a"
      },
      "source": [
        "La correlación es de aproximadamente **`0.47`**, por lo que los pingüinos con aletas más largas tienden a ser más pesados.\n",
        "Esto es útil porque significa que podemos estimar el peso de un pingüino con mayor precisión si conocemos la longitud de sus aletas, pero la correlación por sí sola no nos dice cómo hacer esas estimaciones.\n",
        "Para ello, necesitamos elegir una **línea de mejor ajuste**.\n",
        "\n",
        "Hay muchas formas de definir la línea \"óptima\", pero para datos como estos, una opción habitual es el ajuste **lineal por mínimos cuadrados**, que es la línea recta que minimiza el **error cuadrático medio** (`MSE`).\n",
        "\n",
        "`SciPy` proporciona una función llamada **`linregress`** que calcula un ajuste por mínimos cuadrados.\n",
        "El nombre es la abreviatura de **regresión lineal**, que es otro término para un modelo como este.\n",
        "\n",
        "Los argumentos de `linregress` son los valores `x` y los valores `y`, en ese orden."
      ]
    },
    {
      "cell_type": "code",
      "execution_count": null,
      "id": "4058c673",
      "metadata": {
        "id": "4058c673"
      },
      "outputs": [],
      "source": [
        "from scipy.stats import linregress\n",
        "\n",
        "result = linregress(flipper_length, body_mass)\n",
        "result"
      ]
    },
    {
      "cell_type": "markdown",
      "id": "8a6969e7",
      "metadata": {
        "id": "8a6969e7"
      },
      "source": [
        "El resultado es un objeto `LinregressResult` que contiene la pendiente y la intersección de la línea ajustada, junto con otra información que veremos en breve.\n",
        "\n",
        "```\n",
        "slope, intercept, r_value, p_value, std_err, intercept_stderr = stats.linregress(x, y)\n",
        "```\n",
        "\n",
        "La pendiente es de aproximadamente `32.8`, lo que significa que cada milímetro adicional de longitud de la aleta se asocia con `32.8` gramos adicionales de peso corporal.\n",
        "\n",
        "La **intercepto** (bias) es de `-2,535` gramos, lo que puede parecer absurdo, ya que un peso medido no puede ser negativo.\n",
        "Podría tener más sentido si utilizamos la **pendiente** y la **intercepto** para evaluar la línea ajustada en la longitud media de la aleta."
      ]
    },
    {
      "cell_type": "code",
      "execution_count": null,
      "id": "f44e6281",
      "metadata": {
        "id": "f44e6281"
      },
      "outputs": [],
      "source": [
        "x = flipper_length.mean()\n",
        "y = result.intercept + result.slope * x\n",
        "print(f\"Media longitud de aleta: {x:3f}, Peso predicho para la media de la aleta: {y:3f}\")"
      ]
    },
    {
      "cell_type": "markdown",
      "id": "ae01d2f7",
      "metadata": {
        "id": "ae01d2f7"
      },
      "source": [
        "Para un pingüino con una longitud media de aleta de unos `190 mm`, el peso corporal esperado es de unos `3,700 gramos`.\n",
        "\n",
        "La siguiente función toma el resultado de `linregress` y una secuencia de `xs` y encuentra el punto en la línea ajustada para cada valor de `x`."
      ]
    },
    {
      "cell_type": "code",
      "execution_count": null,
      "id": "06312185",
      "metadata": {
        "id": "06312185"
      },
      "outputs": [],
      "source": [
        "def predict(result, xs):\n",
        "    ys = result.intercept + result.slope * xs\n",
        "    return ys"
      ]
    },
    {
      "cell_type": "markdown",
      "id": "0478c4e0",
      "metadata": {
        "id": "0478c4e0"
      },
      "source": [
        "El nombre `predict` puede parecer extraño aquí: en lenguaje natural, una **predicción** suele referirse a algo que sucederá en el futuro, pero en el contexto de la regresión, los puntos de la línea ajustada también se denominan predicciones.\n",
        "\n",
        "Podemos utilizar `predict` para calcular los puntos de la línea para un rango de tamaños de aletas."
      ]
    },
    {
      "cell_type": "code",
      "execution_count": null,
      "id": "3b475289",
      "metadata": {
        "id": "3b475289"
      },
      "outputs": [],
      "source": [
        "fit_xs = np.linspace(np.min(flipper_length), np.max(flipper_length))\n",
        "fit_ys = predict(result, fit_xs)"
      ]
    },
    {
      "cell_type": "markdown",
      "id": "044ffcb5",
      "metadata": {
        "id": "044ffcb5"
      },
      "source": [
        "Aquí está la línea ajustada junto con el **diagrama de dispersión** (scatter plot) de los datos."
      ]
    },
    {
      "cell_type": "code",
      "execution_count": null,
      "id": "7c4dcf1e",
      "metadata": {
        "id": "7c4dcf1e"
      },
      "outputs": [],
      "source": [
        "fig = plt.figure(figsize=(7, 7))\n",
        "\n",
        "plt.scatter(flipper_length, body_mass, marker=\".\", alpha=0.5)\n",
        "plt.plot(fit_xs, fit_ys, color=\"C1\")\n",
        "\n",
        "plt.axvline(x=flipper_length.mean(), color='b', linestyle='--', linewidth=0.25, label='mean x')\n",
        "plt.axhline(y=body_mass.mean(), color='b', linestyle='--', linewidth=0.25, label='mean y')\n",
        "\n",
        "plt.xlabel(\"Flipper Length (mm)\")\n",
        "plt.ylabel(\"Body Mass (g)\")"
      ]
    },
    {
      "cell_type": "markdown",
      "id": "2b0559d9",
      "metadata": {
        "id": "2b0559d9"
      },
      "source": [
        "Como era de esperar, la línea ajustada pasa por el centro de los datos y sigue la tendencia.\n",
        "Y algunas de las predicciones son precisas, pero muchos de los puntos de datos están lejos de la línea.\n",
        "\n",
        "Para tener una idea de lo buenas (o malas) que son las predicciones, podemos calcular el **error de predicción**, que es la distancia vertical de cada punto con respecto a la línea.\n",
        "La siguiente función calcula estos errores, que también se denominan **residuos**."
      ]
    },
    {
      "cell_type": "code",
      "execution_count": null,
      "id": "8c854090",
      "metadata": {
        "id": "8c854090"
      },
      "outputs": [],
      "source": [
        "def compute_residuals(result, xs, ys):\n",
        "    fit_ys = predict(result, xs)\n",
        "    return ys - fit_ys"
      ]
    },
    {
      "cell_type": "markdown",
      "id": "c117c57d",
      "metadata": {
        "id": "c117c57d"
      },
      "source": [
        "Aquí están los residuos para la **masa corporal** en función de la **longitud de las aletas**."
      ]
    },
    {
      "cell_type": "code",
      "execution_count": null,
      "id": "eb270150",
      "metadata": {
        "id": "eb270150"
      },
      "outputs": [],
      "source": [
        "residuals = compute_residuals(result, flipper_length, body_mass)"
      ]
    },
    {
      "cell_type": "markdown",
      "id": "eb325663",
      "metadata": {
        "id": "eb325663"
      },
      "source": [
        "Como ejemplo, podemos ver los resultados del primer pingüino del conjunto de datos."
      ]
    },
    {
      "cell_type": "code",
      "execution_count": null,
      "id": "804ae0ef",
      "metadata": {
        "id": "804ae0ef"
      },
      "outputs": [],
      "source": [
        "x = flipper_length[0]\n",
        "y = predict(result, x)\n",
        "\n",
        "print(f\"Media longitud de aleta: {x:3f}, Peso predicho para la media de la aleta: {y:3f}\")"
      ]
    },
    {
      "cell_type": "markdown",
      "id": "b50053fd",
      "metadata": {
        "id": "b50053fd"
      },
      "source": [
        "La **longitud de la aleta** del pingüino seleccionado es de `181 mm` y la **masa corporal** prevista es de `3407 gramos`.\n",
        "\n",
        "Ahora veamos cuál es la masa real."
      ]
    },
    {
      "cell_type": "code",
      "execution_count": null,
      "id": "80dc7884",
      "metadata": {
        "id": "80dc7884"
      },
      "outputs": [],
      "source": [
        "print(f\"Masa corporal real: {body_mass[0]:3f}, residuos de la prediccion: {residuals[0]:3f}\")"
      ]
    },
    {
      "cell_type": "markdown",
      "id": "1ac9b5c1",
      "metadata": {
        "id": "1ac9b5c1"
      },
      "source": [
        "La **masa real** de este pingüino es de `3,750 gramos`, y el **residuo** (después de restar la predicción) es de `343 gramos`.\n",
        "\n",
        "El promedio de los residuos al cuadrado es el **error cuadrático medio** (`MSE`) de las predicciones."
      ]
    },
    {
      "cell_type": "code",
      "execution_count": null,
      "id": "39dc7cb6",
      "metadata": {
        "id": "39dc7cb6"
      },
      "outputs": [],
      "source": [
        "mse = np.mean(residuals**2)\n",
        "\n",
        "print(f\"Error Cuadrático Medio (MSE): {mse:3f}\")"
      ]
    },
    {
      "cell_type": "markdown",
      "id": "042dca43",
      "metadata": {
        "id": "042dca43"
      },
      "source": [
        "Por sí solo, este número no significa gran cosa.\n",
        "\n",
        "Podemos darle más sentido calculando el **coeficiente de determinación**, $R^2$."
      ]
    },
    {
      "cell_type": "markdown",
      "id": "d0ffe7e9",
      "metadata": {
        "id": "d0ffe7e9"
      },
      "source": [
        "## Coeficiente de determinación $R^2$\n",
        "\n",
        "Supongamos que quieres adivinar el **peso** de un pingüino.\n",
        "Si sabes la **longitud de sus aletas**, puedes usar la recta de regresión por mínimos cuadrados para hacer una predicción informada. La calidad de esas predicciones se mide con el **error cuadrático medio** (**MSE**): cuanto más pequeño sea, mejor estás acertando en promedio.\n",
        "\n",
        "Ahora, piensa: **¿qué pasaría si no tuvieras ninguna información sobre las aletas?**\n",
        "La mejor apuesta sería usar la media de los pesos de todos los pingüinos. Esta estrategia, aunque básica, también es óptima: garantiza el MSE más bajo posible cuando no hay variables explicativas. En ese caso, los errores de predicción no son otra cosa que las desviaciones respecto a la media.\n",
        "\n",
        "Si siempre estimamos la media, los errores de predicción son las desviaciones de la media."
      ]
    },
    {
      "cell_type": "code",
      "execution_count": null,
      "id": "3b3afa64",
      "metadata": {
        "id": "3b3afa64"
      },
      "outputs": [],
      "source": [
        "deviations = body_mass - np.mean(body_mass)"
      ]
    },
    {
      "cell_type": "markdown",
      "id": "365302a0",
      "metadata": {
        "id": "365302a0"
      },
      "source": [
        "Y la MSE es la desviación cuadrática media."
      ]
    },
    {
      "cell_type": "code",
      "execution_count": null,
      "id": "dfad7dca",
      "metadata": {
        "id": "dfad7dca"
      },
      "outputs": [],
      "source": [
        "np.mean(deviations**2).item()"
      ]
    },
    {
      "cell_type": "markdown",
      "id": "cb00df28",
      "metadata": {
        "id": "cb00df28"
      },
      "source": [
        "Quizás recuerdes que la desviación cuadrática media es la varianza."
      ]
    },
    {
      "cell_type": "code",
      "execution_count": null,
      "id": "4cc9ce6d",
      "metadata": {
        "id": "4cc9ce6d"
      },
      "outputs": [],
      "source": [
        "np.var(body_mass)"
      ]
    },
    {
      "cell_type": "markdown",
      "id": "e0d3dce4",
      "metadata": {
        "id": "e0d3dce4"
      },
      "source": [
        "Así, la varianza de los pesos refleja el MSE de esta estrategia “ingenua” de predecir siempre la media.\n",
        "En cambio, cuando sí usamos la longitud de las aletas y ajustamos la recta de regresión, el MSE de los errores se convierte en la varianza de los residuos.\n",
        "\n",
        "La clave está en comparar ambas situaciones:\n",
        "\n",
        "* Varianza total de los pesos (sin usar las aletas) = error si siempre predices la media.\n",
        "\n",
        "* Varianza de los residuos (usando las aletas) = error al usar la regresión.\n",
        "\n",
        "La reducción relativa del error se captura en esta razón:\n",
        "\n",
        "$$\n",
        "R^2 = 1-\\frac{S_e^2}{S_y^2}\n",
        "$$\n",
        "\n",
        "Este número nos dice qué tanto mejoramos nuestras predicciones al usar la variable independiente (aletas) en lugar de simplemente la media.\n",
        "Técnicamente se llama **coeficiente de determinación**, pero como su símbolo es $R^2$, casi todo el mundo lo conoce como “R al cuadrado”."
      ]
    },
    {
      "cell_type": "code",
      "execution_count": null,
      "id": "48684cd3",
      "metadata": {
        "id": "48684cd3"
      },
      "outputs": [],
      "source": [
        "def coefficient_of_determination(ys, residuals):\n",
        "    return 1 - np.var(residuals) / np.var(ys)"
      ]
    },
    {
      "cell_type": "markdown",
      "id": "8971c156",
      "metadata": {
        "id": "8971c156"
      },
      "source": [
        "En el ejemplo, $R^2$ es aproximadamente `0.22`, lo que significa que la línea ajustada reduce el MSE en un **22%**."
      ]
    },
    {
      "cell_type": "code",
      "execution_count": null,
      "id": "66e0749c",
      "metadata": {
        "id": "66e0749c"
      },
      "outputs": [],
      "source": [
        "R2 = coefficient_of_determination(body_mass, residuals)\n",
        "R2"
      ]
    },
    {
      "cell_type": "code",
      "source": [
        "result.rvalue.item()**2"
      ],
      "metadata": {
        "id": "XSdZhmln86iV"
      },
      "id": "XSdZhmln86iV",
      "execution_count": null,
      "outputs": []
    },
    {
      "cell_type": "markdown",
      "id": "224130b5",
      "metadata": {
        "id": "224130b5"
      },
      "source": [
        "Resulta que existe una relación entre el coeficiente de determinación, $R^2$, y el coeficiente de correlación, $Cor(X,Y)$.\n",
        "Como se puede deducir de la notación, $Cor(X,Y)^2 = R^2$.\n",
        "\n",
        "Podemos demostrar que esto es cierto calculando la raíz cuadrada de $R^2$."
      ]
    },
    {
      "cell_type": "code",
      "execution_count": null,
      "id": "e36176e6",
      "metadata": {
        "id": "e36176e6"
      },
      "outputs": [],
      "source": [
        "r = np.sqrt(R2)\n",
        "r.item()"
      ]
    },
    {
      "cell_type": "markdown",
      "id": "8062c73d",
      "metadata": {
        "id": "8062c73d"
      },
      "source": [
        "Y comparándolo con la correlación que calculamos anteriormente."
      ]
    },
    {
      "cell_type": "code",
      "execution_count": null,
      "id": "e156d1cd",
      "metadata": {
        "id": "e156d1cd"
      },
      "outputs": [],
      "source": [
        "corr = np.corrcoef(flipper_length, body_mass)[0, 1]\n",
        "corr.item()"
      ]
    },
    {
      "cell_type": "markdown",
      "id": "9ee6aa24",
      "metadata": {
        "id": "9ee6aa24"
      },
      "source": [
        "Son iguales, salvo por una pequeña diferencia debida a la aproximación de coma flotante.\n",
        "\n",
        "La función **`linregress`** también calcula este valor y lo devuelve como un atributo en el objeto `RegressionResult`."
      ]
    },
    {
      "cell_type": "code",
      "execution_count": null,
      "id": "f07d4d83",
      "metadata": {
        "id": "f07d4d83"
      },
      "outputs": [],
      "source": [
        "result.rvalue.item()"
      ]
    },
    {
      "cell_type": "markdown",
      "id": "73b81c96",
      "metadata": {
        "id": "73b81c96"
      },
      "source": [
        "Los coeficientes de determinación y correlación transmiten prácticamente la misma información, pero se interpretan de manera diferente:\n",
        "\n",
        "* La correlación cuantifica la fuerza de la relación en una escala de -1 a 1.\n",
        "\n",
        "* $R^2$ cuantifica la capacidad de la línea ajustada para reducir el MSE.\n",
        "\n",
        "Además, $R^2$ siempre es positivo, por lo que no indica si la correlación es positiva o negativa."
      ]
    },
    {
      "cell_type": "markdown",
      "id": "0a8926ea",
      "metadata": {
        "id": "0a8926ea"
      },
      "source": [
        "## Minimizar el MSE\n",
        "\n",
        "Anteriormente se dijo que el ajuste por mínimos cuadrados es **la línea recta que minimiza el error cuadrático medio** (MSE).\n",
        "\n",
        "No lo demostraremos matematicamente en este notebook, pero podemos comprobarlo añadiendo pequeños valores aleatorios a la **intersección** y la **pendiente**, y **verificando si el MSE empeora**."
      ]
    },
    {
      "cell_type": "code",
      "execution_count": null,
      "id": "4e50d7d5",
      "metadata": {
        "id": "4e50d7d5"
      },
      "outputs": [],
      "source": [
        "intercept = result.intercept + np.random.normal(0, 1)\n",
        "slope = result.slope + np.random.normal(0, 1)"
      ]
    },
    {
      "cell_type": "markdown",
      "id": "cd78c9b5",
      "metadata": {
        "id": "cd78c9b5"
      },
      "source": [
        "Para ejecutar la prueba, necesitamos crear un objeto con los atributos `intercept` y `slope`; utilizaremos el objeto `SimpleNamespace` proporcionado por la libreria `types`."
      ]
    },
    {
      "cell_type": "code",
      "execution_count": null,
      "id": "1c98a63c",
      "metadata": {
        "id": "1c98a63c"
      },
      "outputs": [],
      "source": [
        "from types import SimpleNamespace\n",
        "\n",
        "fake_result = SimpleNamespace(intercept=intercept, slope=slope)\n",
        "fake_result"
      ]
    },
    {
      "cell_type": "markdown",
      "id": "02043f15",
      "metadata": {
        "id": "02043f15"
      },
      "source": [
        "Podemos pasar este objeto a `compute_residuals` y utilizar los residuos para calcular el **MSE**."
      ]
    },
    {
      "cell_type": "code",
      "source": [
        "def predict(result, xs):\n",
        "    ys = result.intercept + result.slope * xs\n",
        "    return ys"
      ],
      "metadata": {
        "id": "L0J5kel8sVo2"
      },
      "id": "L0J5kel8sVo2",
      "execution_count": null,
      "outputs": []
    },
    {
      "cell_type": "code",
      "source": [
        "def compute_residuals(result, xs, ys):\n",
        "    fit_ys = predict(result, xs)\n",
        "    return ys - fit_ys"
      ],
      "metadata": {
        "id": "xb-HPhYMmoBO"
      },
      "id": "xb-HPhYMmoBO",
      "execution_count": null,
      "outputs": []
    },
    {
      "cell_type": "code",
      "execution_count": null,
      "id": "d4cb5b9e",
      "metadata": {
        "id": "d4cb5b9e"
      },
      "outputs": [],
      "source": [
        "fake_residuals = compute_residuals(fake_result, flipper_length, body_mass)\n",
        "fake_mse = np.mean(fake_residuals**2)"
      ]
    },
    {
      "cell_type": "markdown",
      "id": "56ef080c",
      "metadata": {
        "id": "56ef080c"
      },
      "source": [
        "Si comparamos el resultado con el MSE de la línea de mínimos cuadrados, siempre es peor."
      ]
    },
    {
      "cell_type": "code",
      "execution_count": null,
      "id": "93accff0",
      "metadata": {
        "id": "93accff0"
      },
      "outputs": [],
      "source": [
        "print(f\"MSE: {mse:3f}, MSE truqueado: {fake_mse:3f}, Valor de MSE mejor que MSE truqueado: {fake_mse > mse}\")"
      ]
    },
    {
      "cell_type": "markdown",
      "id": "96cc8f21",
      "metadata": {
        "id": "96cc8f21"
      },
      "source": [
        "Minimizar el MSE está bien, pero no es la única definición de «óptimo».\n",
        "Una alternativa es **minimizar los valores absolutos de los errores**.\n",
        "\n",
        "Otra es minimizar la distancia más corta desde cada punto hasta la línea ajustada, lo que se denomina **\"error total\"**.\n",
        "\n",
        "En algunos contextos, adivinar demasiado alto puede ser mejor (o peor) que adivinar demasiado bajo.\n",
        "En ese caso, es posible que desee calcular una función de error para cada residuo y minimizar el error total.\n",
        "\n",
        "Pero el ajuste por **mínimos cuadrados** se utiliza mucho más que estas alternativas, principalmente porque es eficiente de calcular.\n",
        "\n",
        "$$\n",
        "b_1 = \\frac{\\sum (x_i-\\bar{x})(y_i-\\bar{y})}{\\sum (x_i-\\bar{x})^2}\n",
        "$$\n",
        "\n",
        "$$\n",
        "b_0 = \\bar{y} - b_i \\times \\bar{x}\n",
        "$$\n",
        "\n",
        "La siguiente función muestra cómo."
      ]
    },
    {
      "cell_type": "code",
      "execution_count": null,
      "id": "463fb4e2",
      "metadata": {
        "id": "463fb4e2"
      },
      "outputs": [],
      "source": [
        "def least_squares(xs, ys):\n",
        "    xbar = np.mean(xs)\n",
        "    ybar = np.mean(ys)\n",
        "\n",
        "    xdev = xs - xbar\n",
        "    ydev = ys - ybar\n",
        "\n",
        "    slope = np.sum(xdev * ydev) / np.sum(xdev**2)\n",
        "    intercept = ybar - slope * xbar\n",
        "\n",
        "    return intercept.item(), slope.item()"
      ]
    },
    {
      "cell_type": "markdown",
      "id": "8c317cad",
      "metadata": {
        "id": "8c317cad"
      },
      "source": [
        "Para probar esta función, volveremos a utilizar la longitud de las aletas y la masa corporal."
      ]
    },
    {
      "cell_type": "code",
      "execution_count": null,
      "id": "0b12bc0e",
      "metadata": {
        "id": "0b12bc0e"
      },
      "outputs": [],
      "source": [
        "intercept, slope = least_squares(flipper_length, body_mass)\n",
        "\n",
        "print(f\"intercepto: {intercept:3f}, pendiente: {slope:3f}\")"
      ]
    },
    {
      "cell_type": "markdown",
      "id": "85abab42",
      "metadata": {
        "id": "85abab42"
      },
      "source": [
        "Y podemos confirmar que obtenemos los mismos resultados que obtuvimos con `linregress`."
      ]
    },
    {
      "cell_type": "code",
      "execution_count": null,
      "id": "131a2abf",
      "metadata": {
        "id": "131a2abf"
      },
      "outputs": [],
      "source": [
        "np.allclose([intercept, slope], [result.intercept, result.slope])"
      ]
    },
    {
      "cell_type": "markdown",
      "id": "80963c2e",
      "metadata": {
        "id": "80963c2e"
      },
      "source": [
        "Minimizar el MSE tenía sentido cuando la eficiencia computacional era más importante que elegir el método más adecuado para el problema en cuestión.\n",
        "\n",
        "Vale la pena considerar si los residuos al cuadrado son lo que conviene minimizar."
      ]
    },
    {
      "cell_type": "markdown",
      "id": "7be8b43c",
      "metadata": {
        "id": "7be8b43c"
      },
      "source": [
        "## Estimación\n",
        "\n",
        "Los parámetros **`slope`** e **`intercept`** son estimaciones basadas en una muestra.\n",
        "Al igual que otras estimaciones, son vulnerables al muestreo no representativo, al error de medición y a la variabilidad debida al muestreo aleatorio.\n",
        "\n",
        "Como es habitual, es difícil cuantificar el efecto del muestreo no representativo y el error de medición.\n",
        "Es más fácil **cuantificar el efecto del muestreo aleatorio**.\n",
        "\n",
        "Una forma de hacerlo es mediante un remuestreo **bootstrapping**: trataremos la muestra como si fuera toda la población y extraeremos nuevas muestras, con reemplazo, de los datos observados.\n",
        "\n",
        "La siguiente función toma un `DataFrame` y utiliza el método `sample` para remuestrear las filas y devolver un nuevo `DataFrame`."
      ]
    },
    {
      "cell_type": "code",
      "execution_count": null,
      "id": "946cb0af",
      "metadata": {
        "id": "946cb0af"
      },
      "outputs": [],
      "source": [
        "def resample(df):\n",
        "    n = len(df)\n",
        "    return df.sample(n, replace=True)"
      ]
    },
    {
      "cell_type": "markdown",
      "id": "b21ce7da",
      "metadata": {
        "id": "b21ce7da"
      },
      "source": [
        "Y la siguiente función toma un `DataFrame`, encuentra el ajuste por **mínimos cuadrados** y devuelve la **`pendiente`** de la línea ajustada."
      ]
    },
    {
      "cell_type": "code",
      "execution_count": null,
      "id": "4bbfe5c0",
      "metadata": {
        "id": "4bbfe5c0"
      },
      "outputs": [],
      "source": [
        "def estimate_slope(df):\n",
        "    xs, ys = df[\"Flipper Length (mm)\"], df[\"Body Mass (g)\"]\n",
        "    result = linregress(xs, ys)\n",
        "    return result.slope"
      ]
    },
    {
      "cell_type": "markdown",
      "id": "d8980ae4",
      "metadata": {
        "id": "d8980ae4"
      },
      "source": [
        "Podemos utilizar estas funciones para generar muchos conjuntos de datos simulados y calcular la **pendiente** de cada uno de ellos."
      ]
    },
    {
      "cell_type": "code",
      "execution_count": null,
      "id": "8368eb15",
      "metadata": {
        "tags": [],
        "id": "8368eb15"
      },
      "outputs": [],
      "source": [
        "# Inicializar el generador de números aleatorios para obtener los mismos resultados cada vez.\n",
        "np.random.seed(1)"
      ]
    },
    {
      "cell_type": "code",
      "execution_count": null,
      "id": "5584d4dd",
      "metadata": {
        "id": "5584d4dd"
      },
      "outputs": [],
      "source": [
        "resampled_slopes = [estimate_slope(resample(adelie)) for i in range(1001)]"
      ]
    },
    {
      "cell_type": "markdown",
      "id": "545a0455",
      "metadata": {
        "id": "545a0455"
      },
      "source": [
        "El resultado es una muestra de la **distribución muestral** de la **pendiente**.\n",
        "Así es como se ve."
      ]
    },
    {
      "cell_type": "code",
      "source": [
        "from scipy.stats import gaussian_kde\n",
        "\n",
        "def plot_kde(sample, name=\"estimated density\", title=\"Funcion de densidad (PDF) estimada\", xlabel=\"\", ylabel=\"Densidad\"):\n",
        "    kde = gaussian_kde(sample)\n",
        "\n",
        "    m, s = np.mean(sample), np.std(sample)\n",
        "    domain = m - 4 * s, m + 4 * s\n",
        "\n",
        "    eval_points = np.linspace(domain[0], domain[1], 500) #dominio\n",
        "    pdf_values = kde.pdf(eval_points)\n",
        "\n",
        "    plt.figure(figsize=(10, 8))\n",
        "    plt.plot(eval_points, pdf_values, label=name) # Estimacion\n",
        "    plt.axvline(m, color=\"gray\", ls=\":\") #media de la muestra\n",
        "    plt.text(m + 0.001, 0, f\"Mean: {m:.3f}\", rotation=90, va='center', ha='left') # Agrega texto cerca de la linea axvline\n",
        "    plt.legend()\n",
        "    plt.xlabel(xlabel)\n",
        "    plt.ylabel(ylabel)\n",
        "    plt.title(title)\n",
        "    plt.grid(True)"
      ],
      "metadata": {
        "id": "1d4DXRUJuOwL"
      },
      "id": "1d4DXRUJuOwL",
      "execution_count": null,
      "outputs": []
    },
    {
      "cell_type": "code",
      "execution_count": null,
      "id": "a8bc7d59",
      "metadata": {
        "id": "a8bc7d59"
      },
      "outputs": [],
      "source": [
        "plot_kde(resampled_slopes, xlabel=\"Pendiente de la línea ajustada (g/mm)\")"
      ]
    },
    {
      "cell_type": "markdown",
      "id": "5e256d1c",
      "metadata": {
        "id": "5e256d1c"
      },
      "source": [
        "Podemos utilizar `percentile` para calcular un intervalo de confianza del **90%**."
      ]
    },
    {
      "cell_type": "code",
      "execution_count": null,
      "id": "4c71f285",
      "metadata": {
        "id": "4c71f285"
      },
      "outputs": [],
      "source": [
        "ci90 = np.percentile(resampled_slopes, [5, 95])\n",
        "print(f\"Media Pendiente: {result.slope}, Intervalo de confianzos: {ci90}\")"
      ]
    },
    {
      "cell_type": "markdown",
      "id": "f29d0d6a",
      "metadata": {
        "id": "f29d0d6a"
      },
      "source": [
        "Por lo tanto, podríamos informar que la **pendiente** estimada es de `33 gramos/mm` con un **IC del 90%** `[25, 40] gramos/mm`.\n",
        "\n",
        "\n",
        "Recordemos que el **`error estándar`** de la estimación es la **desviación estándar de la distribución muestral**."
      ]
    },
    {
      "cell_type": "code",
      "execution_count": null,
      "id": "2df6315c",
      "metadata": {
        "id": "2df6315c"
      },
      "outputs": [],
      "source": [
        "stderr = np.std(resampled_slopes)\n",
        "\n",
        "print(f\"Error estandar: {stderr}\")"
      ]
    },
    {
      "cell_type": "markdown",
      "id": "f8d2bb80",
      "metadata": {
        "id": "f8d2bb80"
      },
      "source": [
        "El objeto `RegressionResult` que obtuvimos de `linregress` proporciona una aproximación del **error estándar**, basada en algunas suposiciones sobre la forma de la distribución."
      ]
    },
    {
      "cell_type": "code",
      "execution_count": null,
      "id": "ed506e96",
      "metadata": {
        "id": "ed506e96"
      },
      "outputs": [],
      "source": [
        "print(f\"RegressionResult - Error estandar: {result.stderr}\")"
      ]
    },
    {
      "cell_type": "markdown",
      "id": "431e7625",
      "metadata": {
        "id": "431e7625"
      },
      "source": [
        "El error estándar que calculamos mediante el remuestreo es un poco menor, pero la diferencia probablemente no tenga importancia en la práctica."
      ]
    },
    {
      "cell_type": "markdown",
      "id": "10af2a8e",
      "metadata": {
        "id": "10af2a8e"
      },
      "source": [
        "## Visualización de la incertidumbre\n",
        "\n",
        "Cada vez que **remuestreamos el conjunto de datos**, obtenemos una línea ajustada diferente.\n",
        "\n",
        "Para ver cuánta variación hay en las líneas, una opción es recorrerlas y trazarlas todas.\n",
        "\n",
        "La siguiente función toma un `DataFrame` remuestreado, calcula un ajuste por mínimos cuadrados y genera valores predichos para una secuencia de `xs`."
      ]
    },
    {
      "cell_type": "code",
      "execution_count": null,
      "id": "d1e34e22",
      "metadata": {
        "id": "d1e34e22"
      },
      "outputs": [],
      "source": [
        "def fit_line(df, fit_xs):\n",
        "    xs, ys = df[\"Flipper Length (mm)\"], df[\"Body Mass (g)\"]\n",
        "    result = linregress(xs, ys)\n",
        "    fit_ys = predict(result, fit_xs)\n",
        "    return fit_ys"
      ]
    },
    {
      "cell_type": "markdown",
      "id": "6c885dbe",
      "metadata": {
        "id": "6c885dbe"
      },
      "source": [
        "Aqui esta la secuencia de `xs` que usaremos."
      ]
    },
    {
      "cell_type": "code",
      "execution_count": null,
      "id": "7533f92d",
      "metadata": {
        "id": "7533f92d"
      },
      "outputs": [],
      "source": [
        "xs = adelie[\"Flipper Length (mm)\"]\n",
        "fit_xs = np.linspace(np.min(xs), np.max(xs))"
      ]
    },
    {
      "cell_type": "code",
      "source": [
        "fit_xs.shape"
      ],
      "metadata": {
        "id": "FvPHnped06AU"
      },
      "id": "FvPHnped06AU",
      "execution_count": null,
      "outputs": []
    },
    {
      "cell_type": "markdown",
      "id": "a3691a5d",
      "metadata": {
        "id": "a3691a5d"
      },
      "source": [
        "Y así es como se ven las líneas ajustadas, junto con un diagrama de dispersión (scatter plot) de los datos."
      ]
    },
    {
      "cell_type": "code",
      "execution_count": null,
      "id": "9f02ea92",
      "metadata": {
        "id": "9f02ea92"
      },
      "outputs": [],
      "source": [
        "fig = plt.figure(figsize=(7, 7))\n",
        "\n",
        "plt.scatter(flipper_length, body_mass, marker=\".\", alpha=0.5)\n",
        "\n",
        "for i in range(101):\n",
        "    fit_ys = fit_line(resample(adelie), fit_xs)\n",
        "    plt.plot(fit_xs, fit_ys, color=\"C1\", alpha=0.05)\n",
        "\n",
        "plt.xlabel(\"Flipper Length (mm)\")\n",
        "plt.ylabel(\"Body Mass (g)\")"
      ]
    },
    {
      "cell_type": "markdown",
      "id": "00c7fab4",
      "metadata": {
        "id": "00c7fab4"
      },
      "source": [
        "Cerca del centro, las líneas ajustadas están muy juntas, mientras que en los extremos están más separadas.\n",
        "\n",
        "Otra forma de representar la variabilidad de las líneas ajustadas es trazar un **intervalo de confianza del 90%** para cada valor previsto.\n",
        "\n",
        "Podemos hacerlo recopilando las líneas ajustadas en una lista de matrices. Y así es como se ven las líneas ajustadas, junto con un diagrama de dispersión de los datos."
      ]
    },
    {
      "cell_type": "code",
      "source": [
        "def resample(df):\n",
        "    n = len(df)\n",
        "    return df.sample(n, replace=True)"
      ],
      "metadata": {
        "id": "oxsUM2uvxEnx"
      },
      "id": "oxsUM2uvxEnx",
      "execution_count": null,
      "outputs": []
    },
    {
      "cell_type": "code",
      "execution_count": null,
      "id": "82323ae6",
      "metadata": {
        "id": "82323ae6"
      },
      "outputs": [],
      "source": [
        "fitted_ys = [fit_line(resample(adelie), fit_xs) for i in range(1001)]"
      ]
    },
    {
      "cell_type": "code",
      "source": [
        "np.array(fitted_ys).shape"
      ],
      "metadata": {
        "id": "CXWi9n7b0XcI"
      },
      "id": "CXWi9n7b0XcI",
      "execution_count": null,
      "outputs": []
    },
    {
      "cell_type": "markdown",
      "id": "1435df9e",
      "metadata": {
        "id": "1435df9e"
      },
      "source": [
        "Podemos pensar en esta lista de matrices como una matriz bidimensional con una **fila para cada línea ajustada** y una **columna correspondiente a cada uno de los `xs`**.\n",
        "\n",
        "Podemos utilizar `percentile` con el argumento `axis=0` para encontrar los percentiles 5, 50 y 95 de los `ys` correspondientes a cada uno de los `xs`."
      ]
    },
    {
      "cell_type": "code",
      "execution_count": null,
      "id": "a6625fd2",
      "metadata": {
        "id": "a6625fd2"
      },
      "outputs": [],
      "source": [
        "low, median, high = np.percentile(fitted_ys, [5, 50, 95], axis=0)"
      ]
    },
    {
      "cell_type": "code",
      "source": [
        "np.array((low, median, high)).shape"
      ],
      "metadata": {
        "id": "f73I79Kb1KBu"
      },
      "id": "f73I79Kb1KBu",
      "execution_count": null,
      "outputs": []
    },
    {
      "cell_type": "markdown",
      "id": "7cd8b3c8",
      "metadata": {
        "id": "7cd8b3c8"
      },
      "source": [
        "Ahora utilizaremos `fill_between` para trazar una región entre los **percentiles 5 y 95**, que representa el **IC del 90%**, junto con el valor **mediano** (`median`) de cada columna y un diagrama de dispersión de los datos."
      ]
    },
    {
      "cell_type": "code",
      "execution_count": null,
      "id": "3f2f2757",
      "metadata": {
        "id": "3f2f2757"
      },
      "outputs": [],
      "source": [
        "fig = plt.figure(figsize=(7, 7))\n",
        "\n",
        "plt.scatter(flipper_length, body_mass, marker=\".\", alpha=0.5)\n",
        "\n",
        "plt.fill_between(fit_xs, low, high, color=\"C1\", lw=0, alpha=0.2) #relleno\n",
        "plt.plot(fit_xs, median, color=\"C1\") # linea\n",
        "\n",
        "plt.xlabel(\"Flipper Length (mm)\")\n",
        "plt.ylabel(\"Body Mass (g)\")"
      ]
    },
    {
      "cell_type": "markdown",
      "id": "6f4a2608",
      "metadata": {
        "id": "6f4a2608"
      },
      "source": [
        "Esta es una forma de representar la variabilidad de una línea ajustada debido al muestreo aleatorio."
      ]
    },
    {
      "cell_type": "markdown",
      "id": "f27d748b",
      "metadata": {
        "id": "f27d748b"
      },
      "source": [
        "\n",
        "\n",
        "---\n",
        "\n",
        "\n",
        "# EJERCICIOS"
      ]
    },
    {
      "cell_type": "markdown",
      "id": "03729432",
      "metadata": {
        "id": "03729432"
      },
      "source": [
        "### Ejercicio 1\n",
        "\n",
        "En este notebook hemos calculado un ajuste por **mínimos cuadrados** para el **peso de los pingüinos** en función de la **longitud de las aletas**.\n",
        "Hay otras dos medidas en el conjunto de datos que también podemos tener en cuenta: la **longitud del culmen** y la **profundidad del culmen** (el culmen es la cresta superior del pico).\n",
        "\n",
        "* Calcula el ajuste por **mínimos cuadrados** para el **peso** (`Body Mass (g)`) en función de la **longitud del culmen** (`Culmen Length (mm)`).\n",
        "* Haga un diagrama de dispersión de estas variables y trace la línea ajustada.\n",
        "\n",
        "Basándose en el atributo **`rvalue`** del objeto **`RegressionResult`**,\n",
        "* ¿cuál es la correlación de estas variables?\n",
        "* ¿Cuál es el coeficiente de determinación?"
      ]
    },
    {
      "cell_type": "code",
      "execution_count": null,
      "id": "6282fc75",
      "metadata": {
        "tags": [],
        "id": "6282fc75"
      },
      "outputs": [],
      "source": [
        "culmen_length = adelie[\"Culmen Length (mm)\"]\n",
        "\n",
        "body_mass = adelie[\"Body Mass (g)\"]"
      ]
    },
    {
      "cell_type": "code",
      "execution_count": null,
      "id": "530f922d",
      "metadata": {
        "id": "530f922d"
      },
      "outputs": [],
      "source": [
        "# Tu codigo va aqui"
      ]
    },
    {
      "cell_type": "code",
      "execution_count": null,
      "id": "d1d2f329",
      "metadata": {
        "id": "d1d2f329"
      },
      "outputs": [],
      "source": [
        "# Tu codigo va aqui"
      ]
    },
    {
      "cell_type": "code",
      "execution_count": null,
      "id": "08ab59b7",
      "metadata": {
        "id": "08ab59b7"
      },
      "outputs": [],
      "source": [
        "# Tu codigo va aqui"
      ]
    },
    {
      "cell_type": "markdown",
      "source": [
        "Realice los pasos anteriores pero utilizando **profundidad del culmen** (`Culmen Depth (mm)`) para el **peso** (`Body Mass (g)`).\n",
        "\n",
        "* ¿Cuál es un mejor predictor del peso, la longitud del culmen, profundidad del culmen o la longitud de las aletas?"
      ],
      "metadata": {
        "id": "x-iGgHlwSNjj"
      },
      "id": "x-iGgHlwSNjj"
    },
    {
      "cell_type": "code",
      "source": [
        "culmen_depth = adelie[\"Culmen Depth (mm)\"]\n",
        "\n",
        "body_mass = adelie[\"Body Mass (g)\"]"
      ],
      "metadata": {
        "id": "9qNFUrwQX30f"
      },
      "id": "9qNFUrwQX30f",
      "execution_count": null,
      "outputs": []
    },
    {
      "cell_type": "code",
      "source": [
        "# Tu codigo va aqui"
      ],
      "metadata": {
        "id": "NxCf-RDGXteF"
      },
      "id": "NxCf-RDGXteF",
      "execution_count": null,
      "outputs": []
    },
    {
      "cell_type": "code",
      "source": [
        "# Tu codigo va aqui"
      ],
      "metadata": {
        "id": "UzJ0empoXtlV"
      },
      "id": "UzJ0empoXtlV",
      "execution_count": null,
      "outputs": []
    },
    {
      "cell_type": "code",
      "source": [
        "# Tu codigo va aqui"
      ],
      "metadata": {
        "id": "W5hJBxwwX1t1"
      },
      "id": "W5hJBxwwX1t1",
      "execution_count": null,
      "outputs": []
    },
    {
      "cell_type": "markdown",
      "id": "54e8ffe7",
      "metadata": {
        "id": "54e8ffe7"
      },
      "source": [
        "### Ejercicio 2\n",
        "\n",
        "En este notebook hemos utilizado el remuestreo para aproximar la distribución muestral de la pendiente de una línea ajustada. Podemos aproximar la **distribución muestral** de la intersección de la misma manera:\n",
        "\n",
        "1. Escriba una función llamada **`estimate_intercept`** que tome como argumento un `DataFrame` remuestreado, calcule el ajuste por mínimos cuadrados del **peso** de los pingüinos en función de la **longitud de las aletas** y devuelva la **intersección**.\n",
        "\n",
        "2. Llame a la función con muchas versiones remuestreadas de `adelie` y recopile las intersecciones.\n",
        "\n",
        "3. Utilice **`plot_kde`** para trazar la distribución muestral de la intersección.\n",
        "\n",
        "4. Calcule el **error estándar** y un **intervalo de confianza del 90%**.\n",
        "\n",
        "5. Compruebe que el error estándar que obtiene del remuestreo es coherente con el atributo **`intercept_stderr`** del objeto **`RegressionResult`**; es posible que sea un poco menor."
      ]
    },
    {
      "cell_type": "code",
      "execution_count": null,
      "id": "bc18c928",
      "metadata": {
        "id": "bc18c928"
      },
      "outputs": [],
      "source": [
        "# Tu codigo va aqui"
      ]
    },
    {
      "cell_type": "code",
      "execution_count": null,
      "id": "a7a0230d",
      "metadata": {
        "id": "a7a0230d"
      },
      "outputs": [],
      "source": [
        "# Tu codigo va aqui"
      ]
    },
    {
      "cell_type": "code",
      "execution_count": null,
      "id": "5e75168c",
      "metadata": {
        "id": "5e75168c"
      },
      "outputs": [],
      "source": [
        "# Tu codigo va aqui"
      ]
    },
    {
      "cell_type": "code",
      "execution_count": null,
      "id": "45981aec",
      "metadata": {
        "id": "45981aec"
      },
      "outputs": [],
      "source": [
        "# Tu codigo va aqui"
      ]
    },
    {
      "cell_type": "code",
      "execution_count": null,
      "id": "2eedfe0d",
      "metadata": {
        "id": "2eedfe0d"
      },
      "outputs": [],
      "source": [
        "# Tu codigo va aqui"
      ]
    },
    {
      "cell_type": "markdown",
      "id": "41024fcb",
      "metadata": {
        "id": "41024fcb"
      },
      "source": [
        "### Ejercicio 3\n",
        "\n",
        "El **índice de masa corporal** (*IMC*) de una persona es su **peso en kilogramos** dividido por su **estatura en metros elevada al cuadrado**.\n",
        "\n",
        "En el **conjunto de datos BRFSS**, podemos calcular el **IMC** de esta manera, después de convertir las estaturas de centímetros a metros."
      ]
    },
    {
      "cell_type": "code",
      "source": [
        "from os.path import basename, exists\n",
        "from urllib.request import urlretrieve\n",
        "def download(url):\n",
        "    filename = basename(url)\n",
        "    if not exists(filename):\n",
        "        local, _ = urlretrieve(url, filename)\n",
        "        print(\"Downloaded \" + local)\n",
        "\n",
        "download(\"https://github.com/AllenDowney/ThinkStats/raw/v3/data/CDBRFS08.ASC.gz\")"
      ],
      "metadata": {
        "id": "EUvgN3OCMhNw"
      },
      "execution_count": null,
      "outputs": [],
      "id": "EUvgN3OCMhNw"
    },
    {
      "cell_type": "code",
      "source": [
        "def clean_brfss(df):\n",
        "    \"\"\"Recodifica las variables BRFSS.\n",
        "    Args:\n",
        "        df: DataFrame que contiene los datos de BRFSS limpios.\n",
        "    \"\"\"\n",
        "    df[\"age\"] = df[\"age\"].replace([7, 9], np.nan)\n",
        "    df[\"htm3\"] = df[\"htm3\"].replace([999], np.nan)\n",
        "    df[\"wtkg2\"] = df[\"wtkg2\"].replace([99999], np.nan) / 100\n",
        "    df[\"wtyrago\"] = df.wtyrago.replace([7777, 9999], np.nan)\n",
        "    df[\"wtyrago\"] = df.wtyrago.apply(lambda x: x / 2.2 if x < 9000 else x - 9000)\n",
        "\n",
        "def read_brfss(filename=\"CDBRFS08.ASC.gz\", compression=\"gzip\", nrows=None):\n",
        "    \"\"\"Lee los datos BRFSS.\n",
        "    Args:\n",
        "        filename: string que indica la ruta al archivo de datos.\n",
        "        compression: string que indica el tipo de compresión.\n",
        "        nrows: número entero opcional que indica el número de filas que se van a leer, o None para leer todas.\n",
        "    Returns:\n",
        "        DataFrame: BRFSS data with cleaned variables.\n",
        "    \"\"\"\n",
        "    # nombre y aspectos de columnas en\n",
        "    # https://www.cdc.gov/brfss/annual_data/2008/varLayout_table_08.html\n",
        "    var_info = [\n",
        "        (\"age\", 100, 102, int),\n",
        "        (\"sex\", 142, 143, int),\n",
        "        (\"wtyrago\", 126, 130, int),\n",
        "        (\"finalwt\", 798, 808, int),\n",
        "        (\"wtkg2\", 1253, 1258, int),\n",
        "        (\"htm3\", 1250, 1253, int),\n",
        "    ]\n",
        "    columns = [\"name\", \"start\", \"end\", \"type\"]\n",
        "    variables = pd.DataFrame(var_info, columns=columns)\n",
        "\n",
        "    colspecs = variables[[\"start\", \"end\"]].values.tolist()\n",
        "    names = variables[\"name\"].tolist()\n",
        "\n",
        "    df = pd.read_fwf(\n",
        "        filename,\n",
        "        colspecs=colspecs,\n",
        "        names=names,\n",
        "        compression=compression,\n",
        "        nrows=nrows,\n",
        "    )\n",
        "\n",
        "    clean_brfss(df)\n",
        "    return df"
      ],
      "metadata": {
        "id": "ObT_IjfRNB2p"
      },
      "execution_count": null,
      "outputs": [],
      "id": "ObT_IjfRNB2p"
    },
    {
      "cell_type": "code",
      "execution_count": null,
      "metadata": {
        "id": "q8CsYQokkdQx"
      },
      "outputs": [],
      "source": [
        "valid = read_brfss().dropna(subset=[\"htm3\", \"wtkg2\"])\n",
        "heights, weights = valid[\"htm3\"], valid[\"wtkg2\"]"
      ],
      "id": "q8CsYQokkdQx"
    },
    {
      "cell_type": "code",
      "execution_count": null,
      "id": "0212535f",
      "metadata": {
        "id": "0212535f"
      },
      "outputs": [],
      "source": [
        "heights_m = heights / 100\n",
        "bmis = weights / heights_m**2\n",
        "\n",
        "heights_m.shape, bmis.shape"
      ]
    },
    {
      "cell_type": "markdown",
      "id": "9163b0c1",
      "metadata": {
        "id": "9163b0c1"
      },
      "source": [
        "En esta definición, las alturas se elevan al cuadrado, en lugar de a otro exponente, debido a la observación —realizada en los inicios de la historia de la estadística— de que el peso medio aumenta aproximadamente en proporción al cuadrado de la altura.\n",
        "\n",
        "Para comprobar si esto es cierto, podemos utilizar datos del BRFSS, un ajuste por mínimos cuadrados y un poco de matemáticas.\n",
        "Supongamos que el peso es proporcional a la altura elevada a un exponente desconocido, $a$.\n",
        "\n",
        "En ese caso, podemos escribir:\n",
        "\n",
        "$$w = b \\times h^a$$\n",
        "\n",
        "donde **$w$** es el peso, **$h$** es la altura y **$b$** es una constante de proporcionalidad desconocida.\n",
        "Tomando los logaritmos de ambos lados:\n",
        "\n",
        "$$\\log w = \\log b + a \\log h$$\n",
        "\n",
        "Por lo tanto, si calculamos un ajuste por mínimos cuadrados para los pesos transformados logarítmicamente como una función de las alturas transformadas logarítmicamente, la pendiente de la línea ajustada estima el exponente desconocido **$a$**.\n",
        "\n",
        "* Calcula los logaritmos de la estatura y el peso.\n",
        "\n",
        "Puedes utilizar cualquier base para los logaritmos, siempre que sea la misma para ambas transformaciones.\n",
        "\n",
        "* Calcula un ajuste por mínimos cuadrados.\n",
        "* **¿La pendiente es cercana a 2?**\n",
        "* Encuentra el valor de la constante de proporcionalidad desconocida (**$b$**)"
      ]
    },
    {
      "cell_type": "code",
      "execution_count": null,
      "id": "b4b9a17f",
      "metadata": {
        "id": "b4b9a17f"
      },
      "outputs": [],
      "source": [
        "# Tu codigo va aqui"
      ]
    },
    {
      "cell_type": "code",
      "execution_count": null,
      "id": "71d47297",
      "metadata": {
        "id": "71d47297"
      },
      "outputs": [],
      "source": [
        "# Tu codigo va aqui"
      ]
    },
    {
      "cell_type": "code",
      "execution_count": null,
      "id": "2de440af",
      "metadata": {
        "id": "2de440af"
      },
      "outputs": [],
      "source": [
        "# Tu codigo va aqui"
      ]
    },
    {
      "cell_type": "code",
      "execution_count": null,
      "id": "287d7e0b",
      "metadata": {
        "id": "287d7e0b"
      },
      "outputs": [],
      "source": [
        "# Tu codigo va aqui"
      ]
    }
  ],
  "metadata": {
    "celltoolbar": "Tags",
    "kernelspec": {
      "display_name": "Python 3 (ipykernel)",
      "language": "python",
      "name": "python3"
    },
    "language_info": {
      "codemirror_mode": {
        "name": "ipython",
        "version": 3
      },
      "file_extension": ".py",
      "mimetype": "text/x-python",
      "name": "python",
      "nbconvert_exporter": "python",
      "pygments_lexer": "ipython3",
      "version": "3.11.0"
    },
    "colab": {
      "provenance": [],
      "collapsed_sections": [
        "e9c71994",
        "d0ffe7e9",
        "0a8926ea",
        "7be8b43c",
        "10af2a8e",
        "03729432",
        "54e8ffe7",
        "41024fcb"
      ],
      "include_colab_link": true
    }
  },
  "nbformat": 4,
  "nbformat_minor": 5
}