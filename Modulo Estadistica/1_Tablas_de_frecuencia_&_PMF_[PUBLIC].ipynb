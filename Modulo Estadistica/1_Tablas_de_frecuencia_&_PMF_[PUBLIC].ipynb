{
  "nbformat": 4,
  "nbformat_minor": 0,
  "metadata": {
    "colab": {
      "provenance": []
    },
    "kernelspec": {
      "name": "python3",
      "display_name": "Python 3"
    },
    "language_info": {
      "name": "python"
    }
  },
  "cells": [
    {
      "cell_type": "markdown",
      "source": [
        "# Distribuciones\n",
        "\n",
        "Aqui se presenta uno de los conceptos más fundamentales de la estadística: la distribución.\n",
        "Comenzaremos con las **tablas de frecuencias**, que representan los valores de un conjunto de datos y el número de veces que aparece cada uno de ellos, y las utilizaremos para explorar los datos de la Encuesta Nacional de Crecimiento Familiar (NSFG)."
      ],
      "metadata": {
        "id": "AM4O94-jfejS"
      }
    },
    {
      "cell_type": "code",
      "source": [
        "import numpy as np\n",
        "import matplotlib.pyplot as plt\n",
        "import pandas as pd"
      ],
      "metadata": {
        "id": "4G38D835foRC"
      },
      "execution_count": null,
      "outputs": []
    },
    {
      "cell_type": "markdown",
      "source": [
        "## Tablas de frecuencias\n",
        "\n",
        "Una forma de describir una variable es mediante una **tabla de frecuencias**, que contiene los valores de la variable y sus **frecuencias**, es decir, el número de veces que aparece cada valor.\n",
        "Esta descripción se denomina **distribución** de la variable.\n",
        "\n"
      ],
      "metadata": {
        "id": "YkXJ2JNef1CO"
      }
    },
    {
      "cell_type": "markdown",
      "source": [
        "Para representar distribuciones, se proporciona diferentes funciones que podemos utilizar para calcular y trazar tablas de frecuencias, PMF & CDF."
      ],
      "metadata": {
        "id": "tOdMvh7-qVJz"
      }
    },
    {
      "cell_type": "code",
      "source": [
        "def from_seq(seq, name=None, normalize=True, sort=True, ascending=True, dropna=True, na_position=\"last\", convert_to=\"PMF\"):\n",
        "  \"\"\"Crea un PMF a partir de una secuencia de valores.\n",
        "  Args:\n",
        "      seq: iterable\n",
        "      normalize: si se debe normalizar la serie (i.e, Pmf), por defecto True\n",
        "      sort: si se debe ordenar la serie por valores, por defecto True\n",
        "      ascending: si se debe ordenar en orden ascendente, por defecto True\n",
        "      dropna: si se deben eliminar los valores NaN, por defecto True\n",
        "      na_position: si es 'first', coloca los NaNs al principio;\n",
        "                  si es 'last', coloca los NaNs al final.\n",
        "      convert_to: si es 'FreqTab', Crea una tabla de frecuencia;\n",
        "                  si es 'PMF' (default), crea una funcion de masa de probabilidad;\n",
        "                  si es 'CDF', crea una función de distribución acumulada.\n",
        "\n",
        "  Returns: pd.Series\n",
        "  \"\"\"\n",
        "  if convert_to == \"FreqTab\":\n",
        "    normalize=False\n",
        "\n",
        "  # compute the value counts\n",
        "  series = pd.Series(seq, name=name).value_counts(normalize=normalize, sort=sort, dropna=dropna)\n",
        "\n",
        "  # sort in place, if desired\n",
        "  if sort:\n",
        "    series.sort_index(inplace=True, ascending=ascending, na_position=na_position)\n",
        "\n",
        "  if convert_to == \"CDF\":\n",
        "    series = np.cumsum(series)\n",
        "\n",
        "  return series\n",
        "\n",
        "def get_qs(Tab):\n",
        "    \"\"\"Obtener las cantidades.\n",
        "\n",
        "    Returns: NumPy array\n",
        "    \"\"\"\n",
        "    return Tab.index.values\n",
        "\n",
        "def get_ps(Tab):\n",
        "    \"\"\"Obtener las probabilidades/frecuencias.\n",
        "\n",
        "    Returns: NumPy array\n",
        "    \"\"\"\n",
        "    return Tab.values\n",
        "\n",
        "def plot_bar(Tab, xlabel=\"x\", ylabel=\"y\", title=\"tittle\"):\n",
        "    \"\"\"Crea un gráfico de barras.\n",
        "\n",
        "    Args:\n",
        "        kwargs: se pasa a plt.bar\n",
        "    \"\"\"\n",
        "    qs = get_qs(Tab)\n",
        "    ps = get_ps(Tab)\n",
        "\n",
        "    plt.bar(qs, ps)\n",
        "\n",
        "    plt.xlabel(xlabel)\n",
        "    plt.ylabel(ylabel)\n",
        "    plt.title(title)"
      ],
      "metadata": {
        "id": "SnqYjdzkqXG9"
      },
      "execution_count": null,
      "outputs": []
    },
    {
      "cell_type": "markdown",
      "source": [
        "Para mostrar cómo funciona, comenzaremos con una pequeña lista de valores."
      ],
      "metadata": {
        "id": "01C9bgXBqfxX"
      }
    },
    {
      "cell_type": "code",
      "source": [
        "t = [1.0, 2.0, 2.0, 3.0, 5.0]"
      ],
      "metadata": {
        "id": "qoIz9ZDzqi2K"
      },
      "execution_count": null,
      "outputs": []
    },
    {
      "cell_type": "markdown",
      "source": [
        "Se proporciona un método llamado `from_seq` que toma una secuencia y  utilizando el parametro `convert_to` creamos una dataframe que representara nuestra tabla de frecuencia (`ftab`)."
      ],
      "metadata": {
        "id": "EUk38XvpqjGi"
      }
    },
    {
      "cell_type": "code",
      "source": [
        "ftab = from_seq(t, convert_to=\"FreqTab\")\n",
        "ftab"
      ],
      "metadata": {
        "id": "Xf72TDoRq_Jz"
      },
      "execution_count": null,
      "outputs": []
    },
    {
      "cell_type": "markdown",
      "source": [
        "Un dataframe `FreqTab` es un tipo de `Series` de Pandas que contiene valores y sus frecuencias.\n",
        "En este ejemplo, el valor `1.0` corresponde a la frecuencia 1, el valor `2.0` corresponde a la frecuencia 2, etc.\n",
        "\n",
        "Tambien proporcionamos un método llamado `plot_bar` que traza la tabla de frecuencias como un `gráfico de barras`."
      ],
      "metadata": {
        "id": "WDePvB8riB_e"
      }
    },
    {
      "cell_type": "code",
      "source": [
        "plot_bar(ftab, xlabel='Valor', ylabel='Frecuencia', title='Gráfica de Barras de Frecuencia')\n",
        "plt.show()"
      ],
      "metadata": {
        "id": "PxGmA3gssFIU"
      },
      "execution_count": null,
      "outputs": []
    },
    {
      "cell_type": "markdown",
      "source": [
        "Dado que un `FreqTab` es un `Series` de Pandas, podemos utilizar el operador de corchetes para buscar un valor y obtener su frecuencia."
      ],
      "metadata": {
        "id": "E4l5uxRjjHcb"
      }
    },
    {
      "cell_type": "code",
      "source": [
        "ftab[2.0].item()"
      ],
      "metadata": {
        "id": "W76RuBq3jHjy"
      },
      "execution_count": null,
      "outputs": []
    },
    {
      "cell_type": "code",
      "source": [
        "ftab[3.0].item()"
      ],
      "metadata": {
        "id": "VYukQjXcjqPc"
      },
      "execution_count": null,
      "outputs": []
    },
    {
      "cell_type": "code",
      "source": [
        "try:\n",
        "  ftab[4.0].item()\n",
        "except:\n",
        "  print(\"Elemento no encontrado\")"
      ],
      "metadata": {
        "id": "RACELOgBjpzr"
      },
      "execution_count": null,
      "outputs": []
    },
    {
      "cell_type": "markdown",
      "source": [
        "Podemos usar la funcion `get_qs` en el dataframe `ftab`; `qs` significa **\"quantities (cantidades)\"**, aunque técnicamente no todos los valores son cantidades."
      ],
      "metadata": {
        "id": "qBk6bJYIjkOC"
      }
    },
    {
      "cell_type": "code",
      "source": [
        "get_qs(ftab)"
      ],
      "metadata": {
        "id": "E3ENnL6rs43m"
      },
      "execution_count": null,
      "outputs": []
    },
    {
      "cell_type": "markdown",
      "source": [
        "También podemos usar la funcion `get_ps` que devuelve las frecuencias; aunque `ps` significa **\"probabilities (probabilidades)\"** en este caso que trabajamos con una tabla de frecuencia, hace referencia a las `frecuencias`."
      ],
      "metadata": {
        "id": "8GaxFY9UkmPH"
      }
    },
    {
      "cell_type": "code",
      "source": [
        "get_ps(ftab)"
      ],
      "metadata": {
        "id": "3EtSlssNtyls"
      },
      "execution_count": null,
      "outputs": []
    },
    {
      "cell_type": "markdown",
      "source": [
        "El dataframe `FreqTab` proporciona un método `items` que podemos utilizar para recorrer los pares cantidad-frecuencia:"
      ],
      "metadata": {
        "id": "rbZuX3PgkxLi"
      }
    },
    {
      "cell_type": "code",
      "source": [
        "for x, freq in ftab.items():\n",
        "    print(x, \"->\", freq)"
      ],
      "metadata": {
        "id": "gk19cq_1kxtL"
      },
      "execution_count": null,
      "outputs": []
    },
    {
      "cell_type": "markdown",
      "source": [
        "\n",
        "\n",
        "---\n",
        "\n",
        "## PMFs\n",
        "\n",
        "Un objeto `Pmf` es similar a un `FreqTab`, pero contiene probabilidades en lugar de frecuencias.\n",
        "Por lo tanto, una forma de crear un `Pmf` es partir de un `FreqTab`.\n",
        "Por ejemplo, aquí hay un `FreqTab` que representa la distribución de valores en una secuencia corta."
      ],
      "metadata": {
        "id": "JjTEd8oRllfW"
      }
    },
    {
      "cell_type": "markdown",
      "source": [
        "La suma de las frecuencias es el tamaño de la secuencia original."
      ],
      "metadata": {
        "id": "nIctBDQ2sFbL"
      }
    },
    {
      "cell_type": "code",
      "source": [
        "n = ftab.sum()\n",
        "n.item()"
      ],
      "metadata": {
        "id": "SLEQSLHNsGxD"
      },
      "execution_count": null,
      "outputs": []
    },
    {
      "cell_type": "markdown",
      "source": [
        "Si dividimos las frecuencias por `n`, representan proporciones, en lugar de recuentos."
      ],
      "metadata": {
        "id": "SwZs2WX4sMEz"
      }
    },
    {
      "cell_type": "code",
      "source": [
        "pmf = ftab / n\n",
        "pmf"
      ],
      "metadata": {
        "id": "XSyiPc08sMMp"
      },
      "execution_count": null,
      "outputs": []
    },
    {
      "cell_type": "markdown",
      "source": [
        "Este resultado indica que el 20 % de los valores de la secuencia son 1, el 40 % son 2, y así sucesivamente.\n",
        "\n",
        "También podemos considerar estas proporciones como probabilidades en el siguiente sentido: si elegimos un valor aleatorio de la secuencia original, la probabilidad de que elijamos el valor 1 es 0.2, la probabilidad de que elijamos el valor 2 es 0.4, y así sucesivamente.\n",
        "\n",
        "Como hemos dividido por `n`, la suma de las probabilidades es 1, lo que significa que esta distribución está **normalizada**."
      ],
      "metadata": {
        "id": "BBXfQI-RsVw8"
      }
    },
    {
      "cell_type": "code",
      "source": [
        "pmf.sum().item()"
      ],
      "metadata": {
        "id": "D4IMBL6YsV5C"
      },
      "execution_count": null,
      "outputs": []
    },
    {
      "cell_type": "markdown",
      "source": [
        "El dataframe `FreqTab` normalizado representa una **función de masa de probabilidad** (PMF), llamada así porque las probabilidades asociadas a valores discretos también se denominan **\"masas de probabilidad\"**.\n",
        "\n"
      ],
      "metadata": {
        "id": "CTlU2759t8a-"
      }
    },
    {
      "cell_type": "markdown",
      "source": [
        "## Una manera mas facil...\n",
        "\n",
        "En la funcoin `from_seq`, el parametro `convert_to` proporciona la opcion `PMF` que representa una función de masa de probabilidad, por lo que, en lugar de crear un dataframe `FreqTab` y luego normalizarlo, podemos crear un dataframe `PMF` directamente."
      ],
      "metadata": {
        "id": "Fbd8Iinbt8dy"
      }
    },
    {
      "cell_type": "code",
      "source": [
        "ftab = from_seq(t, convert_to=\"PMF\")\n",
        "ftab"
      ],
      "metadata": {
        "id": "FqTvZxYE2K1k"
      },
      "execution_count": null,
      "outputs": []
    },
    {
      "cell_type": "markdown",
      "source": [
        "Los dataframe `Pmf` y `FreqTab` son similares en muchos aspectos.\n",
        "Para buscar la probabilidad asociada a un valor, podemos utilizar el operador de corchetes."
      ],
      "metadata": {
        "id": "-LUkrWuJuWOR"
      }
    },
    {
      "cell_type": "code",
      "source": [
        "pmf[2].item()"
      ],
      "metadata": {
        "id": "0bsGg8tHuXYV"
      },
      "execution_count": null,
      "outputs": []
    },
    {
      "cell_type": "markdown",
      "source": [
        "Puede modificar un `Pmf` existente asignando o modificando la probabilidad asociada a un valor:"
      ],
      "metadata": {
        "id": "Lo4_aNLwu4QF"
      }
    },
    {
      "cell_type": "code",
      "source": [
        "pmf[2] = 0.2\n",
        "pmf"
      ],
      "metadata": {
        "id": "wPftQtF_uZLm"
      },
      "execution_count": null,
      "outputs": []
    },
    {
      "cell_type": "code",
      "source": [
        "pmf[2] += 0.3\n",
        "pmf"
      ],
      "metadata": {
        "id": "6Jvcnlzeu-bA"
      },
      "execution_count": null,
      "outputs": []
    },
    {
      "cell_type": "code",
      "source": [
        "pmf[2] *= 0.5\n",
        "pmf"
      ],
      "metadata": {
        "id": "MUWgduxru-do"
      },
      "execution_count": null,
      "outputs": []
    },
    {
      "cell_type": "markdown",
      "source": [
        "**NOTA.** Si modifica un `Pmf`, es posible que el resultado no se normalice, es decir, que las probabilidades ya no sumen 1."
      ],
      "metadata": {
        "id": "nq4wgqY5vG7O"
      }
    },
    {
      "cell_type": "code",
      "source": [
        "pmf.sum().item()"
      ],
      "metadata": {
        "id": "CcS07iiLu-fy"
      },
      "execution_count": null,
      "outputs": []
    },
    {
      "cell_type": "markdown",
      "source": [
        "Al igual que un objeto `FreqTab`, un objeto `Pmf` tiene un atributo `qs` que accede a las **cantidades** y un atributo `ps` que accede a las **probabilidades**.\n",
        "\n",
        "También tiene un método `bar` que traza el `Pmf` como un gráfico de barras y un método `plot` que lo traza como un gráfico de líneas."
      ],
      "metadata": {
        "id": "JlLJ35mPvbGa"
      }
    },
    {
      "cell_type": "code",
      "source": [
        "pmf = from_seq(t, convert_to=\"PMF\")\n",
        "pmf"
      ],
      "metadata": {
        "id": "CFOvyaVcvMSt"
      },
      "execution_count": null,
      "outputs": []
    },
    {
      "cell_type": "code",
      "source": [
        "get_qs(pmf)"
      ],
      "metadata": {
        "id": "m7UF4gEvw1EU"
      },
      "execution_count": null,
      "outputs": []
    },
    {
      "cell_type": "code",
      "source": [
        "get_ps(pmf)"
      ],
      "metadata": {
        "id": "8JulMkrLw1Bn"
      },
      "execution_count": null,
      "outputs": []
    },
    {
      "cell_type": "markdown",
      "source": [
        "## Media (valor esperado)\n",
        "\n",
        "Dado el `Pmf`, aún podemos calcular la media, pero el proceso es diferente: tenemos que multiplicar las probabilidades y las cantidades y sumar los productos."
      ],
      "metadata": {
        "id": "KfIJzB8IwqUy"
      }
    },
    {
      "cell_type": "code",
      "source": [
        "mean = np.sum(get_ps(pmf) * get_qs(pmf)) # mean = 1 * 0.2 + 2 * 0.4 + 3 * 0.2 + 5 * 0.2\n",
        "mean.item()"
      ],
      "metadata": {
        "id": "eqbDW76lwvSA"
      },
      "execution_count": null,
      "outputs": []
    },
    {
      "cell_type": "markdown",
      "source": [
        "Observe que *no* tenemos que dividir por `n`, porque ya lo hicimos cuando normalizamos el `Pmf`.\n"
      ],
      "metadata": {
        "id": "O27GSOTAzCBN"
      }
    },
    {
      "cell_type": "markdown",
      "source": [
        "Observe lo que si tratamos de utilizar el metodo `mean` del dataframe de `pandas` por si solo."
      ],
      "metadata": {
        "id": "NZ4mneX65nhj"
      }
    },
    {
      "cell_type": "code",
      "source": [
        "pmf.mean().item()"
      ],
      "metadata": {
        "id": "e7QpUQRfzCZl"
      },
      "execution_count": null,
      "outputs": []
    },
    {
      "cell_type": "markdown",
      "source": [
        "Podemos utilizar funcion `mean` de `numpy` en la lista de numeros original `t = [1.0, 2.0, 2.0, 3.0, 5.0]` en que se hace lo mismo para mostrar la equivalencia de resultados"
      ],
      "metadata": {
        "id": "yPXS4v6gxVJV"
      }
    },
    {
      "cell_type": "code",
      "source": [
        "np.mean(t).item()"
      ],
      "metadata": {
        "id": "QCGqFJW75bYv"
      },
      "execution_count": null,
      "outputs": []
    },
    {
      "cell_type": "markdown",
      "source": [
        "## Varianza\n",
        "\n",
        "Dado un `Pmf`, podemos calcular la varianza calculando la desviación de cada cantidad con respecto a la media."
      ],
      "metadata": {
        "id": "vQ8doXMtzeeT"
      }
    },
    {
      "cell_type": "code",
      "source": [
        "deviations = get_qs(pmf) - mean\n",
        "deviations"
      ],
      "metadata": {
        "id": "Ix-4jGOK75n-"
      },
      "execution_count": null,
      "outputs": []
    },
    {
      "cell_type": "markdown",
      "source": [
        "A continuación, multiplicamos las **desviaciones al cuadrado** por las **probabilidades** y **sumamos los productos**."
      ],
      "metadata": {
        "id": "G7p6M8E1zwdN"
      }
    },
    {
      "cell_type": "code",
      "source": [
        "var = np.sum(get_ps(pmf) * deviations**2)\n",
        "var.item()"
      ],
      "metadata": {
        "id": "uiEcqB18zwif"
      },
      "execution_count": null,
      "outputs": []
    },
    {
      "cell_type": "code",
      "source": [
        "#Desviacion estandar\n",
        "\n",
        "np.sqrt(var).item()"
      ],
      "metadata": {
        "id": "319F6lZb_DRX"
      },
      "execution_count": null,
      "outputs": []
    },
    {
      "cell_type": "markdown",
      "source": [
        "El método `var` hace lo mismo o el método `std` de `numpy`."
      ],
      "metadata": {
        "id": "kFcl_Q9FzzKh"
      }
    },
    {
      "cell_type": "code",
      "source": [
        "np.var(t).item()"
      ],
      "metadata": {
        "id": "r6ahNhoi9a2a"
      },
      "execution_count": null,
      "outputs": []
    },
    {
      "cell_type": "code",
      "source": [
        "np.std(t).item()"
      ],
      "metadata": {
        "id": "UNQk3lEV9fQR"
      },
      "execution_count": null,
      "outputs": []
    },
    {
      "cell_type": "markdown",
      "source": [
        "Podemos usar `stats` de `scipy`, que proporciona un método `mode` que encuentra el valor con la probabilidad más alta."
      ],
      "metadata": {
        "id": "AqHJM4Bu0YJf"
      }
    },
    {
      "cell_type": "code",
      "source": [
        "from scipy import stats\n",
        "\n",
        "stats.mode(t)"
      ],
      "metadata": {
        "id": "gHDfzzlT-k6g"
      },
      "execution_count": null,
      "outputs": []
    },
    {
      "cell_type": "markdown",
      "source": [
        "# EJERCICIOS\n",
        "\n",
        "---\n",
        "---\n",
        "# Datos NSFG\n",
        "\n",
        "Cuando empieces a trabajar con un nuevo conjunto de datos, te sugiero que explores las variables que planeas utilizar una por una, y una buena forma de empezar es mirando las tablas de frecuencia.\n",
        "\n",
        "Como ejemplo, veamos los datos de la Encuesta Nacional de Crecimiento Familiar (NSFG).\n",
        "\n",
        "Para los ejercicios, cargaremos el archivo de mujeres encuestadas del NSFG, que contiene una fila por cada mujer encuestada."
      ],
      "metadata": {
        "id": "YCNmQV7w4SWg"
      }
    },
    {
      "cell_type": "code",
      "source": [
        "from os.path import basename, exists\n",
        "\n",
        "try:\n",
        "    import statadict\n",
        "except ImportError:\n",
        "    %pip install statadict\n",
        "\n",
        "try:\n",
        "    import empiricaldist\n",
        "except ImportError:\n",
        "    %pip install empiricaldist\n",
        "\n",
        "def download(url):\n",
        "    filename = basename(url)\n",
        "    if not exists(filename):\n",
        "        from urllib.request import urlretrieve\n",
        "\n",
        "        local, _ = urlretrieve(url, filename)\n",
        "        print(\"Downloaded \" + local)\n",
        "\n",
        "download(\"https://github.com/AllenDowney/ThinkStats/raw/v3/nb/nsfg.py\")\n",
        "download(\"https://github.com/AllenDowney/ThinkStats/raw/v3/nb/thinkstats.py\")\n",
        "download(\"https://github.com/AllenDowney/ThinkStats/raw/v3/data/2002FemResp.dct\")\n",
        "download(\"https://github.com/AllenDowney/ThinkStats/raw/v3/data/2002FemResp.dat.gz\")"
      ],
      "metadata": {
        "id": "iWmB0dxJGams"
      },
      "execution_count": null,
      "outputs": []
    },
    {
      "cell_type": "markdown",
      "source": [
        "El libro de códigos para el archivo de mujeres encuestadas se encuentra en <https://ftp.cdc.gov/pub/Health_Statistics/NCHS/Dataset_Documentation/NSFG/Cycle6Codebook-Female.pdf>."
      ],
      "metadata": {
        "id": "9ca8w0mL43gI"
      }
    },
    {
      "cell_type": "markdown",
      "source": [
        "El módulo `nsfg.py` proporciona una función que lee el archivo de mujeres encuestadas, limpia algunas de las variables y devuelve un `DataFrame`.\n",
        "\n"
      ],
      "metadata": {
        "id": "1Y5saMMT46O3"
      }
    },
    {
      "cell_type": "code",
      "source": [
        "from nsfg import read_fem_resp\n",
        "\n",
        "resp = read_fem_resp()\n",
        "resp.shape"
      ],
      "metadata": {
        "id": "UYWwPVzH49TJ"
      },
      "execution_count": null,
      "outputs": []
    },
    {
      "cell_type": "markdown",
      "source": [
        "Este `DataFrame` contiene 3092 columnas, pero solo utilizaremos algunas de ellas."
      ],
      "metadata": {
        "id": "XzKVRUYz46R7"
      }
    },
    {
      "cell_type": "markdown",
      "source": [
        "### Ejercicio 1\n",
        "\n",
        "Comenzaremos con `totincr`, que registra los ingresos totales de la familia del encuestado, codificados con un valor del 1 al 14.\n",
        "Puede consultar el libro de códigos del archivo de encuestados para ver qué nivel de ingresos representa cada valor.\n",
        "\n",
        "```\n",
        "TOTINCR (4831 - 4832)\n",
        "\n",
        "Value Label           Total\n",
        "1     UNDER $5000     299\n",
        "2     $5000-$7499     301\n",
        "3     $7500-$9999     266\n",
        "4     $10,000-$12,499 421\n",
        "5     $12,500-$14,999 445\n",
        "6     $15,000-$19,999 559\n",
        "7     $20,000-$24,999 583\n",
        "8     $25,000-$29,999 606\n",
        "9     $30,000-$34,999 607\n",
        "10    $35,000-$39,999 468\n",
        "11    $40,000-$49,999 647\n",
        "12    $50,000-$59,000 658\n",
        "13    $60,000-$74,999 623\n",
        "14    $75,000 OR MORE 1160\n",
        "\n",
        "Total 7643\n",
        "```\n",
        "\n",
        "Cree un objeto `FreqTab` para representar la distribución de esta variable y represéntela en un **gráfico de barras**. Asegurese que la **cuenta de los distintos valores** corresponda con el archivo de encuestados."
      ],
      "metadata": {
        "id": "TtfPkO7x5QDv"
      }
    },
    {
      "cell_type": "code",
      "source": [
        "# Tu codigo va aqui"
      ],
      "metadata": {
        "id": "QkURNv7T5l9M"
      },
      "execution_count": null,
      "outputs": []
    },
    {
      "cell_type": "markdown",
      "source": [
        "### Ejercicio 2\n",
        "\n",
        "Elabora una tabla de frecuencias de la columna «paridad», `parity`, que registra el número de hijos que tiene cada encuestado.\n",
        "\n",
        "**¿Cómo describirías la forma de esta distribución?**\n"
      ],
      "metadata": {
        "id": "Vs_U91sAPnnj"
      }
    },
    {
      "cell_type": "code",
      "source": [
        "# Tu codigo va aqui"
      ],
      "metadata": {
        "id": "RY9-eyi7Pn58"
      },
      "execution_count": null,
      "outputs": []
    },
    {
      "cell_type": "markdown",
      "source": [
        "```\n",
        "# Tu respuesta va aqui\n",
        "```"
      ],
      "metadata": {
        "id": "1x7h-1BrQCFn"
      }
    },
    {
      "cell_type": "markdown",
      "source": [
        "### Ejercicio 3\n",
        "\n",
        "Investigamos si las mujeres con ingresos más altos o más bajos tienen más hijos.\n",
        "Utilice el método de consulta para seleccionar a los encuestados con los ingresos más altos (nivel 14).\n",
        "\n",
        "\n",
        "Trace la tabla de frecuencias de `parity` solo para los encuestados con ingresos altos."
      ],
      "metadata": {
        "id": "DItr9p62QKsv"
      }
    },
    {
      "cell_type": "code",
      "source": [
        "# Tu codigo va aqui"
      ],
      "metadata": {
        "id": "YYdtarCKQdHx"
      },
      "execution_count": null,
      "outputs": []
    },
    {
      "cell_type": "markdown",
      "source": [
        "Compara la `media` de `parity` de las encuestadas con ingresos altos y las demás. Utiliza el metodo de `valor esperado`."
      ],
      "metadata": {
        "id": "X_Wj63kDR47H"
      }
    },
    {
      "cell_type": "code",
      "source": [
        "# Tu codigo va aqui"
      ],
      "metadata": {
        "id": "-0kTkpuBSBB6"
      },
      "execution_count": null,
      "outputs": []
    },
    {
      "cell_type": "code",
      "source": [
        "# Tu codigo va aqui"
      ],
      "metadata": {
        "id": "lLYvxouXV-R3"
      },
      "execution_count": null,
      "outputs": []
    },
    {
      "cell_type": "markdown",
      "source": [
        "**¿Estos resultados muestran que las personas con ingresos más altos tienen menos hijos, o se te ocurre otra explicación para la diferencia aparente?**\n",
        "\n",
        "Para ver si esto realmente es cierto podemos verificar esta diferencia calculando el **efecto Cohen** ([1](https://statisticsbyjim.com/basics/cohens-d/), [2](https://datatab.net/tutorial/effect-size-independent-t-test)), **verificar estas fuentes**.\n",
        "\n",
        "$$\n",
        "Cohens\\_diff = \\frac{\\mu_1 - \\mu_2}{\\sigma_{pooled}}\n",
        "$$"
      ],
      "metadata": {
        "id": "Dsa1lJmQR5Il"
      }
    },
    {
      "cell_type": "markdown",
      "source": [
        "Calcula el tamaño del **efecto de Cohen** para esta diferencia.\n",
        "\n",
        "* **¿Cómo se compara con la diferencia en la duración del embarazo para los primeros bebés y los demás?**\n",
        "* **¿Estos resultados muestran que las personas con ingresos más altos tienen menos hijos realmente?**"
      ],
      "metadata": {
        "id": "OSdYq41pR4-F"
      }
    },
    {
      "cell_type": "code",
      "source": [
        "def cohen_effect_size(group1, group2):\n",
        "  # Tu codigo va aqui\n",
        "\n",
        "  return diff / np.sqrt(pooled_var)"
      ],
      "metadata": {
        "id": "GhGoow6ZQRkQ"
      },
      "execution_count": null,
      "outputs": []
    },
    {
      "cell_type": "code",
      "source": [
        "# Tu codigo va aqui"
      ],
      "metadata": {
        "id": "26XsshuhSBgA"
      },
      "execution_count": null,
      "outputs": []
    },
    {
      "cell_type": "markdown",
      "source": [
        "```\n",
        "# Tu respuesta va aqui\n",
        "```"
      ],
      "metadata": {
        "id": "mxLfx7DwdO_Y"
      }
    },
    {
      "cell_type": "markdown",
      "source": [
        "### Ejercicio 4\n",
        "\n",
        "Seleccione la columna `numbabes`, que registra el *número de bebés nacidos vivos* de cada encuestado.\n",
        "Cree un objeto `FreqTab` y muestre las frecuencias de los valores de esta columna.\n",
        "Compruebe que coinciden con las frecuencias del [libro de códigos](https://ftp.cdc.gov/pub/Health_Statistics/NCHS/Dataset_Documentation/NSFG/Cycle6Codebook-Female.pdf).\n",
        "\n",
        "* **¿Hay algún valor atipico que deba sustituirse por `NaN` u omitirse?**\n",
        "\n",
        "\n",
        "A continuación, cree un objeto `Pmf` y represéntelo en un gráfico de barras.\n",
        "\n",
        "* **¿La distribución es simétrica, sesgada hacia la izquierda o sesgada hacia la derecha?**"
      ],
      "metadata": {
        "id": "k0Eu9Px6eoOD"
      }
    },
    {
      "cell_type": "code",
      "source": [
        "# Tu codigo va aqui"
      ],
      "metadata": {
        "id": "KT36Jr08fHYA"
      },
      "execution_count": null,
      "outputs": []
    },
    {
      "cell_type": "code",
      "source": [
        "# Tu codigo va aqui"
      ],
      "metadata": {
        "id": "Z3kYw_mTV6Qt"
      },
      "execution_count": null,
      "outputs": []
    },
    {
      "cell_type": "code",
      "source": [
        "# Tu codigo va aqui"
      ],
      "metadata": {
        "id": "zZFmeCK6V6TV"
      },
      "execution_count": null,
      "outputs": []
    }
  ]
}