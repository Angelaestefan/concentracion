{
 "cells": [
  {
   "cell_type": "markdown",
   "metadata": {
    "id": "2w3Kswr_AVGe"
   },
   "source": [
    "# Modelado de distribuciones\n",
    "\n",
    "Las distribuciones que hemos utilizado hasta ahora se denominan distribuciones empíricas porque se basan en observaciones empíricas, es decir, en datos. Muchos conjuntos de datos que vemos en el mundo real pueden aproximarse estrechamente a una distribución teórica, que suele basarse en una función matemática simple.\n",
    "\n",
    "Como ejemplos, veremos que:\n",
    "\n",
    "*    En una **competición de tiro al plato**, el número de aciertos y fallos se modela bien mediante una **distribución binomial**.\n",
    "\n",
    "*    En deportes como el **hockey** y el **fútbol**, el número de goles en un partido sigue una **distribución de Poisson**, y el tiempo entre goles sigue una **distribución exponencial**.\n",
    "\n",
    "*    El **peso al nacer** sigue una **distribución normal**, también llamada gaussiana, y el **peso en la edad adulta** sigue una **distribución lognormal**.\n",
    "\n",
    "Para cada ejemplo, comenzaremos con una simulación basada en un modelo simple y mostraremos que los resultados de la simulación siguen una distribución teórica. A continuación, veremos en qué medida los datos reales concuerdan con el modelo."
   ]
  },
  {
   "cell_type": "code",
   "execution_count": 729,
   "metadata": {
    "id": "-CLKk8cV_aG9"
   },
   "outputs": [],
   "source": [
    "import numpy as np\n",
    "import pandas as pd\n",
    "import matplotlib.pyplot as plt"
   ]
  },
  {
   "cell_type": "markdown",
   "metadata": {
    "id": "__6ciWeHHax4"
   },
   "source": [
    "# Algunas Herramientas..."
   ]
  },
  {
   "cell_type": "code",
   "execution_count": 730,
   "metadata": {
    "id": "XjUZSWeMJ_Ca"
   },
   "outputs": [],
   "source": [
    "def from_seq(seq, name=None, normalize=True, sort=True, ascending=True, dropna=True, na_position=\"last\", convert_to=\"PMF\"):\n",
    "  \"\"\"Crea un PMF a partir de una secuencia de valores.\n",
    "  Args:\n",
    "      seq: iterable\n",
    "      normalize: si se debe normalizar la serie (i.e, Pmf), por defecto True\n",
    "      sort: si se debe ordenar la serie por valores, por defecto True\n",
    "      ascending: si se debe ordenar en orden ascendente, por defecto True\n",
    "      dropna: si se deben eliminar los valores NaN, por defecto True\n",
    "      na_position: si es 'first', coloca los NaNs al principio;\n",
    "                  si es 'last', coloca los NaNs al final.\n",
    "      convert_to: si es 'Freq', Crea una tabla de frecuencia;\n",
    "                  si es 'PMF' (default), crea una funcion de masa de probabilidad;\n",
    "                  si es 'CDF', crea una función de distribución acumulada.\n",
    "\n",
    "  Returns: pd.Series\n",
    "  \"\"\"\n",
    "  if convert_to == \"Freq\":\n",
    "    normalize=False\n",
    "\n",
    "  # compute the value counts\n",
    "  series = pd.Series(seq, name=name).value_counts(normalize=normalize, sort=sort, dropna=dropna)\n",
    "\n",
    "  # sort in place, if desired\n",
    "  if sort:\n",
    "    series.sort_index(inplace=True, ascending=ascending, na_position=na_position)\n",
    "\n",
    "  if convert_to == \"CDF\":\n",
    "    series = np.cumsum(series)\n",
    "\n",
    "  return series\n",
    "\n",
    "def get_qs(Tab):\n",
    "    \"\"\"Obtener las cantidades.\n",
    "\n",
    "    Returns: NumPy array\n",
    "    \"\"\"\n",
    "    return Tab.index.values\n",
    "\n",
    "def get_ps(Tab):\n",
    "    \"\"\"Obtener las probabilidades.\n",
    "\n",
    "    Returns: NumPy array\n",
    "    \"\"\"\n",
    "    return Tab.values\n",
    "\n",
    "def plot_bar(Tab, xlabel=\"x\", ylabel=\"y\", title=\"tittle\"):\n",
    "    \"\"\"Crea un gráfico de barras.\n",
    "\n",
    "    Args:\n",
    "        kwargs: se pasa a plt.bar\n",
    "    \"\"\"\n",
    "    qs = get_qs(Tab)\n",
    "    ps = get_ps(Tab)\n",
    "\n",
    "    plt.bar(qs, ps)\n",
    "\n",
    "    plt.xlabel(xlabel)\n",
    "    plt.ylabel(ylabel)\n",
    "    plt.title(title)\n",
    "\n",
    "def plot_two_bars(Tab, Tab2, labels=None, xlabel=\"x\", ylabel=\"y\", title=\"tittle\", width=0.45):\n",
    "    \"\"\"Crea un gráfico comparativo de dos barras.\n",
    "    Args:\n",
    "        Tab: PMF de distribucion que presuntamente se aproxima al comportamiento de los datos\n",
    "        Tab2: PMF de los datos a analisar\n",
    "        labels: Etiquetas a ser mostradas en el grafico, i.e., modelo y datos.\n",
    "        xlabel: Etiqueta a mostrar en el eje x\n",
    "        ylabel: Etiqueta a mostrar en el eje y\n",
    "        tittle: Titulo que aparecera en el grafico.\n",
    "    \"\"\"\n",
    "    plt.figure(figsize=(8, 5))\n",
    "\n",
    "    qs = get_qs(Tab)\n",
    "    ps = get_ps(Tab)\n",
    "\n",
    "    plt.bar(qs, ps, align=\"edge\", width=-width, label=labels[0])\n",
    "\n",
    "    qs = get_qs(Tab2)\n",
    "    ps = get_ps(Tab2)\n",
    "\n",
    "    plt.bar(qs, ps, align=\"edge\", width=width, label=labels[1])\n",
    "\n",
    "    plt.xlabel(xlabel)\n",
    "    plt.ylabel(ylabel)\n",
    "    plt.title(title)\n",
    "    plt.legend()\n",
    "    plt.grid(axis='y', linestyle='--', alpha=0.6)\n",
    "\n",
    "def plot_cdf_plots(cdf_model, cdf_data, labels=[\"model\", \"data\"], xlabel=\"x\", ylabel=\"CDF\", title=\"\"):\n",
    "    \"\"\"Crea un gráfico comparativo de dos CDFs.\n",
    "    Args:\n",
    "        cdf_model: CDF de distribucion que presuntamente se aproxima al comportamiento de los datos\n",
    "        cdf_data: CDF de los datos a analisar\n",
    "        labels: Etiquetas a ser mostradas en el grafico, i.e., modelo y datos.\n",
    "        xlabel: Etiqueta a mostrar en el eje x\n",
    "        ylabel: Etiqueta a mostrar en el eje y\n",
    "        tittle: Titulo que aparecera en el grafico.\n",
    "    \"\"\"\n",
    "    plt.figure(figsize=(8, 5))\n",
    "\n",
    "    plt.plot(get_qs(cdf_model),get_ps(cdf_model), linestyle=\":\", color=\"gray\", label=labels[0])\n",
    "    plt.plot(get_qs(cdf_data),get_ps(cdf_data), label=labels[1])\n",
    "\n",
    "    plt.xlabel(xlabel)\n",
    "    plt.ylabel(ylabel)\n",
    "    plt.title(title)\n",
    "    plt.legend()"
   ]
  },
  {
   "cell_type": "markdown",
   "metadata": {
    "id": "Jh6Uru9UBVRH"
   },
   "source": [
    "---\n",
    "\n",
    "## La distribución binomial\n",
    "\n",
    "Como primer ejemplo, consideraremos el deporte del [tiro al plato](https://en.wikipedia.org/wiki/Skeet_shooting), en el que los competidores utilizan escopetas para disparar a discos de arcilla que se lanzan al aire.\n",
    "En las competiciones internacionales, incluidas las Olimpiadas, hay cinco rondas con 25 blancos por ronda, con rondas adicionales según sea necesario para determinar un ganador.\n"
   ]
  },
  {
   "cell_type": "markdown",
   "metadata": {
    "id": "Dz7g5KI7BY9l"
   },
   "source": [
    "Como modelo, supongamos que todos los participantes tienen la misma probabilidad, `p`, de acertar en todos los blancos.\n",
    "\n",
    "<br>\n",
    "\n",
    "Por supuesto, este modelo es una simplificación: en realidad, algunos competidores tienen una probabilidad mayor que otros, e incluso para un mismo competidor, puede variar de un intento a otro.\n",
    "Pero, aunque no sea realista, este modelo hace algunas predicciones sorprendentemente precisas, como veremos.\n",
    "\n",
    "<br>\n",
    "\n",
    "Para simular el modelo, utilizaré la siguiente función, que toma el número de blancos (platos), `n`, y la probabilidad de acertar a cada uno, `p`, y devuelve una secuencia de 1 y 0 para indicar los aciertos y los fallos."
   ]
  },
  {
   "cell_type": "code",
   "execution_count": 731,
   "metadata": {
    "id": "koasZEKoA9jK"
   },
   "outputs": [],
   "source": [
    "def flip(n, p):\n",
    "    choices = [1, 0]\n",
    "    probs = [p, 1 - p]\n",
    "    return np.random.choice(choices, n, p=probs)"
   ]
  },
  {
   "cell_type": "code",
   "execution_count": 732,
   "metadata": {
    "id": "fdjC75H3DCS8"
   },
   "outputs": [],
   "source": [
    "# Inicializa el generador de números aleatorios para que obtengamos los mismos resultados cada vez.\n",
    "np.random.seed(1)"
   ]
  },
  {
   "cell_type": "markdown",
   "metadata": {
    "id": "8hMzYuSpDG2u"
   },
   "source": [
    "Aquí hay un ejemplo que simula una ronda de 25 objetivos en la que la probabilidad de acertar cada uno es del 90%."
   ]
  },
  {
   "cell_type": "code",
   "execution_count": 733,
   "metadata": {
    "id": "sOrFdnIDA9lJ"
   },
   "outputs": [
    {
     "data": {
      "text/plain": [
       "array([1, 1, 1, 1, 1, 1, 1, 1, 1, 1, 1, 1, 1, 1, 1, 1, 1, 1, 1, 1, 1, 0,\n",
       "       1, 1, 1])"
      ]
     },
     "execution_count": 733,
     "metadata": {},
     "output_type": "execute_result"
    }
   ],
   "source": [
    "objetivos = 25\n",
    "prob = 0.9\n",
    "\n",
    "flip(objetivos, prob)"
   ]
  },
  {
   "cell_type": "markdown",
   "metadata": {
    "id": "3-FxX5vRDS_G"
   },
   "source": [
    "Si generamos una secuencia más larga y calculamos la `Pmf` de los resultados, podemos confirmar que las proporciones de 1 y 0 son correctas, al menos aproximadamente."
   ]
  },
  {
   "cell_type": "code",
   "execution_count": 734,
   "metadata": {
    "id": "cHy03PiWN_oS"
   },
   "outputs": [
    {
     "data": {
      "text/plain": [
       "0    0.101\n",
       "1    0.899\n",
       "Name: proportion, dtype: float64"
      ]
     },
     "execution_count": 734,
     "metadata": {},
     "output_type": "execute_result"
    }
   ],
   "source": [
    "seq = flip(1000, 0.9)\n",
    "pmf = from_seq(seq, convert_to=\"PMF\")\n",
    "\n",
    "pmf"
   ]
  },
  {
   "cell_type": "markdown",
   "metadata": {
    "id": "vQbqsSn9C9xy"
   },
   "source": [
    "Ahora podemos usar la funcion `flip` para simular una sola ronda de tiro al plato y devolver el número de aciertos."
   ]
  },
  {
   "cell_type": "code",
   "execution_count": 735,
   "metadata": {
    "id": "i4f06OAIDv2A"
   },
   "outputs": [],
   "source": [
    "def simulate_round(n, p):\n",
    "    seq = flip(n, p)\n",
    "    return seq.sum()"
   ]
  },
  {
   "cell_type": "markdown",
   "metadata": {
    "id": "7DFzpHIEDNGo"
   },
   "source": [
    "En una competición grande, supongamos que 200 competidores disparan 5 rondas cada uno (200 $\\times$ 5 = 1,000 resultados), todos con la misma probabilidad de dar en el blanco, `p=0.9`.\n",
    "\n",
    "Podemos simular una competición como esa llamando a `simulate_round` 1000 veces."
   ]
  },
  {
   "cell_type": "code",
   "execution_count": 736,
   "metadata": {
    "id": "JQnlcYTyDU8J"
   },
   "outputs": [],
   "source": [
    "n = 25\n",
    "p = 0.9\n",
    "results_sim = [simulate_round(n, p) for i in range(1000)]"
   ]
  },
  {
   "cell_type": "code",
   "execution_count": 737,
   "metadata": {
    "id": "qSsm_10QDV45"
   },
   "outputs": [
    {
     "name": "stdout",
     "output_type": "stream",
     "text": [
      "Calculo: 22.522, Teorico: 22.5\n"
     ]
    }
   ],
   "source": [
    "print(f\"Calculo: {np.mean(results_sim).item()}, Teorico: {n * p}\")"
   ]
  },
  {
   "cell_type": "markdown",
   "metadata": {
    "id": "apzawaU9FZZ7"
   },
   "source": [
    "La puntuación media es cercana a `22.5`, que es el producto de `n` y `p`.\n",
    "\n",
    "Así es como se ve la distribución de los resultados."
   ]
  },
  {
   "cell_type": "code",
   "execution_count": 738,
   "metadata": {
    "id": "LEa_7w8vYjqh"
   },
   "outputs": [
    {
     "data": {
      "text/plain": [
       "17    0.001\n",
       "18    0.012\n",
       "19    0.019\n",
       "20    0.054\n",
       "21    0.142\n",
       "22    0.237\n",
       "23    0.256\n",
       "24    0.211\n",
       "25    0.068\n",
       "Name: proportion, dtype: float64"
      ]
     },
     "execution_count": 738,
     "metadata": {},
     "output_type": "execute_result"
    }
   ],
   "source": [
    "pmf_sim = from_seq(results_sim)\n",
    "pmf_sim"
   ]
  },
  {
   "cell_type": "code",
   "execution_count": 739,
   "metadata": {
    "id": "R-Y1Mk-rNGNG"
   },
   "outputs": [
    {
     "data": {
      "text/plain": [
       "Index([17, 18, 19, 20, 21, 22, 23, 24, 25], dtype='int64')"
      ]
     },
     "execution_count": 739,
     "metadata": {},
     "output_type": "execute_result"
    }
   ],
   "source": [
    "pmf_sim.index"
   ]
  },
  {
   "cell_type": "code",
   "execution_count": 740,
   "metadata": {
    "id": "cIU2LL_CaaFv"
   },
   "outputs": [
    {
     "data": {
      "text/plain": [
       "9"
      ]
     },
     "execution_count": 740,
     "metadata": {},
     "output_type": "execute_result"
    }
   ],
   "source": [
    "len(pmf_sim)"
   ]
  },
  {
   "cell_type": "code",
   "execution_count": 741,
   "metadata": {
    "id": "I1doL7JmJ_Gu"
   },
   "outputs": [
    {
     "data": {
      "image/png": "[encoded data removed]",
      "text/plain": [
       "<Figure size 640x480 with 1 Axes>"
      ]
     },
     "metadata": {},
     "output_type": "display_data"
    }
   ],
   "source": [
    "plot_bar(pmf_sim, xlabel='Hits', ylabel='PMF', title='Resultado de simulacion')\n",
    "plt.show()"
   ]
  },
  {
   "cell_type": "markdown",
   "metadata": {
    "id": "M3FxmhFBSTpE"
   },
   "source": [
    "El pico está cerca de la media (`22.5`) y la distribución está **sesgada hacia la izquierda**."
   ]
  },
  {
   "cell_type": "markdown",
   "metadata": {
    "id": "yHgwBnxXTAvD"
   },
   "source": [
    "En lugar de realizar una simulación, podríamos haber predicho esta distribución.\n",
    "Matemáticamente, la distribución de estos resultados sigue una **distribución binomial**, que tiene una PMF fácil de calcular.\n",
    "\n",
    "Recordemos que la función de masa de probabilidad (PMF) de una distribución binomial se expresa como:\n",
    "\n",
    "$$\n",
    "P(X = k) = \\binom{n}{k} p^k (1 - p)^{n - k}\n",
    "$$\n",
    "\n",
    "donde:\n",
    "\n",
    "- $P(X = k)$: probabilidad de obtener exactamente \\( k \\) éxitos en \\( n \\) ensayos,\n",
    "- $\\binom{n}{k} = \\frac{n!}{k!(n-k)!}$: coeficiente binomial,\n",
    "- $p$: probabilidad de éxito en un ensayo,\n",
    "- $(1 - p)$: probabilidad de fracaso,\n",
    "- $k$: número de éxitos deseados,\n",
    "- $n$: número total de ensayos."
   ]
  },
  {
   "cell_type": "markdown",
   "metadata": {
    "id": "3k5gvJePVX9B"
   },
   "source": [
    "La libreria `SciPy` proporciona la función `comb`, que calcula el número de combinaciones de `n` elementos tomando `k` a la vez.\n",
    "\n",
    "La funcion `binomial_pmf` calcula la probabilidad de obtener `k` aciertos de `n` intentos, dado `p`.\n",
    "Si llamamos a esta función con un rango de valores `k`, podemos crear un `Pmf` que represente la distribución de los resultados."
   ]
  },
  {
   "cell_type": "code",
   "execution_count": 742,
   "metadata": {
    "id": "_wAc6LXTDV-p"
   },
   "outputs": [],
   "source": [
    "from scipy.special import comb\n",
    "\n",
    "def binomial_pmf(k, n, p):\n",
    "    return comb(n, k) * (p**k) * ((1 - p) ** (n - k))"
   ]
  },
  {
   "cell_type": "code",
   "execution_count": 743,
   "metadata": {
    "id": "pJHK1dY_VXZZ"
   },
   "outputs": [
    {
     "data": {
      "text/plain": [
       "16    0.000379\n",
       "17    0.001804\n",
       "18    0.007215\n",
       "19    0.023924\n",
       "20    0.064594\n",
       "21    0.138415\n",
       "22    0.226497\n",
       "23    0.265888\n",
       "24    0.199416\n",
       "25    0.071790\n",
       "Name: binomial model, dtype: float64"
      ]
     },
     "execution_count": 743,
     "metadata": {},
     "output_type": "execute_result"
    }
   ],
   "source": [
    "ks = np.arange(16, n + 1)\n",
    "ps = binomial_pmf(ks, n, p)\n",
    "\n",
    "pmf_binom = pd.Series(data=ps, index=ks, name=\"binomial model\")\n",
    "pmf_binom"
   ]
  },
  {
   "cell_type": "code",
   "execution_count": 744,
   "metadata": {
    "id": "SF7uKhbev0QA"
   },
   "outputs": [
    {
     "data": {
      "text/plain": [
       "17    0.001\n",
       "18    0.012\n",
       "19    0.019\n",
       "20    0.054\n",
       "21    0.142\n",
       "22    0.237\n",
       "23    0.256\n",
       "24    0.211\n",
       "25    0.068\n",
       "Name: proportion, dtype: float64"
      ]
     },
     "execution_count": 744,
     "metadata": {},
     "output_type": "execute_result"
    }
   ],
   "source": [
    "pmf_sim"
   ]
  },
  {
   "cell_type": "markdown",
   "metadata": {
    "id": "CXh2qqEK3guD"
   },
   "source": [
    "Y así es como se ve en comparación con los resultados de la simulación."
   ]
  },
  {
   "cell_type": "code",
   "execution_count": 745,
   "metadata": {
    "id": "-HyikEF4YrqK"
   },
   "outputs": [
    {
     "data": {
      "text/plain": [
       "<Figure size 800x500 with 0 Axes>"
      ]
     },
     "metadata": {},
     "output_type": "display_data"
    },
    {
     "data": {
      "image/png": "[encoded data removed]",
      "text/plain": [
       "<Figure size 800x500 with 1 Axes>"
      ]
     },
     "metadata": {},
     "output_type": "display_data"
    }
   ],
   "source": [
    "plt.figure(figsize=(8, 5))\n",
    "\n",
    "plot_two_bars(pmf_sim, pmf_binom, labels=[\"resultados simulados\",\"modelo binomial\"], xlabel='Hits', ylabel='PMF', title='Resultado de simulacion')\n",
    "\n",
    "plt.show()"
   ]
  },
  {
   "cell_type": "markdown",
   "metadata": {
    "id": "bDpQ1TL33oQ-"
   },
   "source": [
    "Y así es como se ve en comparación con los resultados de la simulación.\n",
    "\n",
    "Son similares, con pequeñas diferencias debido a la variación aleatoria en los resultados de la simulación.\n",
    "Esta coincidencia no debería sorprender, ya que la simulación y el modelo se basan en los mismos supuestos, en particular el supuesto de que cada intento tiene la misma probabilidad de éxito.\n",
    "Una prueba más sólida de un modelo es cómo se compara con los datos reales.\n",
    "\n"
   ]
  },
  {
   "cell_type": "markdown",
   "metadata": {
    "id": "4Fi1rKHm3oTy"
   },
   "source": [
    "---\n",
    "\n",
    "# **EJEMPLO**\n",
    "\n",
    "\n",
    "De la página de Wikipedia sobre la competición masculina de tiro al plato en los Juegos Olímpicos de Verano de 2020, podemos extraer una tabla que muestra los resultados de las rondas de clasificación.\n",
    "Las instrucciones para descargar los datos se encuentran en este notebook, a continuacion:"
   ]
  },
  {
   "cell_type": "markdown",
   "metadata": {
    "id": "ooMRVIX_4-Ss"
   },
   "source": [
    "Descargar desde <https://en.wikipedia.org/wiki/Shooting_at_the_2020_Summer_Olympics_–_Men's_skeet>"
   ]
  },
  {
   "cell_type": "code",
   "execution_count": 746,
   "metadata": {
    "id": "kYTzMO-w3KZA"
   },
   "outputs": [
    {
     "data": {
      "text/html": [
       "<div>\n",
       "<style scoped>\n",
       "    .dataframe tbody tr th:only-of-type {\n",
       "        vertical-align: middle;\n",
       "    }\n",
       "\n",
       "    .dataframe tbody tr th {\n",
       "        vertical-align: top;\n",
       "    }\n",
       "\n",
       "    .dataframe thead th {\n",
       "        text-align: right;\n",
       "    }\n",
       "</style>\n",
       "<table border=\"1\" class=\"dataframe\">\n",
       "  <thead>\n",
       "    <tr style=\"text-align: right;\">\n",
       "      <th></th>\n",
       "      <th>Rank</th>\n",
       "      <th>Athlete</th>\n",
       "      <th>Country</th>\n",
       "      <th>1</th>\n",
       "      <th>2</th>\n",
       "      <th>3</th>\n",
       "      <th>4</th>\n",
       "      <th>5</th>\n",
       "      <th>Total[3]</th>\n",
       "      <th>Shoot-off</th>\n",
       "      <th>Notes</th>\n",
       "    </tr>\n",
       "  </thead>\n",
       "  <tbody>\n",
       "    <tr>\n",
       "      <th>0</th>\n",
       "      <td>1</td>\n",
       "      <td>Éric Delaunay</td>\n",
       "      <td>France</td>\n",
       "      <td>25</td>\n",
       "      <td>25</td>\n",
       "      <td>25</td>\n",
       "      <td>24</td>\n",
       "      <td>25</td>\n",
       "      <td>124</td>\n",
       "      <td>+6</td>\n",
       "      <td>Q, OR</td>\n",
       "    </tr>\n",
       "    <tr>\n",
       "      <th>1</th>\n",
       "      <td>2</td>\n",
       "      <td>Tammaro Cassandro</td>\n",
       "      <td>Italy</td>\n",
       "      <td>24</td>\n",
       "      <td>25</td>\n",
       "      <td>25</td>\n",
       "      <td>25</td>\n",
       "      <td>25</td>\n",
       "      <td>124</td>\n",
       "      <td>+5</td>\n",
       "      <td>Q, OR</td>\n",
       "    </tr>\n",
       "    <tr>\n",
       "      <th>2</th>\n",
       "      <td>3</td>\n",
       "      <td>Eetu Kallioinen</td>\n",
       "      <td>Finland</td>\n",
       "      <td>25</td>\n",
       "      <td>25</td>\n",
       "      <td>24</td>\n",
       "      <td>25</td>\n",
       "      <td>24</td>\n",
       "      <td>123</td>\n",
       "      <td>NaN</td>\n",
       "      <td>Q</td>\n",
       "    </tr>\n",
       "    <tr>\n",
       "      <th>3</th>\n",
       "      <td>4</td>\n",
       "      <td>Vincent Hancock</td>\n",
       "      <td>United States</td>\n",
       "      <td>25</td>\n",
       "      <td>25</td>\n",
       "      <td>25</td>\n",
       "      <td>25</td>\n",
       "      <td>22</td>\n",
       "      <td>122</td>\n",
       "      <td>+8</td>\n",
       "      <td>Q</td>\n",
       "    </tr>\n",
       "    <tr>\n",
       "      <th>4</th>\n",
       "      <td>5</td>\n",
       "      <td>Abdullah Al-Rashidi</td>\n",
       "      <td>Kuwait</td>\n",
       "      <td>25</td>\n",
       "      <td>25</td>\n",
       "      <td>24</td>\n",
       "      <td>25</td>\n",
       "      <td>23</td>\n",
       "      <td>122</td>\n",
       "      <td>+7</td>\n",
       "      <td>Q</td>\n",
       "    </tr>\n",
       "  </tbody>\n",
       "</table>\n",
       "</div>"
      ],
      "text/plain": [
       "   Rank              Athlete        Country   1   2   3   4   5 Total[3]  \\\n",
       "0     1        Éric Delaunay         France  25  25  25  24  25      124   \n",
       "1     2    Tammaro Cassandro          Italy  24  25  25  25  25      124   \n",
       "2     3      Eetu Kallioinen        Finland  25  25  24  25  24      123   \n",
       "3     4      Vincent Hancock  United States  25  25  25  25  22      122   \n",
       "4     5  Abdullah Al-Rashidi         Kuwait  25  25  24  25  23      122   \n",
       "\n",
       "  Shoot-off  Notes  \n",
       "0        +6  Q, OR  \n",
       "1        +5  Q, OR  \n",
       "2       NaN      Q  \n",
       "3        +8      Q  \n",
       "4        +7      Q  "
      ]
     },
     "execution_count": 746,
     "metadata": {},
     "output_type": "execute_result"
    }
   ],
   "source": [
    "link = \"https://en.wikipedia.org/wiki/Shooting_at_the_2020_Summer_Olympics_%E2%80%93_Men%27s_skeet\"\n",
    "\n",
    "tables = pd.read_html(link)\n",
    "table = tables[6]\n",
    "table.head()"
   ]
  },
  {
   "cell_type": "markdown",
   "metadata": {
    "id": "yg_qKJfGCBeQ"
   },
   "source": [
    "## Objetivo\n",
    "\n",
    "La idea de este ejercicio es verificar si con una **distribución binomial teorica** podemos aproximarnos a la distribucion empírica del número de aciertos/fallos en una **competición de tiro al plato**\n",
    "\n",
    "<br>\n",
    "\n",
    "Para esto necesitaremos:\n",
    "- Procesar los datos para obtener la informacion requerida.\n",
    "- Calcular la probabilidad empirica de exito para modelar su distribucion.\n",
    "- Comparar la distribuciones (teorica y empirica) para verificar/rechazar la aproximacion."
   ]
  },
  {
   "cell_type": "markdown",
   "metadata": {
    "id": "XGsPV65G58bm"
   },
   "source": [
    "La tabla tiene una fila para cada competidor, con una columna para cada una de las cinco rondas (1, 2, 3, 4, 5).\n",
    "\n",
    "<br>\n",
    "\n",
    "Selecciona sola las columnas que contienen estos resultados (1, 2, 3, 4, 5) y utiliza la función de `NumPy` llamada `flatten` para transformar la tabla de rondas en un solo vector."
   ]
  },
  {
   "cell_type": "code",
   "execution_count": 747,
   "metadata": {
    "id": "TEl7BTik6Gp2"
   },
   "outputs": [
    {
     "name": "stdout",
     "output_type": "stream",
     "text": [
      "Tamaño: (150,)\n"
     ]
    },
    {
     "data": {
      "text/plain": [
       "array([25, 25, 25, 24, 25, 24, 25, 25, 25, 25, 25, 25, 24, 25, 24, 25, 25,\n",
       "       25, 25, 22, 25, 25, 24, 25, 23, 25, 24, 23, 25, 25, 24, 25, 25, 25,\n",
       "       23, 24, 24, 25, 25, 24, 25, 24, 24, 25, 24, 23, 25, 24, 24, 25, 23,\n",
       "       25, 24, 24, 25, 24, 25, 24, 23, 25, 24, 25, 24, 24, 24, 25, 24, 25,\n",
       "       23, 24, 24, 24, 23, 24, 25, 24, 24, 23, 24, 25, 25, 23, 25, 23, 24,\n",
       "       24, 25, 24, 23, 24, 25, 24, 24, 24, 23, 23, 24, 23, 24, 25, 25, 25,\n",
       "       23, 22, 24, 24, 24, 23, 25, 23, 25, 24, 23, 24, 23, 24, 23, 23, 23,\n",
       "       24, 25, 24, 22, 23, 23, 25, 23, 23, 22, 23, 23, 23, 23, 22, 23, 23,\n",
       "       25, 23, 24, 19, 23, 22, 22, 25, 20, 21, 22, 22, 23, 19])"
      ]
     },
     "execution_count": 747,
     "metadata": {},
     "output_type": "execute_result"
    }
   ],
   "source": [
    "columns = [\"1\", \"2\", \"3\", \"4\", \"5\"]\n",
    "results = table[columns].values.flatten()\n",
    "print(\"Tamaño:\", results.shape)\n",
    "results"
   ]
  },
  {
   "cell_type": "markdown",
   "metadata": {
    "id": "dg7dXpmA58d7"
   },
   "source": [
    "Con 5 rondas para cada uno de los 30 competidores, deberiamos obtener un vector de 150 rondas totales\n",
    "\n",
    "<br>\n",
    "\n",
    "Dados los resultados de estas 150 rondas de 25 tiros cada una,\n",
    "\n",
    "Calcule la tasa de éxito global, para esto:\n",
    "- Calcule la cantidad de puntos/aciertos maximos se pueden obtener en el total de las rondas.\n",
    "- Calcule la cantidad de puntos/aciertos que se obtuvieron en las rondas."
   ]
  },
  {
   "cell_type": "code",
   "execution_count": 748,
   "metadata": {
    "id": "kvm2_tGx9XgX"
   },
   "outputs": [
    {
     "data": {
      "text/plain": [
       "(25, 3750, 3581)"
      ]
     },
     "execution_count": 748,
     "metadata": {},
     "output_type": "execute_result"
    }
   ],
   "source": [
    "total_shots = 25 * len(results) # Aciertos maximos posibles\n",
    "total_hits = results.sum() # Aciertos obtenidos\n",
    "\n",
    "n, total_shots, total_hits.item()"
   ]
  },
  {
   "cell_type": "markdown",
   "metadata": {
    "id": "UHNdOXPg58gg"
   },
   "source": [
    "Por lo tanto, el calculo de la tasa de éxito global es del ___ %. Guardelo en una variable `p`."
   ]
  },
  {
   "cell_type": "code",
   "execution_count": 749,
   "metadata": {
    "id": "UU6g97ey94YP"
   },
   "outputs": [
    {
     "data": {
      "text/plain": [
       "0.9549333333333333"
      ]
     },
     "execution_count": 749,
     "metadata": {},
     "output_type": "execute_result"
    }
   ],
   "source": [
    "p = total_hits / total_shots\n",
    "p.item()"
   ]
  },
  {
   "cell_type": "markdown",
   "metadata": {
    "id": "6f77TLyO58lM"
   },
   "source": [
    "Ahora calculemos una **función de masa de probabilidad** (Pmf), definida anteriormente `binomial_pmf(k, n, p)`, que represente la distribución binomial de una ronda `n=25` y el valor de `p` que acabamos de calcular.\n",
    "\n",
    "<br>\n",
    "\n",
    "Convierta el resultado en una `Series` de la libreria `pandas`.\n",
    "\n"
   ]
  },
  {
   "cell_type": "code",
   "execution_count": 750,
   "metadata": {
    "id": "J_WyAZso_t6R"
   },
   "outputs": [
    {
     "data": {
      "text/plain": [
       "16    7.490845e-07\n",
       "17    8.403149e-06\n",
       "18    7.913655e-05\n",
       "19    6.177876e-04\n",
       "20    3.927155e-03\n",
       "21    1.981282e-02\n",
       "22    7.633106e-02\n",
       "23    2.109659e-01\n",
       "24    3.725193e-01\n",
       "25    3.157376e-01\n",
       "Name: modelo binomial, dtype: float64"
      ]
     },
     "execution_count": 750,
     "metadata": {},
     "output_type": "execute_result"
    }
   ],
   "source": [
    "#ks = np.arange(16, n + 1)\n",
    "\n",
    "ps = binomial_pmf(ks, n, p)\n",
    "\n",
    "pmf_binom = pd.Series(data=ps, index=ks, name=\"modelo binomial\")\n",
    "pmf_binom"
   ]
  },
  {
   "cell_type": "markdown",
   "metadata": {
    "id": "C4VAj49w_ULU"
   },
   "source": [
    "Y podemos compararla con la `Pmf` de los **resultados reales**. No olvides convertir los resultados reales en una `Series` de la libreria `pandas`, `from_seq`. Posteriormente, grafique en conjunto los resultados reales y el modelo binomial, `plot_two_bars`."
   ]
  },
  {
   "cell_type": "code",
   "execution_count": 751,
   "metadata": {
    "id": "IZPxuypiMYZ3"
   },
   "outputs": [
    {
     "data": {
      "text/plain": [
       "resultados reales\n",
       "19    0.013333\n",
       "20    0.006667\n",
       "21    0.006667\n",
       "22    0.060000\n",
       "23    0.240000\n",
       "24    0.326667\n",
       "25    0.346667\n",
       "Name: proportion, dtype: float64"
      ]
     },
     "execution_count": 751,
     "metadata": {},
     "output_type": "execute_result"
    }
   ],
   "source": [
    "pmf_results = from_seq(results, name=\"resultados reales\", convert_to=\"PMF\")\n",
    "pmf_results"
   ]
  },
  {
   "cell_type": "code",
   "execution_count": 752,
   "metadata": {
    "id": "S_GH7ylePapo"
   },
   "outputs": [
    {
     "data": {
      "text/plain": [
       "<Figure size 800x500 with 0 Axes>"
      ]
     },
     "metadata": {},
     "output_type": "display_data"
    },
    {
     "data": {
      "image/png": "[encoded data removed]",
      "text/plain": [
       "<Figure size 800x500 with 1 Axes>"
      ]
     },
     "metadata": {},
     "output_type": "display_data"
    }
   ],
   "source": [
    "plt.figure(figsize=(8, 5))\n",
    "\n",
    "plot_two_bars(pmf_results, pmf_binom, labels=[\"resultados simulados\",\"modelo binomial\"], xlabel='Hits', ylabel='PMF', title='Comparacion')\n",
    "\n",
    "plt.show()"
   ]
  },
  {
   "cell_type": "markdown",
   "metadata": {
    "id": "-oL6MZbjTwuP"
   },
   "source": [
    "Menciona que tan bien se ajusta nuestro modelo a la distribucion de los datos, considerando que **parte de la hipótesis poco realista de que todos los competidores tienen la misma capacidad**, que no varía."
   ]
  },
  {
   "cell_type": "markdown",
   "metadata": {
    "id": "if_ODnghT_ex"
   },
   "source": [
    "```\n",
    "Son similares, con pequeñas diferencias debido a la variación aleatoria en los\n",
    "resultados de la simulación. Esta coincidencia no debería sorprender, ya que la\n",
    "simulación y el modelo se basan en los mismos supuestos, en particular el\n",
    "supuesto de que cada intento tiene la misma probabilidad de éxito. Una prueba\n",
    "más sólida de un modelo es cómo se compara con los datos reales.\n",
    "```"
   ]
  },
  {
   "cell_type": "code",
   "execution_count": 753,
   "metadata": {
    "id": "7Q2fcNWfks_k"
   },
   "outputs": [],
   "source": [
    "def qqplot(modelo, data):\n",
    "  # Número de muestras sintéticas a generar\n",
    "  n_samples = 1_000\n",
    "\n",
    "  # Generar muestras a partir de las PMF\n",
    "  prob_model = get_ps(modelo)\n",
    "  prob_model /= prob_model.sum()\n",
    "\n",
    "  prob_data = get_ps(data)\n",
    "  prob_data /= prob_data.sum()\n",
    "\n",
    "  modelo_sample = np.random.choice(get_qs(modelo), size=n_samples, p=prob_model)\n",
    "  data_sample = np.random.choice(get_qs(data), size=n_samples, p=prob_data)\n",
    "\n",
    "  # Ordenar las muestras\n",
    "  modelo_sorted = np.sort(modelo_sample)\n",
    "  data_sorted = np.sort(data_sample)\n",
    "\n",
    "  # Crear el QQ-plot comparando cuantiles de ambas muestras\n",
    "  plt.figure(figsize=(9, 9))\n",
    "  plt.plot(modelo_sorted, data_sorted, 'o', label=\"Quantile pairs\")\n",
    "  plt.plot([min(modelo_sample.min(), data_sample.min()), max(modelo_sample.max(), data_sample.max())],\n",
    "           [min(modelo_sample.min(), data_sample.min()), max(modelo_sample.max(), data_sample.max())],\n",
    "           'r--', label=\"Línea de 45°\")\n",
    "  plt.xlabel(\"Theoretical Quantiles\")\n",
    "  plt.ylabel(\"Sample Quantiles\")\n",
    "  plt.title(\"QQ-Plot: Comparación de dos distribuciones\")\n",
    "  plt.legend()\n",
    "  plt.grid(True)\n",
    "\n"
   ]
  },
  {
   "cell_type": "code",
   "execution_count": 754,
   "metadata": {
    "id": "XooeofVGiCI_"
   },
   "outputs": [
    {
     "data": {
      "image/png": "[encoded data removed]",
      "text/plain": [
       "<Figure size 900x900 with 1 Axes>"
      ]
     },
     "metadata": {},
     "output_type": "display_data"
    }
   ],
   "source": [
    "qqplot(pmf_binom, pmf_results)"
   ]
  },
  {
   "cell_type": "markdown",
   "metadata": {
    "id": "Mg4jTIS1UIgo"
   },
   "source": [
    "---\n",
    "---\n",
    "## La distribución de Poisson\n",
    "\n",
    "Como otro ejemplo en el que los resultados de los eventos deportivos siguen patrones predecibles, veamos el número de goles marcados en los partidos de hockey sobre hielo.\n",
    "\n",
    "Comenzaremos simulando un partido de `60` minutos, es decir, `3600` segundos, suponiendo que los equipos marcan un total de `6` goles por partido, de media, y que la probabilidad de marcar un gol, `p`,  es la misma durante cualquier segundo."
   ]
  },
  {
   "cell_type": "code",
   "execution_count": 755,
   "metadata": {
    "id": "t6Dzznt6R_Oi"
   },
   "outputs": [
    {
     "data": {
      "text/plain": [
       "0.0016666666666666668"
      ]
     },
     "execution_count": 755,
     "metadata": {},
     "output_type": "execute_result"
    }
   ],
   "source": [
    "n = 3600\n",
    "m = 6\n",
    "p = m / 3600\n",
    "p"
   ]
  },
  {
   "cell_type": "markdown",
   "metadata": {
    "id": "zWPolZaEVxva"
   },
   "source": [
    "Ahora podemos utilizar la siguiente función para simular `n` segundos y devolver el número total de goles marcados."
   ]
  },
  {
   "cell_type": "code",
   "execution_count": 756,
   "metadata": {
    "id": "HvstMIHQVyCh"
   },
   "outputs": [],
   "source": [
    "def simulate_goals(n, p):\n",
    "    return flip(n, p).sum()"
   ]
  },
  {
   "cell_type": "markdown",
   "metadata": {
    "id": "uPVo4oupWA0H"
   },
   "source": [
    "Si simulamos muchos partidos (`1,001`), podemos confirmar que el número medio de goles por partido es cercano a `6`."
   ]
  },
  {
   "cell_type": "code",
   "execution_count": 757,
   "metadata": {
    "id": "1EurAlZPWA46"
   },
   "outputs": [
    {
     "data": {
      "text/plain": [
       "np.float64(6.01998001998002)"
      ]
     },
     "execution_count": 757,
     "metadata": {},
     "output_type": "execute_result"
    }
   ],
   "source": [
    "goals = [simulate_goals(n, p) for i in range(1001)]\n",
    "np.mean(goals)"
   ]
  },
  {
   "cell_type": "markdown",
   "metadata": {
    "id": "PDJU5No_WMEH"
   },
   "source": [
    "Podríamos utilizar la `distribución binomial` para modelar estos resultados, pero cuando `n` es grande y `p` es pequeño, los resultados también se modelan bien mediante una `distribución de Poisson`, que se especifica mediante un valor que suele denotarse con la letra griega `λ`, que se pronuncia **lambda** y se representa en el código con la variable `lam` (`lambda` no es un nombre de variable válido porque es una palabra clave de Python).\n",
    "`lam` representa la tasa de goles marcados, que en el ejemplo es de 6 goles por partido.\n",
    "\n",
    "<br>\n",
    "\n",
    "La `PMF` de la **distribución de Poisson** es fácil de calcular: dado `lam`, podemos utilizar la siguiente función para calcular la probabilidad de ver `k` goles en un partido."
   ]
  },
  {
   "cell_type": "code",
   "execution_count": 758,
   "metadata": {
    "id": "pFsViWLzWgzg"
   },
   "outputs": [],
   "source": [
    "from scipy.special import factorial\n",
    "\n",
    "\n",
    "def poisson_pmf(k, lam):\n",
    "    \"\"\"Calcula la función de probabilidad de Poisson.\n",
    "\n",
    "    k (int o tipo matriz): El número de ocurrencias.\n",
    "    lam (float): El parámetro de tasa (λ) de la distribución de Poisson.\n",
    "\n",
    "    Devuelve: float o matriz de dimensiones variables.\n",
    "    \"\"\"\n",
    "    return (lam**k) * np.exp(-lam) / factorial(k)"
   ]
  },
  {
   "cell_type": "markdown",
   "metadata": {
    "id": "Z8VtIsCRW3tK"
   },
   "source": [
    "La libreria `SciPy` proporciona la función `factorial`, que calcula el producto de los números enteros desde `1` hasta `k`.\n",
    "\n",
    "Si llamamos a `poisson_pmf` con un rango de valores `k`, podemos crear una `Pmf` que represente la distribución de los resultados."
   ]
  },
  {
   "cell_type": "code",
   "execution_count": 759,
   "metadata": {
    "id": "UN6HH9ctW6Jr"
   },
   "outputs": [
    {
     "data": {
      "text/plain": [
       "0     0.002479\n",
       "1     0.014873\n",
       "2     0.044618\n",
       "3     0.089235\n",
       "4     0.133853\n",
       "5     0.160623\n",
       "6     0.160623\n",
       "7     0.137677\n",
       "8     0.103258\n",
       "9     0.068838\n",
       "10    0.041303\n",
       "11    0.022529\n",
       "12    0.011264\n",
       "13    0.005199\n",
       "14    0.002228\n",
       "15    0.000891\n",
       "16    0.000334\n",
       "17    0.000118\n",
       "18    0.000039\n",
       "19    0.000012\n",
       "Name: modelo Poisson, dtype: float64"
      ]
     },
     "execution_count": 759,
     "metadata": {},
     "output_type": "execute_result"
    }
   ],
   "source": [
    "lam = 6\n",
    "ks = np.arange(20)\n",
    "ps = poisson_pmf(ks, lam)\n",
    "\n",
    "pmf_poisson = pd.Series(data=ps, index=ks, name=\"modelo Poisson\")\n",
    "pmf_poisson"
   ]
  },
  {
   "cell_type": "markdown",
   "metadata": {
    "id": "1Qc5xl7-XlbI"
   },
   "source": [
    "Podemos confirmar que la `media` de la distribución es cercana a `6`. Recuerde el `valor esperado`."
   ]
  },
  {
   "cell_type": "code",
   "execution_count": 760,
   "metadata": {
    "id": "SyxunZBTXHox"
   },
   "outputs": [
    {
     "data": {
      "text/plain": [
       "5.999894417747437"
      ]
     },
     "execution_count": 760,
     "metadata": {},
     "output_type": "execute_result"
    }
   ],
   "source": [
    "np.sum(get_ps(pmf_poisson) * get_qs(pmf_poisson)).item()"
   ]
  },
  {
   "cell_type": "markdown",
   "metadata": {
    "id": "cCEyus1BW7hd"
   },
   "source": [
    "La siguiente figura compara los resultados de la simulación con la distribución de Poisson con la misma media."
   ]
  },
  {
   "cell_type": "code",
   "execution_count": 761,
   "metadata": {
    "id": "ht_xheLLbA4n"
   },
   "outputs": [
    {
     "data": {
      "text/plain": [
       "0     0.002997\n",
       "1     0.011988\n",
       "2     0.046953\n",
       "3     0.079920\n",
       "4     0.133866\n",
       "5     0.166833\n",
       "6     0.163836\n",
       "7     0.145854\n",
       "8     0.090909\n",
       "9     0.069930\n",
       "10    0.049950\n",
       "11    0.015984\n",
       "12    0.008991\n",
       "13    0.007992\n",
       "14    0.002997\n",
       "15    0.000999\n",
       "Name: proportion, dtype: float64"
      ]
     },
     "execution_count": 761,
     "metadata": {},
     "output_type": "execute_result"
    }
   ],
   "source": [
    "pmf_sim = from_seq(goals)\n",
    "pmf_sim"
   ]
  },
  {
   "cell_type": "code",
   "execution_count": 762,
   "metadata": {
    "id": "BwnW8KHKXr2D"
   },
   "outputs": [
    {
     "data": {
      "text/plain": [
       "<Figure size 800x500 with 0 Axes>"
      ]
     },
     "metadata": {},
     "output_type": "display_data"
    },
    {
     "data": {
      "image/png": "[encoded data removed]",
      "text/plain": [
       "<Figure size 800x500 with 1 Axes>"
      ]
     },
     "metadata": {},
     "output_type": "display_data"
    }
   ],
   "source": [
    "plt.figure(figsize=(8, 5))\n",
    "\n",
    "plot_two_bars(pmf_sim, pmf_poisson, labels=[\"Simulacion\",\"modelo Poisson\"], xlabel='Goals', ylabel='PMF', title='Comparacion')\n",
    "\n",
    "plt.show()"
   ]
  },
  {
   "cell_type": "markdown",
   "metadata": {
    "id": "FYJoO9QYZoFt"
   },
   "source": [
    "Las distribuciones son similares, salvo por pequeñas diferencias debidas a variaciones aleatorias.\n",
    "Esto no debería sorprender, ya que la simulación y el modelo de Poisson se basan en la misma hipótesis de que la probabilidad de marcar un gol es la misma durante cualquier segundo del partido.\n",
    "Por lo tanto, una prueba más rigurosa consiste en comprobar en qué medida el modelo se ajusta a los datos reales."
   ]
  },
  {
   "cell_type": "markdown",
   "metadata": {
    "id": "-RRuEsKYZoNV"
   },
   "source": [
    "---\n",
    "\n",
    "# **EJERCICIO**\n",
    "\n",
    "Desde `HockeyReference`, descargué los resultados de todos los partidos de la temporada regular 2023-2024 de la Liga Nacional de Hockey (NHL) (sin incluir los playoffs).\n",
    "\n",
    "Se extrajo información sobre los goles marcados durante los 60 minutos de juego reglamentario, sin incluir las prórrogas ni los tiros penales para desempatar.\n",
    "\n",
    "Los resultados se encuentran en un archivo HDF con una clave para cada partido y una lista de tiempos, en segundos desde el comienzo del partido, en los que se marcó un gol."
   ]
  },
  {
   "cell_type": "markdown",
   "metadata": {
    "id": "elis_9XzdbdY"
   },
   "source": [
    "Data original descargada de <https://www.hockey-reference.com/leagues/NHL_2024_games.html>"
   ]
  },
  {
   "cell_type": "markdown",
   "metadata": {
    "id": "wQ97J29zdzNM"
   },
   "source": [
    "Así es como leemos las claves del archivo."
   ]
  },
  {
   "cell_type": "code",
   "execution_count": 763,
   "metadata": {
    "id": "ENRwjaJiexPi"
   },
   "outputs": [
    {
     "name": "stdout",
     "output_type": "stream",
     "text": [
      "Partidos:  1312\n",
      "\n",
      "Primeros 5 partidos:\n",
      "/202310100PIT\n",
      "/202310100TBL\n",
      "/202310100VEG\n",
      "/202310110BOS\n",
      "/202310110CAR\n"
     ]
    }
   ],
   "source": [
    "import requests\n",
    "\n",
    "# URL del archivo\n",
    "url = \"https://github.com/AllenDowney/ThinkStats/raw/v3/data/nhl_2023_2024.hdf\"\n",
    "filename = \"nhl_2023_2024.hdf\"  # Nombre local donde se guardará\n",
    "\n",
    "# Descargar el archivo\n",
    "response = requests.get(url)\n",
    "with open(filename, \"wb\") as f:\n",
    "    f.write(response.content)\n",
    "\n",
    "# Abrir el archivo y obtener las claves (keys)\n",
    "with pd.HDFStore(filename, \"r\") as store:\n",
    "    keys = store.keys()\n",
    "\n",
    "print(\"Partidos: \", len(keys))\n",
    "print(\"\\nPrimeros 5 partidos:\")\n",
    "for i in range(5):\n",
    "  print(keys[i])"
   ]
  },
  {
   "cell_type": "markdown",
   "metadata": {
    "id": "ZLrg_RDjd8ul"
   },
   "source": [
    "Hubo `1,312` partidos durante la temporada regular.\n",
    "\n",
    "Cada clave contiene la fecha del partido y una abreviatura de tres letras para el equipo local.\n",
    "\n",
    "Podemos usar `read_hdf` de la libreria `pandas` para buscar una clave y obtener la lista de veces que se marcó un gol."
   ]
  },
  {
   "cell_type": "code",
   "execution_count": 764,
   "metadata": {
    "id": "_VMdLSjld813"
   },
   "outputs": [
    {
     "data": {
      "text/plain": [
       "0     424\n",
       "1    1916\n",
       "2    2137\n",
       "3    3005\n",
       "4    3329\n",
       "5    3513\n",
       "dtype: int64"
      ]
     },
     "execution_count": 764,
     "metadata": {},
     "output_type": "execute_result"
    }
   ],
   "source": [
    "times = pd.read_hdf(filename, key=keys[0])\n",
    "times"
   ]
  },
  {
   "cell_type": "markdown",
   "metadata": {
    "id": "sI_qluUMd89d"
   },
   "source": [
    "En el primer partido de la temporada se marcaron `6 goles`, el primero tras `424 segundos` de juego y el último tras `3513 segundos`, cuando solo quedaban `87 segundos` para el final del partido.\n",
    "\n",
    "---\n",
    "\n"
   ]
  },
  {
   "cell_type": "code",
   "execution_count": 765,
   "metadata": {
    "id": "Yf9Wv-ead9F7"
   },
   "outputs": [
    {
     "data": {
      "text/plain": [
       "87"
      ]
     },
     "execution_count": 765,
     "metadata": {},
     "output_type": "execute_result"
    }
   ],
   "source": [
    "(3600 - times[5]).item()"
   ]
  },
  {
   "cell_type": "markdown",
   "metadata": {
    "id": "TB4DMYbtiFEE"
   },
   "source": [
    "Utiliza un bucle que lea los resultados de todos los partidos (`keys`), utiliza la funcion `read_hdf` para poder leer del archivo los datos de cada juego en `keys`.\n",
    "\n",
    "```\n",
    "pd.read_hdf(filename, key=keys)\n",
    "```\n",
    "donde keys es cada uno de los partidos, por ejemplo:\n",
    "```\n",
    "/202310100PIT\n",
    "/202310100TBL\n",
    "/202310100VEG\n",
    "/202310110BOS\n",
    "/202310110CAR\n",
    "```\n",
    "\n",
    "cuenta el número de goles en cada uno y almacena los resultados en una lista, `goals`."
   ]
  },
  {
   "cell_type": "code",
   "execution_count": 766,
   "metadata": {
    "id": "t4Z6hGfvjCog"
   },
   "outputs": [],
   "source": [
    "# Tu codigo va aqui\n",
    "goals = []\n",
    "for key in keys:\n",
    "    times = pd.read_hdf(filename, key=key)\n",
    "    goals.append(len(times))\n",
    "    \n",
    "\n"
   ]
  },
  {
   "cell_type": "markdown",
   "metadata": {
    "id": "tjJX9R5XiS-w"
   },
   "source": [
    "Confirma que el promedio de goles en `goals` por partido sea alrededor de lo sospechado."
   ]
  },
  {
   "cell_type": "code",
   "execution_count": 767,
   "metadata": {
    "id": "xKRIC14Djrlw"
   },
   "outputs": [
    {
     "name": "stdout",
     "output_type": "stream",
     "text": [
      "6.0182926829268295\n"
     ]
    }
   ],
   "source": [
    "# Tu codigo va aqui\n",
    "goals = np.array(goals)\n",
    "goals_mean= goals.mean()\n",
    "print(goals_mean)"
   ]
  },
  {
   "cell_type": "markdown",
   "metadata": {
    "id": "81rteYvxjhm9"
   },
   "source": [
    "Podemos utilizar `poisson_pmf` para crear una `Pmf` (convertir en una `Series`) que represente una distribución de Poisson con la misma `media` que los datos."
   ]
  },
  {
   "cell_type": "code",
   "execution_count": 768,
   "metadata": {
    "id": "bUHFwxPQjsha"
   },
   "outputs": [
    {
     "data": {
      "text/plain": [
       "0     0.002434\n",
       "1     0.014647\n",
       "2     0.044076\n",
       "3     0.088421\n",
       "4     0.133036\n",
       "5     0.160130\n",
       "6     0.160619\n",
       "7     0.138093\n",
       "8     0.103885\n",
       "9     0.069468\n",
       "10    0.041808\n",
       "11    0.022874\n",
       "12    0.011472\n",
       "13    0.005311\n",
       "14    0.002283\n",
       "15    0.000916\n",
       "16    0.000345\n",
       "17    0.000122\n",
       "Name: modelo Poisson, dtype: float64"
      ]
     },
     "execution_count": 768,
     "metadata": {},
     "output_type": "execute_result"
    }
   ],
   "source": [
    "# Tu codigo va aqui\n",
    "lam = goals_mean\n",
    "ks = np.arange(goals.min(), goals.max() + 1)\n",
    "ps = poisson_pmf(ks, lam)\n",
    "poisson_dist = pd.Series(data=ps, index=ks, name=\"modelo Poisson\")\n",
    "poisson_dist"
   ]
  },
  {
   "cell_type": "markdown",
   "metadata": {
    "id": "v557-mXUjh8_"
   },
   "source": [
    "Compara con la `Pmf` de los **resultados reales**, puedes utilizar `from_seq`, y grafique en conjunto los resultados reales y el modelo Poisson, `plot_two_bars`.\n",
    "\n",
    "Nombra la variable que contenga el pmf de los **resultados reales** como `pmf_goals`.\n",
    "\n"
   ]
  },
  {
   "cell_type": "code",
   "execution_count": 769,
   "metadata": {},
   "outputs": [
    {
     "data": {
      "text/plain": [
       "<Figure size 800x500 with 0 Axes>"
      ]
     },
     "metadata": {},
     "output_type": "display_data"
    },
    {
     "data": {
      "image/png": "[encoded data removed]",
      "text/plain": [
       "<Figure size 800x500 with 1 Axes>"
      ]
     },
     "metadata": {},
     "output_type": "display_data"
    }
   ],
   "source": [
    "# Tu codigo va aqui\n",
    "pmf_goals = from_seq(goals, name=\"resultados reales\", convert_to=\"PMF\")\n",
    "\n",
    "plt.figure(figsize=(8, 5))\n",
    "plot_two_bars(pmf_goals, poisson_dist, labels=[\"resultados reales\", \"modelo Poisson\"], xlabel='Goles', ylabel='PMF', title='Comparación')\n",
    "plt.show()"
   ]
  },
  {
   "cell_type": "markdown",
   "metadata": {
    "id": "gknKp7c0ptDd"
   },
   "source": [
    "Menciona que tan bien se ajusta nuestro modelo a la distribucion de los datos"
   ]
  },
  {
   "cell_type": "markdown",
   "metadata": {
    "id": "Tu8xlSc4ptDd"
   },
   "source": [
    "```\n",
    "# Tu respuesta va aqui\n",
    "El modelo de Poisson sigue la misma forma general de los datos reales. La media parece estar capturada bien por el modelo aunque exiten algunas diferencias notables ya que los datos reales muestran  una variablidad ligeramente mayor a la del modelo y existen algunas discrepancias en la frecuencuas exactas, especialmente en el pico de la distribucion \n",
    "```"
   ]
  },
  {
   "cell_type": "markdown",
   "metadata": {
    "id": "CymvRiCzxfcN"
   },
   "source": [
    "A continuacion se muestra el QQ-plot del pmf de los datos reales, `pmf_goals`."
   ]
  },
  {
   "cell_type": "code",
   "execution_count": 770,
   "metadata": {
    "id": "rxDxQI1-s1iu"
   },
   "outputs": [
    {
     "data": {
      "image/png": "[encoded data removed]",
      "text/plain": [
       "<Figure size 640x480 with 1 Axes>"
      ]
     },
     "metadata": {},
     "output_type": "display_data"
    }
   ],
   "source": [
    "import statsmodels.api as sm\n",
    "from scipy import stats\n",
    "\n",
    "lam = 6\n",
    "\n",
    "fig = sm.qqplot(pmf_goals.index, dist=stats.poisson(lam), line=\"q\")\n",
    "\n",
    "plt.title(\"QQ Plot\")\n",
    "plt.grid()\n",
    "plt.show()"
   ]
  },
  {
   "cell_type": "markdown",
   "metadata": {
    "id": "IMEkf3ydG2ng"
   },
   "source": [
    "\n",
    "---\n",
    "---\n",
    "\n",
    "## La distribución exponencial\n",
    "\n",
    "Anteriormente, simulamos un modelo simple de un partido de hockey en el que un gol tiene la misma probabilidad de ser marcado durante cualquier segundo del partido.\n",
    "Bajo el mismo modelo, resulta que el tiempo hasta el primer gol sigue una **distribución exponencial**.\n",
    "\n",
    "Para demostrarlo, supongamos de nuevo que los equipos marcan un total de `6 goles de media`, y calculamos la `probabilidad de que se marque un gol durante cada segundo`.\n"
   ]
  },
  {
   "cell_type": "code",
   "execution_count": 771,
   "metadata": {
    "id": "_duYlG-0I3IW"
   },
   "outputs": [
    {
     "data": {
      "text/plain": [
       "0.0016666666666666668"
      ]
     },
     "execution_count": 771,
     "metadata": {},
     "output_type": "execute_result"
    }
   ],
   "source": [
    "n = 3600\n",
    "m = 6\n",
    "p = m / 3600\n",
    "p"
   ]
  },
  {
   "cell_type": "markdown",
   "metadata": {
    "id": "cTjf-LMvJe8c"
   },
   "source": [
    "La siguiente función simula `n` segundos y utiliza la funcion `argmax` para encontrar el momento del primer gol."
   ]
  },
  {
   "cell_type": "code",
   "execution_count": 772,
   "metadata": {
    "id": "liZ5599dJeb4"
   },
   "outputs": [],
   "source": [
    "def simulate_first_goal(n, p):\n",
    "    return flip(n, p).argmax()"
   ]
  },
  {
   "cell_type": "markdown",
   "metadata": {
    "id": "q7eld9aWKW6p"
   },
   "source": [
    "Esto funciona porque el resultado de `flip` es una secuencia de 1 y 0, por lo que el máximo es casi siempre 1.\n",
    "Si hay al menos un gol en la secuencia, `argmax` devuelve el índice del primero.\n",
    "Si no hay goles, devuelve 0, pero eso ocurre tan raramente que lo ignoraremos."
   ]
  },
  {
   "cell_type": "code",
   "execution_count": 773,
   "metadata": {
    "id": "en3_sDWhKn6w"
   },
   "outputs": [],
   "source": [
    "np.random.seed(3) #linea con propositos de reproducibilidad"
   ]
  },
  {
   "cell_type": "markdown",
   "metadata": {
    "id": "_hB0Fv5zLwaX"
   },
   "source": [
    "Utilice la funcion `simulate_first_goal` para simular `1,001` partidos y hacer una lista de los tiempos hasta el primer gol. Nombre la variable que contendra la lista como `first_goal_times`.\n",
    "\n",
    "Adicionalmente, Calcule el `tiempo promedio` hasta el primer gol."
   ]
  },
  {
   "cell_type": "code",
   "execution_count": 774,
   "metadata": {
    "id": "6Q8psEm_Kn9c"
   },
   "outputs": [
    {
     "data": {
      "text/plain": [
       "[np.int64(218),\n",
       " np.int64(440),\n",
       " np.int64(971),\n",
       " np.int64(139),\n",
       " np.int64(173),\n",
       " np.int64(306),\n",
       " np.int64(285),\n",
       " np.int64(1248),\n",
       " np.int64(157),\n",
       " np.int64(1177)]"
      ]
     },
     "execution_count": 774,
     "metadata": {},
     "output_type": "execute_result"
    }
   ],
   "source": [
    "# Tu codigo va aqui\n",
    "first_goal_times = [simulate_first_goal(n, p) for _ in range(1001)]\n",
    "first_goal_times[:10]\n"
   ]
  },
  {
   "cell_type": "code",
   "execution_count": 775,
   "metadata": {
    "id": "39fg3-3yOkip"
   },
   "outputs": [
    {
     "name": "stdout",
     "output_type": "stream",
     "text": [
      "Tiempo promedio hasta el primer gol: 597.7902097902098\n"
     ]
    }
   ],
   "source": [
    "# Tu codigo va aqui\n",
    "mean= np.mean(first_goal_times)\n",
    "print(\"Tiempo promedio hasta el primer gol:\", mean)"
   ]
  },
  {
   "cell_type": "markdown",
   "metadata": {
    "id": "BxGQvRxnNhUN"
   },
   "source": [
    "Cuando `n` es grande y `p` es pequeño, podemos demostrar matemáticamente que el tiempo esperado hasta el primer gol sigue una `distribución exponencial`.\n",
    "\n",
    "Dado que la simulación genera muchos valores de tiempo únicos, utilizaremos las `CDF` para comparar las distribuciones, en lugar de las `PMF`.\n",
    "Y la `CDF de la distribución exponencial` es fácil de calcular.\n",
    "\n",
    "Complete la funcion `exponential_CDF`."
   ]
  },
  {
   "cell_type": "code",
   "execution_count": 776,
   "metadata": {
    "id": "XaMu_d0RSVjC"
   },
   "outputs": [],
   "source": [
    "def exponential_CDF(x, lam):\n",
    "    \"\"\"\"Calcula la función de distribución acumulativa exponencial.\n",
    "\n",
    "    x: float o secuencia de floats\n",
    "    lam: parámetro de tasa\n",
    "\n",
    "    devuelve: flotante o matriz NumPy de probabilidad acumulativa\n",
    "    \"\"\"\n",
    "    # Tu codigo va aqui\n",
    "    x = np.asarray(x)         \n",
    "    exponential_cdf = 1 - np.exp(-lam * x) # fórmula de la CDF exponencial\n",
    "    return exponential_cdf\n",
    "\n",
    "    \n",
    "    \n",
    "   "
   ]
  },
  {
   "cell_type": "markdown",
   "metadata": {
    "id": "GQOEAYZHNqWg"
   },
   "source": [
    "El valor de `lam` es el número promedio de eventos por unidad de tiempo; en este ejemplo, son goles por segundo.\n",
    "Podemos utilizar el promedio de los resultados simulados para calcular `lam`."
   ]
  },
  {
   "cell_type": "code",
   "execution_count": 777,
   "metadata": {
    "id": "02EG0WXzP6Kw"
   },
   "outputs": [
    {
     "data": {
      "text/plain": [
       "0.0016728276636563566"
      ]
     },
     "execution_count": 777,
     "metadata": {},
     "output_type": "execute_result"
    }
   ],
   "source": [
    "lam = 1 / mean\n",
    "lam.item()"
   ]
  },
  {
   "cell_type": "markdown",
   "metadata": {
    "id": "tBl8vi99P6Ys"
   },
   "source": [
    "Si llamamos a esta función con un rango de valores de tiempo, podemos aproximar la distribución de los tiempos del primer gol.\n",
    "La función NumPy `linspace` crea una matriz de valores equidistantes; en este ejemplo, calcula `201` valores entre `0 y 3600`, ambos incluidos."
   ]
  },
  {
   "cell_type": "code",
   "execution_count": 778,
   "metadata": {
    "id": "o2b-ldt1SBaa"
   },
   "outputs": [
    {
     "data": {
      "text/plain": [
       "0.0       0.000000\n",
       "18.0      0.029662\n",
       "36.0      0.058444\n",
       "54.0      0.086373\n",
       "72.0      0.113473\n",
       "            ...   \n",
       "3528.0    0.997265\n",
       "3546.0    0.997346\n",
       "3564.0    0.997425\n",
       "3582.0    0.997502\n",
       "3600.0    0.997576\n",
       "Name: exponential model, Length: 201, dtype: float64"
      ]
     },
     "execution_count": 778,
     "metadata": {},
     "output_type": "execute_result"
    }
   ],
   "source": [
    "ts = np.linspace(0, 3600, 201)\n",
    "ps = exponential_CDF(ts, lam)\n",
    "\n",
    "cdf_expo = pd.Series(data=ps, index=ts, name=\"exponential model\")\n",
    "cdf_expo"
   ]
  },
  {
   "cell_type": "markdown",
   "metadata": {
    "id": "ccqNb5cSlEid"
   },
   "source": [
    "Ahora toca poner los datos simulados, obtenidos en `first_goal_times`, en su forma `CDF` para comparar las distribuciones. Puede utilizar la funcion `from_seq`. Nombre a la variable con el CDF como `cdf_sim`."
   ]
  },
  {
   "cell_type": "code",
   "execution_count": 779,
   "metadata": {
    "id": "tczvp59-mLrb"
   },
   "outputs": [
    {
     "ename": "AttributeError",
     "evalue": "'Series' object has no attribute 'heah'",
     "output_type": "error",
     "traceback": [
      "\u001b[31m---------------------------------------------------------------------------\u001b[39m",
      "\u001b[31mAttributeError\u001b[39m                            Traceback (most recent call last)",
      "\u001b[32m/tmp/ipykernel_326785/1189229276.py\u001b[39m in \u001b[36m?\u001b[39m\u001b[34m()\u001b[39m\n\u001b[32m      1\u001b[39m \u001b[38;5;66;03m# Tu codigo va aqui\u001b[39;00m\n\u001b[32m      2\u001b[39m cdf_sim = from_seq(first_goal_times, name=\u001b[33m\"simulación\"\u001b[39m, convert_to=\u001b[33m\"CDF\"\u001b[39m)\n\u001b[32m----> \u001b[39m\u001b[32m3\u001b[39m cdf_sim.heah()\n",
      "\u001b[32m~/concentracion/.venv/lib/python3.11/site-packages/pandas/core/generic.py\u001b[39m in \u001b[36m?\u001b[39m\u001b[34m(self, name)\u001b[39m\n\u001b[32m   6314\u001b[39m             \u001b[38;5;28;01mand\u001b[39;00m name \u001b[38;5;28;01mnot\u001b[39;00m \u001b[38;5;28;01min\u001b[39;00m self._accessors\n\u001b[32m   6315\u001b[39m             \u001b[38;5;28;01mand\u001b[39;00m self._info_axis._can_hold_identifiers_and_holds_name(name)\n\u001b[32m   6316\u001b[39m         ):\n\u001b[32m   6317\u001b[39m             \u001b[38;5;28;01mreturn\u001b[39;00m self[name]\n\u001b[32m-> \u001b[39m\u001b[32m6318\u001b[39m         \u001b[38;5;28;01mreturn\u001b[39;00m object.__getattribute__(self, name)\n",
      "\u001b[31mAttributeError\u001b[39m: 'Series' object has no attribute 'heah'"
     ]
    }
   ],
   "source": [
    "# Tu codigo va aqui\n",
    "cdf_sim = from_seq(first_goal_times, name=\"simulación\", convert_to=\"CDF\")\n",
    "cdf_sim.heah()"
   ]
  },
  {
   "cell_type": "markdown",
   "metadata": {
    "id": "E6KbGd7zSAfI"
   },
   "source": [
    "La siguiente figura compara los resultados de la simulación con la distribución exponencial que acabamos de calcular."
   ]
  },
  {
   "cell_type": "code",
   "execution_count": null,
   "metadata": {
    "id": "cvrTozcVgyGV"
   },
   "outputs": [
    {
     "data": {
      "image/png": "[encoded data removed]",
      "text/plain": [
       "<Figure size 800x500 with 1 Axes>"
      ]
     },
     "metadata": {},
     "output_type": "display_data"
    }
   ],
   "source": [
    "plot_cdf_plots(cdf_expo, cdf_sim, labels=[\"Exponential model\", \"Simulacion\"], xlabel=\"Tiempo del primer gol (segundos)\")"
   ]
  },
  {
   "cell_type": "markdown",
   "metadata": {
    "id": "2tMy1-giTE1i"
   },
   "source": [
    "El modelo exponencial se ajusta muy bien a los resultados de la simulación, pero una prueba más rigurosa es ver cómo funciona con datos reales.\n",
    "\n",
    "\n",
    "**El siguiente bucle lee los resultados de todos los partidos, obtiene el tiempo del primer gol y almacena el resultado en una lista.\n",
    "Si no se marcaron goles, añade `nan` a la lista.**"
   ]
  },
  {
   "cell_type": "code",
   "execution_count": null,
   "metadata": {
    "id": "oMbiLra8jqEp"
   },
   "outputs": [],
   "source": [
    "filename = \"nhl_2023_2024.hdf\"\n",
    "\n",
    "with pd.HDFStore(filename, \"r\") as store:\n",
    "    keys = store.keys()"
   ]
  },
  {
   "cell_type": "code",
   "execution_count": null,
   "metadata": {
    "id": "ZFx6UJd-ju0a"
   },
   "outputs": [
    {
     "name": "stdout",
     "output_type": "stream",
     "text": [
      "Tiempo (en segundos) de primer gol en los primeros 5 partidos\n",
      "424\n",
      "588\n",
      "436\n",
      "337\n",
      "194\n"
     ]
    }
   ],
   "source": [
    "firsts = []\n",
    "\n",
    "for key in keys:\n",
    "    times = pd.read_hdf(filename, key=key)\n",
    "    if len(times) > 0:\n",
    "        firsts.append(times[0]) #tiempo del primer gol\n",
    "    else:\n",
    "        firsts.append(np.nan)   #si no hubiero goles, rellenar con NAN\n",
    "\n",
    "print(\"Tiempo (en segundos) de primer gol en los primeros 5 partidos\")\n",
    "for i in firsts[:5]:\n",
    "  print(i)"
   ]
  },
  {
   "cell_type": "markdown",
   "metadata": {
    "id": "XDSYQJsVkvAH"
   },
   "source": [
    "Estima la tasa de goles marcados (variable `lam`), puedes utilizar la funcion `nanmean` de la libreria `numpy` (np), que calcula la media de los tiempos, ignorando los valores `nan`."
   ]
  },
  {
   "cell_type": "code",
   "execution_count": null,
   "metadata": {
    "id": "ygVm6CzhkDrU"
   },
   "outputs": [
    {
     "name": "stdout",
     "output_type": "stream",
     "text": [
      "Tasa estimada de goles: 0.0015121567467720825\n"
     ]
    }
   ],
   "source": [
    "# Tu codigo va aqui\n",
    "lam = 1 / np.nanmean(firsts)\n",
    "print(f\"Tasa estimada de goles: {lam}\")"
   ]
  },
  {
   "cell_type": "markdown",
   "metadata": {
    "id": "0S0SHLjjnZnz"
   },
   "source": [
    "Ahora podemos calcular la `CDF` de una `distribución exponencial` utilizando la funcion `exponential_cdf` con la misma tasa de goles que los datos (`lam`). LLama a esta variable como `cdf_expo`."
   ]
  },
  {
   "cell_type": "code",
   "execution_count": null,
   "metadata": {},
   "outputs": [
    {
     "data": {
      "text/plain": [
       "0.0     0.000000\n",
       "18.0    0.029662\n",
       "36.0    0.058444\n",
       "54.0    0.086373\n",
       "72.0    0.113473\n",
       "Name: exponential model, dtype: float64"
      ]
     },
     "execution_count": 727,
     "metadata": {},
     "output_type": "execute_result"
    }
   ],
   "source": [
    "# Tu codigo va aqui\n",
    "ts = np.linspace(0, 3600, 201)\n",
    "ps = exponential_CDF(ts, lam)\n",
    "cdf_expo = pd.Series(data=ps, index=ts, name=\"exponential model\")\n",
    "cdf_expo.head()"
   ]
  },
  {
   "cell_type": "markdown",
   "metadata": {
    "id": "7Xee2Iktno0d"
   },
   "source": [
    "Para calcular la `CDF` de los `datos`, podemos utilizar la funcion `from_seq` con el argumento `dropna=False`, que incluye valores `nan` al final. Nombra la variable que contenga el CDF como `cdf_firsts`."
   ]
  },
  {
   "cell_type": "code",
   "execution_count": 780,
   "metadata": {
    "id": "GPq50rUnyfxy"
   },
   "outputs": [
    {
     "data": {
      "text/plain": [
       "datos\n",
       "11.0      0.001524\n",
       "15.0      0.005335\n",
       "16.0      0.006860\n",
       "17.0      0.007622\n",
       "18.0      0.009146\n",
       "            ...   \n",
       "3120.0    0.995427\n",
       "3198.0    0.996189\n",
       "3286.0    0.996951\n",
       "3581.0    0.997713\n",
       "NaN       1.000000\n",
       "Name: proportion, Length: 891, dtype: float64"
      ]
     },
     "execution_count": 780,
     "metadata": {},
     "output_type": "execute_result"
    }
   ],
   "source": [
    "# Tu codigo va aqui\n",
    "cdf_firsts = from_seq(firsts, name=\"datos\", convert_to=\"CDF\", dropna=False)\n",
    "cdf_firsts"
   ]
  },
  {
   "cell_type": "code",
   "execution_count": null,
   "metadata": {
    "id": "VJfNdRBgopUi"
   },
   "outputs": [
    {
     "data": {
      "text/plain": [
       "datos\n",
       "3120.0    0.995427\n",
       "3198.0    0.996189\n",
       "3286.0    0.996951\n",
       "3581.0    0.997713\n",
       "NaN       1.000000\n",
       "Name: proportion, dtype: float64"
      ]
     },
     "execution_count": 655,
     "metadata": {},
     "output_type": "execute_result"
    }
   ],
   "source": [
    "cdf_firsts.tail()"
   ]
  },
  {
   "cell_type": "markdown",
   "metadata": {
    "id": "igJT3T2Foyuq"
   },
   "source": [
    "La siguiente figura compara la distribución exponencial con la distribución de los datos."
   ]
  },
  {
   "cell_type": "code",
   "execution_count": 781,
   "metadata": {
    "id": "enPw58uKoBKu"
   },
   "outputs": [
    {
     "data": {
      "image/png": "[encoded data removed]",
      "text/plain": [
       "<Figure size 800x500 with 1 Axes>"
      ]
     },
     "metadata": {},
     "output_type": "display_data"
    }
   ],
   "source": [
    "plot_cdf_plots(cdf_expo, cdf_firsts, labels=[\"Exponential model\", \"datos\"], xlabel=\"Tiempo del primer gol (segundos)\")"
   ]
  },
  {
   "cell_type": "markdown",
   "metadata": {
    "id": "UCWRAzEkVY4b"
   },
   "source": [
    "Describe que tan bien/mal se ajusta nuestro modelo a la distribucion de los datos"
   ]
  },
  {
   "cell_type": "markdown",
   "metadata": {
    "id": "BveyBMXnVY7O"
   },
   "source": [
    "```\n",
    "# Tu respuesta va aqui\n",
    "\n",
    "El modelo se ajusta muy bien a la distribucion de datos que tenemos, podemos ver que la linea punteada sigue la forma de los datos.\n",
    "```"
   ]
  },
  {
   "cell_type": "markdown",
   "metadata": {
    "id": "yNWAi2rjpUs1"
   },
   "source": [
    "La hipótesis subyacente de estos modelos (el modelo de Poisson para los goles y el modelo exponencial para los tiempos) es que un gol es igualmente probable en cualquier segundo del partido.\n",
    "\n",
    "Si le preguntas a un aficionado al hockey si eso es cierto, te dirá que no, y tendrá razón: el mundo real viola supuestos como estos de muchas maneras.\n",
    "Sin embargo, las distribuciones teóricas a menudo se ajustan muy bien a los datos reales."
   ]
  },
  {
   "cell_type": "markdown",
   "metadata": {
    "id": "yk4CGHhkVlic"
   },
   "source": [
    "---\n",
    "---\n",
    "## La distribución Normal\n",
    "\n",
    "Muchas cosas que medimos en el mundo real siguen una **distribución normal**, también conocida como distribución gaussiana o *curva de campana*.\n",
    "Para ver de dónde provienen estas distribuciones, consideremos un modelo del crecimiento de las calabazas gigantes.\n",
    "\n",
    "Supongamos que cada día, una calabaza gana `1 libra` (≈ 0.45kg) si el tiempo es malo, `2 libras` (≈ 0.9kg) si el tiempo es regular y `3 libras` (≈ 1.36kg) si el tiempo es bueno.\n",
    "Y **supongamos que el tiempo cada día es malo, regular o bueno con la misma probabilidad**.\n",
    "\n",
    "<br>\n",
    "\n",
    "Podemos utilizar la siguiente función, `simulate_growth`, para simular este modelo durante `n` días y obtener el total de las ganancias de peso.\n"
   ]
  },
  {
   "cell_type": "code",
   "execution_count": null,
   "metadata": {
    "id": "RNffPYv1pXCY"
   },
   "outputs": [],
   "source": [
    "def simulate_growth(n):\n",
    "  choices = [1, 2, 3]\n",
    "  gains = np.random.choice(choices, n)\n",
    "  return gains.sum()"
   ]
  },
  {
   "cell_type": "markdown",
   "metadata": {
    "id": "RslLQd9sXpLP"
   },
   "source": [
    "<br>\n",
    "\n",
    "El módulo `random` de `NumPy` proporciona una función `choice` que genera una matriz de `n` selecciones aleatorias a partir de una secuencia de valores, `choices` en este ejemplo.\n",
    "\n",
    "<br>\n",
    "\n",
    "Ahora supongamos que `1,001` personas cultivan calabazas gigantes en diferentes lugares con diferentes condiciones climáticas.\n",
    "Si simulamos el proceso de crecimiento durante `100 días`, obtenemos una lista de `1,001 pesos`."
   ]
  },
  {
   "cell_type": "code",
   "execution_count": null,
   "metadata": {
    "id": "R8zi9QaUYR33"
   },
   "outputs": [
    {
     "name": "stdout",
     "output_type": "stream",
     "text": [
      "Peso promedio: 199.370629, desviacion std: 8.388631\n"
     ]
    }
   ],
   "source": [
    "sim_weights = [simulate_growth(100) for i in range(1001)]\n",
    "m, s = np.mean(sim_weights), np.std(sim_weights)\n",
    "\n",
    "print(f\"Peso promedio: {m:4f}, desviacion std: {s:4f}\")"
   ]
  },
  {
   "cell_type": "markdown",
   "metadata": {
    "id": "s4MuwTHhYPiV"
   },
   "source": [
    "La `media` es cercana a `200 libras` y la `desviación estándar` es de aproximadamente `8 libras`.\n",
    "\n",
    "Para ver si los pesos siguen una `distribución normal`, utilizaremos la siguiente función, que toma una muestra y crea una `Cdf` que representa una distribución normal con la misma media y desviación estándar que la muestra, evaluada en el rango de 4 desviaciones estándar por debajo de la media a 4 desviaciones estándar por encima."
   ]
  },
  {
   "cell_type": "code",
   "execution_count": null,
   "metadata": {
    "id": "1MyZYWUSZYvq"
   },
   "outputs": [],
   "source": [
    "from scipy.stats import norm\n",
    "\n",
    "def make_normal_model(data):\n",
    "  m, s = np.mean(data), np.std(data)\n",
    "\n",
    "  low, high = m - 4 * s, m + 4 * s\n",
    "\n",
    "  qs = np.linspace(low, high, 201)\n",
    "  ps = norm.cdf(qs, m, s)\n",
    "\n",
    "  return pd.Series(data=ps, index=qs, name=\"normal model\")"
   ]
  },
  {
   "cell_type": "markdown",
   "metadata": {
    "id": "McRGEofVZYM4"
   },
   "source": [
    "Aqui como usarlo, para convertir nuestro datos extraido del `modelo normal`:"
   ]
  },
  {
   "cell_type": "code",
   "execution_count": null,
   "metadata": {
    "id": "0gYED29WaJzQ"
   },
   "outputs": [
    {
     "data": {
      "text/plain": [
       "165.816106    0.000032\n",
       "166.151651    0.000037\n",
       "166.487196    0.000044\n",
       "166.822742    0.000052\n",
       "167.158287    0.000062\n",
       "                ...   \n",
       "231.582972    0.999938\n",
       "231.918517    0.999948\n",
       "232.254062    0.999956\n",
       "232.589607    0.999963\n",
       "232.925153    0.999968\n",
       "Name: normal model, Length: 201, dtype: float64"
      ]
     },
     "execution_count": 660,
     "metadata": {},
     "output_type": "execute_result"
    }
   ],
   "source": [
    "cdf_model = make_normal_model(sim_weights)\n",
    "cdf_model"
   ]
  },
  {
   "cell_type": "markdown",
   "metadata": {
    "id": "bn_kcO7sbaO5"
   },
   "source": [
    "Ahora podemos crear una `CDF` que represente la distribución de los resultados de la `simulación`."
   ]
  },
  {
   "cell_type": "code",
   "execution_count": null,
   "metadata": {
    "id": "jpolgnn_agUu"
   },
   "outputs": [
    {
     "data": {
      "text/plain": [
       "simulation\n",
       "176    0.001998\n",
       "177    0.002997\n",
       "178    0.004995\n",
       "179    0.007992\n",
       "180    0.011988\n",
       "181    0.018981\n",
       "182    0.021978\n",
       "183    0.033966\n",
       "184    0.041958\n",
       "185    0.055944\n",
       "186    0.069930\n",
       "187    0.084915\n",
       "188    0.101898\n",
       "189    0.120879\n",
       "190    0.146853\n",
       "191    0.178821\n",
       "192    0.201798\n",
       "193    0.233766\n",
       "194    0.272727\n",
       "195    0.315684\n",
       "196    0.364635\n",
       "197    0.408591\n",
       "198    0.451548\n",
       "199    0.498501\n",
       "200    0.557443\n",
       "201    0.602398\n",
       "202    0.637363\n",
       "203    0.681319\n",
       "204    0.736264\n",
       "205    0.775225\n",
       "206    0.804196\n",
       "207    0.834166\n",
       "208    0.866134\n",
       "209    0.893107\n",
       "210    0.911089\n",
       "211    0.927073\n",
       "212    0.942058\n",
       "213    0.947053\n",
       "214    0.960040\n",
       "215    0.970030\n",
       "216    0.979021\n",
       "217    0.987013\n",
       "218    0.989011\n",
       "219    0.991009\n",
       "220    0.994006\n",
       "221    0.997003\n",
       "223    0.998002\n",
       "224    0.999001\n",
       "225    1.000000\n",
       "Name: proportion, dtype: float64"
      ]
     },
     "execution_count": 661,
     "metadata": {},
     "output_type": "execute_result"
    }
   ],
   "source": [
    "cdf_sim_weights = from_seq(sim_weights, name=\"simulation\", convert_to=\"CDF\")\n",
    "cdf_sim_weights"
   ]
  },
  {
   "cell_type": "markdown",
   "metadata": {
    "id": "RRoP49ENb9aE"
   },
   "source": [
    "Usaremos la siguiente función `plot_cdf_plots` para comparar las distribuciones."
   ]
  },
  {
   "cell_type": "code",
   "execution_count": null,
   "metadata": {
    "id": "j9KfJmhmb9hc"
   },
   "outputs": [
    {
     "data": {
      "image/png": "[encoded data removed]",
      "text/plain": [
       "<Figure size 800x500 with 1 Axes>"
      ]
     },
     "metadata": {},
     "output_type": "display_data"
    }
   ],
   "source": [
    "plot_cdf_plots(cdf_model, cdf_sim_weights, labels=[\"Normal model\", \"Simulation\"], xlabel=\"Weight (pounds)\")"
   ]
  },
  {
   "cell_type": "markdown",
   "metadata": {
    "id": "iryjCwE7cVB4"
   },
   "source": [
    "El modelo normal se ajusta muy bien a la distribución de los pesos.\n",
    "En general, cuando sumamos suficientes factores aleatorios, la suma tiende a seguir una `distribución normal`.\n",
    "Esa es una consecuencia del `teorema del límite central`, al que volveremos mas adelante."
   ]
  },
  {
   "cell_type": "markdown",
   "metadata": {
    "id": "BDlqKD2ydyTK"
   },
   "source": [
    "---\n",
    "---\n",
    "\n",
    "## La distribución log-normal\n",
    "\n",
    "Anteriormente, simulamos el crecimiento de las calabazas suponiendo que crecen entre `1` y `3 libras` al día, dependiendo del clima.\n",
    "En cambio, supongamos que su crecimiento es proporcional a su peso actual, de modo que las calabazas grandes ganan más peso al día que las pequeñas, lo que probablemente sea más realista.\n",
    "\n",
    "La siguiente función simula este tipo de crecimiento proporcional, en el que una calabaza gana un `3%` de su peso si el clima es malo, un `5%` si el clima es regular y un `7%` si el clima es bueno.\n",
    "Una vez más, supondremos que el clima es malo, regular o bueno en un día cualquiera con la misma probabilidad."
   ]
  },
  {
   "cell_type": "code",
   "execution_count": null,
   "metadata": {
    "id": "ZoEU1fnde-ak"
   },
   "outputs": [],
   "source": [
    "def simulate_proportionate_growth(n):\n",
    "  choices = [1.03, 1.05, 1.07]\n",
    "  gains = np.random.choice(choices, n)\n",
    "  return gains.prod()"
   ]
  },
  {
   "cell_type": "markdown",
   "metadata": {
    "id": "hAK71SuCfKOi"
   },
   "source": [
    "Si una calabaza aumenta un `3%` de su peso, el peso final es el producto del peso inicial y el factor `1.03`.\n",
    "Así que podemos calcular el peso después de `100 días` eligiendo factores aleatorios y multiplicándolos entre sí.\n",
    "\n",
    "Llamaremos a esta función `1001` veces para simular `1001` calabazas y guardar sus pesos. Adicionalmente, calcula la `media` y `desviacion estandar` del peso de las calabazas."
   ]
  },
  {
   "cell_type": "code",
   "execution_count": null,
   "metadata": {
    "id": "YgNq5M-VfIL_"
   },
   "outputs": [
    {
     "name": "stdout",
     "output_type": "stream",
     "text": [
      "Peso promedio: 130.801834, desviacion std: 20.956047\n"
     ]
    }
   ],
   "source": [
    "# Tu codigo va aqui\n",
    "sim_c_weights = [simulate_proportionate_growth(100) for i in range(1001)]\n",
    "m, s = np.mean(sim_c_weights), np.std(sim_c_weights)\n",
    "\n",
    "print(f\"Peso promedio: {m:4f}, desviacion std: {s:4f}\")"
   ]
  },
  {
   "cell_type": "markdown",
   "metadata": {
    "id": "r6MwVV2kgzc2"
   },
   "source": [
    "¿Que puedes observar respecto a lo obtenido del modelo anterior?"
   ]
  },
  {
   "cell_type": "markdown",
   "metadata": {
    "id": "6VX9ro6CgzfX"
   },
   "source": [
    "```\n",
    "# Tu respuesta va aqui\n",
    "En el modelo de crecimiento proporcional, la media del peso de las calabazas es menor y la desviación estándar es mayor en comparación con el modelo de crecimiento aditivo. Esto indica que el crecimiento proporcional genera una mayor variabilidad entre los individuos, y los pesos finales están más dispersos. \n",
    "```"
   ]
  },
  {
   "cell_type": "markdown",
   "metadata": {
    "id": "845F8BR8fYOz"
   },
   "source": [
    "Debemos demostrar matemáticamente que siguen una **distribución lognormal**, lo que significa que `los logaritmos de los pesos siguen una distribución normal`.\n",
    "\n",
    "Para comprobarlo, calcula los `logaritmos de los pesos` y su `media` y `desviación estándar`.\n",
    "Podríamos utilizar logaritmos con cualquier base, pero utiliza la `base 10` porque facilita la interpretación de los resultados."
   ]
  },
  {
   "cell_type": "code",
   "execution_count": null,
   "metadata": {
    "id": "YS5xv3SBfIQU"
   },
   "outputs": [
    {
     "name": "stdout",
     "output_type": "stream",
     "text": [
      "Media de los logaritmos (base 10): 2.1111\n",
      "Desviación estándar de los logaritmos (base 10): 0.0690\n"
     ]
    }
   ],
   "source": [
    "# Tu codigo va aqui\n",
    "log_weights = np.log10(sim_c_weights)\n",
    "mean_log = np.mean(log_weights)\n",
    "std_log = np.std(log_weights)\n",
    "\n",
    "print(f\"Media de los logaritmos (base 10): {mean_log:.4f}\")\n",
    "print(f\"Desviación estándar de los logaritmos (base 10): {std_log:.4f}\")"
   ]
  },
  {
   "cell_type": "markdown",
   "metadata": {
    "id": "SmOpAKPzkNm8"
   },
   "source": [
    "Toca poner nuestros datos (modelo y simulados) en forma:\n",
    "\n",
    "- Utiliza el logaritmo de los pesos (simulados) para modelar una distribucion normal y obtener un modelo. Puedes apoyarte en la funcion `make_normal_model`.\n",
    "- Utiliza estos datos simulados directamente en su forma `CDF`. Puedes apoyarte en la funcion `from_seq`."
   ]
  },
  {
   "cell_type": "code",
   "execution_count": null,
   "metadata": {
    "id": "MJ2UOj3ZfIS4"
   },
   "outputs": [
    {
     "data": {
      "text/plain": [
       "(1.835186    0.000032\n",
       " 1.837945    0.000037\n",
       " 1.840705    0.000044\n",
       " 1.843464    0.000052\n",
       " 1.846223    0.000062\n",
       "               ...   \n",
       " 2.376036    0.999938\n",
       " 2.378796    0.999948\n",
       " 2.381555    0.999956\n",
       " 2.384315    0.999963\n",
       " 2.387074    0.999968\n",
       " Name: normal model, Length: 201, dtype: float64,\n",
       " simulation\n",
       " 1.857021    0.000999\n",
       " 1.897994    0.001998\n",
       " 1.898939    0.002997\n",
       " 1.915171    0.003996\n",
       " 1.922892    0.004995\n",
       "               ...   \n",
       " 2.303621    0.996004\n",
       " 2.304093    0.997003\n",
       " 2.320482    0.998002\n",
       " 2.337344    0.999001\n",
       " 2.345696    1.000000\n",
       " Name: proportion, Length: 506, dtype: float64)"
      ]
     },
     "execution_count": 666,
     "metadata": {},
     "output_type": "execute_result"
    }
   ],
   "source": [
    "# Tu codigo va aqui\n",
    "# Modelo normal usando los logaritmos de los pesos simulados\n",
    "cdf_log_model = make_normal_model(log_weights)\n",
    "\n",
    "# CDF de los datos simulados (logaritmos de los pesos)\n",
    "cdf_log_sim = from_seq(log_weights, name=\"simulation\", convert_to=\"CDF\")\n",
    "\n",
    "cdf_log_model, cdf_log_sim"
   ]
  },
  {
   "cell_type": "markdown",
   "metadata": {
    "id": "-hmNHxaiifSd"
   },
   "source": [
    "Ahora compara la `distribución de los logaritmos` con una `distribución normal` con la misma `media` y `desviación estándar`. Puedes apoyarte en la funcion `plot_cdf_plots`."
   ]
  },
  {
   "cell_type": "code",
   "execution_count": null,
   "metadata": {},
   "outputs": [
    {
     "data": {
      "image/png": "[encoded data removed]",
      "text/plain": [
       "<Figure size 800x500 with 1 Axes>"
      ]
     },
     "metadata": {},
     "output_type": "display_data"
    }
   ],
   "source": [
    "# Tu codigo va aqui\n",
    "\n",
    "plot_cdf_plots(cdf_log_model, cdf_log_sim, labels=[\"Normal model (log weights)\", \"Simulation (log weights)\"], xlabel=\"Log10(Peso de calabaza)\")"
   ]
  },
  {
   "cell_type": "markdown",
   "metadata": {
    "id": "UIjsOMkDqmq-"
   },
   "source": [
    "Menciona como este modelo LogNormal se ajusta a la simulación, tal y como esperábamos."
   ]
  },
  {
   "cell_type": "markdown",
   "metadata": {
    "id": "kawqo6xtqmzL"
   },
   "source": [
    "```\n",
    "# Tu respuesta va aqui\n",
    "El modelo tiene un buen ajuste, ya que sigue la forma de la simulacion aunque hay algunas discrepancias entre el modelo y la simulacion, podemos ver que el modelo sigue muy cerca a la simulacion\n",
    "```"
   ]
  }
 ],
 "metadata": {
  "colab": {
   "provenance": []
  },
  "kernelspec": {
   "display_name": ".venv (3.11.4)",
   "language": "python",
   "name": "python3"
  },
  "language_info": {
   "codemirror_mode": {
    "name": "ipython",
    "version": 3
   },
   "file_extension": ".py",
   "mimetype": "text/x-python",
   "name": "python",
   "nbconvert_exporter": "python",
   "pygments_lexer": "ipython3",
   "version": "3.11.4"
  }
 },
 "nbformat": 4,
 "nbformat_minor": 0
}
