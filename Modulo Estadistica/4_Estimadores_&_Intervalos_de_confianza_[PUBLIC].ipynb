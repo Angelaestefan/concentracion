{
  "nbformat": 4,
  "nbformat_minor": 0,
  "metadata": {
    "colab": {
      "provenance": [],
      "collapsed_sections": [
        "pYTku1bRg3m8",
        "bnoefGkcGkM9",
        "TjG9jFMEW0Z8"
      ]
    },
    "kernelspec": {
      "name": "python3",
      "display_name": "Python 3"
    },
    "language_info": {
      "name": "python"
    }
  },
  "cells": [
    {
      "cell_type": "markdown",
      "source": [
        "## Pesaje de pingüinos\n",
        "\n",
        "Supongamos que eres un investigador en la Antártida y estudias las poblaciones locales de pingüinos.\n",
        "Una de tus tareas consiste en controlar el peso medio de los pingüinos, ya que varía a lo largo del año.\n",
        "No sería práctico pesar a todos los pingüinos del entorno, por lo que tu plan es recoger una muestra aleatoria de 10 pingüinos cada semana, pesarlos y utilizar la muestra para estimar la media de toda la población, lo que se denomina **media poblacional**.\n",
        "\n",
        "Hay muchas formas de utilizar la muestra para estimar la media poblacional, pero solo consideraremos dos: la **media muestral** y la **mediana muestral**.\n",
        "Ambas son opciones razonables, pero veamos cuál es mejor y pensemos en lo que entendemos por \"mejor\".\n",
        "\n",
        "<br>\n",
        "\n",
        "A efectos de demostración, supondremos que los pesos de los pingüinos se extraen de una distribución normal con media y desviación estándar conocidas, que denotaré como \"mu\" y \"sigma\" y asignaré valores en kilogramos."
      ],
      "metadata": {
        "id": "AtNp6iQILWCD"
      }
    },
    {
      "cell_type": "code",
      "execution_count": 1,
      "metadata": {
        "id": "Uc6vaPeRKuZr"
      },
      "outputs": [],
      "source": [
        "import numpy as np\n",
        "import pandas as pd\n",
        "import matplotlib.pyplot as plt"
      ]
    },
    {
      "cell_type": "code",
      "source": [
        "mu = 3.7\n",
        "sigma = 0.46 # desv std = 0.46, varianza = 0.2116"
      ],
      "metadata": {
        "id": "mCojdk5TLfHw"
      },
      "execution_count": 2,
      "outputs": []
    },
    {
      "cell_type": "markdown",
      "source": [
        "Estos valores son los **parámetros** de la distribución normal, lo que significa que especifican una distribución concreta.\n",
        "Dados estos parámetros, podemos utilizar la libreria `NumPy` para simular el proceso de muestreo y generar una muestra de cualquier tamaño.\n",
        "\n",
        "Por ejemplo, aquí hay una muestra hipotética de 10 pesos."
      ],
      "metadata": {
        "id": "8ygf78ZALjF8"
      }
    },
    {
      "cell_type": "code",
      "execution_count": 3,
      "metadata": {
        "tags": [],
        "id": "1c632733"
      },
      "outputs": [],
      "source": [
        "# Inicialice el generador de números aleatorios para que obtengamos los mismos resultados cada vez.\n",
        "np.random.seed(1)"
      ]
    },
    {
      "cell_type": "code",
      "execution_count": 4,
      "metadata": {
        "id": "f2429fdd",
        "colab": {
          "base_uri": "https://localhost:8080/"
        },
        "outputId": "c3e7e7e9-4d19-44ba-fd01-94f0a1490c4b"
      },
      "outputs": [
        {
          "output_type": "execute_result",
          "data": {
            "text/plain": [
              "array([4.44719887, 3.41859205, 3.45704099, 3.20643443, 4.09808751,\n",
              "       2.6412922 , 4.50261341, 3.34984483, 3.84675798, 3.58528963])"
            ]
          },
          "metadata": {},
          "execution_count": 4
        }
      ],
      "source": [
        "sample = np.random.normal(mu, sigma, size=10)\n",
        "sample"
      ]
    },
    {
      "cell_type": "markdown",
      "source": [
        "Y aquí están la media y la mediana de la muestra."
      ],
      "metadata": {
        "id": "Ufu0yBkuMVxB"
      }
    },
    {
      "cell_type": "code",
      "source": [
        "print(f\"Media: {np.mean(sample)}, Mediana:{np.median(sample)}\")"
      ],
      "metadata": {
        "id": "J5TRpF2JMAuK",
        "colab": {
          "base_uri": "https://localhost:8080/"
        },
        "outputId": "9d92ab37-4357-40f6-f0c6-2e0683f08f73"
      },
      "execution_count": 5,
      "outputs": [
        {
          "output_type": "stream",
          "name": "stdout",
          "text": [
            "Media: 3.6553151902291945, Mediana:3.521165310619601\n"
          ]
        }
      ]
    },
    {
      "cell_type": "markdown",
      "source": [
        "La media y la mediana son lo suficientemente parecidos como para que nos preguntemos cuál es la mejor estimación.\n",
        "Para averiguarlo, utilizaremos la siguiente función para generar muestras hipotéticas con el tamaño dado, `n`."
      ],
      "metadata": {
        "id": "c6HQLSpoMWz6"
      }
    },
    {
      "cell_type": "code",
      "source": [
        "def make_sample(n):\n",
        "    return np.random.normal(mu, sigma, size=n)"
      ],
      "metadata": {
        "id": "khyig5dSMZYc"
      },
      "execution_count": 6,
      "outputs": []
    },
    {
      "cell_type": "markdown",
      "source": [
        "## Experimento #1\n",
        "\n",
        "Como primer experimento, veamos cómo se comportan la **media** y la **mediana** de la muestra a medida que aumenta el tamaño de la muestra.\n",
        "Usaremos la función `logspace` de `NumPy` para crear un rango (`ns`) de 10 a 100,000, espaciado uniformemente en una escala logarítmica.\n",
        "\n",
        "\n",
        "\n",
        "```\n",
        "numpy.logspace() es una función que crea un array de números espaciados logarítmicamente entre un valor inicial y un valor final dados\n",
        "```\n",
        "\n"
      ],
      "metadata": {
        "id": "ysQYIYQLNFRH"
      }
    },
    {
      "cell_type": "code",
      "source": [
        "ns = np.logspace(1, 5).astype(int)\n",
        "ns"
      ],
      "metadata": {
        "id": "OJMOngRVNT2u",
        "colab": {
          "base_uri": "https://localhost:8080/"
        },
        "outputId": "e3ff802e-9d2d-4277-aecf-cc5b248bfe76"
      },
      "execution_count": 7,
      "outputs": [
        {
          "output_type": "execute_result",
          "data": {
            "text/plain": [
              "array([    10,     12,     14,     17,     21,     25,     30,     37,\n",
              "           44,     54,     65,     79,     95,    115,    138,    167,\n",
              "          202,    244,    294,    355,    429,    517,    625,    754,\n",
              "          910,   1098,   1325,   1599,   1930,   2329,   2811,   3393,\n",
              "         4094,   4941,   5963,   7196,   8685,  10481,  12648,  15264,\n",
              "        18420,  22229,  26826,  32374,  39069,  47148,  56898,  68664,\n",
              "        82864, 100000])"
            ]
          },
          "metadata": {},
          "execution_count": 7
        }
      ]
    },
    {
      "cell_type": "markdown",
      "source": [
        "Podemos usar una comprensión de lista para generar una muestra hipotética para cada valor de `n`, calcular la media y mediana, y recopilar los resultados:"
      ],
      "metadata": {
        "id": "A0e_EHmuOiHI"
      }
    },
    {
      "cell_type": "code",
      "source": [
        "means = [np.mean(make_sample(n)) for n in ns]"
      ],
      "metadata": {
        "id": "hOS6zz9MOiu-"
      },
      "execution_count": 8,
      "outputs": []
    },
    {
      "cell_type": "code",
      "source": [
        "medians = [np.median(make_sample(n)) for n in ns]"
      ],
      "metadata": {
        "id": "ZnN8plf1O9Mu"
      },
      "execution_count": 9,
      "outputs": []
    },
    {
      "cell_type": "markdown",
      "source": [
        "Una estadística, como la media o la mediana de una muestra, que se utiliza para estimar una propiedad de una población se denomina **estimador**.\n",
        "\n",
        "<br>\n",
        "\n",
        "La siguiente figura muestra cómo se comportan estos estimadores a medida que aumentamos el tamaño de la muestra.\n",
        "La línea horizontal muestra la media real de la población."
      ],
      "metadata": {
        "id": "3SLW3AfoPFN5"
      }
    },
    {
      "cell_type": "code",
      "source": [
        "plt.figure(figsize=(15, 8))\n",
        "\n",
        "plt.axhline(mu, color=\"gray\", lw=1, alpha=0.5) # media real\n",
        "\n",
        "plt.plot(ns, means, \"--\", label=\"Media\") # media teorica\n",
        "plt.plot(ns, medians, alpha=0.5, label=\"Mediana\") # mediana teorica\n",
        "\n",
        "plt.xlabel(\"Tamaño de muestra\")\n",
        "plt.ylabel(\"Estimado\")\n",
        "plt.legend()\n",
        "plt.xscale(\"log\")"
      ],
      "metadata": {
        "id": "E64zp4hnPbHX",
        "colab": {
          "base_uri": "https://localhost:8080/",
          "height": 700
        },
        "outputId": "bf657a8d-94e1-4453-86ac-bdae755e18b7"
      },
      "execution_count": 10,
      "outputs": [
        {
          "output_type": "display_data",
          "data": {
            "text/plain": [
              "<Figure size 1500x800 with 1 Axes>"
            ],
            "image/png": "[encoded data removed]"
          },
          "metadata": {}
        }
      ]
    },
    {
      "cell_type": "markdown",
      "source": [
        "Para ambos estimadores, las estimaciones convergen hacia el valor real a medida que aumenta el tamaño de la muestra.\n",
        "Esto demuestra que son **consistentes**, lo cual es una de las propiedades que debe tener un buen estimador.\n",
        "Basándonos en esta propiedad, la media y la mediana parecen igualmente buenas.\n",
        "\n",
        "En la figura anterior, se puede observar que las estimaciones a veces son demasiado altas y otras demasiado bajas, y parece que la variación es aproximadamente simétrica en torno al valor real."
      ],
      "metadata": {
        "id": "GRNiYsYzSNy6"
      }
    },
    {
      "cell_type": "markdown",
      "source": [
        "## Experimento #2\n",
        "\n",
        "**Esto sugiere otro experimento:** si recopilamos muchas muestras del mismo tamaño y calculamos muchas estimaciones, ¿cuál es la media de las estimaciones?\n",
        "\n",
        "El siguiente bucle simula este escenario generando **10,001** muestras de **10** pingüinos y calculando la **media** de cada muestra."
      ],
      "metadata": {
        "id": "YEFpmRM_ZuWu"
      }
    },
    {
      "cell_type": "code",
      "source": [
        "means = [np.mean(make_sample(n=10)) for i in range(10001)]\n",
        "\n",
        "np.mean(means).item()"
      ],
      "metadata": {
        "id": "7O0dvY9eRfcL",
        "colab": {
          "base_uri": "https://localhost:8080/"
        },
        "outputId": "fe9280a2-ad44-4341-bf69-6eaabcb0f974"
      },
      "execution_count": 11,
      "outputs": [
        {
          "output_type": "execute_result",
          "data": {
            "text/plain": [
              "3.70034508492869"
            ]
          },
          "metadata": {},
          "execution_count": 11
        }
      ]
    },
    {
      "cell_type": "markdown",
      "source": [
        "El promedio de las medias se aproxima a la media real que utilizamos para generar las muestras: **3.7 kg**.\n",
        "\n",
        "El siguiente bucle simula el mismo escenario, pero esta vez calcula la mediana de cada muestra."
      ],
      "metadata": {
        "id": "NwBhXtPgS6Op"
      }
    },
    {
      "cell_type": "code",
      "source": [
        "medians = [np.median(make_sample(n=10)) for i in range(10001)]\n",
        "\n",
        "np.mean(medians).item()"
      ],
      "metadata": {
        "id": "fnGFq1mWSzn-",
        "colab": {
          "base_uri": "https://localhost:8080/"
        },
        "outputId": "d7d51e0b-3f66-4390-bff4-c5fcb72a2987"
      },
      "execution_count": 12,
      "outputs": [
        {
          "output_type": "execute_result",
          "data": {
            "text/plain": [
              "3.701214089907223"
            ]
          },
          "metadata": {},
          "execution_count": 12
        }
      ]
    },
    {
      "cell_type": "markdown",
      "source": [
        "El promedio de estas medianas hipotéticas también es muy cercano a la media real de la población.\n",
        "\n",
        "<br>\n",
        "\n",
        "Estos resultados demuestran que la media y la mediana de la muestra son estimadores **sin sesgo**, lo que significa que son correctas en promedio.\n",
        "\n",
        "La palabra **\"sesgo\"** tiene diferentes significados en diferentes contextos, lo que puede ser motivo de confusión.\n",
        "En este contexto, **\"sin sesgo\"** significa que la media de las estimaciones es el valor real."
      ],
      "metadata": {
        "id": "0BTqkz-mXrQm"
      }
    },
    {
      "cell_type": "markdown",
      "source": [
        "## Experimento #3\n",
        "\n",
        "Hasta ahora, hemos demostrado que ambos estimadores son consistentes y sin sesgo, pero aún no está claro cuál es mejor.\n",
        "\n",
        "Probemos con un experimento más: veamos qué estimador es más preciso.\n",
        "La palabra **\"preciso\"** también tiene diferentes significados en diferentes contextos; como forma de cuantificarlo, consideremos el **error cuadrático medio** (MSE).\n",
        "\n",
        "$$\n",
        "MSE = \\frac{1}{N} \\sum_{i=1}^N (y_i - \\hat{y}_i)^2\n",
        "$$\n",
        "\n",
        "La siguiente función calcula las diferencias entre las **estimaciones** $\\hat{y}_i$ y el **valor real** $y_i$, y devuelve la media de los cuadrados de estos errores."
      ],
      "metadata": {
        "id": "o7qDYno9YchV"
      }
    },
    {
      "cell_type": "code",
      "source": [
        "def mse(estimates, actual):\n",
        "    \"\"\"Error cuadrático medio de una secuencia de estimaciones.\"\"\"\n",
        "    errors = np.asarray(estimates) - actual\n",
        "    return np.mean(errors**2)"
      ],
      "metadata": {
        "id": "mVUH3bTGaJNx"
      },
      "execution_count": 13,
      "outputs": []
    },
    {
      "cell_type": "markdown",
      "source": [
        "Tenga en cuenta que solo podemos calcular el MSE si conocemos el valor real.\n",
        "\n",
        "En la práctica, normalmente no lo sabemos; después de todo, si conociéramos el valor real, no tendríamos que estimarlo.\n",
        "Pero en nuestro experimento, sabemos que la media real de la población es de **3.7 kg**, por lo que podemos utilizarla para calcular el MSE de las **medias muestrales**."
      ],
      "metadata": {
        "id": "NrLx7qLoaa-9"
      }
    },
    {
      "cell_type": "code",
      "source": [
        "# mu = 3.7\n",
        "\n",
        "mse(means, mu).item()"
      ],
      "metadata": {
        "id": "nwZl-DCfcWfM",
        "colab": {
          "base_uri": "https://localhost:8080/"
        },
        "outputId": "bee28bb7-d593-4947-85fe-a51ade1572be"
      },
      "execution_count": 14,
      "outputs": [
        {
          "output_type": "execute_result",
          "data": {
            "text/plain": [
              "0.020871984891289382"
            ]
          },
          "metadata": {},
          "execution_count": 14
        }
      ]
    },
    {
      "cell_type": "markdown",
      "source": [
        "Si tenemos muestras de tamaño **10** y utilizamos la media muestral para estimar la media poblacional, el error cuadrático medio es de aproximadamente **0.021 kilogramos al cuadrado**.\n",
        "\n",
        "Ahora veamos el MSE de las **medianas muestrales**."
      ],
      "metadata": {
        "id": "6sWNVQ1Pccaa"
      }
    },
    {
      "cell_type": "code",
      "source": [
        "mse(medians, mu).item()"
      ],
      "metadata": {
        "id": "pRm8Dv1fdMVK",
        "colab": {
          "base_uri": "https://localhost:8080/"
        },
        "outputId": "7ec5bfde-f05b-4681-9300-427a87222cb3"
      },
      "execution_count": 15,
      "outputs": [
        {
          "output_type": "execute_result",
          "data": {
            "text/plain": [
              "0.029022273128644173"
            ]
          },
          "metadata": {},
          "execution_count": 15
        }
      ]
    },
    {
      "cell_type": "markdown",
      "source": [
        "Si utilizamos las medianas muestrales para estimar la media poblacional, el error cuadrático medio es de aproximadamente `0.029 kilogramos` al cuadrado.\n",
        "En este ejemplo, **la media muestral es mejor que la mediana muestral**; y, en general, si los datos se extraen de una distribución normal, es el *mejor* estimador insesgado de la media poblacional, en el sentido de que **minimiza el MSE**.\n",
        "\n",
        "<br>\n",
        "\n",
        "Minimizar el MSE es una buena propiedad que debe tener un estimador, pero el MSE no siempre es la mejor manera de resumir los errores.\n",
        "Por un lado, es difícil de interpretar.\n",
        "En este ejemplo, las unidades del MSE son kilogramos al cuadrado, por lo que es difícil decir qué significa eso.\n",
        "\n",
        "Una solución es utilizar la raíz cuadrada del **MSE**, llamada \"error cuadrático medio\", o **RMSE**.\n",
        "\n",
        "$$\n",
        "RMSE = \\sqrt{ \\frac{1}{N} \\sum_{i=1}^N (y_i - \\hat{y}_i)^2 }\n",
        "$$\n",
        "\n",
        "\n",
        "Otra opción es utilizar la media de los valores absolutos de los errores, llamada \"error absoluto medio\" o **MAE**.\n",
        "\n",
        "$$\n",
        "MAE = \\frac{1}{N} \\sum_{i=1}^N |y_i - \\hat{y}_i|\n",
        "$$\n",
        "\n",
        "La siguiente función calcula el MAE para una secuencia de estimaciones."
      ],
      "metadata": {
        "id": "H3cw9U3zdwZ7"
      }
    },
    {
      "cell_type": "code",
      "source": [
        "def mae(estimates, actual):\n",
        "    \"\"\"Mean absolute error of a sequence of estimates.\"\"\"\n",
        "    errors = np.asarray(estimates) - actual\n",
        "    return np.mean(np.abs(errors))"
      ],
      "metadata": {
        "id": "Jj14ltC5fLq7"
      },
      "execution_count": 16,
      "outputs": []
    },
    {
      "cell_type": "markdown",
      "source": [
        "Aquí está la MAE de las medias muestrales."
      ],
      "metadata": {
        "id": "2Zm0wSreg3gB"
      }
    },
    {
      "cell_type": "code",
      "source": [
        "mae(means, mu).item()"
      ],
      "metadata": {
        "id": "cz7MIX5Qg7ll",
        "colab": {
          "base_uri": "https://localhost:8080/"
        },
        "outputId": "792ee78a-1f38-41b6-b35e-3649afa081f0"
      },
      "execution_count": 17,
      "outputs": [
        {
          "output_type": "execute_result",
          "data": {
            "text/plain": [
              "0.11540433749505272"
            ]
          },
          "metadata": {},
          "execution_count": 17
        }
      ]
    },
    {
      "cell_type": "markdown",
      "source": [
        "Y las medianas muestrales."
      ],
      "metadata": {
        "id": "kuEwjFyag3iW"
      }
    },
    {
      "cell_type": "code",
      "source": [
        "mae(medians, mu).item()"
      ],
      "metadata": {
        "id": "qRMIuL8Bg9m8",
        "colab": {
          "base_uri": "https://localhost:8080/"
        },
        "outputId": "55f0da26-edd2-43b7-d686-59205ab3b307"
      },
      "execution_count": 18,
      "outputs": [
        {
          "output_type": "execute_result",
          "data": {
            "text/plain": [
              "0.13654429774596036"
            ]
          },
          "metadata": {},
          "execution_count": 18
        }
      ]
    },
    {
      "cell_type": "markdown",
      "source": [
        "En promedio, esperamos que la **media muestral** se desvíe en aproximadamente **0.115 kg** y que la **mediana muestral** se desvíe en **0.137 kg**.\n",
        "\n",
        "Por lo tanto, la **media muestral** es probablemente la mejor opción, al menos para este ejemplo."
      ],
      "metadata": {
        "id": "YZiccDB4g3lD"
      }
    },
    {
      "cell_type": "markdown",
      "source": [
        "---\n",
        "\n",
        "# Robustez (media - mediana)\n",
        "\n",
        "Ahora consideremos un escenario diferente.\n",
        "Supongamos que, en el `2%` de las ocasiones, cuando intentas pesar un pingüino, este pulsa accidentalmente el botón de unidades de la báscula y el peso se registra en libras en lugar de en kilogramos.\n",
        "Suponiendo que el error pasa desapercibido, introduce un valor atípico (outlier) en la muestra.\n",
        "\n",
        "<br>\n",
        "\n",
        "La siguiente función simula este escenario, multiplicando el `2%` de los pesos por el factor de conversión de `2.2 libras por kilogramo`."
      ],
      "metadata": {
        "id": "pYTku1bRg3m8"
      }
    },
    {
      "cell_type": "code",
      "source": [
        "def make_sample_with_errors(n):\n",
        "    sample = np.random.normal(mu, sigma, size=n)\n",
        "    factor = np.random.choice([1, 2.2], p=[0.98, 0.02], size=n)\n",
        "    return sample * factor"
      ],
      "metadata": {
        "id": "UZ7hz2aRi8D9"
      },
      "execution_count": 19,
      "outputs": []
    },
    {
      "cell_type": "markdown",
      "source": [
        "Para ver qué efecto tiene esto en la distribución, generaremos una muestra grande."
      ],
      "metadata": {
        "id": "FhnRc06_kwfO"
      }
    },
    {
      "cell_type": "code",
      "source": [
        "sample = make_sample_with_errors(n=1000)"
      ],
      "metadata": {
        "id": "I_BXzu2Skxs7"
      },
      "execution_count": 20,
      "outputs": []
    },
    {
      "cell_type": "markdown",
      "source": [
        "Para trazar la distribución de la muestra, utilizaremos lo que se conoce como Kernel Density Estimation (KDE). La cual es una forma de estimar la función de densidad de probabilidad (PDF)."
      ],
      "metadata": {
        "id": "qZbwZO-nk0xc"
      }
    },
    {
      "cell_type": "code",
      "source": [
        "from scipy.stats import gaussian_kde\n",
        "\n",
        "kde = gaussian_kde(sample)\n",
        "\n",
        "eval_points = np.linspace(0, max(sample), 500) #dominio\n",
        "pdf_values = kde.pdf(eval_points)\n",
        "\n",
        "plt.figure(figsize=(10, 8))\n",
        "plt.plot(eval_points, pdf_values)\n",
        "plt.xlabel(\"Peso Pinguino (kg)\")\n",
        "plt.ylabel(\"Densidad\")\n",
        "plt.title(\"Funcion de densidad (PDF) estimada\")\n",
        "plt.grid(True)\n",
        "plt.show()"
      ],
      "metadata": {
        "id": "KkwVgYngk03x",
        "colab": {
          "base_uri": "https://localhost:8080/",
          "height": 718
        },
        "outputId": "b0537235-a705-42fa-ade9-f32ca075b252"
      },
      "execution_count": 21,
      "outputs": [
        {
          "output_type": "display_data",
          "data": {
            "text/plain": [
              "<Figure size 1000x800 with 1 Axes>"
            ],
            "image/png": "[encoded data removed]"
          },
          "metadata": {}
        }
      ]
    },
    {
      "cell_type": "markdown",
      "source": [
        "Además del modo cercano a los `3.7 kg`, los errores de medición introducen un segundo modo cercano a los `8 kg`.\n",
        "\n",
        "Ahora repitamos el experimento anterior, simulando muchas muestras con tamaño `10`, calculando la `media` de cada muestra y, a continuación, calculando la `media de las medias de las muestras`."
      ],
      "metadata": {
        "id": "PS2mH569B_dM"
      }
    },
    {
      "cell_type": "code",
      "source": [
        "means = [np.mean(make_sample_with_errors(n=10)) for i in range(10001)]\n",
        "\n",
        "np.mean(means).item()"
      ],
      "metadata": {
        "id": "-so87oIwlpEl",
        "colab": {
          "base_uri": "https://localhost:8080/"
        },
        "outputId": "fa43d31e-dc6b-4160-9f33-ea04c286de27"
      },
      "execution_count": 22,
      "outputs": [
        {
          "output_type": "execute_result",
          "data": {
            "text/plain": [
              "3.786352945690677"
            ]
          },
          "metadata": {},
          "execution_count": 22
        }
      ]
    },
    {
      "cell_type": "markdown",
      "source": [
        "Los errores de medición hacen que la `media muestral` sea, en promedio, superior a `3.7 kg`.\n",
        "\n",
        "Ahora veamos el mismo experimento utilizando `medianas muestrales`."
      ],
      "metadata": {
        "id": "T46Mnoh2Da9T"
      }
    },
    {
      "cell_type": "code",
      "source": [
        "medians = [np.median(make_sample_with_errors(n=10)) for i in range(10001)]\n",
        "\n",
        "np.mean(medians).item()"
      ],
      "metadata": {
        "id": "54T546JmDjpY",
        "colab": {
          "base_uri": "https://localhost:8080/"
        },
        "outputId": "992d4d83-ab1e-4271-e849-7a9314647d60"
      },
      "execution_count": 23,
      "outputs": [
        {
          "output_type": "execute_result",
          "data": {
            "text/plain": [
              "3.7121869836715353"
            ]
          },
          "metadata": {},
          "execution_count": 23
        }
      ]
    },
    {
      "cell_type": "markdown",
      "source": [
        "La `media de las medianas de la muestra` también es superior a `3.7 kg`, pero la diferencia no es tan grande.\n",
        "Si comparamos el `MSE` de las estimaciones, vemos que las `medianas de la muestra son sustancialmente más precisas`.\n"
      ],
      "metadata": {
        "id": "6MkQYrcbDjts"
      }
    },
    {
      "cell_type": "code",
      "source": [
        "print(f\"MSE media: {mse(means, mu).item()}, MSE mediana: {mse(medians, mu).item()}\")"
      ],
      "metadata": {
        "id": "8FtpHr5PD4uU",
        "colab": {
          "base_uri": "https://localhost:8080/"
        },
        "outputId": "a6c92e19-89e3-426d-dec3-5cb6fb761508"
      },
      "execution_count": 24,
      "outputs": [
        {
          "output_type": "stream",
          "name": "stdout",
          "text": [
            "MSE media: 0.06853430354724438, MSE mediana: 0.031164467796883758\n"
          ]
        }
      ]
    },
    {
      "cell_type": "markdown",
      "source": [
        "Si las mediciones proceden realmente de una distribución normal, la media de la muestra minimiza el MSE, pero este escenario viola esa suposición, por lo que la media de la muestra no minimiza el MSE.\n",
        "\n",
        "La `mediana de la muestra es menos sensible a los valores atípicos`, por lo que es menos sesgada y su MSE es menor.\n",
        "\n",
        "<br>\n",
        "\n",
        "Los estimadores que tratan bien los valores atípicos, y violaciones similares de los supuestos, se consideran **robustos**."
      ],
      "metadata": {
        "id": "_rdk_urzD5E7"
      }
    },
    {
      "cell_type": "markdown",
      "source": [
        "\n",
        "\n",
        "---\n",
        "\n",
        "# Estimación de Varianza\n",
        "\n",
        "Como otro ejemplo, supongamos que queremos estimar la varianza en los pesos de los pingüinos. Hay dos formas de calcular la varianza de una muestra.\n",
        "\n",
        "La razón por la que hay dos formas de calcular la varianza de una muestra es que una es un `estimador sesgado` de la `varianza poblacional`, y la otra es `insesgada`.  \n",
        "\n",
        "<br>\n",
        "\n",
        "La siguiente función calcula el `estimador sesgado`, que es la suma de las desviaciones cuadráticas dividida por `n`.\n",
        "\n",
        "$$\n",
        "s^2 = \\frac{1}{n} \\sum_{i=1}^{n} (x_i - \\bar{x})^2\n",
        "$$"
      ],
      "metadata": {
        "id": "bnoefGkcGkM9"
      }
    },
    {
      "cell_type": "code",
      "source": [
        "def biased_var(xs):\n",
        "    # computa la varianza con n en el denominador\n",
        "    n = len(xs)\n",
        "    deviations = xs - np.mean(xs)\n",
        "    return np.sum(deviations**2) / n"
      ],
      "metadata": {
        "id": "FROEOg1iEQ6f"
      },
      "execution_count": 25,
      "outputs": []
    },
    {
      "cell_type": "markdown",
      "source": [
        "Para probarlo, simularemos muchas muestras con un tamaño de `10`, calcularemos la varianza sesgada de cada muestra y, a continuación, calcularemos la `media de las varianzas`."
      ],
      "metadata": {
        "id": "T_3tZqSNJmi7"
      }
    },
    {
      "cell_type": "code",
      "source": [
        "biased_vars = [biased_var(make_sample(n=10)) for i in range(10001)]\n",
        "\n",
        "np.mean(biased_vars).item()"
      ],
      "metadata": {
        "id": "D64-iFqVJxWd",
        "colab": {
          "base_uri": "https://localhost:8080/"
        },
        "outputId": "f3b9c4d9-ba76-4bc3-bc7e-810617c3aeef"
      },
      "execution_count": 26,
      "outputs": [
        {
          "output_type": "execute_result",
          "data": {
            "text/plain": [
              "0.19049277659404473"
            ]
          },
          "metadata": {},
          "execution_count": 26
        }
      ]
    },
    {
      "cell_type": "markdown",
      "source": [
        "El resultado es aproximadamente `0.19`, pero en este caso sabemos que la varianza real de la población es de aproximadamente $\\sigma^2 = (0.46)^2 = 0.21$, por lo que esta versión de la `varianza muestral` es demasiado baja en promedio, lo que confirma que es `sesgada`."
      ],
      "metadata": {
        "id": "-XK85iC7Kor_"
      }
    },
    {
      "cell_type": "code",
      "source": [
        "actual_var = sigma**2\n",
        "actual_var"
      ],
      "metadata": {
        "id": "QZR_qhaBK8jY",
        "colab": {
          "base_uri": "https://localhost:8080/"
        },
        "outputId": "cee78e0c-7a54-4d4e-ea68-4504e8395d57"
      },
      "execution_count": 27,
      "outputs": [
        {
          "output_type": "execute_result",
          "data": {
            "text/plain": [
              "0.2116"
            ]
          },
          "metadata": {},
          "execution_count": 27
        }
      ]
    },
    {
      "cell_type": "markdown",
      "source": [
        "La siguiente función calcula el `estimador insesgado`, que es la suma de las desviaciones al cuadrado dividida por `n-1`.\n",
        "\n",
        "$$\n",
        "s^2 = \\frac{1}{(n-1)} \\sum_{i=1}^{n} (x_i - \\bar{x})^2\n",
        "$$"
      ],
      "metadata": {
        "id": "nOOdCLJZLXEd"
      }
    },
    {
      "cell_type": "code",
      "source": [
        "def unbiased_var(xs):\n",
        "    # computa la varianza con n-1 en el denominador\n",
        "    n = len(xs)\n",
        "    deviations = xs - np.mean(xs)\n",
        "    return np.sum(deviations**2) / (n - 1)"
      ],
      "metadata": {
        "id": "_9N8kioNLXn-"
      },
      "execution_count": 28,
      "outputs": []
    },
    {
      "cell_type": "markdown",
      "source": [
        "Podemos probarlo generando muchas muestras y calculando la varianza insesgada para cada una de ellas."
      ],
      "metadata": {
        "id": "i2tsP9ebLXvX"
      }
    },
    {
      "cell_type": "code",
      "source": [
        "unbiased_vars = [unbiased_var(make_sample(n=10)) for i in range(10001)]\n",
        "\n",
        "np.mean(unbiased_vars).item()"
      ],
      "metadata": {
        "id": "gLS7MhtiLZDn",
        "colab": {
          "base_uri": "https://localhost:8080/"
        },
        "outputId": "409bf327-fac3-420d-ae0b-bdc922ec2812"
      },
      "execution_count": 29,
      "outputs": [
        {
          "output_type": "execute_result",
          "data": {
            "text/plain": [
              "0.21159109492300626"
            ]
          },
          "metadata": {},
          "execution_count": 29
        }
      ]
    },
    {
      "cell_type": "markdown",
      "source": [
        "El `promedio de las varianzas insesgadas de las muestras es muy cercano al valor real`, que es lo que esperamos si es `insesgado`.\n",
        "\n",
        "* Con un `tamaño de muestra de 10`, la diferencia entre los estimadores sesgados y no sesgados es de aproximadamente el `10%`, lo que podría ser significativo.\n",
        "\n",
        "* Con un `tamaño de muestra de 100`, la diferencia es solo del `1%`, lo que es lo suficientemente pequeño como para que probablemente no importe en la práctica."
      ],
      "metadata": {
        "id": "lxfwCRMgLZIh"
      }
    },
    {
      "cell_type": "code",
      "source": [
        "n = 10\n",
        "\n",
        "biased_vars = np.mean([biased_var(make_sample(n=n)) for i in range(10001)])\n",
        "unbiased_vars = np.mean([unbiased_var(make_sample(n=n)) for i in range(10001)])\n",
        "\n",
        "\n",
        "print(f\"{(1 - (biased_vars / unbiased_vars))*100:3f}%\")"
      ],
      "metadata": {
        "id": "VkG8ceBYMU35",
        "colab": {
          "base_uri": "https://localhost:8080/"
        },
        "outputId": "75d4687a-1392-406d-e6b5-0ad7d032766a"
      },
      "execution_count": 30,
      "outputs": [
        {
          "output_type": "stream",
          "name": "stdout",
          "text": [
            "9.018619%\n"
          ]
        }
      ]
    },
    {
      "cell_type": "code",
      "source": [
        "n = 100\n",
        "\n",
        "biased_vars = np.mean([biased_var(make_sample(n=n)) for i in range(10001)])\n",
        "unbiased_vars = np.mean([unbiased_var(make_sample(n=n)) for i in range(10001)])\n",
        "\n",
        "\n",
        "print(f\"{(1 - (biased_vars / unbiased_vars))*100:3f}%\")"
      ],
      "metadata": {
        "id": "Lv1trQhTMU6a",
        "colab": {
          "base_uri": "https://localhost:8080/"
        },
        "outputId": "0a6a4042-e9ec-49ca-a1b3-9ac142bee8e4"
      },
      "execution_count": 31,
      "outputs": [
        {
          "output_type": "stream",
          "name": "stdout",
          "text": [
            "0.813364%\n"
          ]
        }
      ]
    },
    {
      "cell_type": "markdown",
      "source": [
        "---\n",
        "---\n",
        "# Distribuciones muestrales\n",
        "\n",
        "Hasta ahora hemos estado trabajando con datos simulados, suponiendo que el peso de los pingüinos se extrae de una distribución normal con parámetros conocidos.\n",
        "Ahora veamos qué sucede con datos reales.\n",
        "\n",
        "Entre 2007 y 2010, investigadores de la estación Palmer en la Antártida midieron y pesaron 342 pingüinos de poblaciones locales.\n",
        "Los datos que recopilaron están disponibles gratuitamente."
      ],
      "metadata": {
        "id": "TjG9jFMEW0Z8"
      }
    },
    {
      "cell_type": "code",
      "source": [
        "def from_seq(seq, name=None, normalize=True, sort=True, ascending=True, dropna=True, na_position=\"last\", convert_to=\"PMF\"):\n",
        "  \"\"\"Crea un PMF a partir de una secuencia de valores.\n",
        "  Args:\n",
        "      seq: iterable\n",
        "      normalize: si se debe normalizar la serie (i.e, Pmf), por defecto True\n",
        "      sort: si se debe ordenar la serie por valores, por defecto True\n",
        "      ascending: si se debe ordenar en orden ascendente, por defecto True\n",
        "      dropna: si se deben eliminar los valores NaN, por defecto True\n",
        "      na_position: si es 'first', coloca los NaNs al principio;\n",
        "                  si es 'last', coloca los NaNs al final.\n",
        "      convert_to: si es 'Freq', Crea una tabla de frecuencia;\n",
        "                  si es 'PMF' (default), crea una funcion de masa de probabilidad;\n",
        "                  si es 'CDF', crea una función de distribución acumulada.\n",
        "\n",
        "  Returns: pd.Series\n",
        "  \"\"\"\n",
        "  if convert_to == \"Freq\":\n",
        "    normalize=False\n",
        "\n",
        "  # compute the value counts\n",
        "  series = pd.Series(seq, name=name).value_counts(normalize=normalize, sort=sort, dropna=dropna)\n",
        "\n",
        "  # sort in place, if desired\n",
        "  if sort:\n",
        "    series.sort_index(inplace=True, ascending=ascending, na_position=na_position)\n",
        "\n",
        "  if convert_to == \"CDF\":\n",
        "    series = np.cumsum(series)\n",
        "\n",
        "  return series\n",
        "\n",
        "def get_qs(Tab):\n",
        "    \"\"\"Obtener las cantidades.\n",
        "\n",
        "    Returns: NumPy array\n",
        "    \"\"\"\n",
        "    return Tab.index.values\n",
        "\n",
        "def get_ps(Tab):\n",
        "    \"\"\"Obtener las probabilidades.\n",
        "\n",
        "    Returns: NumPy array\n",
        "    \"\"\"\n",
        "    return Tab.values\n",
        "\n",
        "def plot_cdf_plots(cdf_model, cdf_data, labels=[\"model\", \"data\"], xlabel=\"x\", ylabel=\"CDF\", title=None):\n",
        "    \"\"\"Crea un gráfico comparativo de dos CDFs.\n",
        "    Args:\n",
        "        cdf_model: CDF de distribucion que presuntamente se aproxima al comportamiento de los datos\n",
        "        cdf_data: CDF de los datos a analisar\n",
        "        labels: Etiquetas a ser mostradas en el grafico, i.e., modelo y datos.\n",
        "        xlabel: Etiqueta a mostrar en el eje x\n",
        "        ylabel: Etiqueta a mostrar en el eje y\n",
        "        tittle: Titulo que aparecera en el grafico.\n",
        "    \"\"\"\n",
        "    plt.figure(figsize=(8, 5))\n",
        "\n",
        "    plt.plot(get_qs(cdf_model),get_ps(cdf_model), linestyle=\":\", color=\"gray\", label=labels[0])\n",
        "    plt.plot(get_qs(cdf_data),get_ps(cdf_data), label=labels[1])\n",
        "\n",
        "    plt.xlabel(xlabel)\n",
        "    plt.ylabel(ylabel)\n",
        "    if title:\n",
        "        plt.title(title)\n",
        "    plt.legend()"
      ],
      "metadata": {
        "id": "pOIoXtPQHGvV"
      },
      "execution_count": 32,
      "outputs": []
    },
    {
      "cell_type": "markdown",
      "source": [
        "La siguiente celda descarga los datos de un repositorio creado por Allison Horst.\n",
        "\n",
        "Horst AM, Hill AP, Gorman KB (2020). palmerpenguins: Palmer Archipelago (Antarctica) penguin data. R package version 0.1.0. https://allisonhorst.github.io/palmerpenguins/. doi: 10.5281/zenodo.3960218.\n",
        "\n",
        "Los datos se recopilaron como parte de la investigación que dio lugar a este artículo: Gorman KB, Williams TD, Fraser WR (2014). Ecological sexual dimorphism and environmental variability within a community of Antarctic penguins (genus Pygoscelis). PLoS ONE 9(3):e90081. https://doi.org/10.1371/journal.pone.0090081"
      ],
      "metadata": {
        "id": "jST9TUgtXAD-"
      }
    },
    {
      "cell_type": "code",
      "source": [
        "url = \"https://raw.githubusercontent.com/allisonhorst/palmerpenguins/c19a904462482430170bfe2c718775ddb7dbb885/inst/extdata/penguins_raw.csv\"\n",
        "\n",
        "penguins = pd.read_csv(url).dropna(subset=[\"Body Mass (g)\"])\n",
        "penguins.shape"
      ],
      "metadata": {
        "id": "KruGlPWGXLJN",
        "colab": {
          "base_uri": "https://localhost:8080/"
        },
        "outputId": "30ab76fe-4423-404c-f278-4af7a02ecfd1"
      },
      "execution_count": 33,
      "outputs": [
        {
          "output_type": "execute_result",
          "data": {
            "text/plain": [
              "(342, 17)"
            ]
          },
          "metadata": {},
          "execution_count": 33
        }
      ]
    },
    {
      "cell_type": "markdown",
      "source": [
        "El conjunto de datos incluyo tres especies de pinguinos"
      ],
      "metadata": {
        "id": "haRyjR3rXkV7"
      }
    },
    {
      "cell_type": "code",
      "source": [
        "penguins[\"Species\"].value_counts()"
      ],
      "metadata": {
        "id": "v_1mYB48XrcZ",
        "colab": {
          "base_uri": "https://localhost:8080/",
          "height": 209
        },
        "outputId": "e9ae9c11-8320-439f-91e4-c79f4f16b2ab"
      },
      "execution_count": 34,
      "outputs": [
        {
          "output_type": "execute_result",
          "data": {
            "text/plain": [
              "Species\n",
              "Adelie Penguin (Pygoscelis adeliae)          151\n",
              "Gentoo penguin (Pygoscelis papua)            123\n",
              "Chinstrap penguin (Pygoscelis antarctica)     68\n",
              "Name: count, dtype: int64"
            ],
            "text/html": [
              "<div>\n",
              "<style scoped>\n",
              "    .dataframe tbody tr th:only-of-type {\n",
              "        vertical-align: middle;\n",
              "    }\n",
              "\n",
              "    .dataframe tbody tr th {\n",
              "        vertical-align: top;\n",
              "    }\n",
              "\n",
              "    .dataframe thead th {\n",
              "        text-align: right;\n",
              "    }\n",
              "</style>\n",
              "<table border=\"1\" class=\"dataframe\">\n",
              "  <thead>\n",
              "    <tr style=\"text-align: right;\">\n",
              "      <th></th>\n",
              "      <th>count</th>\n",
              "    </tr>\n",
              "    <tr>\n",
              "      <th>Species</th>\n",
              "      <th></th>\n",
              "    </tr>\n",
              "  </thead>\n",
              "  <tbody>\n",
              "    <tr>\n",
              "      <th>Adelie Penguin (Pygoscelis adeliae)</th>\n",
              "      <td>151</td>\n",
              "    </tr>\n",
              "    <tr>\n",
              "      <th>Gentoo penguin (Pygoscelis papua)</th>\n",
              "      <td>123</td>\n",
              "    </tr>\n",
              "    <tr>\n",
              "      <th>Chinstrap penguin (Pygoscelis antarctica)</th>\n",
              "      <td>68</td>\n",
              "    </tr>\n",
              "  </tbody>\n",
              "</table>\n",
              "</div><br><label><b>dtype:</b> int64</label>"
            ]
          },
          "metadata": {},
          "execution_count": 34
        }
      ]
    },
    {
      "cell_type": "markdown",
      "source": [
        "Para el primer ejemplo vamos a seleccionar solo los pingüinos barbijo (Chinstrap)"
      ],
      "metadata": {
        "id": "mKucw4kdX0fx"
      }
    },
    {
      "cell_type": "code",
      "source": [
        "chinstrap = penguins.query('Species.str.startswith(\"Chinstrap\")')"
      ],
      "metadata": {
        "id": "eX6x-ZVkYItS"
      },
      "execution_count": 35,
      "outputs": []
    },
    {
      "cell_type": "markdown",
      "source": [
        "Usaremos esta función para graficar las PDFs estimadas."
      ],
      "metadata": {
        "id": "MtcS4du1YNFJ"
      }
    },
    {
      "cell_type": "code",
      "source": [
        "from scipy.stats import gaussian_kde\n",
        "\n",
        "def plot_kde(sample, name=\"estimated density\", title=\"Funcion de densidad (PDF) estimada\", xlabel=\"\", ylabel=\"Densidad\"):\n",
        "    kde = gaussian_kde(sample)\n",
        "\n",
        "    m, s = np.mean(sample), np.std(sample)\n",
        "    domain = m - 4 * s, m + 4 * s\n",
        "\n",
        "    eval_points = np.linspace(domain[0], domain[1], 500) #dominio\n",
        "    pdf_values = kde.pdf(eval_points)\n",
        "\n",
        "    plt.figure(figsize=(10, 8))\n",
        "    plt.plot(eval_points, pdf_values, label=name) # Estimacion\n",
        "    plt.axvline(m, color=\"gray\", ls=\":\") #media de la muestra\n",
        "    plt.text(m + 0.001, 0, f\"Mean: {m:.3f}\", rotation=90, va='center', ha='left') # Agrega texto cerca de la linea axvline\n",
        "    plt.legend()\n",
        "    plt.xlabel(xlabel)\n",
        "    plt.ylabel(ylabel)\n",
        "    plt.title(title)\n",
        "    plt.grid(True)"
      ],
      "metadata": {
        "id": "xco8tfvCYNMh"
      },
      "execution_count": 36,
      "outputs": []
    },
    {
      "cell_type": "markdown",
      "source": [
        "Aquí está la distribución del peso de los pingüinos barbijo en kilogramos.\n",
        "La línea punteada vertical muestra la media de la muestra."
      ],
      "metadata": {
        "id": "ASBHL0bNYgrC"
      }
    },
    {
      "cell_type": "code",
      "source": [
        "weights = chinstrap[\"Body Mass (g)\"] / 1000 #transformando gramos a Kilogramos\n",
        "plot_kde(weights, \"Pesos\", xlabel=\"Peso de pinguino (Kg)\")"
      ],
      "metadata": {
        "id": "lmhDHkqcZ0NR",
        "colab": {
          "base_uri": "https://localhost:8080/",
          "height": 718
        },
        "outputId": "aca30d1f-d505-427c-fb77-ef3fb416d4f4"
      },
      "execution_count": 37,
      "outputs": [
        {
          "output_type": "display_data",
          "data": {
            "text/plain": [
              "<Figure size 1000x800 with 1 Axes>"
            ],
            "image/png": "[encoded data removed]"
          },
          "metadata": {}
        }
      ]
    },
    {
      "cell_type": "markdown",
      "source": [
        "Para ver si los pesos de los pingüinos siguen una distribución normal, calcularemos la CDF empírica de los datos. Calcularemos la CDF analítica de una distribución normal con la misma media y desviación estándar."
      ],
      "metadata": {
        "id": "Lb5gKkQsVEGe"
      }
    },
    {
      "cell_type": "code",
      "source": [
        "from scipy.stats import norm\n",
        "\n",
        "m, s = weights.mean(), weights.std()\n",
        "\n",
        "dist = norm(m, s)\n",
        "qs = np.linspace(m - 3.5 * s, m + 3.5 * s)\n",
        "ps = dist.cdf(qs)\n",
        "\n",
        "cdf_norm = pd.Series(ps, index=qs)"
      ],
      "metadata": {
        "id": "Z14JOcQFHoT-"
      },
      "execution_count": 38,
      "outputs": []
    },
    {
      "cell_type": "code",
      "source": [
        "cdf_weights = from_seq(weights, convert_to='CDF')"
      ],
      "metadata": {
        "id": "mF4IbOESHqmh"
      },
      "execution_count": 39,
      "outputs": []
    },
    {
      "cell_type": "markdown",
      "source": [
        "Así es como se ve la CDF de los datos en comparación con el modelo normal."
      ],
      "metadata": {
        "id": "w3F_nSGSVIzN"
      }
    },
    {
      "cell_type": "code",
      "source": [
        "plot_cdf_plots(cdf_norm, cdf_weights, labels=[\"Normal distribution model\", \"datos\"], xlabel=\"Peso de pinguino (Kg)\")"
      ],
      "metadata": {
        "id": "9j2upf2sHoY8",
        "colab": {
          "base_uri": "https://localhost:8080/",
          "height": 465
        },
        "outputId": "d03f1b19-e7f1-485a-c62d-ac3ed1830ba2"
      },
      "execution_count": 40,
      "outputs": [
        {
          "output_type": "display_data",
          "data": {
            "text/plain": [
              "<Figure size 800x500 with 1 Axes>"
            ],
            "image/png": "[encoded data removed]"
          },
          "metadata": {}
        }
      ]
    },
    {
      "cell_type": "markdown",
      "source": [
        "La media muestral es aproximadamente..."
      ],
      "metadata": {
        "id": "vwvZl-dzeZQW"
      }
    },
    {
      "cell_type": "code",
      "source": [
        "sample_mean = np.mean(weights)\n",
        "\n",
        "sample_mean.item()"
      ],
      "metadata": {
        "id": "OFqzl_Gief-N",
        "colab": {
          "base_uri": "https://localhost:8080/"
        },
        "outputId": "ca09a2a3-1fa1-4c37-97ea-d8f1689cb33e"
      },
      "execution_count": 41,
      "outputs": [
        {
          "output_type": "execute_result",
          "data": {
            "text/plain": [
              "3.733088235294118"
            ]
          },
          "metadata": {},
          "execution_count": 41
        }
      ]
    },
    {
      "cell_type": "markdown",
      "source": [
        "Si se le pide que calcule la media poblacional, `3.7 kg` es una opción razonable, pero **¿qué grado de precisión tiene esa estimación?**"
      ],
      "metadata": {
        "id": "ArRp6CHOg2EM"
      }
    },
    {
      "cell_type": "markdown",
      "source": [
        "Una forma de responder a esa pregunta es calcular la **distribución muestral de la media**, que muestra cuánto varía la media estimada de una muestra a otra.\n",
        "Si conociéramos la media real y la desviación estándar de la población, podríamos modelar el proceso de muestreo y calcular la distribución muestral.\n",
        "Pero si conociéramos la media real de la población, ¡no tendríamos que estimarla!\n",
        "\n",
        "Afortunadamente, existe una forma sencilla de aproximar la distribución muestral, llamada **remuestreo**.\n",
        "La idea central es utilizar la muestra para crear un modelo de la población y, a continuación, utilizar el modelo para simular el proceso de muestreo.\n",
        "\n",
        "Más concretamente, utilizaremos el **remuestreo paramétrico**, lo que significa que utilizaremos la muestra para estimar los parámetros de la población y, a continuación, utilizaremos una distribución teórica para generar nuevas muestras."
      ],
      "metadata": {
        "id": "JITMbc3-h8PE"
      }
    },
    {
      "cell_type": "markdown",
      "source": [
        "La siguiente función implementa este proceso con una distribución normal.\n",
        "Obsérvese que las nuevas muestras tienen el mismo tamaño que las originales."
      ],
      "metadata": {
        "id": "G4W3hc5Xh49x"
      }
    },
    {
      "cell_type": "code",
      "source": [
        "def resample(sample):\n",
        "    # Generar una muestra a partir de una distribución normal\n",
        "    m, s = np.mean(sample), np.std(sample)\n",
        "    return np.random.normal(m, s, len(sample))"
      ],
      "metadata": {
        "id": "ISJgYwiZeroH"
      },
      "execution_count": 42,
      "outputs": []
    },
    {
      "cell_type": "markdown",
      "source": [
        "Este bucle utiliza `resample` para generar muchas muestras y calcular la `media` de cada una de ellas."
      ],
      "metadata": {
        "id": "Am8Endt5iZoS"
      }
    },
    {
      "cell_type": "code",
      "source": [
        "sample_means = [np.mean(resample(weights)) for i in range(1001)]"
      ],
      "metadata": {
        "id": "lFMuq9FHibfO"
      },
      "execution_count": 43,
      "outputs": []
    },
    {
      "cell_type": "markdown",
      "source": [
        "La siguiente figura muestra la distribución de estas medias muestrales."
      ],
      "metadata": {
        "id": "acizYtBSiby7"
      }
    },
    {
      "cell_type": "code",
      "source": [
        "plot_kde(sample_means, \"Medias muestrales\", xlabel=\"Media muestral del peso (kg)\")"
      ],
      "metadata": {
        "id": "-I7Sh8uSib9W",
        "colab": {
          "base_uri": "https://localhost:8080/",
          "height": 718
        },
        "outputId": "1a8f8423-ea1d-4d01-e8f2-4e76775cebb9"
      },
      "execution_count": 44,
      "outputs": [
        {
          "output_type": "display_data",
          "data": {
            "text/plain": [
              "<Figure size 1000x800 with 1 Axes>"
            ],
            "image/png": "[encoded data removed]"
          },
          "metadata": {}
        }
      ]
    },
    {
      "cell_type": "markdown",
      "source": [
        "Este resultado se aproxima a la `distribución muestral` de la `media muestral`.\n",
        "\n",
        "Muestra cuánto esperamos que varíe la `media muestral` si recopilamos muchas muestras del mismo tamaño, **suponiendo que nuestro modelo de la población sea preciso**.\n",
        "\n",
        "De manera informal, podemos ver que la `media muestral` podría ser tan baja como `3.55`, si recopiláramos otra muestra del mismo tamaño, o tan alta como `3.9`."
      ],
      "metadata": {
        "id": "LEj9yEDVicLa"
      }
    },
    {
      "cell_type": "markdown",
      "source": [
        "## Error estándar\n",
        "\n",
        "Para cuantificar la amplitud de la distribución muestral, una opción es calcular su `desviación estándar`; el resultado se denomina **error estándar**."
      ],
      "metadata": {
        "id": "UsPZGoMBl1P6"
      }
    },
    {
      "cell_type": "code",
      "source": [
        "standard_error = np.std(sample_means)\n",
        "\n",
        "standard_error.item()"
      ],
      "metadata": {
        "id": "XWf3-89JickB",
        "colab": {
          "base_uri": "https://localhost:8080/"
        },
        "outputId": "b3be7d24-0aaa-4af6-c44b-7bdae02b2643"
      },
      "execution_count": 45,
      "outputs": [
        {
          "output_type": "execute_result",
          "data": {
            "text/plain": [
              "0.04711563337438791"
            ]
          },
          "metadata": {},
          "execution_count": 45
        }
      ]
    },
    {
      "cell_type": "markdown",
      "source": [
        "En este caso, el `error estándar` es de aproximadamente `0.045 kg`, por lo que si recogemos muchas muestras, esperamos que las `medias muestrales` varíen en torno a `0.045 kg`, de media."
      ],
      "metadata": {
        "id": "KNAsGZPCmgYK"
      }
    },
    {
      "cell_type": "markdown",
      "source": [
        "A menudo se confunde el `error estándar` con la `desviación estándar`. Recuerde:\n",
        "\n",
        "* La `desviación estándar` cuantifica la variación en las mediciones.\n",
        "\n",
        "* El `error estándar` cuantifica la precisión de una estimación."
      ],
      "metadata": {
        "id": "q7NjB_y0miEV"
      }
    },
    {
      "cell_type": "markdown",
      "source": [
        "En este conjunto de datos, para los pingüinos barbijo (chinstrap), la `desviación estándar del peso de los pingüinos` es de aproximadamente `0.38 kg`."
      ],
      "metadata": {
        "id": "In0rsAiwpuMp"
      }
    },
    {
      "cell_type": "code",
      "source": [
        "np.std(weights)"
      ],
      "metadata": {
        "id": "b-VqzBlop5rE",
        "colab": {
          "base_uri": "https://localhost:8080/"
        },
        "outputId": "3de225df-3cf3-4411-8579-035fce05e664"
      },
      "execution_count": 46,
      "outputs": [
        {
          "output_type": "execute_result",
          "data": {
            "text/plain": [
              "0.3814986213564681"
            ]
          },
          "metadata": {},
          "execution_count": 46
        }
      ]
    },
    {
      "cell_type": "markdown",
      "source": [
        "y el `error estándar del peso promedio` es de aproximadamente `0.046 kg`."
      ],
      "metadata": {
        "id": "BKUOfq6yp5Bd"
      }
    },
    {
      "cell_type": "markdown",
      "source": [
        "La `desviación estándar` indica cuánto varían los pingüinos en cuanto a peso.\n",
        "El `error estándar` indica la precisión de una estimación.\n",
        "Son respuestas a preguntas diferentes.\n",
        "\n",
        "Sin embargo, existe una relación entre ellos.\n",
        "Si conocemos la `desviación estándar` y el `tamaño de la muestra`, podemos calcular aproximadamente el `error estándar de las medias` de la siguiente manera:\n",
        "\n",
        "$$\n",
        "\\sigma_{\\bar{x}} = SE ≈\\frac{\\sigma}{\\sqrt{n}}\n",
        "$$"
      ],
      "metadata": {
        "id": "DtrxqWxcqgUf"
      }
    },
    {
      "cell_type": "code",
      "source": [
        "def approximate_standard_error(sample):\n",
        "    n = len(sample)\n",
        "    return np.std(sample) / np.sqrt(n)"
      ],
      "metadata": {
        "id": "lFPIcUv1qwy_"
      },
      "execution_count": 47,
      "outputs": []
    },
    {
      "cell_type": "code",
      "source": [
        "approximate_standard_error(weights).item()"
      ],
      "metadata": {
        "id": "HixoF6-8tnP9",
        "colab": {
          "base_uri": "https://localhost:8080/"
        },
        "outputId": "25323a5a-52a6-47ec-c882-c7a3031d5634"
      },
      "execution_count": 48,
      "outputs": [
        {
          "output_type": "execute_result",
          "data": {
            "text/plain": [
              "0.046263503290595163"
            ]
          },
          "metadata": {},
          "execution_count": 48
        }
      ]
    },
    {
      "cell_type": "markdown",
      "source": [
        "Este resultado es similar al que obtuvimos mediante el remuestreo."
      ],
      "metadata": {
        "id": "4ZFu6xmltpBR"
      }
    },
    {
      "cell_type": "markdown",
      "source": [
        "## Intervalos de confianza\n",
        "\n",
        "Otra forma de resumir la distribución muestral es calcular un **intervalo de confianza**.\n",
        "\n",
        "Por ejemplo, un intervalo de confianza del `90%` contiene el 90% de los valores de la distribución muestral, que podemos hallar calculando los `percentiles 5` y `95`.\n",
        "\n",
        "Este es el `intervalo de confianza del 90%` para el peso medio de los pingüinos barbijo (chinstrap)."
      ],
      "metadata": {
        "id": "keTRvhYHt-w_"
      }
    },
    {
      "cell_type": "code",
      "source": [
        "ci90 = np.percentile(sample_means, [5, 95])\n",
        "ci90"
      ],
      "metadata": {
        "id": "TM93LRbfuOnB",
        "colab": {
          "base_uri": "https://localhost:8080/"
        },
        "outputId": "48f698b0-74b2-47ff-b235-5bcb5007a0cd"
      },
      "execution_count": 49,
      "outputs": [
        {
          "output_type": "execute_result",
          "data": {
            "text/plain": [
              "array([3.64985057, 3.81028072])"
            ]
          },
          "metadata": {},
          "execution_count": 49
        }
      ]
    },
    {
      "cell_type": "markdown",
      "source": [
        "Utilizando la formula tradicional de los Intervalos de Confianza (IC):\n",
        "\n",
        "$$\n",
        "IC = \\bar{X} \\pm t_{\\alpha/2, \\, n-1} \\cdot SE\n",
        "$$"
      ],
      "metadata": {
        "id": "w_KUlOj6rQ5t"
      }
    },
    {
      "cell_type": "code",
      "source": [
        "import numpy as np\n",
        "from scipy import stats\n",
        "\n",
        "def intervalo_confianza_tradicional(datos, alpha=0.05):\n",
        "    \"\"\"\n",
        "    Calcula un intervalo de confianza tradicional para la media.\n",
        "    \"\"\"\n",
        "    n = len(datos)\n",
        "    media_muestral = np.mean(datos)\n",
        "\n",
        "    # Usamos distribución t de Student\n",
        "    t = stats.t.ppf(1 - alpha/2, df=n-1)\n",
        "\n",
        "    error_estandar = np.std(datos, ddof=0)  # Desviación estándar muestral (error estandar)\n",
        "\n",
        "    lim_inf = media_muestral - t * error_estandar\n",
        "    lim_sup = media_muestral + t * error_estandar\n",
        "\n",
        "    return lim_inf.item(), lim_sup.item()"
      ],
      "metadata": {
        "id": "ydZ2SBbDmSTD"
      },
      "execution_count": 50,
      "outputs": []
    },
    {
      "cell_type": "code",
      "source": [
        "ic = intervalo_confianza_tradicional(sample_means, alpha=0.10)  # Varianza poblacional desconocida\n",
        "print(\"IC 90% (usando t-Student):\", ic)"
      ],
      "metadata": {
        "id": "l2GVo8DomjNe",
        "colab": {
          "base_uri": "https://localhost:8080/"
        },
        "outputId": "867ac4f4-c34d-4320-ffb9-403577cf49d1"
      },
      "execution_count": 51,
      "outputs": [
        {
          "output_type": "stream",
          "name": "stdout",
          "text": [
            "IC 90% (usando t-Student): (3.6543089020793085, 3.8094492635804693)\n"
          ]
        }
      ]
    },
    {
      "cell_type": "markdown",
      "source": [
        "Para interpretar un intervalo de confianza, es tentador decir que hay un **90% de probabilidades de que el valor real del parámetro poblacional se encuentre dentro del intervalo de confianza del 90%**.\n",
        "En este ejemplo, diríamos que hay un **90% de probabilidades de que la media poblacional de los pingüinos barbijo se encuentre entre 3.66 y 3.81 kg**.\n",
        "\n",
        "Según una filosofía estricta de la probabilidad llamada **frecuentismo**, esta interpretación no estaría permitida, y en muchos libros de estadística se dice que esta interpretación es errónea.\n",
        "\n",
        "En mi opinión, esta prohibición es innecesariamente estricta.\n",
        "Según filosofías razonables de probabilidad, un intervalo de confianza significa lo que la gente espera que signifique: `hay un 90% de probabilidades de que el valor real se encuentre en el intervalo de confianza del 90%`.\n",
        "\n",
        "Sin embargo, `los intervalos de confianza solo cuantifican la variabilidad debida al muestreo`, es decir, la medición de solo una parte de la población.\n",
        "La distribución muestral no tiene en cuenta otras fuentes de error, en particular el `sesgo de muestreo` y el `error de medición`."
      ],
      "metadata": {
        "id": "iGWsO_fRuVN9"
      }
    },
    {
      "cell_type": "markdown",
      "source": [
        "---\n",
        "\n",
        "---\n",
        "\n",
        "# EJERCICIO #1"
      ],
      "metadata": {
        "id": "ck2R7b28Pw-a"
      }
    },
    {
      "cell_type": "markdown",
      "source": [
        "En deportes como el fútbol y el hockey, el tiempo entre goles tiende a seguir una distribución exponencial (como vimos en el notebook anterior). Supongamos que observamos una muestra de tiempos entre goles. Si asumimos que la muestra proviene de una distribución exponencial, **¿cómo podemos estimar la media real de la distribución?**\n",
        "\n",
        "Podríamos considerar usar la **media muestral** o la **mediana muestral**. Veamos si alguno de ellos es un estimador consistente y no sesgado.\n",
        "Para los experimentos, supondremos que la media real del tiempo entre goles es de 10 minutos."
      ],
      "metadata": {
        "id": "ZLXeOhIpP0W0"
      }
    },
    {
      "cell_type": "code",
      "source": [
        "actual_mean = 10"
      ],
      "metadata": {
        "id": "3awtILDZQpqO"
      },
      "execution_count": 52,
      "outputs": []
    },
    {
      "cell_type": "markdown",
      "source": [
        "La siguiente función genera una muestra de una distribución exponencial con esta media y el tamaño de muestra especificado:"
      ],
      "metadata": {
        "id": "irHwwe0gQq96"
      }
    },
    {
      "cell_type": "code",
      "source": [
        "def make_exponential(n):\n",
        "    return np.random.exponential(actual_mean, size=n)"
      ],
      "metadata": {
        "id": "mVLtnOrTu2iV"
      },
      "execution_count": 53,
      "outputs": []
    },
    {
      "cell_type": "markdown",
      "source": [
        "Usa esta función para generar muestras con diferentes tamaños `[5, 10, 20, 50, 100, 200, 500, 1000, 5000, 10000]` y calcular la **media** de cada una. Grafica el resultado obtenido, utiliza `plt.axhline` para mostrar la linea donde deberia converger.\n",
        "\n",
        "**A medida que `n` aumenta, ¿las medias muestrales convergen a la media real?**"
      ],
      "metadata": {
        "id": "Z8kjORinQwL5"
      }
    },
    {
      "cell_type": "code",
      "source": [
        "ns = [5, 10, 20, 50, 100, 200, 500, 1000, 5000, 10000]\n",
        "means = [np.mean(make_exponential(n)) for n in ns]\n",
        "\n",
        "plt.figure(figsize=(10, 6))\n",
        "plt.axhline(actual_mean, color=\"gray\", lw=1, alpha=0.5, label=\"Media real\")\n",
        "plt.plot(ns, means, \"--\", label=\"Media muestral\")\n",
        "plt.xlabel(\"Tamaño de muestra (n)\")\n",
        "plt.ylabel(\"Media muestral\")\n",
        "plt.xscale(\"log\")\n",
        "plt.legend()\n",
        "plt.title(\"Convergencia de la media muestral a la media real\")\n",
        "plt.show()"
      ],
      "metadata": {
        "id": "ZYZYcZdmRdHX",
        "colab": {
          "base_uri": "https://localhost:8080/",
          "height": 569
        },
        "outputId": "172d63b2-1408-44b0-aaed-f95b2adb2db9"
      },
      "execution_count": 55,
      "outputs": [
        {
          "output_type": "display_data",
          "data": {
            "text/plain": [
              "<Figure size 1000x600 with 1 Axes>"
            ],
            "image/png": "[encoded data removed]"
          },
          "metadata": {}
        }
      ]
    },
    {
      "cell_type": "markdown",
      "source": [
        "Aquí está la **mediana real de una distribución exponencial** con la **media** dada:"
      ],
      "metadata": {
        "id": "i1801lpfSOiE"
      }
    },
    {
      "cell_type": "code",
      "source": [
        "actual_median = np.log(2) * actual_mean\n",
        "actual_median"
      ],
      "metadata": {
        "id": "Q-BE1-gKQ61K",
        "colab": {
          "base_uri": "https://localhost:8080/"
        },
        "outputId": "184415a5-b114-4411-81f4-f8925ad4346e"
      },
      "execution_count": 56,
      "outputs": [
        {
          "output_type": "execute_result",
          "data": {
            "text/plain": [
              "np.float64(6.931471805599453)"
            ]
          },
          "metadata": {},
          "execution_count": 56
        }
      ]
    },
    {
      "cell_type": "markdown",
      "source": [
        "Luego, genera **muestras con diferentes tamaños** (utiliza las mismos tamaños que en la media) y calcula la **mediana** de cada una. Nuevamente, grafica el resultado.\n",
        "\n",
        "**¿Las medianas muestrales convergen a la mediana real?**"
      ],
      "metadata": {
        "id": "xiqK58PCQ3wt"
      }
    },
    {
      "cell_type": "code",
      "source": [
        "# Tu codigo aqui\n",
        "ns = [5, 10, 20, 50, 100, 200, 500, 1000, 5000, 10000]\n",
        "medians = [np.median(make_exponential(n)) for n in ns]\n",
        "\n",
        "plt.figure(figsize=(10, 6))\n",
        "plt.axhline(actual_median, color=\"gray\", lw=1, alpha=0.5, label=\"Median real\")\n",
        "plt.plot(ns, medians, \"--\", label=\"Medians muestral\")\n",
        "plt.xlabel(\"Tamaño de muestra (n)\")\n",
        "plt.ylabel(\"Medians muestral\")\n",
        "plt.xscale(\"log\")\n",
        "plt.legend()\n",
        "plt.title(\"Convergencia de la median muestral a la median real\")\n",
        "plt.show()"
      ],
      "metadata": {
        "id": "HWR4MoGKSOdk",
        "colab": {
          "base_uri": "https://localhost:8080/",
          "height": 569
        },
        "outputId": "a5272401-3898-4e5e-ffaa-a060be86a2da"
      },
      "execution_count": 61,
      "outputs": [
        {
          "output_type": "display_data",
          "data": {
            "text/plain": [
              "<Figure size 1000x600 with 1 Axes>"
            ],
            "image/png": "[encoded data removed]"
          },
          "metadata": {}
        }
      ]
    },
    {
      "cell_type": "markdown",
      "source": [
        "Finalmente:\n",
        "\n",
        "1. Genera muchas muestras de tamaño `n=10` y verifica si la **media muestral** es un **estimador no sesgado de la media poblacional**.\n",
        "\n",
        "2. Verifica si la **mediana muestral** es un **estimador no sesgado de la mediana poblacional**.\n",
        "\n",
        "Para ambos casos, muestre el valor estimado, el valor real, el sesgo estimado y el error estandar."
      ],
      "metadata": {
        "id": "xXW1w0EaRGvO"
      }
    },
    {
      "cell_type": "code",
      "source": [
        "# Tu codigo aqui\n",
        "n_samples = 10001\n",
        "sample_size = 10\n",
        "\n",
        "means_exp = [np.mean(make_exponential(n=sample_size)) for _ in range(n_samples)]\n",
        "estimated_mean = np.mean(means_exp)\n",
        "bias_mean = estimated_mean - actual_mean\n",
        "standard_error_mean = np.std(means_exp)\n",
        "\n",
        "print(f\"Media muestral (n={sample_size}):\")\n",
        "print(f\"  Valor estimado: {estimated_mean:.4f}\")\n",
        "print(f\"  Valor real: {actual_mean:.4f}\")\n",
        "print(f\"  Sesgo estimado: {bias_mean:.4f}\")\n",
        "print(f\"  Error estándar: {standard_error_mean:.4f}\")\n",
        "\n",
        "medians_exp = [np.median(make_exponential(n=sample_size)) for _ in range(n_samples)]\n",
        "estimated_median = np.mean(medians_exp)\n",
        "bias_median = estimated_median - actual_median\n",
        "standard_error_median = np.std(medians_exp)\n",
        "\n",
        "print(f\"\\nMediana muestral (n={sample_size}):\")\n",
        "print(f\"  Valor estimado: {estimated_median:.4f}\")\n",
        "print(f\"  Valor real: {actual_median:.4f}\")\n",
        "print(f\"  Sesgo estimado: {bias_median:.4f}\")\n",
        "print(f\"  Error estándar: {standard_error_median:.4f}\")"
      ],
      "metadata": {
        "id": "u7OCQJrITOFL",
        "colab": {
          "base_uri": "https://localhost:8080/"
        },
        "outputId": "7532932c-cca8-43d2-a2ec-5e3a8aaae2d7"
      },
      "execution_count": 66,
      "outputs": [
        {
          "output_type": "stream",
          "name": "stdout",
          "text": [
            "Media muestral (n=10):\n",
            "  Valor estimado: 9.9988\n",
            "  Valor real: 10.0000\n",
            "  Sesgo estimado: -0.0012\n",
            "  Error estándar: 3.1572\n",
            "\n",
            "Mediana muestral (n=10):\n",
            "  Valor estimado: 7.4432\n",
            "  Valor real: 6.9315\n",
            "  Sesgo estimado: 0.5117\n",
            "  Error estándar: 3.1052\n"
          ]
        }
      ]
    },
    {
      "cell_type": "markdown",
      "source": [
        "**¿Que podemos concluir?¿La media es un estimador sesgado? ¿La mediana es un estimador sesgado?**"
      ],
      "metadata": {
        "id": "7GdTciyfci7e"
      }
    },
    {
      "cell_type": "markdown",
      "source": [
        "\n",
        "\n",
        "```\n",
        "# Tu respuesta va aqui\n",
        "```\n",
        "\n"
      ],
      "metadata": {
        "id": "iIdRxUXXcuQw"
      }
    },
    {
      "cell_type": "markdown",
      "source": [
        "\n",
        "---\n",
        "---\n",
        "# EJERCICIO #2\n",
        "\n"
      ],
      "metadata": {
        "id": "EjSDsjwWvEkv"
      }
    },
    {
      "cell_type": "markdown",
      "metadata": {
        "id": "7bdfad9f"
      },
      "source": [
        "Anteriormente, hemos probado un **estimador sesgado** de la **varianza** y hemos demostrado que, efectivamente, es sesgado.\n",
        "También hemos demostrado que el estimador insesgado es insesgado.\n",
        "Ahora probemos con la desviación estándar.\n",
        "\n",
        "Para estimar la **desviación estándar** de una población, podemos calcular la **raíz cuadrada del estimador sesgado o insesgado** de la **varianza**, de la siguiente manera:"
      ]
    },
    {
      "cell_type": "code",
      "execution_count": 67,
      "metadata": {
        "id": "20d8a441"
      },
      "outputs": [],
      "source": [
        "def biased_std(sample):\n",
        "    # Square root of the biased estimator of variance\n",
        "    var = biased_var(sample)\n",
        "    return np.sqrt(var)"
      ]
    },
    {
      "cell_type": "code",
      "execution_count": 68,
      "metadata": {
        "id": "84b78ba0"
      },
      "outputs": [],
      "source": [
        "def unbiased_std(sample):\n",
        "    # Square root of the unbiased estimator of variance\n",
        "    var = unbiased_var(sample)\n",
        "    return np.sqrt(var)"
      ]
    },
    {
      "cell_type": "code",
      "source": [
        "def make_sample(n):\n",
        "    return np.random.normal(mu, sigma, size=n)"
      ],
      "metadata": {
        "id": "s3FiRo5dw96Z"
      },
      "execution_count": 69,
      "outputs": []
    },
    {
      "cell_type": "markdown",
      "metadata": {
        "id": "067a2358"
      },
      "source": [
        "Utiliza la funcion `make_sample` para calcular muchas muestras de tamaño `10` a partir de una distribución normal con **media** `3.7` y **desviación estándar** `0.46`.\n",
        "\n",
        "Comprueba si alguna de ellas es un estimador insesgado de la desviación estándar. Estima la diferencia porcentual entre el estimador sesgado y no-sesgado."
      ]
    },
    {
      "cell_type": "code",
      "execution_count": null,
      "metadata": {
        "tags": [],
        "id": "b2a9e6c1"
      },
      "outputs": [],
      "source": [
        "mu, sigma = 3.7, 0.46"
      ]
    },
    {
      "cell_type": "code",
      "execution_count": 74,
      "metadata": {
        "id": "046bc9b3",
        "colab": {
          "base_uri": "https://localhost:8080/"
        },
        "outputId": "08290d7b-f0f3-45c4-dd8c-ab6eb0808a3c"
      },
      "outputs": [
        {
          "output_type": "stream",
          "name": "stdout",
          "text": [
            "Estimador sesgado de la desviación estándar (n=10):\n",
            "  Valor estimado (promedio): 0.4245\n",
            "  Valor real (sigma): 0.4600\n",
            "  Sesgo estimado: -0.0355\n",
            "\n",
            "Estimador insesgado de la desviación estándar (n=10):\n",
            "  Valor estimado (promedio): 0.4480\n",
            "  Valor real (sigma): 0.4600\n",
            "  Sesgo estimado: -0.0120\n",
            "\n",
            "Diferencia porcentual entre el estimador insesgado y sesgado: 5.26%\n"
          ]
        }
      ],
      "source": [
        "n_samples = 10001\n",
        "sample_size = 10\n",
        "\n",
        "biased_stds = [biased_std(make_sample(n=sample_size)) for _ in range(n_samples)]\n",
        "unbiased_stds = [unbiased_std(make_sample(n=sample_size)) for _ in range(n_samples)]\n",
        "\n",
        "estimated_biased_std = np.mean(biased_stds)\n",
        "estimated_unbiased_std = np.mean(unbiased_stds)\n",
        "actual_std = sigma\n",
        "\n",
        "print(f\"Estimador sesgado de la desviación estándar (n={sample_size}):\")\n",
        "print(f\"  Valor estimado (promedio): {estimated_biased_std:.4f}\")\n",
        "print(f\"  Valor real (sigma): {actual_std:.4f}\")\n",
        "print(f\"  Sesgo estimado: {estimated_biased_std - actual_std:.4f}\")\n",
        "\n",
        "print(f\"\\nEstimador insesgado de la desviación estándar (n={sample_size}):\")\n",
        "print(f\"  Valor estimado (promedio): {estimated_unbiased_std:.4f}\")\n",
        "print(f\"  Valor real (sigma): {actual_std:.4f}\")\n",
        "print(f\"  Sesgo estimado: {estimated_unbiased_std - actual_std:.4f}\")\n",
        "\n",
        "percentage_difference = ((estimated_unbiased_std - estimated_biased_std) / estimated_unbiased_std) * 100\n",
        "\n",
        "print(f\"\\nDiferencia porcentual entre el estimador insesgado y sesgado: {percentage_difference:.2f}%\")"
      ]
    },
    {
      "cell_type": "markdown",
      "source": [
        "---\n",
        "---\n",
        "# EJERCICIO #3\n",
        "\n",
        "El conjunto de datos del Sistema de Vigilancia de Factores de Riesgo Conductual (BRFSS) incluye la altura y el peso autoinformados de una muestra de adultos en los Estados Unidos."
      ],
      "metadata": {
        "id": "xNGZUuUMcyZC"
      }
    },
    {
      "cell_type": "code",
      "source": [
        "from os.path import basename, exists\n",
        "from urllib.request import urlretrieve\n",
        "def download(url):\n",
        "    filename = basename(url)\n",
        "    if not exists(filename):\n",
        "        local, _ = urlretrieve(url, filename)\n",
        "        print(\"Downloaded \" + local)\n",
        "\n",
        "download(\"https://github.com/AllenDowney/ThinkStats/raw/v3/data/CDBRFS08.ASC.gz\")"
      ],
      "metadata": {
        "id": "EUvgN3OCMhNw",
        "colab": {
          "base_uri": "https://localhost:8080/"
        },
        "outputId": "34a2e4cf-53e8-4c9f-cb28-9f1f7e55ddc0"
      },
      "execution_count": 75,
      "outputs": [
        {
          "output_type": "stream",
          "name": "stdout",
          "text": [
            "Downloaded CDBRFS08.ASC.gz\n"
          ]
        }
      ]
    },
    {
      "cell_type": "code",
      "source": [
        "def clean_brfss(df):\n",
        "    \"\"\"Recodifica las variables BRFSS.\n",
        "    Args:\n",
        "        df: DataFrame que contiene los datos de BRFSS limpios.\n",
        "    \"\"\"\n",
        "    df[\"age\"] = df[\"age\"].replace([7, 9], np.nan)\n",
        "    df[\"htm3\"] = df[\"htm3\"].replace([999], np.nan)\n",
        "    df[\"wtkg2\"] = df[\"wtkg2\"].replace([99999], np.nan) / 100\n",
        "    df[\"wtyrago\"] = df.wtyrago.replace([7777, 9999], np.nan)\n",
        "    df[\"wtyrago\"] = df.wtyrago.apply(lambda x: x / 2.2 if x < 9000 else x - 9000)\n",
        "\n",
        "def read_brfss(filename=\"CDBRFS08.ASC.gz\", compression=\"gzip\", nrows=None):\n",
        "    \"\"\"Lee los datos BRFSS.\n",
        "    Args:\n",
        "        filename: string que indica la ruta al archivo de datos.\n",
        "        compression: string que indica el tipo de compresión.\n",
        "        nrows: número entero opcional que indica el número de filas que se van a leer, o None para leer todas.\n",
        "    Returns:\n",
        "        DataFrame: BRFSS data with cleaned variables.\n",
        "    \"\"\"\n",
        "    # nombre y aspectos de columnas en\n",
        "    # https://www.cdc.gov/brfss/annual_data/2008/varLayout_table_08.html\n",
        "    var_info = [\n",
        "        (\"age\", 100, 102, int),\n",
        "        (\"sex\", 142, 143, int),\n",
        "        (\"wtyrago\", 126, 130, int),\n",
        "        (\"finalwt\", 798, 808, int),\n",
        "        (\"wtkg2\", 1253, 1258, int),\n",
        "        (\"htm3\", 1250, 1253, int),\n",
        "    ]\n",
        "    columns = [\"name\", \"start\", \"end\", \"type\"]\n",
        "    variables = pd.DataFrame(var_info, columns=columns)\n",
        "\n",
        "    colspecs = variables[[\"start\", \"end\"]].values.tolist()\n",
        "    names = variables[\"name\"].tolist()\n",
        "\n",
        "    df = pd.read_fwf(\n",
        "        filename,\n",
        "        colspecs=colspecs,\n",
        "        names=names,\n",
        "        compression=compression,\n",
        "        nrows=nrows,\n",
        "    )\n",
        "\n",
        "    clean_brfss(df)\n",
        "    return df"
      ],
      "metadata": {
        "id": "ObT_IjfRNB2p"
      },
      "execution_count": 76,
      "outputs": []
    },
    {
      "cell_type": "markdown",
      "source": [
        "Utilice estos datos para estimar la `altura media` de los hombres adultos.\n",
        "Utilice la **funcion `resample`** para aproximar la distribución muestral y calcular un `intervalo de confianza` del `90%`."
      ],
      "metadata": {
        "id": "hvTEoBaKW58h"
      }
    },
    {
      "cell_type": "code",
      "source": [
        "male = read_brfss().query(\"sex == 1\")\n",
        "heights = male[\"htm3\"]\n",
        "heights.describe()"
      ],
      "metadata": {
        "id": "TWViuohfNB8D",
        "colab": {
          "base_uri": "https://localhost:8080/",
          "height": 335
        },
        "outputId": "66313ebd-d9c8-4d7c-c20b-54b5de0b1b2b"
      },
      "execution_count": 77,
      "outputs": [
        {
          "output_type": "execute_result",
          "data": {
            "text/plain": [
              "count    154407.000000\n",
              "mean        178.066221\n",
              "std           7.723563\n",
              "min          61.000000\n",
              "25%         173.000000\n",
              "50%         178.000000\n",
              "75%         183.000000\n",
              "max         236.000000\n",
              "Name: htm3, dtype: float64"
            ],
            "text/html": [
              "<div>\n",
              "<style scoped>\n",
              "    .dataframe tbody tr th:only-of-type {\n",
              "        vertical-align: middle;\n",
              "    }\n",
              "\n",
              "    .dataframe tbody tr th {\n",
              "        vertical-align: top;\n",
              "    }\n",
              "\n",
              "    .dataframe thead th {\n",
              "        text-align: right;\n",
              "    }\n",
              "</style>\n",
              "<table border=\"1\" class=\"dataframe\">\n",
              "  <thead>\n",
              "    <tr style=\"text-align: right;\">\n",
              "      <th></th>\n",
              "      <th>htm3</th>\n",
              "    </tr>\n",
              "  </thead>\n",
              "  <tbody>\n",
              "    <tr>\n",
              "      <th>count</th>\n",
              "      <td>154407.000000</td>\n",
              "    </tr>\n",
              "    <tr>\n",
              "      <th>mean</th>\n",
              "      <td>178.066221</td>\n",
              "    </tr>\n",
              "    <tr>\n",
              "      <th>std</th>\n",
              "      <td>7.723563</td>\n",
              "    </tr>\n",
              "    <tr>\n",
              "      <th>min</th>\n",
              "      <td>61.000000</td>\n",
              "    </tr>\n",
              "    <tr>\n",
              "      <th>25%</th>\n",
              "      <td>173.000000</td>\n",
              "    </tr>\n",
              "    <tr>\n",
              "      <th>50%</th>\n",
              "      <td>178.000000</td>\n",
              "    </tr>\n",
              "    <tr>\n",
              "      <th>75%</th>\n",
              "      <td>183.000000</td>\n",
              "    </tr>\n",
              "    <tr>\n",
              "      <th>max</th>\n",
              "      <td>236.000000</td>\n",
              "    </tr>\n",
              "  </tbody>\n",
              "</table>\n",
              "</div><br><label><b>dtype:</b> float64</label>"
            ]
          },
          "metadata": {},
          "execution_count": 77
        }
      ]
    },
    {
      "cell_type": "code",
      "source": [
        "def resample(sample):\n",
        "    # Generar una muestra a partir de una distribución normal\n",
        "    m, s = np.mean(sample), np.std(sample)\n",
        "    return np.random.normal(m, s, len(sample))"
      ],
      "metadata": {
        "id": "5-eCP14HWr6y"
      },
      "execution_count": 78,
      "outputs": []
    },
    {
      "cell_type": "code",
      "source": [
        "#Tu codigo va aqui\n",
        "\n"
      ],
      "metadata": {
        "id": "R3dO-aPAP06x"
      },
      "execution_count": null,
      "outputs": []
    },
    {
      "cell_type": "code",
      "source": [
        "#Tu codigo va aqui"
      ],
      "metadata": {
        "id": "Yv8OjbPY9E3Q"
      },
      "execution_count": null,
      "outputs": []
    },
    {
      "cell_type": "markdown",
      "source": [
        "Dado que el tamaño de la muestra es muy grande, el intervalo de confianza es muy pequeño, lo que significa que la variabilidad debida al muestreo aleatorio es pequeña.\n",
        "Sin embargo, otras fuentes de error podrían ser mayores. **`¿Qué otras fuentes de error cree que afectan a los resultados?`**"
      ],
      "metadata": {
        "id": "PvuS1gVVXDLp"
      }
    },
    {
      "cell_type": "markdown",
      "source": [
        "`Tu respuesta aqui`"
      ],
      "metadata": {
        "id": "bimzwlpXX8Ba"
      }
    },
    {
      "cell_type": "code",
      "metadata": {
        "colab": {
          "base_uri": "https://localhost:8080/"
        },
        "id": "9e0bb8cf",
        "outputId": "4c852b3d-1aa3-42f9-8946-8e3448bc35ce"
      },
      "source": [],
      "execution_count": 65,
      "outputs": [
        {
          "output_type": "stream",
          "name": "stdout",
          "text": [
            "Media muestral (n=10):\n",
            "  Valor estimado: 9.9915\n",
            "  Valor real: 10.0000\n",
            "  Sesgo estimado: -0.0085\n",
            "  Error estándar: 3.1841\n",
            "\n",
            "Mediana muestral (n=10):\n",
            "  Valor estimado: 7.4400\n",
            "  Valor real: 6.9315\n",
            "  Sesgo estimado: 0.5085\n",
            "  Error estándar: 3.1149\n"
          ]
        }
      ]
    }
  ]
}