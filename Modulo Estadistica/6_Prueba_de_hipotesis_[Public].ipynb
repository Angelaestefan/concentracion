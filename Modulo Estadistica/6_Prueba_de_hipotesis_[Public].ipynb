{
  "cells": [
    {
      "cell_type": "markdown",
      "metadata": {
        "id": "RaUzBrlnOmsn"
      },
      "source": [
        "# Prueba de hipótesis\n",
        "\n",
        "En los conjuntos de datos que hemos explorado, hemos visto diferencias entre grupos de personas (y pingüinos).\n",
        "Resultados como estos se denominan **efectos observados** porque aparecen en una muestra, en contraste con los efectos reales en la población, que normalmente no podemos observar directamente.\n",
        "Cuando vemos un efecto aparente, debemos considerar si es probable que esté presente en la población más amplia o si podría aparecer en la muestra por casualidad.\n",
        "\n",
        "Hay varias formas de formular esta pregunta. Lo que presento aquí es una mezcla de diferentes aproximaciones y metodologias que se utiliza a menudo en la práctica."
      ]
    },
    {
      "cell_type": "code",
      "execution_count": 1,
      "metadata": {
        "id": "WnSsX6DSRqGX"
      },
      "outputs": [],
      "source": [
        "import numpy as np\n",
        "import pandas as pd\n",
        "import matplotlib.pyplot as plt"
      ]
    },
    {
      "cell_type": "code",
      "execution_count": 2,
      "metadata": {
        "id": "IPUIn9VwUGL-"
      },
      "outputs": [],
      "source": [
        "def from_seq(seq, name=None, normalize=True, sort=True, ascending=True, dropna=True, na_position=\"last\", convert_to=\"PMF\"):\n",
        "  \"\"\"Crea un PMF a partir de una secuencia de valores.\n",
        "  Args:\n",
        "      seq: iterable\n",
        "      normalize: si se debe normalizar la serie (i.e, Pmf), por defecto True\n",
        "      sort: si se debe ordenar la serie por valores, por defecto True\n",
        "      ascending: si se debe ordenar en orden ascendente, por defecto True\n",
        "      dropna: si se deben eliminar los valores NaN, por defecto True\n",
        "      na_position: si es 'first', coloca los NaNs al principio;\n",
        "                  si es 'last', coloca los NaNs al final.\n",
        "      convert_to: si es 'FreqTab', Crea una tabla de frecuencia;\n",
        "                  si es 'PMF' (default), crea una funcion de masa de probabilidad;\n",
        "                  si es 'CDF', crea una función de distribución acumulada.\n",
        "\n",
        "  Returns: pd.Series\n",
        "  \"\"\"\n",
        "  if convert_to == \"FreqTab\":\n",
        "    normalize=False\n",
        "\n",
        "  # compute the value counts\n",
        "  series = pd.Series(seq, name=name).value_counts(normalize=normalize, sort=sort, dropna=dropna)\n",
        "\n",
        "  # sort in place, if desired\n",
        "  if sort:\n",
        "    series.sort_index(inplace=True, ascending=ascending, na_position=na_position)\n",
        "\n",
        "  if convert_to == \"CDF\":\n",
        "    series = np.cumsum(series)\n",
        "\n",
        "  return series\n",
        "\n",
        "def get_qs(Tab):\n",
        "    \"\"\"Obtener las cantidades.\n",
        "\n",
        "    Returns: NumPy array\n",
        "    \"\"\"\n",
        "    return Tab.index.values\n",
        "\n",
        "def get_ps(Tab):\n",
        "    \"\"\"Obtener las probabilidades.\n",
        "\n",
        "    Returns: NumPy array\n",
        "    \"\"\"\n",
        "    return Tab.values\n",
        "\n",
        "def plot_bar(Tab, xlabel=\"x\", ylabel=\"y\", title=None):\n",
        "    \"\"\"Crea un gráfico de barras.\n",
        "\n",
        "    Args:\n",
        "        kwargs: se pasa a plt.bar\n",
        "    \"\"\"\n",
        "    qs = get_qs(Tab)\n",
        "    ps = get_ps(Tab)\n",
        "\n",
        "    plt.bar(qs, ps)\n",
        "\n",
        "    plt.xlabel(xlabel)\n",
        "    plt.ylabel(ylabel)\n",
        "    if title is not None:\n",
        "      plt.title(title)"
      ]
    },
    {
      "cell_type": "markdown",
      "metadata": {
        "id": "mQvtTvyGQHNI"
      },
      "source": [
        "## Lanzar monedas\n",
        "\n",
        "Comenzaremos con un ejemplo sencillo,\n",
        "\n",
        "Supongamos que hacemos girar una moneda sobre su canto 250 veces y observamos que caía con la cara hacia arriba 140 veces y con la cruz hacia arriba 110 veces.\n",
        "\n",
        "Si la moneda está perfectamente equilibrada, esperamos solo 125 caras, por lo que estos datos sugieren que la moneda está sesgada.\n",
        "Por otro lado, no esperamos obtener exactamente 125 caras cada vez, por lo que es posible que la moneda sea realmente imparcial y que la aparente desviación del **valor esperado** se deba al azar.\n",
        "Para ver si eso es plausible, podemos realizar una **prueba de hipótesis**.\n",
        "\n",
        "$$\n",
        "error = |\\hat{x}-x|\n",
        "$$\n",
        "\n",
        "Usaremos la siguiente función para calcular la **diferencia absoluta** entre el número observado y el número esperado si la moneda es imparcial."
      ]
    },
    {
      "cell_type": "code",
      "execution_count": 3,
      "metadata": {
        "id": "fHDXLtg0R5_0"
      },
      "outputs": [],
      "source": [
        "np.random.seed(1)"
      ]
    },
    {
      "cell_type": "code",
      "execution_count": 4,
      "metadata": {
        "id": "JQedC6JkMgMq"
      },
      "outputs": [],
      "source": [
        "n = 250\n",
        "p = 0.5\n",
        "\n",
        "def abs_deviation(heads):\n",
        "    expected = n * p\n",
        "    return np.abs(heads - expected)"
      ]
    },
    {
      "cell_type": "markdown",
      "metadata": {
        "id": "degStUc_SBsb"
      },
      "source": [
        "En los datos observados, esta desviación es de **15**."
      ]
    },
    {
      "cell_type": "code",
      "execution_count": 5,
      "metadata": {
        "id": "-6ys9_pDRlgK"
      },
      "outputs": [
        {
          "data": {
            "text/plain": [
              "15.0"
            ]
          },
          "execution_count": 5,
          "metadata": {},
          "output_type": "execute_result"
        }
      ],
      "source": [
        "heads = 140\n",
        "tails = 110\n",
        "\n",
        "observed_stat = abs_deviation(heads)\n",
        "observed_stat.item()"
      ]
    },
    {
      "cell_type": "markdown",
      "metadata": {
        "id": "1ZQWY-GxSOIz"
      },
      "source": [
        "Si la moneda es realmente imparcial, podemos simular el experimento de lanzar la moneda generando una secuencia de cadenas aleatorias, ya sea \"C\" o \"X\" con la misma probabilidad, y contando el número de veces que aparece \"C\"."
      ]
    },
    {
      "cell_type": "code",
      "execution_count": 6,
      "metadata": {
        "id": "W0eRAZkIRlin"
      },
      "outputs": [],
      "source": [
        "def simulate_flips():\n",
        "    flips = np.random.choice([\"C\", \"X\"], size=n)\n",
        "    heads = np.sum(flips == \"C\")\n",
        "    return heads"
      ]
    },
    {
      "cell_type": "markdown",
      "metadata": {
        "id": "zBvza2d8Se1z"
      },
      "source": [
        "Cada vez que llamamos esta funcion, obtenemos el resultado de un experimento simulado."
      ]
    },
    {
      "cell_type": "code",
      "execution_count": 7,
      "metadata": {
        "id": "o0wQsliQR8eA"
      },
      "outputs": [
        {
          "data": {
            "text/plain": [
              "119"
            ]
          },
          "execution_count": 7,
          "metadata": {},
          "output_type": "execute_result"
        }
      ],
      "source": [
        "simulate_flips().item()"
      ]
    },
    {
      "cell_type": "markdown",
      "metadata": {
        "id": "5Qtz4xUwSsw7"
      },
      "source": [
        "El siguiente bucle simula el experimento muchas veces, calcula la **desviación** para cada uno, sobre el mismo numero de lanzamientos **n**, y utiliza una comprensión de lista para recopilar los resultados en una lista."
      ]
    },
    {
      "cell_type": "code",
      "execution_count": 8,
      "metadata": {
        "id": "uz3WqUvMR8a_"
      },
      "outputs": [],
      "source": [
        "simulated_stats = [abs_deviation(simulate_flips()) for i in range(10001)]"
      ]
    },
    {
      "cell_type": "markdown",
      "metadata": {
        "id": "d0TrUYlOTuvW"
      },
      "source": [
        "El resultado es una muestra de la **distribución de las desviaciones** bajo el supuesto de que la moneda es imparcial.\n",
        "\n",
        "Así es como se ve la distribución de estos valores."
      ]
    },
    {
      "cell_type": "code",
      "execution_count": 9,
      "metadata": {
        "id": "ne-xM5nlTz-h"
      },
      "outputs": [
        {
          "data": {
            "image/png": "[encoded data removed]",
            "text/plain": [
              "<Figure size 640x480 with 1 Axes>"
            ]
          },
          "metadata": {},
          "output_type": "display_data"
        }
      ],
      "source": [
        "pmf_effects = from_seq(simulated_stats, convert_to=\"PMF\")\n",
        "\n",
        "plot_bar(pmf_effects, xlabel=\"Absolute deviation\", ylabel=\"PMF\")"
      ]
    },
    {
      "cell_type": "markdown",
      "metadata": {
        "id": "34LgE-GEVGe7"
      },
      "source": [
        "Los valores cercanos a **0** son los más comunes; los valores superiores a 10 son menos comunes.\n",
        "\n",
        "Teniendo en cuenta que la **desviación en los datos observados** es de **15**, vemos que las desviaciones de esa magnitud son poco frecuentes, pero no imposibles.\n",
        "\n",
        "En este ejemplo, los resultados simulados igualan o superan los **15** aproximadamente el **7.1%** de las veces."
      ]
    },
    {
      "cell_type": "code",
      "execution_count": 10,
      "metadata": {
        "id": "Zeeq6DWaV_xc"
      },
      "outputs": [
        {
          "data": {
            "text/plain": [
              "np.float64(7.079292070792921)"
            ]
          },
          "execution_count": 10,
          "metadata": {},
          "output_type": "execute_result"
        }
      ],
      "source": [
        "(np.array(simulated_stats) >= 15).mean() * 100"
      ]
    },
    {
      "cell_type": "markdown",
      "metadata": {
        "id": "GmIbyP7JWEAa"
      },
      "source": [
        "En esta linea de codigo, la seccion `np.array(simulated_stats) >= 15` crea un arreglo de booleanos, valor **False** (0) para los elementos `<15` y **True** (1) para los valores `>= 15`."
      ]
    },
    {
      "cell_type": "markdown",
      "metadata": {
        "id": "gIJE3La1X4XN"
      },
      "source": [
        "Por lo tanto, si la moneda es imparcial, esperamos una desviación tan grande como la que vimos aproximadamente el **7.1%** de las veces, solo por casualidad.\n",
        "\n",
        "Podemos concluir que un efecto de esta magnitud no es común, pero ciertamente no es imposible, incluso si la moneda es imparcial.\n",
        "Sobre la base de este experimento, no podemos descartar la posibilidad de que la moneda sea imparcial.\n",
        "\n",
        "Este ejemplo demuestra la lógica de la prueba de hipótesis estadísticas.\n",
        "\n",
        "1. **Partimos de una observación**. En este ejemplo, la hipótesis de que la moneda está sesgada.\n",
        "\n",
        "2. Elegimos una **estadística de prueba** que cuantifica la magnitud del efecto observado. En este ejemplo, la estadística de prueba es la *desviación absoluta* del resultado esperado.\n",
        "\n",
        "3. Definimos una **hipótesis nula**, que es un modelo basado en la suposición de que el efecto observado se debe al azar. En este ejemplo, la hipótesis nula es que la moneda es imparcial.\n",
        "\n",
        "4. A continuación, calculamos un **p-value**, que es la probabilidad de observar el efecto observado si la hipótesis nula es cierta. En este ejemplo, el p-value es la probabilidad de una desviación tan grande como 15 o mayor.\n",
        "\n",
        "5. Interpretar el resultado.\n",
        "* Si el p-value es pequeño, concluimos que es poco probable que el efecto se deba al azar.\n",
        "* Si es grande, concluimos que el efecto podría explicarse de forma plausible por el azar.\n",
        "\n",
        "En este ejemplo, la probabilidad de observar el resultado obtenido si la moneda es imparcial se encuentra en un punto intermedio, podemos decir que es poco probable que el efecto se deba al azar, pero no podemos descartar la posibilidad.\n",
        "\n",
        "Todas las pruebas de hipótesis se basan en estos elementos: una estadística de prueba, una hipótesis nula y un p-value.\n"
      ]
    },
    {
      "cell_type": "markdown",
      "metadata": {
        "id": "bUawiO_35L4k"
      },
      "source": [
        "## Prueba de proporciones\n",
        "\n",
        "consideremos otro caso en el que la elección de la estadística de prueba requiere cierta reflexión.\n",
        "\n",
        "Supongamos que usted dirige un casino y sospecha que un cliente está utilizando un **dado trucado**, es decir, uno que ha sido modificado para que una de las caras tenga más probabilidades que las demás.\n",
        "\n",
        "Detienes al presunto tramposo y le confiscas el dado, pero ahora tienes que demostrar que está trucado.\n",
        "\n",
        "Tiras el dado **60 veces** y registras la frecuencia de cada resultado del 1 al 6.\n",
        "Estos son los resultados en un objeto `Series` de `pandas`."
      ]
    },
    {
      "cell_type": "code",
      "execution_count": 11,
      "metadata": {
        "id": "4VaZRLdu5MMZ"
      },
      "outputs": [
        {
          "data": {
            "text/plain": [
              "outcome\n",
              "1     8\n",
              "2     9\n",
              "3    19\n",
              "4     5\n",
              "5     8\n",
              "6    11\n",
              "dtype: int64"
            ]
          },
          "execution_count": 11,
          "metadata": {},
          "output_type": "execute_result"
        }
      ],
      "source": [
        "qs = np.arange(1, 7)\n",
        "freqs = [8, 9, 19, 5, 8, 11]\n",
        "\n",
        "observed = pd.Series(data=freqs, index=qs)\n",
        "observed.index.name = \"outcome\"\n",
        "observed"
      ]
    },
    {
      "cell_type": "markdown",
      "metadata": {
        "id": "XKSyfSac-5vg"
      },
      "source": [
        "En promedio, se espera que cada valor aparezca 10 veces.\n",
        "En este conjunto de datos, el valor 3 aparece con más frecuencia de lo esperado, y el valor 4 aparece con menos frecuencia.\n",
        "Pero, **¿podrían estas diferencias ser fruto de la casualidad?**\n",
        "\n",
        "Para comprobar esta hipótesis, comenzaremos calculando la frecuencia esperada para cada resultado."
      ]
    },
    {
      "cell_type": "code",
      "execution_count": 12,
      "metadata": {
        "id": "K0pSZysA6aZY"
      },
      "outputs": [
        {
          "data": {
            "text/plain": [
              "1    10.0\n",
              "2    10.0\n",
              "3    10.0\n",
              "4    10.0\n",
              "5    10.0\n",
              "6    10.0\n",
              "dtype: float64"
            ]
          },
          "execution_count": 12,
          "metadata": {},
          "output_type": "execute_result"
        }
      ],
      "source": [
        "num_rolls = observed.sum()\n",
        "outcomes = get_qs(observed)\n",
        "expected = pd.Series(num_rolls / 6, outcomes)\n",
        "expected"
      ]
    },
    {
      "cell_type": "markdown",
      "metadata": {
        "id": "snlhCtw7_EZU"
      },
      "source": [
        "La siguiente función toma las **frecuencias observadas** y **esperadas** y calcula la suma de las **diferencias absolutas**.\n",
        "\n",
        "$$\n",
        "diff\\_abs = \\sum_i^n |\\hat{x}_i-x_i|\n",
        "$$"
      ]
    },
    {
      "cell_type": "code",
      "execution_count": 13,
      "metadata": {
        "id": "fX2NAEAL6btd"
      },
      "outputs": [],
      "source": [
        "def total_abs_deviation(observed):\n",
        "    return np.sum(np.abs(observed - expected))"
      ]
    },
    {
      "cell_type": "markdown",
      "metadata": {
        "id": "y8RVq7N2_iZR"
      },
      "source": [
        "En el conjunto de datos observados, esta estadística de prueba es 20."
      ]
    },
    {
      "cell_type": "code",
      "execution_count": 14,
      "metadata": {
        "id": "yTjiw01Z6bwD"
      },
      "outputs": [
        {
          "data": {
            "text/plain": [
              "20.0"
            ]
          },
          "execution_count": 14,
          "metadata": {},
          "output_type": "execute_result"
        }
      ],
      "source": [
        "observed_dev = total_abs_deviation(observed)\n",
        "observed_dev.item()"
      ]
    },
    {
      "cell_type": "markdown",
      "metadata": {
        "id": "7RRx4YGl_jpX"
      },
      "source": [
        "La siguiente función toma los **datos observados**, simula lanzar un dado imparcial el mismo número de veces y devuelve un Tabla de frecuencia `FreqTab` que contiene las frecuencias simuladas."
      ]
    },
    {
      "cell_type": "code",
      "execution_count": 15,
      "metadata": {
        "id": "P0Oxs93s6bxk"
      },
      "outputs": [],
      "source": [
        "def simulate_dice(observed):\n",
        "    num_rolls = np.sum(observed)\n",
        "    rolls = np.random.choice( get_qs(observed), num_rolls, replace=True)\n",
        "    hist = from_seq(rolls, convert_to=\"FreqTab\")\n",
        "    return hist"
      ]
    },
    {
      "cell_type": "markdown",
      "metadata": {
        "id": "LE4KD5P-BCws"
      },
      "source": [
        "El siguiente bucle simula el experimento muchas veces y calcula la desviación absoluta total para cada uno."
      ]
    },
    {
      "cell_type": "code",
      "execution_count": 16,
      "metadata": {
        "id": "wojwfgZF7GXD"
      },
      "outputs": [],
      "source": [
        "simulated_devs = [total_abs_deviation(simulate_dice(observed)) for i in range(1001)]"
      ]
    },
    {
      "cell_type": "markdown",
      "metadata": {
        "id": "7RQWYQO7BT6M"
      },
      "source": [
        "Así es como se ve la **distribución** de la **estadística de prueba** bajo la **hipótesis nula**.\n",
        "\n",
        "Observe que el **valor total siempre es par**, porque cada vez que un resultado aparece con más frecuencia de la esperada, otro resultado tiene que aparecer con menos frecuencia."
      ]
    },
    {
      "cell_type": "code",
      "execution_count": 17,
      "metadata": {
        "id": "kkE_l0Sf7GZo"
      },
      "outputs": [
        {
          "data": {
            "image/png": "[encoded data removed]",
            "text/plain": [
              "<Figure size 640x480 with 1 Axes>"
            ]
          },
          "metadata": {},
          "output_type": "display_data"
        }
      ],
      "source": [
        "pmf_devs = from_seq(simulated_devs, convert_to=\"PMF\")\n",
        "\n",
        "plot_bar(pmf_devs, xlabel=\"Total absolute deviation\", ylabel=\"PMF\")"
      ]
    },
    {
      "cell_type": "markdown",
      "metadata": {
        "id": "Ft1rC45ACd5t"
      },
      "source": [
        "Podemos ver que una desviación total de 20 no es inusual: el **p-value** es de aproximadamente el `13%`, lo que significa que no podemos estar seguros de que el dado esté trucado."
      ]
    },
    {
      "cell_type": "code",
      "execution_count": 18,
      "metadata": {
        "id": "Ua1y3QLe9TFx"
      },
      "outputs": [],
      "source": [
        "def compute_p_value(simulated, observed):\n",
        "    \"\"\"Fracción de valores simulados iguales o mayores que el valor observado.\"\"\"\n",
        "    return (np.asarray(simulated) >= observed).mean().item()"
      ]
    },
    {
      "cell_type": "code",
      "execution_count": 19,
      "metadata": {
        "id": "0se-uqSP7Gbj"
      },
      "outputs": [
        {
          "data": {
            "text/plain": [
              "0.13786213786213786"
            ]
          },
          "execution_count": 19,
          "metadata": {},
          "output_type": "execute_result"
        }
      ],
      "source": [
        "compute_p_value(simulated_devs, observed_dev)"
      ]
    },
    {
      "cell_type": "markdown",
      "metadata": {
        "id": "ybSxunIdEDG-"
      },
      "source": [
        "Alternativamente podemos calcularlo de la siguiente manera:"
      ]
    },
    {
      "cell_type": "code",
      "execution_count": 20,
      "metadata": {
        "id": "OKZWf69JaEEK"
      },
      "outputs": [
        {
          "data": {
            "text/plain": [
              "13.786213786213786"
            ]
          },
          "execution_count": 20,
          "metadata": {},
          "output_type": "execute_result"
        }
      ],
      "source": [
        "(pmf_devs[pmf_devs.index >= 20]).sum().item() * 100"
      ]
    },
    {
      "cell_type": "markdown",
      "metadata": {
        "id": "-IQaHvpyCeu5"
      },
      "source": [
        "Pero la estadística de prueba que elegimos no era la única opción.\n",
        "\n",
        "<br>\n",
        "\n",
        "---\n",
        "\n",
        "\n",
        "\n",
        "Para un problema como este, sería más convencional utilizar la **estadística chi-cuadrado**, que podemos calcular así.\n",
        "\n",
        "$$\n",
        "X^2 = \\sum_i^n \\frac{(O_i-E_i)^2}{E_i}\n",
        "$$\n",
        "donde\n",
        "* $X^2$ chi-cuadrado\n",
        "* $O_i$ Valor observado\n",
        "* $E_i$ Valor esperado"
      ]
    },
    {
      "cell_type": "code",
      "execution_count": 21,
      "metadata": {
        "id": "TwBtO_HB6b2V"
      },
      "outputs": [],
      "source": [
        "def chi_squared_stat(observed):\n",
        "    diffs = (observed - expected) ** 2\n",
        "    return np.sum(diffs / expected)"
      ]
    },
    {
      "cell_type": "markdown",
      "metadata": {
        "id": "spt_EchCC4fu"
      },
      "source": [
        "Al elevar al cuadrado las desviaciones (en lugar de tomar los valores absolutos) se da más peso a las **desviaciones grandes**.\n",
        "\n",
        "Al dividir por `expected` se **estandarizan las desviaciones**, aunque en este caso no tiene ningún efecto en los resultados porque las frecuencias esperadas son todas iguales."
      ]
    },
    {
      "cell_type": "code",
      "execution_count": 22,
      "metadata": {
        "id": "e-xvuptX6b4Z"
      },
      "outputs": [
        {
          "data": {
            "text/plain": [
              "11.6"
            ]
          },
          "execution_count": 22,
          "metadata": {},
          "output_type": "execute_result"
        }
      ],
      "source": [
        "observed_chi2 = chi_squared_stat(observed)\n",
        "observed_chi2.item()"
      ]
    },
    {
      "cell_type": "markdown",
      "metadata": {
        "id": "_CPYO_iyDHt0"
      },
      "source": [
        "La **estadística chi-cuadrado** de los datos observados es `11.6`.\n",
        "Por sí sola, esta cifra no significa gran cosa, pero podemos compararla con los resultados de los lanzamientos simulados.\n",
        "\n",
        "El siguiente bucle genera muchos conjuntos de datos simulados y calcula la estadística chi-cuadrado para cada uno de ellos."
      ]
    },
    {
      "cell_type": "code",
      "execution_count": 23,
      "metadata": {
        "id": "PLYOjlSa-BwA"
      },
      "outputs": [],
      "source": [
        "from scipy.stats import gaussian_kde\n",
        "\n",
        "def make_pmf(sample, low, high):\n",
        "    kde = gaussian_kde(sample)\n",
        "    qs = np.linspace(low, high, 201)\n",
        "    ps = kde(qs)\n",
        "    return pd.Series(data=ps, index=qs)"
      ]
    },
    {
      "cell_type": "code",
      "execution_count": 24,
      "metadata": {
        "id": "PPrcm2Bc-BwA"
      },
      "outputs": [],
      "source": [
        "def fill_tail(pmf, observed, side):\n",
        "    \"\"\"Fill the area under a PMF, right or left of an observed value.\"\"\"\n",
        "    if side == \"right\":\n",
        "        condition = get_qs(pmf) >= observed\n",
        "    elif side == \"left\":\n",
        "        condition = get_qs(pmf) <= observed\n",
        "\n",
        "    series = pmf[condition]\n",
        "    plt.fill_between(series.index, 0, series, alpha=0.3)"
      ]
    },
    {
      "cell_type": "code",
      "execution_count": 25,
      "metadata": {
        "id": "r03Mo3699xyj"
      },
      "outputs": [],
      "source": [
        "simulated_chi2 = [chi_squared_stat(simulate_dice(observed)) for i in range(1001)]"
      ]
    },
    {
      "cell_type": "markdown",
      "metadata": {
        "id": "_wTH79asDSp1"
      },
      "source": [
        "Así es como se ve la distribución de esta estadística de prueba bajo la hipótesis nula.\n",
        "\n",
        "La **región sombreada** muestra los resultados que superan el valor observado."
      ]
    },
    {
      "cell_type": "code",
      "execution_count": 26,
      "metadata": {
        "id": "8N8G6-om9x1S"
      },
      "outputs": [
        {
          "data": {
            "image/png": "[encoded data removed]",
            "text/plain": [
              "<Figure size 640x480 with 1 Axes>"
            ]
          },
          "metadata": {},
          "output_type": "display_data"
        }
      ],
      "source": [
        "pmf = make_pmf(simulated_chi2, 0, 20)\n",
        "pmf.plot()\n",
        "fill_tail(pmf, observed_chi2, \"right\")\n",
        "\n",
        "plt.xlabel(\"Chi-Squared statistic\")\n",
        "plt.ylabel(\"Densidad\")\n",
        "plt.show()"
      ]
    },
    {
      "cell_type": "markdown",
      "metadata": {
        "id": "84wiAZ4gDaqh"
      },
      "source": [
        "Una vez más, el área de la región sombreada es el **p-value**."
      ]
    },
    {
      "cell_type": "code",
      "execution_count": 27,
      "metadata": {
        "id": "zlT25Cj49x4K"
      },
      "outputs": [
        {
          "data": {
            "text/plain": [
              "0.03696303696303696"
            ]
          },
          "execution_count": 27,
          "metadata": {},
          "output_type": "execute_result"
        }
      ],
      "source": [
        "compute_p_value(simulated_chi2, observed_chi2)"
      ]
    },
    {
      "cell_type": "markdown",
      "metadata": {
        "id": "oQw8tPipDqXa"
      },
      "source": [
        "El **p-value** utilizando la estadística chi-cuadrado es de aproximadamente `0.04`, sustancialmente menor que el que obtuvimos utilizando la desviación total, `0.13`.\n",
        "\n",
        "En este experimento, si tomamos en serio el umbral del `5%`, consideraríamos este efecto estadísticamente significativo. Ya que si **p-value** $≤ \\alpha$, rechaza la $H_0$.\n",
        "\n",
        "Pero teniendo en cuenta las dos pruebas juntas, podriamos decir que los resultados no son concluyentes.\n",
        "No descartaría la posibilidad de que el dado esté trucado, pero no condenaría al acusado de hacer trampa.\n",
        "\n",
        "* Este ejemplo ilustra un punto importante: el **p-value** depende de la elección de la **estadística de prueba** y del **modelo de la hipótesis nula**, y a veces estas elecciones determinan si un efecto es estadísticamente significativo o no."
      ]
    },
    {
      "cell_type": "markdown",
      "metadata": {
        "id": "1RwE4eRL2uSB"
      },
      "source": [
        "## Prueba de la diferencia en las medias\n",
        "\n",
        "En los datos de la NSFG, observamos que la duración media del embarazo para los primeros bebés es ligeramente superior a la de los demás bebés.\n",
        "Ahora veamos si esa diferencia podría deberse al azar."
      ]
    },
    {
      "cell_type": "code",
      "execution_count": 28,
      "metadata": {
        "id": "YEuga2n-lQ2i"
      },
      "outputs": [],
      "source": [
        "try:\n",
        "    import statadict\n",
        "except ImportError:\n",
        "    %pip install statadict\n",
        "\n",
        "from statadict import parse_stata_dict\n",
        "from os.path import basename, exists\n",
        "\n",
        "def download(url):\n",
        "    filename = basename(url)\n",
        "    if not exists(filename):\n",
        "        from urllib.request import urlretrieve\n",
        "\n",
        "        local, _ = urlretrieve(url, filename)\n",
        "        print(\"Downloaded \" + local)\n",
        "\n",
        "download(\"https://github.com/AllenDowney/ThinkStats/raw/v3/data/2002FemPreg.dct\")\n",
        "download(\"https://github.com/AllenDowney/ThinkStats/raw/v3/data/2002FemPreg.dat.gz\")"
      ]
    },
    {
      "cell_type": "code",
      "execution_count": 29,
      "metadata": {
        "id": "70Vvpr0JjO81"
      },
      "outputs": [],
      "source": [
        "def clean_fem_preg(df):\n",
        "    \"\"\"Recodifica las variables de la tabla de embarazo.\n",
        "    Args:\n",
        "        df: DataFrame de datos de embarazo que se van a limpiar.\n",
        "\n",
        "    Modifies:\n",
        "        agepreg: edad (dato float) de la madre al final del embarazo\n",
        "        birthwgt_lb: peso (dato float) al nacer en libras\n",
        "        birthwgt_oz: peso al nacer en onzas (dato float)\n",
        "        totalwgt_lb: peso total al nacer en libras (dato float)\n",
        "        hpagelb: peso de la madre en el último periodo menstrual (dato float)\n",
        "        babysex: sexo del bebé (dato int) (1 = varón, 2 = mujer)\n",
        "        nbrnaliv: número de bebés nacidos vivos (dato int)\n",
        "    \"\"\"\n",
        "    df.agepreg /= 100.0\n",
        "    df.loc[df.birthwgt_lb > 20, \"birthwgt_lb\"] = np.nan\n",
        "    na_vals = [97, 98, 99]\n",
        "    df[\"birthwgt_lb\"] = df.birthwgt_lb.replace(na_vals, np.nan)\n",
        "    df[\"birthwgt_oz\"] = df.birthwgt_oz.replace(na_vals, np.nan)\n",
        "    df[\"totalwgt_lb\"] = df.birthwgt_lb + df.birthwgt_oz / 16.0\n",
        "\n",
        "    df[\"hpagelb\"] = df.hpagelb.replace(na_vals, np.nan)\n",
        "    df[\"babysex\"] = df.babysex.replace([7, 9], np.nan)\n",
        "    df[\"nbrnaliv\"] = df.nbrnaliv.replace([9], np.nan)\n",
        "\n",
        "def read_fem_preg(dct_file=\"2002FemPreg.dct\", dat_file=\"2002FemPreg.dat.gz\"):\n",
        "    \"\"\"Lee los datos sobre embarazos de la NSFG.\n",
        "    Args:\n",
        "        dct_file: nombre del archivo de diccionario en forma de string.\n",
        "        dat_file: nombre del archivo de datos en forma de string.\n",
        "\n",
        "    Returns:\n",
        "        DataFrame: datos sobre embarazos de la NSFG con variables limpias.\n",
        "    \"\"\"\n",
        "    stata_dict = parse_stata_dict(dct_file)\n",
        "\n",
        "    preg = pd.read_fwf(\n",
        "        dat_file,\n",
        "        names=stata_dict.names,\n",
        "        colspecs=stata_dict.colspecs,\n",
        "        compression= 'gzip',)\n",
        "\n",
        "    clean_fem_preg(preg)\n",
        "    return preg\n",
        "\n",
        "def get_nsfg_groups():\n",
        "    \"\"\"Lee el archivo de embarazos NSFG y lo divide en grupos.\n",
        "    Returns:\n",
        "        tuple: (live, firsts, others) donde:\n",
        "            live: DataFrame de todos los nacidos vivos\n",
        "            firsts: DataFrame de los primeros bebés\n",
        "            others: DataFrame de los demás bebés\n",
        "    \"\"\"\n",
        "    live = read_fem_preg().query(\"outcome == 1\")\n",
        "    firsts = live.query(\"birthord == 1\")\n",
        "    others = live.query(\"birthord != 1\")\n",
        "\n",
        "    return firsts, others"
      ]
    },
    {
      "cell_type": "markdown",
      "metadata": {
        "id": "GBdpBoI920cU"
      },
      "source": [
        "La función `get_nsfg_groups` lee los datos, selecciona los nacidos vivos y los agrupa en **primogénitos** y **demás**."
      ]
    },
    {
      "cell_type": "code",
      "execution_count": 30,
      "metadata": {
        "id": "JJIZnGQboF9q"
      },
      "outputs": [],
      "source": [
        "firsts, others = get_nsfg_groups()"
      ]
    },
    {
      "cell_type": "markdown",
      "metadata": {
        "id": "ndSz3O6tFjKj"
      },
      "source": [
        "Ahora podemos seleccionar la duracion de los embarazos, en semanas, para ambos grupos"
      ]
    },
    {
      "cell_type": "code",
      "execution_count": 31,
      "metadata": {
        "id": "-WCfhSZ1r5bu"
      },
      "outputs": [],
      "source": [
        "data = firsts[\"prglngth\"].values, others[\"prglngth\"].values"
      ]
    },
    {
      "cell_type": "markdown",
      "metadata": {
        "id": "w_FOB4YeFrmm"
      },
      "source": [
        "La siguiente funcion toma los datos como una tupla de dos secuencias, y computa la **diferencia absoluta** de sus **medias**."
      ]
    },
    {
      "cell_type": "code",
      "execution_count": 32,
      "metadata": {
        "id": "QqKC6ToUr6_Q"
      },
      "outputs": [],
      "source": [
        "def abs_diff_means(data):\n",
        "    group1, group2 = data\n",
        "    diff = np.mean(group1) - np.mean(group2)\n",
        "    return np.abs(diff)"
      ]
    },
    {
      "cell_type": "markdown",
      "metadata": {
        "id": "pBlx4wQjF7gp"
      },
      "source": [
        "Entre los primogenitos y otros, la diferencia observada en duracion del embarazo es de `0.078` semanas."
      ]
    },
    {
      "cell_type": "code",
      "execution_count": 33,
      "metadata": {
        "id": "2rIgVjoSr9MO"
      },
      "outputs": [
        {
          "data": {
            "text/plain": [
              "np.float64(0.07803726677754952)"
            ]
          },
          "execution_count": 33,
          "metadata": {},
          "output_type": "execute_result"
        }
      ],
      "source": [
        "observed_diff = abs_diff_means(data)\n",
        "observed_diff"
      ]
    },
    {
      "cell_type": "markdown",
      "metadata": {
        "id": "tO2Jso5OGJLz"
      },
      "source": [
        "**Así que la hipótesis que vamos a comprobar es si la duración del embarazo es generalmente más larga para los bebés primogenitos.**\n",
        "\n",
        "* La **hipótesis nula** $H_0$ es que la duración del embarazo es en realidad la misma para ambos grupos, y que la diferencia aparente se debe al azar (*Si la duración del embarazo es la misma para ambos grupos, podemos combinar los dos grupos en un solo conjunto*).\n",
        "\n",
        "Para simular el experimento, podemos utilizar la función `shuffle` de `NumPy` para poner los valores agrupados en orden aleatorio y, a continuación, utilizar índices para seleccionar dos grupos con los mismos tamaños que el original."
      ]
    },
    {
      "cell_type": "code",
      "execution_count": 34,
      "metadata": {
        "id": "ES6ia9XisNef"
      },
      "outputs": [],
      "source": [
        "def simulate_groups(data):\n",
        "    group1, group2 = data\n",
        "    n, m = len(group1), len(group2)\n",
        "\n",
        "    pool = np.hstack(data)\n",
        "    np.random.shuffle(pool)\n",
        "    return pool[:n], pool[-m:]"
      ]
    },
    {
      "cell_type": "markdown",
      "metadata": {
        "id": "BE-c-EyTGrRx"
      },
      "source": [
        "Cada vez que llamamos esta funcion, regresa un tupla de dos secuencias (grupos), que podemos pasar a la funcion `abs_diff_means`."
      ]
    },
    {
      "cell_type": "code",
      "execution_count": 35,
      "metadata": {
        "id": "ma0k2XVvsY9Q"
      },
      "outputs": [
        {
          "data": {
            "text/plain": [
              "np.float64(0.00995982159842157)"
            ]
          },
          "execution_count": 35,
          "metadata": {},
          "output_type": "execute_result"
        }
      ],
      "source": [
        "abs_diff_means(simulate_groups(data))"
      ]
    },
    {
      "cell_type": "markdown",
      "metadata": {
        "id": "LvBQ6d69G8Uz"
      },
      "source": [
        "El siguiente loop simula el experimento muchas veces y computa la diferencia de las medias para par de grupos simulados."
      ]
    },
    {
      "cell_type": "code",
      "execution_count": 36,
      "metadata": {
        "id": "IJmRsi2_syNK"
      },
      "outputs": [],
      "source": [
        "simulated_diffs = [abs_diff_means(simulate_groups(data)) for i in range(1001)]"
      ]
    },
    {
      "cell_type": "markdown",
      "metadata": {
        "id": "cdjZay61HKOl"
      },
      "source": [
        "Para visualizar los resultados, utilizaremos la siguiente función, que toma una muestra de los resultados simulados y crea un objeto `Pmf` que aproxima su distribución. Tambien usamos la funcion `fill_tail`, para colorear el area en la cola de la distribucion."
      ]
    },
    {
      "cell_type": "code",
      "execution_count": 37,
      "metadata": {
        "id": "e429JbJgs6jL"
      },
      "outputs": [],
      "source": [
        "from scipy.stats import gaussian_kde\n",
        "\n",
        "def make_pmf(sample, low, high):\n",
        "    kde = gaussian_kde(sample)\n",
        "    qs = np.linspace(low, high, 201)\n",
        "    ps = kde(qs)\n",
        "    return pd.Series(data=ps, index=qs)"
      ]
    },
    {
      "cell_type": "code",
      "execution_count": 38,
      "metadata": {
        "id": "_gSsgX69xhtk"
      },
      "outputs": [],
      "source": [
        "def fill_tail(pmf, observed, side):\n",
        "    \"\"\"Fill the area under a PMF, right or left of an observed value.\"\"\"\n",
        "    if side == \"right\":\n",
        "        condition = get_qs(pmf) >= observed\n",
        "    elif side == \"left\":\n",
        "        condition = get_qs(pmf) <= observed\n",
        "\n",
        "    series = pmf[condition]\n",
        "    plt.fill_between(series.index, 0, series, alpha=0.3)"
      ]
    },
    {
      "cell_type": "markdown",
      "metadata": {
        "id": "0M27vCU8HPzK"
      },
      "source": [
        "Así es como se ve la distribución de los resultados simulados. La **región sombreada** muestra los casos en los que la diferencia en las medias bajo la **hipótesis nula** excede la diferencia observada. El área de esta región es el **p-value**."
      ]
    },
    {
      "cell_type": "code",
      "execution_count": 39,
      "metadata": {
        "id": "mrqmd30_xqC5"
      },
      "outputs": [
        {
          "data": {
            "text/plain": [
              "Text(0, 0.5, 'Densidad')"
            ]
          },
          "execution_count": 39,
          "metadata": {},
          "output_type": "execute_result"
        },
        {
          "data": {
            "image/png": "[encoded data removed]",
            "text/plain": [
              "<Figure size 640x480 with 1 Axes>"
            ]
          },
          "metadata": {},
          "output_type": "display_data"
        }
      ],
      "source": [
        "pmf = make_pmf(simulated_diffs, 0, 0.2)\n",
        "pmf.plot()\n",
        "fill_tail(pmf, observed_diff, \"right\")\n",
        "plt.xlabel(\"Absolute difference in means (weeks)\")\n",
        "plt.ylabel(\"Densidad\")"
      ]
    },
    {
      "cell_type": "markdown",
      "metadata": {
        "id": "W-DhI_UpIOfS"
      },
      "source": [
        "La siguiente función calcula el **p-value**, que es la fracción de valores simulados que son iguales o mayores que el valor observado."
      ]
    },
    {
      "cell_type": "code",
      "execution_count": 40,
      "metadata": {
        "id": "I6HUJOHKxqFf"
      },
      "outputs": [],
      "source": [
        "def compute_p_value(simulated, observed):\n",
        "    \"\"\"Fracción de valores simulados iguales o mayores que el valor observado.\"\"\"\n",
        "    return (np.asarray(simulated) >= observed).mean().item()"
      ]
    },
    {
      "cell_type": "code",
      "execution_count": 41,
      "metadata": {
        "id": "7exG4f6exqIP"
      },
      "outputs": [
        {
          "data": {
            "text/plain": [
              "0.19080919080919082"
            ]
          },
          "execution_count": 41,
          "metadata": {},
          "output_type": "execute_result"
        }
      ],
      "source": [
        "compute_p_value(simulated_diffs, observed_diff)"
      ]
    },
    {
      "cell_type": "markdown",
      "metadata": {
        "id": "VK1VWCvII8hL"
      },
      "source": [
        "Alternativamente podemos calcularlo de la siguiente manera:"
      ]
    },
    {
      "cell_type": "code",
      "execution_count": 42,
      "metadata": {
        "id": "0RxLveVeI8hL"
      },
      "outputs": [
        {
          "data": {
            "text/plain": [
              "19.08091908091908"
            ]
          },
          "execution_count": 42,
          "metadata": {},
          "output_type": "execute_result"
        }
      ],
      "source": [
        "np.sum(np.asarray(simulated_diffs) >= 0.078).item()/len(simulated_diffs) * 100"
      ]
    },
    {
      "cell_type": "markdown",
      "metadata": {
        "id": "Is3wRP1_IdKj"
      },
      "source": [
        "En este ejemplo, el **p-value** es de aproximadamente el `18%`, lo que significa que es plausible que una diferencia tan grande como `0.078` semanas pueda ocurrir por casualidad. Ya que si **p-value** $> \\alpha$, no rechazamos la $H_0$. Aqui, dependen del umbral $\\alpha$ que consideremos."
      ]
    },
    {
      "cell_type": "markdown",
      "metadata": {
        "id": "jteJPdoYKaDF"
      },
      "source": [
        "En este ejemplo, la estadística de prueba es la diferencia absoluta entre las medias.\n",
        "\n",
        "La **hipótesis nula** es que la distribución de la duración de los embarazos es en realidad la misma en ambos grupos. Y modelamos la **hipótesis nula** combinando los datos de ambos grupos en un solo conjunto, mezclando el conjunto y dividiéndolo en dos grupos del mismo tamaño que los originales. Este proceso se denomina **permutación**, que es otra palabra para mezclar.\n",
        "\n",
        "Este enfoque computacional de la prueba de hipótesis facilita la combinación de estos elementos para probar diferentes estadísticas."
      ]
    },
    {
      "cell_type": "markdown",
      "metadata": {
        "id": "ymeEh2BYOBjB"
      },
      "source": [
        "---\n",
        "---\n",
        "#Ejercicio #1\n",
        "\n",
        "Probemos la comprobación de hipótesis con los datos sobre pingüinos de la leccion pasada."
      ]
    },
    {
      "cell_type": "markdown",
      "metadata": {
        "id": "krIpDPG6O9n5"
      },
      "source": [
        "Primero, leemos los datos y seleccionamos los **pinguinos chinstrap**."
      ]
    },
    {
      "cell_type": "code",
      "execution_count": 43,
      "metadata": {
        "id": "Rsn_AbY7InqP"
      },
      "outputs": [
        {
          "data": {
            "text/plain": [
              "(68, 17)"
            ]
          },
          "execution_count": 43,
          "metadata": {},
          "output_type": "execute_result"
        }
      ],
      "source": [
        "url = \"https://raw.githubusercontent.com/allisonhorst/palmerpenguins/c19a904462482430170bfe2c718775ddb7dbb885/inst/extdata/penguins_raw.csv\"\n",
        "\n",
        "penguins = pd.read_csv(url).dropna(subset=[\"Body Mass (g)\"])\n",
        "chinstrap = penguins.query('Species.str.startswith(\"Chinstrap\")')\n",
        "chinstrap.shape"
      ]
    },
    {
      "cell_type": "markdown",
      "metadata": {
        "id": "utRmd8NvRfb8"
      },
      "source": [
        "Aqui extraemos los pesos (los transformamos a kilogramos) para machos y hembras por separado."
      ]
    },
    {
      "cell_type": "code",
      "execution_count": 44,
      "metadata": {
        "id": "2D911uKhOmsv"
      },
      "outputs": [
        {
          "data": {
            "text/plain": [
              "3.9389705882352937"
            ]
          },
          "execution_count": 44,
          "metadata": {},
          "output_type": "execute_result"
        }
      ],
      "source": [
        "male = chinstrap.query(\"Sex == 'MALE'\")\n",
        "weights_male = male[\"Body Mass (g)\"] / 1000\n",
        "\n",
        "weights_male.mean().item()"
      ]
    },
    {
      "cell_type": "code",
      "execution_count": 58,
      "metadata": {
        "id": "to-0iJR5OmvM"
      },
      "outputs": [
        {
          "data": {
            "text/plain": [
              "3.5272058823529413"
            ]
          },
          "execution_count": 58,
          "metadata": {},
          "output_type": "execute_result"
        }
      ],
      "source": [
        "female = chinstrap.query(\"Sex == 'FEMALE'\")\n",
        "weights_female = female[\"Body Mass (g)\"] / 1000\n",
        "\n",
        "weights_female.mean().item()"
      ]
    },
    {
      "cell_type": "markdown",
      "metadata": {
        "id": "bghB_2GBRttH"
      },
      "source": [
        "Utilice las funciones `abs_diff_means` y `simulate_groups` para generar un gran número de conjuntos de datos simulados bajo la **hipótesis nula** $H_0$ de que `los dos grupos tienen la misma distribución de pesos`, y calcule la **diferencia en las medias** de cada uno.\n",
        "\n",
        "* Compare los resultados de la **simulación** con la **diferencia observada** y calcule el **p-value**.\n",
        "* Grafique la distribución de las diferencias bajo la **hipótesis nula** $H_0$, utilize la funcion `make_pmf` y `plt.axvline` para marcar la posicion del valor observado, y calcule un **p-value** para la correlación observada. **¿Que puede concluir de tan solo ver esa grafica?**\n",
        "\n",
        "**¿Es plausible que la diferencia aparente entre los grupos se deba al azar?**"
      ]
    },
    {
      "cell_type": "code",
      "execution_count": null,
      "metadata": {},
      "outputs": [
        {
          "data": {
            "image/png": "[encoded data removed]",
            "text/plain": [
              "<Figure size 640x480 with 1 Axes>"
            ]
          },
          "metadata": {},
          "output_type": "display_data"
        },
        {
          "name": "stdout",
          "output_type": "stream",
          "text": [
            "Diferencia observada: 0.412 kg\n",
            "p-value: 0.0000\n"
          ]
        }
      ],
      "source": [
        "# Preparamos los datos para el análisis\n",
        "data = weights_male.values, weights_female.values\n",
        "\n",
        "# Calculamos la diferencia observada entre las medias\n",
        "observed_diff = abs_diff_means(data)\n",
        "\n",
        "# Realizamos las simulaciones bajo la hipótesis nula\n",
        "n_simulations = 10000\n",
        "simulated_diffs = [abs_diff_means(simulate_groups(data)) for _ in range(n_simulations)]\n",
        "\n",
        "# Calculamos el p-value\n",
        "p_value = compute_p_value(simulated_diffs, observed_diff)\n",
        "\n",
        "# Creamos la visualización\n",
        "plt.figure(figsize=(10, 6))\n",
        "pmf = make_pmf(simulated_diffs, 0, 1)\n",
        "pmf.plot()\n",
        "fill_tail(pmf, observed_diff, \"right\")\n",
        "plt.axvline(x=observed_diff, color='red', linestyle='--', label='Diferencia observada')\n",
        "plt.xlabel(\"Diferencia absoluta en medias (kg)\")\n",
        "plt.ylabel(\"Densidad\")\n",
        "plt.title(\"Distribución de diferencias bajo H₀\")\n",
        "plt.legend()\n",
        "plt.show()\n",
        "\n",
        "print(f\"Diferencia observada entre medias: {observed_diff:.3f} kg\")\n",
        "print(f\"p-value: {p_value:.4f}\")\n",
        "print(\"\\nInterpretación:\")\n",
        "print(\"--------------------------------------\")\n",
        "if p_value < 0.05:\n",
        "    print(\"Como el p-value es menor que 0.05, rechazamos la hipótesis nula.\")\n",
        "    print(\"Es poco probable que esta diferencia se deba al azar.\")\n",
        "else:\n",
        "    print(\"Como el p-value es mayor que 0.05, no podemos rechazar la hipótesis nula.\")\n",
        "    print(\"La diferencia observada podría deberse al azar.\")"
      ]
    },
    {
      "cell_type": "code",
      "execution_count": 46,
      "metadata": {
        "id": "LxLMHzVMOmxh"
      },
      "outputs": [],
      "source": [
        "# Tu codigo va aqui\n"
      ]
    },
    {
      "cell_type": "code",
      "execution_count": null,
      "metadata": {
        "vscode": {
          "languageId": "markdown"
        }
      },
      "outputs": [],
      "source": []
    },
    {
      "cell_type": "code",
      "execution_count": 47,
      "metadata": {
        "id": "0jXSAw81TBnU"
      },
      "outputs": [],
      "source": [
        "def abs_diff_means(data):\n",
        "    group1, group2 = data\n",
        "    diff = np.mean(group1) - np.mean(group2)\n",
        "    return np.abs(diff).item()"
      ]
    },
    {
      "cell_type": "code",
      "execution_count": 48,
      "metadata": {
        "id": "BD5Ca7iZTBnU"
      },
      "outputs": [],
      "source": [
        "# Tu codigo va aqui"
      ]
    },
    {
      "cell_type": "code",
      "execution_count": 49,
      "metadata": {
        "id": "3dsv9YO-TBnV"
      },
      "outputs": [],
      "source": [
        "def simulate_groups(data):\n",
        "    group1, group2 = data\n",
        "    n, m = len(group1), len(group2)\n",
        "\n",
        "    pool = np.hstack(data)\n",
        "    np.random.shuffle(pool)\n",
        "    return pool[:n], pool[-m:]"
      ]
    },
    {
      "cell_type": "code",
      "execution_count": 50,
      "metadata": {
        "id": "Oq5vIk-MrPbS"
      },
      "outputs": [],
      "source": [
        "# Tu codigo va aqui"
      ]
    },
    {
      "cell_type": "code",
      "execution_count": 51,
      "metadata": {
        "id": "yv2XtecusIY2"
      },
      "outputs": [],
      "source": [
        "# Tu codigo va aqui"
      ]
    },
    {
      "cell_type": "markdown",
      "metadata": {
        "id": "QhFpC-g8W-TY"
      },
      "source": [
        "---\n",
        "---\n",
        "#Ejercicio #2\n",
        "\n",
        "Utilizando los datos sobre pingüinos del ejercicio anterior, podemos extraer la profundidad y la longitud del culmen de las pingüinas (el culmen es la cresta superior del pico)."
      ]
    },
    {
      "cell_type": "code",
      "execution_count": 52,
      "metadata": {
        "id": "nqf9vEDIWpGO"
      },
      "outputs": [],
      "source": [
        "data = female[\"Culmen Depth (mm)\"], female[\"Culmen Length (mm)\"]"
      ]
    },
    {
      "cell_type": "markdown",
      "metadata": {
        "id": "qEsdG4Huahsp"
      },
      "source": [
        "Podemos utilizar el mismo marco que hemos usado hasta ahorita para comprobar las **correlaciones**.\n",
        "\n",
        "Por ejemplo, aqui, queremos averiguar si existe una correlación entre la profundidad y la logitud del pico de las pinguinas: **¿la proporcion de su longitud con su profundidad tiene una relacion?** o **¿podría este efecto deberse al azar?**\n",
        "\n",
        "A continuacion mostramos un par de funciones que nos seran de utilidad:"
      ]
    },
    {
      "cell_type": "markdown",
      "metadata": {
        "id": "b157bccb"
      },
      "source": [
        "* La siguiente función toma una tupla de `xs` e `ys` y calcula la magnitud de la correlación, positiva o negativa."
      ]
    },
    {
      "cell_type": "code",
      "execution_count": 53,
      "metadata": {
        "id": "686a44fe"
      },
      "outputs": [],
      "source": [
        "def abs_correlation(data):\n",
        "    xs, ys = data\n",
        "    corr = np.corrcoef(xs, ys)[0, 1]\n",
        "    return np.abs(corr).item()"
      ]
    },
    {
      "cell_type": "markdown",
      "metadata": {
        "id": "8vbS-Kd0ZMsd"
      },
      "source": [
        "La correlacion entre estas variables es alrededor de `0.26`."
      ]
    },
    {
      "cell_type": "code",
      "execution_count": 54,
      "metadata": {
        "id": "MxVuQZkTZSam"
      },
      "outputs": [
        {
          "data": {
            "text/plain": [
              "0.2563170802728449"
            ]
          },
          "execution_count": 54,
          "metadata": {},
          "output_type": "execute_result"
        }
      ],
      "source": [
        "observed_corr = abs_correlation(data)\n",
        "observed_corr"
      ]
    },
    {
      "cell_type": "markdown",
      "metadata": {
        "id": "EYqDOlrEbYkP"
      },
      "source": [
        "La **hipótesis nula** $H_0$ es que **no existe correlación entre estas dimensiones del pico de las pinguinas**.\n",
        "\n",
        "Al mezclar los **valores observados** (`observed_corr`), podemos simular un mundo en el que las distribuciones de la profundidad y longitud del pico son iguales, pero en el que las variables no están relacionadas."
      ]
    },
    {
      "cell_type": "markdown",
      "metadata": {
        "id": "94504de1"
      },
      "source": [
        "* La siguiente función toma una tupla de `xs` e `ys`, mezcla las `xs` y devuelve una tupla que contiene las `xs` mezcladas y las `ys` originales. También funcionaría si mezcláramos las `ys`, o si mezcláramos ambas."
      ]
    },
    {
      "cell_type": "code",
      "execution_count": 55,
      "metadata": {
        "id": "8f8fdc2f"
      },
      "outputs": [],
      "source": [
        "def permute(data):\n",
        "    xs, ys = data\n",
        "    new_xs = xs.values.copy()\n",
        "    np.random.shuffle(new_xs)\n",
        "    return new_xs, ys"
      ]
    },
    {
      "cell_type": "markdown",
      "metadata": {
        "id": "tGJN6u58ZhUY"
      },
      "source": [
        "Veamos si esta **correlación** podría darse por casualidad, aunque en realidad no exista ninguna correlación entre las mediciones.\n",
        "\n",
        "Utilice la funcion `permute` para generar muchas permutaciones de estos datos y `abs_correlation` para calcular la correlación de cada una de ellas.\n",
        "\n",
        "* Grafica la distribución de las correlaciones bajo la **hipótesis nula** $H_0$, utilize la funcion `make_pmf` y `plt.axvline` para marcar la posicion del valor observado, y calcule un **p-value** para la correlación observada.\n",
        "\n",
        "**¿Cómo interpreta el resultado?**"
      ]
    },
    {
      "cell_type": "code",
      "execution_count": 56,
      "metadata": {
        "id": "nL90giDKZI_q"
      },
      "outputs": [],
      "source": [
        "# Tu codigo va aqui"
      ]
    },
    {
      "cell_type": "code",
      "execution_count": 57,
      "metadata": {
        "id": "SHdSTH3fZJCI"
      },
      "outputs": [],
      "source": [
        "# Tu codigo va aqui"
      ]
    }
  ],
  "metadata": {
    "colab": {
      "provenance": []
    },
    "kernelspec": {
      "display_name": ".venv (3.11.4)",
      "language": "python",
      "name": "python3"
    },
    "language_info": {
      "codemirror_mode": {
        "name": "ipython",
        "version": 3
      },
      "file_extension": ".py",
      "mimetype": "text/x-python",
      "name": "python",
      "nbconvert_exporter": "python",
      "pygments_lexer": "ipython3",
      "version": "3.11.4"
    }
  },
  "nbformat": 4,
  "nbformat_minor": 0
}
