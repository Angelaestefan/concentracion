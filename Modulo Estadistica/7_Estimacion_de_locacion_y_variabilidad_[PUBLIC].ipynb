{
  "cells": [
    {
      "cell_type": "markdown",
      "metadata": {
        "colab_type": "text",
        "id": "view-in-github"
      },
      "source": [
        "<a href=\"https://colab.research.google.com/github/Angelaestefan/concentracion/blob/master/7_Estimacion_de_locacion_y_variabilidad_%5BPUBLIC%5D.ipynb\" target=\"_parent\"><img src=\"https://colab.research.google.com/assets/colab-badge.svg\" alt=\"Open In Colab\"/></a>"
      ]
    },
    {
      "cell_type": "markdown",
      "metadata": {
        "id": "TPGCoQbtOuiM"
      },
      "source": [
        "#Estimaciones de localización\n",
        "\n",
        " Las variables con datos medidos o de recuento pueden tener miles de valores distintos.\n",
        "\n",
        " Un paso básico en la exploración de sus datos es obtener un **valor típico** para cada característica (variable): una estimación de dónde se encuentra la mayoría de los datos (es decir, su **tendencia central**)."
      ]
    },
    {
      "cell_type": "code",
      "execution_count": 74,
      "metadata": {
        "id": "LdEO9zOpr859"
      },
      "outputs": [],
      "source": [
        "import pandas as pd\n",
        "import numpy as np"
      ]
    },
    {
      "cell_type": "code",
      "execution_count": 75,
      "metadata": {
        "id": "xAzdpBzor-mA"
      },
      "outputs": [],
      "source": [
        "URL = \"https://raw.githubusercontent.com/Ahmiii/Practical-Statistics-For-Data-Scientist-50-Essiential-Concept/refs/heads/master/state.csv\"\n",
        "data=pd.read_csv(URL)"
      ]
    },
    {
      "cell_type": "code",
      "execution_count": 76,
      "metadata": {
        "colab": {
          "base_uri": "https://localhost:8080/",
          "height": 206
        },
        "id": "MyWno4QNr_2v",
        "outputId": "3c504731-55e1-4f0b-abc9-448a05a000e9"
      },
      "outputs": [
        {
          "data": {
            "text/html": [
              "<div>\n",
              "<style scoped>\n",
              "    .dataframe tbody tr th:only-of-type {\n",
              "        vertical-align: middle;\n",
              "    }\n",
              "\n",
              "    .dataframe tbody tr th {\n",
              "        vertical-align: top;\n",
              "    }\n",
              "\n",
              "    .dataframe thead th {\n",
              "        text-align: right;\n",
              "    }\n",
              "</style>\n",
              "<table border=\"1\" class=\"dataframe\">\n",
              "  <thead>\n",
              "    <tr style=\"text-align: right;\">\n",
              "      <th></th>\n",
              "      <th>State</th>\n",
              "      <th>Population</th>\n",
              "      <th>Murder.Rate</th>\n",
              "      <th>Abbreviation</th>\n",
              "    </tr>\n",
              "  </thead>\n",
              "  <tbody>\n",
              "    <tr>\n",
              "      <th>0</th>\n",
              "      <td>Alabama</td>\n",
              "      <td>4779736</td>\n",
              "      <td>5.7</td>\n",
              "      <td>AL</td>\n",
              "    </tr>\n",
              "    <tr>\n",
              "      <th>1</th>\n",
              "      <td>Alaska</td>\n",
              "      <td>710231</td>\n",
              "      <td>5.6</td>\n",
              "      <td>AK</td>\n",
              "    </tr>\n",
              "    <tr>\n",
              "      <th>2</th>\n",
              "      <td>Arizona</td>\n",
              "      <td>6392017</td>\n",
              "      <td>4.7</td>\n",
              "      <td>AZ</td>\n",
              "    </tr>\n",
              "    <tr>\n",
              "      <th>3</th>\n",
              "      <td>Arkansas</td>\n",
              "      <td>2915918</td>\n",
              "      <td>5.6</td>\n",
              "      <td>AR</td>\n",
              "    </tr>\n",
              "    <tr>\n",
              "      <th>4</th>\n",
              "      <td>California</td>\n",
              "      <td>37253956</td>\n",
              "      <td>4.4</td>\n",
              "      <td>CA</td>\n",
              "    </tr>\n",
              "  </tbody>\n",
              "</table>\n",
              "</div>"
            ],
            "text/plain": [
              "        State  Population  Murder.Rate Abbreviation\n",
              "0     Alabama     4779736          5.7           AL\n",
              "1      Alaska      710231          5.6           AK\n",
              "2     Arizona     6392017          4.7           AZ\n",
              "3    Arkansas     2915918          5.6           AR\n",
              "4  California    37253956          4.4           CA"
            ]
          },
          "execution_count": 76,
          "metadata": {},
          "output_type": "execute_result"
        }
      ],
      "source": [
        "# Imprime los primeros elementos de la tabla\n",
        "data.head()"
      ]
    },
    {
      "cell_type": "code",
      "execution_count": 77,
      "metadata": {
        "colab": {
          "base_uri": "https://localhost:8080/",
          "height": 209
        },
        "id": "mYW7-nMbr_7b",
        "outputId": "1e6baa57-9282-4ac6-be97-7da1ca35bb33"
      },
      "outputs": [
        {
          "data": {
            "text/plain": [
              "State            object\n",
              "Population        int64\n",
              "Murder.Rate     float64\n",
              "Abbreviation     object\n",
              "dtype: object"
            ]
          },
          "execution_count": 77,
          "metadata": {},
          "output_type": "execute_result"
        }
      ],
      "source": [
        "data.dtypes"
      ]
    },
    {
      "cell_type": "code",
      "execution_count": 78,
      "metadata": {
        "colab": {
          "base_uri": "https://localhost:8080/"
        },
        "id": "PSQzvG14r_9j",
        "outputId": "39bad492-6c79-4ac1-fc89-49d6cdb6fde0"
      },
      "outputs": [
        {
          "data": {
            "text/plain": [
              "50"
            ]
          },
          "execution_count": 78,
          "metadata": {},
          "output_type": "execute_result"
        }
      ],
      "source": [
        "data.State.value_counts().sum().item()"
      ]
    },
    {
      "cell_type": "markdown",
      "metadata": {
        "id": "h45yym61u8PY"
      },
      "source": [
        "Podemos calcular la **media** y la **mediana** de la poblacion (`Population`) a traves de los métodos incluidos  `pandas` del `dataframe`. i.e., `.mean()` y `.median()`."
      ]
    },
    {
      "cell_type": "code",
      "execution_count": 79,
      "metadata": {
        "id": "ZAHf4yXBEprQ"
      },
      "outputs": [
        {
          "name": "stdout",
          "output_type": "stream",
          "text": [
            "Data mean: Population     6162876.300\n",
            "Murder.Rate          4.066\n",
            "dtype: float64\n"
          ]
        }
      ],
      "source": [
        "# Tu codigo va aqui\n",
        "meandata = data.mean(numeric_only=True)\n",
        "print(\"Data mean:\", meandata)"
      ]
    },
    {
      "cell_type": "code",
      "execution_count": 80,
      "metadata": {
        "id": "KX_WH6jSEqNs"
      },
      "outputs": [
        {
          "data": {
            "text/plain": [
              "Population     4436369.5\n",
              "Murder.Rate          4.0\n",
              "dtype: float64"
            ]
          },
          "execution_count": 80,
          "metadata": {},
          "output_type": "execute_result"
        }
      ],
      "source": [
        "# Tu codigo va aqui\n",
        "data.median(numeric_only=True)"
      ]
    },
    {
      "cell_type": "markdown",
      "metadata": {
        "id": "3Xpj_30gvITh"
      },
      "source": [
        "La **media recortada** (Trimmed mean) requiere la función **`trim_mean`** en **`scipy.stats`**, podemos utilizar la variable `proportiontocut` para elegir la proporcion a cortar:"
      ]
    },
    {
      "cell_type": "code",
      "execution_count": 81,
      "metadata": {
        "id": "AYyAZ463BSFp"
      },
      "outputs": [],
      "source": [
        "from scipy import stats"
      ]
    },
    {
      "cell_type": "code",
      "execution_count": 82,
      "metadata": {
        "id": "kZJTTPPCEKlY"
      },
      "outputs": [
        {
          "name": "stdout",
          "output_type": "stream",
          "text": [
            "Trimmed mean (Population, 10%): 4783697.125\n",
            "Trimmed mean (Murder.Rate, 10%): 3.9450000000000003\n"
          ]
        }
      ],
      "source": [
        "# Tu codigo va aqui\n",
        "trimmed_mean_population = stats.trim_mean(data['Population'], proportiontocut=0.1)\n",
        "print(\"Trimmed mean (Population, 10%):\", trimmed_mean_population)\n",
        "\n",
        "trimmed_mean_murder_rate = stats.trim_mean(data['Murder.Rate'], proportiontocut=0.1)\n",
        "print(\"Trimmed mean (Murder.Rate, 10%):\", trimmed_mean_murder_rate)"
      ]
    },
    {
      "cell_type": "markdown",
      "metadata": {
        "id": "5Gcgq8O8vMqU"
      },
      "source": [
        "La **media** es mayor que la **media recortada** (Trimmed mean), que es mayor que la **mediana**.\n",
        "\n",
        "Esto se debe a que la **media recortada** excluye los valores más grandes y más pequeños (elimina un porcentaje de cada extremo). Si queremos calcular la **tasa media** de homicidios del país, tenemos que utilizar una **media ponderada** o una **mediana** para tener en cuenta las diferentes poblaciones de los estados."
      ]
    },
    {
      "cell_type": "markdown",
      "metadata": {
        "id": "QtOdrKD9v58B"
      },
      "source": [
        " La **media ponderada** está disponible con **`NumPy`**.\n"
      ]
    },
    {
      "cell_type": "code",
      "execution_count": 83,
      "metadata": {
        "colab": {
          "base_uri": "https://localhost:8080/"
        },
        "id": "I_H23Se0sJM4",
        "outputId": "55c5edf1-97bc-4dea-ee96-08c2466436ec"
      },
      "outputs": [
        {
          "data": {
            "text/plain": [
              "4.445833981123393"
            ]
          },
          "execution_count": 83,
          "metadata": {},
          "output_type": "execute_result"
        }
      ],
      "source": [
        "np.average(data['Murder.Rate'], weights=data.Population).item()"
      ]
    },
    {
      "cell_type": "markdown",
      "metadata": {
        "id": "McwxQHl2vjFv"
      },
      "source": [
        "Para la **mediana ponderada** (Weighted median), podemos utilizar el paquete especializado **`wquantiles`**, donde podemos encontrar la funcion `.median()`, donde tenemos la variable `weights` para calcular la ponderacion de acuerdo con la poblacion:"
      ]
    },
    {
      "cell_type": "code",
      "execution_count": 84,
      "metadata": {
        "colab": {
          "base_uri": "https://localhost:8080/"
        },
        "id": "CJFDTUehH-bR",
        "outputId": "e1992c19-75f4-4ecb-c645-48b3225e016d"
      },
      "outputs": [],
      "source": [
        "try:\n",
        "    import wquantiles\n",
        "except ImportError:\n",
        "    %pip install wquantiles\n",
        "    import wquantiles"
      ]
    },
    {
      "cell_type": "code",
      "execution_count": 85,
      "metadata": {
        "id": "7fSTjihEIhty"
      },
      "outputs": [
        {
          "name": "stdout",
          "output_type": "stream",
          "text": [
            "4.4\n"
          ]
        }
      ],
      "source": [
        "# Tu codigo va aqui\n",
        "weighted_median_murder_rate = wquantiles.median(data['Murder.Rate'], weights=data.Population).item()\n",
        "print(weighted_median_murder_rate)"
      ]
    },
    {
      "cell_type": "markdown",
      "metadata": {
        "id": "NIvkqtEHweNC"
      },
      "source": [
        "En este caso, la **media ponderada** y la **mediana ponderada** son prácticamente iguales."
      ]
    },
    {
      "cell_type": "markdown",
      "metadata": {
        "id": "ERl5NDzOytZD"
      },
      "source": [
        "---\n",
        "\n",
        "# Estimaciones de Variabilidad\n",
        "El dataframe de `pandas` proporciona métodos para calcular la **desviación estándar** y los **cuantiles**."
      ]
    },
    {
      "cell_type": "code",
      "execution_count": 86,
      "metadata": {
        "id": "BrRLZI6Jy8x5"
      },
      "outputs": [],
      "source": [
        "import seaborn as sns\n",
        "import matplotlib.pyplot as plt"
      ]
    },
    {
      "cell_type": "markdown",
      "metadata": {
        "id": "3GSMKD-BZZMc"
      },
      "source": [
        "Empecemos con la funcion de calculo de la **desviación estándar** para la **poblacion** (`population`) , podemos utilizar la funcion nativa `.std()` de `pandas`:"
      ]
    },
    {
      "cell_type": "code",
      "execution_count": 87,
      "metadata": {
        "id": "FjlpA73cZfQt"
      },
      "outputs": [
        {
          "data": {
            "text/plain": [
              "np.float64(6848235.347401142)"
            ]
          },
          "execution_count": 87,
          "metadata": {},
          "output_type": "execute_result"
        }
      ],
      "source": [
        "# Tu codigo va aqui\n",
        "data['Population'].std()"
      ]
    },
    {
      "cell_type": "markdown",
      "metadata": {
        "id": "qsMkQU660H0t"
      },
      "source": [
        " Para la **Desviacion Absoluta de la Mediana** (MAD) robusta para la **poblacion** (`population`), utilizamos la función `robust.scale.mad` de la libreria `statsmodels`:"
      ]
    },
    {
      "cell_type": "code",
      "execution_count": 88,
      "metadata": {
        "id": "fytQ_KHJZiDQ"
      },
      "outputs": [],
      "source": [
        "from statsmodels import robust"
      ]
    },
    {
      "cell_type": "code",
      "execution_count": 89,
      "metadata": {
        "id": "bQhM5UbnZgsc"
      },
      "outputs": [
        {
          "name": "stdout",
          "output_type": "stream",
          "text": [
            "MAD robusta para la población: 3849876.1459979336\n"
          ]
        }
      ],
      "source": [
        "# Tu codigo va aqui\n",
        "mad_population = robust.scale.mad(data['Population'])\n",
        "print(\"MAD robusta para la población:\", mad_population)"
      ]
    },
    {
      "cell_type": "markdown",
      "metadata": {
        "id": "1TqwTTf_zp1D"
      },
      "source": [
        "La **desviación estándar** es casi dos veces mayor que la **MAD**. Esto no es sorprendente, ya que la **desviación típica** es sensible a los valores atípicos (*outliers*)."
      ]
    },
    {
      "cell_type": "markdown",
      "metadata": {
        "id": "VZZhHvFFPAIX"
      },
      "source": [
        "\n",
        "\n",
        "---\n",
        "\n",
        "# Explorar la distribución de los datos\n",
        "\n",
        "Cada una de las estimaciones que hemos cubierto resume los datos en un único número para describir la **localización** o **variabilidad** de los datos. También es útil explorar cómo se **distribuyen** los datos en general."
      ]
    },
    {
      "cell_type": "markdown",
      "metadata": {
        "id": "8lnazEFl0kF_"
      },
      "source": [
        "## Percentiles y Boxplots\n",
        "\n",
        "Hemos explorado cómo se pueden utilizar los **percentiles** para medir la **dispersión de los datos**. Los **percentiles** también son valiosos para resumir toda la distribución. Es común informar de los **cuartiles** (percentiles 25, 50 y 75) y los **deciles** (percentiles 10, 20, ..., 90).\n",
        "\n",
        "Los **percentiles** son especialmente valiosos para resumir las colas (el rango exterior) de la distribución.\n",
        "\n",
        "Por ejemplo, La cultura popular ha acuñado el término **\"unos por cientos\"** (one-percenters) para referirse a las personas que se encuentran en el **percentil 99** de riqueza."
      ]
    },
    {
      "cell_type": "markdown",
      "metadata": {
        "id": "cwdOpo_B08RU"
      },
      "source": [
        "Podemos mostrar algunos **percentiles** de la *tasa de homicidios por estado*. El método **`.quantile()`** del *dataframe* de **`pandas`** lo proporciona en Python, que puede recibir una lista de los cuantiles que queremos ver.\n",
        "\n",
        "Apliquemos esta herramienta para ver la distribucion del **`Murder.Rate`** en los conjuntos de datos para los cuantiles `[0.05, 0.25, 0.5, 0.75, 0.95]`:"
      ]
    },
    {
      "cell_type": "code",
      "execution_count": 90,
      "metadata": {
        "id": "OAxGcH9vbOgr"
      },
      "outputs": [
        {
          "data": {
            "text/plain": [
              "0.05    1.600\n",
              "0.25    2.425\n",
              "0.50    4.000\n",
              "0.75    5.550\n",
              "0.95    6.510\n",
              "Name: Murder.Rate, dtype: float64"
            ]
          },
          "execution_count": 90,
          "metadata": {},
          "output_type": "execute_result"
        }
      ],
      "source": [
        "# Tu codigo va aqui\n",
        "percentiles = [0.05, 0.25, 0.5, 0.75, 0.95]\n",
        "data['Murder.Rate'].quantile(percentiles)"
      ]
    },
    {
      "cell_type": "markdown",
      "metadata": {
        "id": "2ML-0IqJ1Msn"
      },
      "source": [
        "Con esta herramienta es que la **mediana** es de 4 asesinatos por cada 100,000 habitantes, aunque hay bastante variabilidad, lo podemos ver comparando del percentil 5 al percentil 95.\n",
        "\n",
        "Los **gráficos de caja** (**box plots**) se basan en los **percentiles** y permiten visualizar rápidamente la distribución de los datos."
      ]
    },
    {
      "cell_type": "code",
      "execution_count": 91,
      "metadata": {
        "colab": {
          "base_uri": "https://localhost:8080/",
          "height": 544
        },
        "id": "RGUKpbd9noO4",
        "outputId": "afd8d6db-23aa-4ec6-da76-e7b690edfef6"
      },
      "outputs": [
        {
          "data": {
            "image/png": "[encoded data removed]",
            "text/plain": [
              "<Figure size 800x600 with 1 Axes>"
            ]
          },
          "metadata": {},
          "output_type": "display_data"
        }
      ],
      "source": [
        "ax = (data['Population'] / 1_000_000).plot.hist(figsize=(8, 6))\n",
        "ax.set_xlabel('Population (millions)')\n",
        "plt.show()"
      ]
    },
    {
      "cell_type": "markdown",
      "metadata": {
        "id": "MMXSMNRon3if"
      },
      "source": [
        "La libreria `pandas` tambien cuenta con la funcion **`.plot.box()`**. Muestra la distribucion de la poblacion (`Population`) en escala en **millones**, originalmente los datos no tienen una escala:"
      ]
    },
    {
      "cell_type": "code",
      "execution_count": 92,
      "metadata": {
        "id": "gQVDS0mmdUJv"
      },
      "outputs": [
        {
          "data": {
            "image/png": "[encoded data removed]",
            "text/plain": [
              "<Figure size 800x600 with 1 Axes>"
            ]
          },
          "metadata": {},
          "output_type": "display_data"
        }
      ],
      "source": [
        "# Tu codigo va aqui\n",
        "ax = (data['Population'] / 1_000_000).plot.box(figsize=(8, 6))\n",
        "ax.set_xlabel('Population (millions)')\n",
        "plt.show()\n"
      ]
    },
    {
      "cell_type": "markdown",
      "metadata": {
        "id": "-FYfJeBa1487"
      },
      "source": [
        "De este **boxplot** se desprende inmediatamente que la **población media** de los estados ronda los 5 millones, que la mitad de los estados se sitúan entre los 2 y los 7 millones, y que hay algunos valores atípicos (*outliers*) de población elevada.\n",
        "\n",
        "La parte superior e inferior del recuadro son los **percentiles** 75 y 25, respectivamente.\n",
        "\n",
        "La **mediana** es la línea horizontal del recuadro.\n",
        "\n",
        "Las líneas discontinuas (líneas verticales), denominadas bigotes (*whiskers*), se extienden desde la parte superior e inferior del recuadro para indicar el intervalo de la mayor parte de los datos.  Los datos que quedan fuera de los *bigotes* se representan como puntos aislados o círculos (a menudo considerados *valores atípicos*)."
      ]
    },
    {
      "cell_type": "markdown",
      "metadata": {
        "id": "YpyRBlJlf623"
      },
      "source": [
        "Ahora intentemos realizar el mismo ejercicio pero ahora aplicado al **`Murder.Rate`**:"
      ]
    },
    {
      "cell_type": "code",
      "execution_count": 93,
      "metadata": {
        "id": "57gnTqNihpVN"
      },
      "outputs": [
        {
          "data": {
            "image/png": "[encoded data removed]",
            "text/plain": [
              "<Figure size 800x600 with 1 Axes>"
            ]
          },
          "metadata": {},
          "output_type": "display_data"
        }
      ],
      "source": [
        "# Tu codigo va aqui\n",
        "ax = (data['Murder.Rate'] / 1_000_000).plot.box(figsize=(8, 6))\n",
        "ax.set_xlabel('Murder Rate ')\n",
        "plt.show()"
      ]
    },
    {
      "cell_type": "markdown",
      "metadata": {
        "id": "IrH7Q39Hg-Oq"
      },
      "source": [
        "## Metodos de deteccion de outliers\n",
        "\n",
        "A continuación, utilicemos dos metodologias para poder detectar ouliers:\n",
        "* Rango Intercuartil (IQR)\n",
        "* Desviacion estándar"
      ]
    },
    {
      "cell_type": "code",
      "execution_count": 94,
      "metadata": {
        "colab": {
          "base_uri": "https://localhost:8080/",
          "height": 542
        },
        "id": "7GVhQqHEm-_4",
        "outputId": "30a415b9-28d0-4091-ca32-1e954ff7c6c7"
      },
      "outputs": [
        {
          "data": {
            "image/png": "[encoded data removed]",
            "text/plain": [
              "<Figure size 800x600 with 1 Axes>"
            ]
          },
          "metadata": {},
          "output_type": "display_data"
        }
      ],
      "source": [
        "plt.figure(figsize=(8, 6))\n",
        "ax = data[\"Murder.Rate\"].plot.hist(density=True, xlim=[0,12], bins=range(1,12))\n",
        "data[\"Murder.Rate\"].plot.density(ax=ax)\n",
        "ax.set_xlabel(\"Murder Rate (per 100,000)\")\n",
        "plt.show()"
      ]
    },
    {
      "cell_type": "markdown",
      "metadata": {
        "id": "vBHPVM2-jXId"
      },
      "source": [
        "Recordemos que para calcular rango intercuartil (IQR) es necesario saber el cuartil 3 (Q3) y el cuartil 1 (Q1):\n",
        "$$\n",
        "IQR = Q3 - Q1\n",
        "$$\n",
        "\n",
        "Recordemos tambien que para encontrar la cota superior y la inferior es necesario calcular:\n",
        "$$\n",
        "Upper = Q3 + 1.5 \\times IQR\n",
        "$$\n",
        "\n",
        "$$\n",
        "Lower = Q1 - 1.5 \\times IQR\n",
        "$$"
      ]
    },
    {
      "cell_type": "code",
      "execution_count": 95,
      "metadata": {
        "id": "FfV-dJBTg726"
      },
      "outputs": [
        {
          "name": "stdout",
          "output_type": "stream",
          "text": [
            "Límite superior: 10.2375\n",
            "Límite inferior: -2.2625\n"
          ]
        }
      ],
      "source": [
        "# Tu codigo va aqui\n",
        "q3 = data['Murder.Rate'].quantile(0.75)\n",
        "q1 = data['Murder.Rate'].quantile(0.25)\n",
        "iqr = q3 - q1\n",
        "\n",
        "upper_bound = q3 + 1.5 * iqr\n",
        "lower_bound = q1 - 1.5 * iqr\n",
        "\n",
        "print(\"Límite superior:\", upper_bound)\n",
        "print(\"Límite inferior:\", lower_bound)"
      ]
    },
    {
      "cell_type": "markdown",
      "metadata": {
        "id": "iZv0k-tLj54X"
      },
      "source": [
        "una vez obtenido las cotas superiores e inferiores, filtre de los datos aquella columnas que esten fuera de estas cotas para descubrir los outliers:"
      ]
    },
    {
      "cell_type": "code",
      "execution_count": 96,
      "metadata": {
        "id": "9xelYwvokOX8"
      },
      "outputs": [
        {
          "name": "stdout",
          "output_type": "stream",
          "text": [
            "        State  Population  Murder.Rate Abbreviation\n",
            "17  Louisiana     4533372         10.3           LA\n"
          ]
        }
      ],
      "source": [
        "# Tu codigo va aqui\n",
        "outliers_iqr = data[(data['Murder.Rate'] < lower_bound) | (data['Murder.Rate'] > upper_bound)]\n",
        "print(outliers_iqr)"
      ]
    },
    {
      "cell_type": "markdown",
      "metadata": {
        "id": "QI6ANGcOkZQH"
      },
      "source": [
        "Para el metodo de la desviacion estandar recordemos que la cota superior y la inferior se calcula como:\n",
        "$$\n",
        "Upper = \\bar{x} + k \\times \\sigma\n",
        "$$\n",
        "\n",
        "$$\n",
        "Lower = \\bar{x} - k \\times \\sigma\n",
        "$$\n",
        "\n",
        "tradicionalmente, $k=3$ para la deteccion de outliers."
      ]
    },
    {
      "cell_type": "code",
      "execution_count": 116,
      "metadata": {
        "id": "DMfC9SUzlbgL"
      },
      "outputs": [
        {
          "name": "stdout",
          "output_type": "stream",
          "text": [
            "Cota superior (desviación estándar): 9.813208372908768\n",
            "Cota inferior (desviación estándar): -1.6812083729087686\n"
          ]
        }
      ],
      "source": [
        "# Tu codigo va aqui\n",
        "k= 3\n",
        "mean_murder_rate = data['Murder.Rate'].mean()\n",
        "std_murder_rate = data['Murder.Rate'].std()\n",
        "\n",
        "upper_std_bound = mean_murder_rate + (k * std_murder_rate)\n",
        "lower_std_bound = mean_murder_rate - k * std_murder_rate\n",
        "\n",
        "print(\"Cota superior (desviación estándar):\", upper_std_bound)\n",
        "print(\"Cota inferior (desviación estándar):\", lower_std_bound)\n"
      ]
    },
    {
      "cell_type": "markdown",
      "metadata": {
        "id": "aVmcU_xAmAWf"
      },
      "source": [
        "Compare el valor de las cotas superiores e inferiores calculados por los dos metodos.\n",
        "\n",
        "<br>\n",
        "\n",
        "Nuevamente, filtre de los datos aquella columnas que esten fuera de estas cotas para descubrir los outliers:"
      ]
    },
    {
      "cell_type": "code",
      "execution_count": 117,
      "metadata": {
        "id": "ftkB8DucmAlh"
      },
      "outputs": [
        {
          "name": "stdout",
          "output_type": "stream",
          "text": [
            "        State  Population  Murder.Rate Abbreviation\n",
            "17  Louisiana     4533372         10.3           LA\n"
          ]
        }
      ],
      "source": [
        "# Tu codigo va aqui\n",
        "outliers_iqr = data[(data['Murder.Rate'] < lower_std_bound) | (data['Murder.Rate'] > upper_std_bound)]\n",
        "print(outliers_iqr)"
      ]
    },
    {
      "cell_type": "markdown",
      "metadata": {
        "id": "gDwRweSCqR1Z"
      },
      "source": [
        "---\n",
        "---\n",
        "---\n",
        "# PART 2\n",
        "\n",
        "# Transformacion de variables"
      ]
    },
    {
      "cell_type": "code",
      "execution_count": 100,
      "metadata": {
        "id": "4oevuJtHrb74"
      },
      "outputs": [],
      "source": [
        "from scipy.stats import norm, uniform, skewnorm\n",
        "import numpy as np\n",
        "import matplotlib.pyplot as plt"
      ]
    },
    {
      "cell_type": "markdown",
      "metadata": {
        "id": "RaVqrgXCqekH"
      },
      "source": [
        "## Distribuciones asimetricas (sesgado a la derecha - positiva)\n",
        "\n",
        "A continuacion se muestra el histrograma de la distribucion de 10,000 muestras sesgada a la derecha."
      ]
    },
    {
      "cell_type": "code",
      "execution_count": 101,
      "metadata": {
        "colab": {
          "base_uri": "https://localhost:8080/",
          "height": 452
        },
        "id": "mlYVkL8wqDXv",
        "outputId": "967e5639-49cb-4d9b-ad78-862fb7916eec"
      },
      "outputs": [
        {
          "data": {
            "image/png": "[encoded data removed]",
            "text/plain": [
              "<Figure size 640x480 with 1 Axes>"
            ]
          },
          "metadata": {},
          "output_type": "display_data"
        }
      ],
      "source": [
        "dist_post_skew = skewnorm.rvs(6, size=10000) + 1.0\n",
        "\n",
        "plt.hist(dist_post_skew, density=True, bins='auto', histtype='stepfilled', alpha=0.75)\n",
        "plt.title(\"Original - Positive skew \")\n",
        "plt.grid()\n",
        "plt.show()"
      ]
    },
    {
      "cell_type": "markdown",
      "metadata": {
        "id": "7j_ARgKinPCX"
      },
      "source": [
        "Para intentar llegar a una forma más simétrica, aplique la transformacion con la **`raíz cuadrada`**. Si aplica, tome precauciones necesarias de compatibilidad de la transformacion con los valores posibles en los datos."
      ]
    },
    {
      "cell_type": "code",
      "execution_count": null,
      "metadata": {
        "id": "Du-KmNOzn9QW"
      },
      "outputs": [],
      "source": [
        "# Tu codigo va aqui\n"
      ]
    },
    {
      "cell_type": "markdown",
      "metadata": {
        "id": "UzWBbj33n1FA"
      },
      "source": [
        "Para intentar llegar a una forma más simétrica, aplique la transformacion con **`log`**. Si aplica, tome precauciones necesarias de compatibilidad de la transformacion con los valores posibles en los datos."
      ]
    },
    {
      "cell_type": "code",
      "execution_count": 103,
      "metadata": {
        "id": "vNLF8E_9n5o4"
      },
      "outputs": [],
      "source": [
        "# Tu codigo va aqui"
      ]
    },
    {
      "cell_type": "markdown",
      "metadata": {
        "id": "KNk21mDhrJ4k"
      },
      "source": [
        "## Distribuciones asimetricas (sesgado a la izquierda - negativa)\n",
        "\n",
        "A continuacion se muestra el histrograma de la distribucion de 10,000 muestras sesgada a la izquierda."
      ]
    },
    {
      "cell_type": "code",
      "execution_count": 104,
      "metadata": {
        "colab": {
          "base_uri": "https://localhost:8080/",
          "height": 452
        },
        "id": "k-lyA1IK-VE8",
        "outputId": "1a80fb72-3c56-4e0d-a6e1-941ee478a981"
      },
      "outputs": [
        {
          "data": {
            "image/png": "[encoded data removed]",
            "text/plain": [
              "<Figure size 640x480 with 1 Axes>"
            ]
          },
          "metadata": {},
          "output_type": "display_data"
        }
      ],
      "source": [
        "dist_neg_skew = skewnorm.rvs(-4, size=10000) + 4.0\n",
        "\n",
        "plt.hist(dist_neg_skew, density=True, bins='auto', histtype='stepfilled', alpha=0.75)\n",
        "plt.title(\"Original - Negative skew \")\n",
        "plt.grid()\n",
        "plt.show()"
      ]
    },
    {
      "cell_type": "markdown",
      "metadata": {
        "id": "WHbasM3koN7s"
      },
      "source": [
        "Para intentar llegar a una forma más simétrica, aplique la transformacion con la **`raíz cuadrada`**. Si aplica, tome precauciones necesarias de compatibilidad de la transformacion con los valores posibles en los datos."
      ]
    },
    {
      "cell_type": "code",
      "execution_count": 105,
      "metadata": {
        "id": "8uqnwci8oN7s"
      },
      "outputs": [],
      "source": [
        "# Tu codigo va aqui"
      ]
    },
    {
      "cell_type": "markdown",
      "metadata": {
        "id": "8sSNk6aRoY7h"
      },
      "source": [
        "Para intentar llegar a una forma más simétrica, aplique la transformacion con **`log`**. Si aplica, tome precauciones necesarias de compatibilidad de la transformacion con los valores posibles en los datos."
      ]
    },
    {
      "cell_type": "code",
      "execution_count": 106,
      "metadata": {
        "id": "fSG3p8EioY7h"
      },
      "outputs": [],
      "source": [
        "# Tu codigo va aqui"
      ]
    },
    {
      "cell_type": "markdown",
      "metadata": {
        "id": "CDk1CO3zCHiY"
      },
      "source": [
        "# BOX-COX\n",
        "\n",
        "Vamos a hacer un ejemplo en Python paso a paso con **`scipy.stats.boxcox`**:\n",
        "\n",
        "* Generamos datos positivos → aplicamos Box-Cox.\n",
        "\n",
        "* Mostramos cómo invertir la transformación (para volver a los datos originales).\n",
        "\n",
        "* Intentamos aplicar Box-Cox a datos con valores negativos → veremos el error que aparece."
      ]
    },
    {
      "cell_type": "code",
      "execution_count": 107,
      "metadata": {
        "id": "qcuQYuFU_AWz"
      },
      "outputs": [],
      "source": [
        "from scipy.stats import norm, boxcox\n",
        "from scipy.special import inv_boxcox\n",
        "import statsmodels.api as sm"
      ]
    },
    {
      "cell_type": "markdown",
      "metadata": {
        "id": "UiW2AmogpVhU"
      },
      "source": [
        "A continuacion se muestra el histrograma de la distribucion sesgada a la derecha. En este caso nos aseguramos que los valores fueran positivos."
      ]
    },
    {
      "cell_type": "code",
      "execution_count": 108,
      "metadata": {
        "colab": {
          "base_uri": "https://localhost:8080/",
          "height": 452
        },
        "id": "qLOLe38qk6wO",
        "outputId": "6e72cf6f-2422-43b9-d098-7c98b8369976"
      },
      "outputs": [
        {
          "data": {
            "image/png": "[encoded data removed]",
            "text/plain": [
              "<Figure size 640x480 with 1 Axes>"
            ]
          },
          "metadata": {},
          "output_type": "display_data"
        }
      ],
      "source": [
        "# Aplicar transformacion Box-Cox a cada caracteristicas y guardar sus lambdas\n",
        "skew_data = skewnorm.rvs(4, size=10000) + 1.0\n",
        "\n",
        "plt.hist(skew_data, density=True, bins='auto', histtype='stepfilled', alpha=0.2)\n",
        "plt.title(\"Skew data\")\n",
        "plt.grid()\n",
        "plt.show()"
      ]
    },
    {
      "cell_type": "markdown",
      "metadata": {
        "id": "UMLkEMSap8SR"
      },
      "source": [
        "Tambien mostramos como se distribuyen los datos respecto a una distribucion normal a traves de un grafico Q-Q."
      ]
    },
    {
      "cell_type": "code",
      "execution_count": 109,
      "metadata": {
        "colab": {
          "base_uri": "https://localhost:8080/",
          "height": 472
        },
        "id": "z3juhRFFQZgn",
        "outputId": "5e138e41-2fbf-417c-ba4a-4e235ea25bd5"
      },
      "outputs": [
        {
          "data": {
            "image/png": "[encoded data removed]",
            "text/plain": [
              "<Figure size 640x480 with 1 Axes>"
            ]
          },
          "metadata": {},
          "output_type": "display_data"
        }
      ],
      "source": [
        "fig = sm.qqplot(data=skew_data, dist=norm, line=\"q\")\n",
        "plt.title(\"Q-Q Plot\")\n",
        "plt.ylabel(\"Standarized residuals Quantiles\")\n",
        "plt.grid()\n",
        "plt.show()"
      ]
    },
    {
      "cell_type": "markdown",
      "metadata": {
        "id": "fDpKw1kTkxb0"
      },
      "source": [
        "La transformación de Box-Cox transforma los datos no-normales en datos más parecidos a una distribución normal.\n",
        "\n",
        "En `SciPy`, podemos usar la funcion `scipy.stats.boxcox` para aplicar la transformación. La funcion regresa 2 paramentros: los `datos transformados` y el valor de las `lambdas`.\n",
        "\n",
        "**Obtenga los valores transformados, el valor de lambda(s) calculado y muestre el histograma y la grafica QQ de los datos transformados.**"
      ]
    },
    {
      "cell_type": "code",
      "execution_count": 110,
      "metadata": {
        "id": "mGIDk8G4pQxG"
      },
      "outputs": [],
      "source": [
        "# Tu codigo va aqui"
      ]
    },
    {
      "cell_type": "code",
      "execution_count": 111,
      "metadata": {
        "id": "YW8f57KnqXS2"
      },
      "outputs": [],
      "source": [
        "# Tu codigo va aqui"
      ]
    },
    {
      "cell_type": "markdown",
      "metadata": {
        "id": "2jZFMDM3k_7W"
      },
      "source": [
        "Existe la función `scipy.special.inv_boxcox` que permite invertirla de manera directa.\n",
        "\n",
        "\n",
        "**Obtenga la transformacion inversa de los valores (utilice el valor de lambda obtenidos anteriormente). Muestre el histograma y la grafica QQ de los datos transformados.** Nombre la variable que utilice como **`original_data_recovered`**."
      ]
    },
    {
      "cell_type": "code",
      "execution_count": 112,
      "metadata": {
        "id": "S_qFLYoTq0y2"
      },
      "outputs": [],
      "source": [
        "# Tu codigo va aqui"
      ]
    },
    {
      "cell_type": "code",
      "execution_count": 113,
      "metadata": {
        "id": "3BNAhdD8q01U"
      },
      "outputs": [],
      "source": [
        "# Tu codigo va aqui"
      ]
    },
    {
      "cell_type": "markdown",
      "metadata": {
        "id": "e3tEU-t6q3lt"
      },
      "source": [
        "A continuacion, verificamos que es igual (con un pequeño error numérico) los datos sesgados originales y los datos obtenidos en la transformacion inversa."
      ]
    },
    {
      "cell_type": "code",
      "execution_count": 114,
      "metadata": {
        "colab": {
          "base_uri": "https://localhost:8080/"
        },
        "id": "rQeuB-fYVIf0",
        "outputId": "3529205f-de41-4bce-cb6b-996496c3f1a2"
      },
      "outputs": [
        {
          "ename": "NameError",
          "evalue": "name 'original_data_recovered' is not defined",
          "output_type": "error",
          "traceback": [
            "\u001b[31m---------------------------------------------------------------------------\u001b[39m",
            "\u001b[31mNameError\u001b[39m                                 Traceback (most recent call last)",
            "\u001b[36mCell\u001b[39m\u001b[36m \u001b[39m\u001b[32mIn[114]\u001b[39m\u001b[32m, line 1\u001b[39m\n\u001b[32m----> \u001b[39m\u001b[32m1\u001b[39m \u001b[38;5;28mprint\u001b[39m(\u001b[33m\"\u001b[39m\u001b[33m¿Coinciden los datos originales e invertidos?\u001b[39m\u001b[33m\"\u001b[39m, np.allclose(skew_data, \u001b[43moriginal_data_recovered\u001b[49m))\n",
            "\u001b[31mNameError\u001b[39m: name 'original_data_recovered' is not defined"
          ]
        }
      ],
      "source": [
        "print(\"¿Coinciden los datos originales e invertidos?\", np.allclose(skew_data, original_data_recovered))"
      ]
    },
    {
      "cell_type": "markdown",
      "metadata": {
        "id": "uRb5wiu9r4nQ"
      },
      "source": [
        "Por ultimo, verifique que pasa si se intenta transformar datos que contienen valores negativos con la funcion Box Cox:"
      ]
    },
    {
      "cell_type": "code",
      "execution_count": null,
      "metadata": {
        "id": "6-343GnNsC_2"
      },
      "outputs": [],
      "source": [
        "# Tu codigo va aqui"
      ]
    },
    {
      "cell_type": "markdown",
      "metadata": {
        "id": "aWiXlOTIYsri"
      },
      "source": [
        "# Yeo-Johnson\n",
        "\n",
        "A continuacion se muestra el histrograma de la distribucion sesgada a la derecha. Note que en este caso la distribucion contiene valores negativos."
      ]
    },
    {
      "cell_type": "code",
      "execution_count": null,
      "metadata": {
        "colab": {
          "base_uri": "https://localhost:8080/",
          "height": 452
        },
        "id": "z5exgdoGVOD2",
        "outputId": "6361ea61-d0de-4f2a-a551-5faf62dbc5a6"
      },
      "outputs": [],
      "source": [
        "# Aplicar transformacion Box-Cox a cada caracteristicas y guardar sus lambdas\n",
        "skew_data_neg = skewnorm.rvs(4, size=10000)\n",
        "\n",
        "plt.hist(skew_data_neg, density=True, bins='auto', histtype='stepfilled', alpha=0.2)\n",
        "plt.title(\"Original Skew Data\")\n",
        "plt.grid()\n",
        "plt.show()"
      ]
    },
    {
      "cell_type": "markdown",
      "metadata": {
        "id": "4YwoOZX8sUEH"
      },
      "source": [
        "Tambien mostramos como se distribuyen los datos respecto a una distribucion normal a traves de un grafico Q-Q."
      ]
    },
    {
      "cell_type": "code",
      "execution_count": null,
      "metadata": {
        "colab": {
          "base_uri": "https://localhost:8080/",
          "height": 472
        },
        "id": "I8ldM-xAsY7K",
        "outputId": "2b129319-8f80-459b-db71-6fbcb6619008"
      },
      "outputs": [],
      "source": [
        "fig = sm.qqplot(data=skew_data_neg, dist=norm, line=\"q\")\n",
        "plt.title(\"Q-Q Plot\")\n",
        "plt.ylabel(\"Standarized residuals Quantiles\")\n",
        "plt.grid()\n",
        "plt.show()"
      ]
    },
    {
      "cell_type": "markdown",
      "metadata": {
        "id": "WknIAEw3kRR4"
      },
      "source": [
        "Sí implementa **Yeo-Johnson** puede utilizar `sklearn`, usando `sklearn.preprocessing.PowerTransformer`. Actualmente, `PowerTransformer` es compatible con la transformación de **Box-Cox** y la transformación de **Yeo-Johnson**.\n",
        "\n",
        "```\n",
        "pt = PowerTransformer(method='yeo-johnson', standardize=False)\n",
        "\n",
        "transformed_data = pt.fit_transform(X)\n",
        "```\n",
        "\n",
        "**Obtenga la transformacion Yeo-Johnson de los valores. Muestre el histograma y la grafica QQ de los datos transformados.**\n",
        "\n",
        "**Nota 1.** Es posible que tenga que usar el metodo `.reshape()` en los datos para utilizar el metodo `.fit_transform()`.\n",
        "\n",
        "**Nota 2.** Para la grafica QQ es posible que tenga que aplicar el metodo `.flatten()` en los datos para que la grafica se muestre adecuadamente."
      ]
    },
    {
      "cell_type": "code",
      "execution_count": null,
      "metadata": {
        "id": "NzdIwatxlg5p"
      },
      "outputs": [],
      "source": [
        "from scipy.stats import yeojohnson\n",
        "from sklearn.preprocessing import PowerTransformer"
      ]
    },
    {
      "cell_type": "code",
      "execution_count": null,
      "metadata": {
        "id": "4CSYihkKvQML"
      },
      "outputs": [],
      "source": [
        "# Tu codigo va aqui"
      ]
    },
    {
      "cell_type": "code",
      "execution_count": null,
      "metadata": {
        "id": "beTnJ-SovQPC"
      },
      "outputs": [],
      "source": [
        "# Tu codigo va aqui"
      ]
    },
    {
      "cell_type": "markdown",
      "metadata": {
        "id": "HKZJmn8OtLIS"
      },
      "source": [
        "**Obtenga la transformacion inversa de los valores (utilice el valor de lambda obtenidos anteriormente). Muestre el histograma y la grafica QQ de los datos transformados.**\n",
        "\n",
        "En `SciPy` existe `scipy.special.inv_boxcox` para invertir la transformación **Box-Cox**, pero para **Yeo-Johnson** no hay una función directa de \"inversa\" en el mismo paquete.\n",
        "\n",
        "Lo que se hace es usar el método `.inverse_transform()` del objeto entrenado, que aplica internamente la inversa.  Nombre la variable que utilice como **`original_data_recovered`**."
      ]
    },
    {
      "cell_type": "code",
      "execution_count": null,
      "metadata": {
        "id": "FIcxBFqjvWH1"
      },
      "outputs": [],
      "source": [
        "# Tu codigo va aqui"
      ]
    },
    {
      "cell_type": "code",
      "execution_count": null,
      "metadata": {
        "id": "M6c2ElefvWKT"
      },
      "outputs": [],
      "source": [
        "# Tu codigo va aqui"
      ]
    },
    {
      "cell_type": "code",
      "execution_count": null,
      "metadata": {
        "colab": {
          "base_uri": "https://localhost:8080/"
        },
        "id": "gRDBXMklvvik",
        "outputId": "785136ad-1f12-4ca7-f47a-f92b8b3aa0b6"
      },
      "outputs": [],
      "source": [
        "# Verificamos que es igual (con un pequeño error numérico)\n",
        "print(\"¿Coinciden los datos originales e invertidos?\", np.allclose(skew_data_neg, original_data_recovered.flatten()))"
      ]
    },
    {
      "cell_type": "markdown",
      "metadata": {
        "id": "hLbg25LckOA-"
      },
      "source": [
        "Alternativamente, tambien existe el metodo `._yeo_johnson_inverse_transform(X, pt.lambdas_)`[*](https://github.com/scikit-learn/scikit-learn/blob/c5497b7f7/sklearn/preprocessing/_data.py#L3412) que aplica la transformacion a los datos `X` utilizando las `lambdas` del objeto entrenado `pt`.  Nombre la variable que utilice como **`original_data_recovered`**."
      ]
    },
    {
      "cell_type": "code",
      "execution_count": null,
      "metadata": {
        "id": "Yrc2amP1xqFj"
      },
      "outputs": [],
      "source": [
        "# Tu codigo va aqui"
      ]
    },
    {
      "cell_type": "code",
      "execution_count": null,
      "metadata": {
        "colab": {
          "base_uri": "https://localhost:8080/"
        },
        "id": "KP-bzuCUxqIP",
        "outputId": "6caf66ee-0ab9-4b9e-f1be-a71094062b45"
      },
      "outputs": [],
      "source": [
        "# Verificamos que es igual (con un pequeño error numérico)\n",
        "print(\"¿Coinciden los datos originales e invertidos?\", np.allclose(skew_data_neg, original_data_recovered.flatten()))"
      ]
    }
  ],
  "metadata": {
    "colab": {
      "include_colab_link": true,
      "provenance": []
    },
    "kernelspec": {
      "display_name": ".venv (3.11.4)",
      "language": "python",
      "name": "python3"
    },
    "language_info": {
      "codemirror_mode": {
        "name": "ipython",
        "version": 3
      },
      "file_extension": ".py",
      "mimetype": "text/x-python",
      "name": "python",
      "nbconvert_exporter": "python",
      "pygments_lexer": "ipython3",
      "version": "3.11.4"
    }
  },
  "nbformat": 4,
  "nbformat_minor": 0
}
