{
  "cells": [
    {
      "cell_type": "markdown",
      "metadata": {
        "colab_type": "text",
        "id": "view-in-github"
      },
      "source": [
        "<a href=\"https://colab.research.google.com/github/Angelaestefan/concentracion/blob/master/Proyecto__Minimos_cuadrados_%5BPUBLIC%5D.ipynb\" target=\"_parent\"><img src=\"https://colab.research.google.com/assets/colab-badge.svg\" alt=\"Open In Colab\"/></a>"
      ]
    },
    {
      "cell_type": "markdown",
      "metadata": {
        "id": "IkdIPZslg7Rn"
      },
      "source": [
        "# **Ejercicio: Implementación desde cero de una Regresión Lineal**\n",
        "\n",
        "**Objetivo:**\n",
        "\n",
        "El propósito de este ejercicio es que el estudiante implemente una regresión lineal utilizando el método de mínimos cuadrados sin recurrir a librerías de machine learning (como `scikit-learn`, `statsmodels`, etc.). El desarrollo debe hacerse paso a paso, utilizando únicamente Python básico y librerías numéricas como `numpy`, `pandas` y un par de funciones seccionadas de `scipy.stats.t`.\n",
        "\n",
        "La meta es comprender de manera profunda el modelo lineal y las métricas asociadas."
      ]
    },
    {
      "cell_type": "markdown",
      "metadata": {
        "id": "AHbUIao4gtbh"
      },
      "source": [
        "# Datos\n",
        "Tenemos un pequeño conjunto de datos para trabajar con datos:"
      ]
    },
    {
      "cell_type": "code",
      "execution_count": 163,
      "metadata": {
        "id": "cWwpFAmQglaA"
      },
      "outputs": [],
      "source": [
        "import pandas as pd\n",
        "import numpy as np\n",
        "from scipy import stats\n",
        "import matplotlib.pyplot as plt\n",
        "\n",
        "#dataset\n",
        "df = pd.DataFrame({'x': [8, 12, 12, 13, 14, 16, 17, 22, 24, 26, 29, 30],\n",
        "                   'y': [41, 42, 39, 38, 40, 39, 45, 46, 42, 49, 55, 57]})"
      ]
    },
    {
      "cell_type": "code",
      "execution_count": 164,
      "metadata": {
        "colab": {
          "base_uri": "https://localhost:8080/",
          "height": 448
        },
        "id": "Sl6nVXhTssT3",
        "outputId": "ac0667d1-f0ca-4c0c-e25b-e1e871fac642"
      },
      "outputs": [
        {
          "data": {
            "text/plain": [
              "<matplotlib.collections.PathCollection at 0x748d59daa150>"
            ]
          },
          "execution_count": 164,
          "metadata": {},
          "output_type": "execute_result"
        },
        {
          "data": {
            "image/png": "[encoded data removed]",
            "text/plain": [
              "<Figure size 640x480 with 1 Axes>"
            ]
          },
          "metadata": {},
          "output_type": "display_data"
        }
      ],
      "source": [
        "plt.scatter(df['x'], df['y'], marker=\".\", alpha=0.5)"
      ]
    },
    {
      "cell_type": "markdown",
      "metadata": {
        "id": "oT9Ibadwi3bg"
      },
      "source": [
        "A continuacion definimos las variables dependientes e independientes:"
      ]
    },
    {
      "cell_type": "code",
      "execution_count": 165,
      "metadata": {
        "id": "L3vKfl9Xi8Be"
      },
      "outputs": [],
      "source": [
        "# definimos la variable dependiente\n",
        "Y = df['y']\n",
        "\n",
        "# definimos la variable independiente\n",
        "X = df['x']"
      ]
    },
    {
      "cell_type": "markdown",
      "metadata": {
        "id": "eCXRbY8ItyWu"
      },
      "source": [
        "# Modelo lineal\n",
        "A continuacion definimos las funciones de nuestro modelo y la funcion para obtener nuestras predicciones."
      ]
    },
    {
      "cell_type": "code",
      "execution_count": 166,
      "metadata": {
        "id": "-Exb6x94uGym"
      },
      "outputs": [],
      "source": [
        "def MODELO(X, Y):\n",
        "  \"\"\" Desarrolla el modelo de regresion lineal utilizando el metodo de tu preferencia,\n",
        "      Regresa los coeficientes del modelo: intercepto (bias) y pendiente.\n",
        "  \"\"\"\n",
        "  ###\n",
        "  # Tu codigo va aqui\n",
        "  x_mean = np.mean(X)\n",
        "  y_mean = np.mean(Y)\n",
        "  beta_1 = np.sum((X - x_mean) * (Y - y_mean)) / np.sum((X - x_mean) ** 2)\n",
        "  beta_0 = y_mean - beta_1 * x_mean\n",
        "\n",
        "\n",
        "  ###\n",
        "  return beta_0, beta_1\n",
        "\n",
        "def Predict(beta_0, beta_1, X):\n",
        "  \"\"\" Regresa los valores predichos.\"\"\"\n",
        "  ###\n",
        "  # Tu codigo va aqui\n",
        "  return [beta_0 + beta_1 * x for x in X]\n",
        "  \n",
        "\n",
        "\n",
        "  ###\n",
        "  "
      ]
    },
    {
      "cell_type": "markdown",
      "metadata": {
        "id": "5zCKd40vuAHN"
      },
      "source": [
        "# Metricas Estadisticas\n",
        "En esta seccion, se implementaran los diversa metricas estadisticas que describen la calidad de ajuste de nuestro modelo y los detalles de los coeficientes y datos."
      ]
    },
    {
      "cell_type": "code",
      "execution_count": 167,
      "metadata": {
        "id": "8A2lvETFjFsr"
      },
      "outputs": [],
      "source": [
        "def R2_score(y_true, y_pred):\n",
        "  \"\"\" Calcula y regresa el valor del coeficiente de determinacion \"\"\"\n",
        "  ###\n",
        "  # Tu codigo va aqui\n",
        "  ss_res = np.sum((y_true - y_pred) ** 2)\n",
        "  ss_tot = np.sum((y_true - np.mean(y_true)) ** 2)\n",
        "  return 1 - ss_res / ss_tot\n",
        "\n",
        "\n",
        "  ###\n",
        " "
      ]
    },
    {
      "cell_type": "code",
      "execution_count": 168,
      "metadata": {
        "id": "Oe8JPx3cjcra"
      },
      "outputs": [],
      "source": [
        "def std_error(x, y_true, y_pred):\n",
        "  \"\"\" Calcula y regresa el valor del error estandar de los estimadores b_0 y b_1 [tupla o lista] \"\"\"\n",
        "  # HINT:\n",
        "  ###\n",
        "  # Tu codigo va aqui\n",
        "  n = len(x)\n",
        "  x_mean = np.mean(x)\n",
        "  s_squared = np.sum((y_true - y_pred) ** 2) / (n - 2)\n",
        "  s_b1 = np.sqrt(s_squared / np.sum((x - x_mean) ** 2))\n",
        "  s_b0 = np.sqrt(s_squared * (1/n + x_mean**2 / np.sum((x - x_mean) ** 2)))\n",
        "  return s_b0, s_b1\n",
        "  ###\n"
      ]
    },
    {
      "cell_type": "code",
      "execution_count": 169,
      "metadata": {
        "id": "dn_dEnQRkyXW"
      },
      "outputs": [],
      "source": [
        "def IC(beta_0, beta_1, x, y_true, y_pred, alpha):\n",
        "  \"\"\" Calcula y regresa los intervalos de confianza (inferior, superior) de los estimadores b_0 y b_1 [tupla o lista] \"\"\"\n",
        "  # HINT: puedes utilizar 'stats.t.ppf' para el calculo de valor critico\n",
        "  ###\n",
        "  # Tu codigo va aqui\n",
        "  n = len(x)\n",
        "  df = n - 2\n",
        "  s_b0, s_b1 = std_error(x, y_true, y_pred)\n",
        "  t_crit = stats.t.ppf(1 - alpha/2, df)\n",
        "  ic_b0 = (beta_0 - t_crit * s_b0, beta_0 + t_crit * s_b0)\n",
        "  ic_b1 = (beta_1 - t_crit * s_b1, beta_1 + t_crit * s_b1)\n",
        "  return ic_b0, ic_b1"
      ]
    },
    {
      "cell_type": "code",
      "execution_count": 170,
      "metadata": {
        "id": "AZtat3FMnQwx"
      },
      "outputs": [],
      "source": [
        "def T(beta_0, beta_1, x, y_true, y_pred):\n",
        "  \"\"\" Calcula y regresa la estadistica de prueba T para los estimadores b_0 y b_1 [tupla o lista] \"\"\"\n",
        "  ###\n",
        "  # Tu codigo va aqui\n",
        "  s_b0, s_b1 = std_error(x, y_true, y_pred)\n",
        "  t_b0 = beta_0 / s_b0\n",
        "  t_b1 = beta_1 / s_b1\n",
        "  return t_b0, t_b1\n",
        "\n",
        "  ###\n",
        "  \n",
        "\n",
        "def Pvalue(t_value, df, two_tails=True):\n",
        "  \"\"\" Calcula y regresa el p-value dependiendo si se trata de una prueba de una o dos colas [float] \"\"\"\n",
        "  # HINT: puedes utilizar 'stats.t.sf' para el calculo\n",
        "  ###\n",
        "  #  Tu codigo va aqui\n",
        "  if two_tails:\n",
        "    return 2 * stats.t.sf(abs(t_value), df)\n",
        "  else:\n",
        "    return stats.t.sf(abs(t_value), df)\n",
        "\n",
        "  ###\n",
        "  "
      ]
    },
    {
      "cell_type": "markdown",
      "metadata": {
        "id": "jdpktnSaivTA"
      },
      "source": [
        "# Comparativa\n",
        "\n",
        "A continuacion mostramos los resultados obtenidos de un modelos de la libreria de `statsmodels`. Compare los resultados que obtuvo con los resultados obtenidos por el modelo."
      ]
    },
    {
      "cell_type": "code",
      "execution_count": 171,
      "metadata": {
        "colab": {
          "base_uri": "https://localhost:8080/"
        },
        "id": "9GsUiCiA45L8",
        "outputId": "2c23afd5-8c39-4c3b-b4bd-7127fe696192"
      },
      "outputs": [
        {
          "name": "stdout",
          "output_type": "stream",
          "text": [
            "                            OLS Regression Results                            \n",
            "==============================================================================\n",
            "Dep. Variable:                      y   R-squared:                       0.735\n",
            "Model:                            OLS   Adj. R-squared:                  0.708\n",
            "Method:                 Least Squares   F-statistic:                     27.73\n",
            "Date:                Fri, 05 Sep 2025   Prob (F-statistic):           0.000365\n",
            "Time:                        19:56:43   Log-Likelihood:                -30.629\n",
            "No. Observations:                  12   AIC:                             65.26\n",
            "Df Residuals:                      10   BIC:                             66.23\n",
            "Df Model:                           1                                         \n",
            "Covariance Type:            nonrobust                                         \n",
            "==============================================================================\n",
            "                 coef    std err          t      P>|t|      [0.025      0.975]\n",
            "------------------------------------------------------------------------------\n",
            "const         30.7636      2.772     11.096      0.000      24.586      36.941\n",
            "x              0.7347      0.140      5.266      0.000       0.424       1.046\n",
            "==============================================================================\n",
            "Omnibus:                        0.388   Durbin-Watson:                   1.165\n",
            "Prob(Omnibus):                  0.824   Jarque-Bera (JB):                0.419\n",
            "Skew:                          -0.331   Prob(JB):                        0.811\n",
            "Kurtosis:                       2.369   Cond. No.                         56.2\n",
            "==============================================================================\n",
            "\n",
            "Notes:\n",
            "[1] Standard Errors assume that the covariance matrix of the errors is correctly specified.\n"
          ]
        }
      ],
      "source": [
        "import statsmodels.api as sm\n",
        "\n",
        "# Definicion & fit de un modelo de regresion lineal\n",
        "model = sm.OLS(Y, sm.add_constant(X))\n",
        "results = model.fit()\n",
        "\n",
        "# Imprimir el reporte estadistico\n",
        "print(results.summary())"
      ]
    },
    {
      "cell_type": "code",
      "execution_count": 172,
      "metadata": {},
      "outputs": [
        {
          "name": "stdout",
          "output_type": "stream",
          "text": [
            "b_0: 30.763552318251854, b_1: 0.7346967362375684\n",
            "R^2: 0.7349769943860472\n",
            "std error b_0: (np.float64(2.7724629854928864), np.float64(0.13951246923402266))\n",
            "IC b_0: (np.float64(24.58611982464045), np.float64(36.94098481186326)), IC b_1: (np.float64(0.4238435832036793), np.float64(1.0455498892714574))\n",
            "t b_0: 11.096109300367353, t b_1: 5.266172552685342\n",
            "p-value b_0: 6.079702528805614e-07, p-value b_1: 0.0003648102532070309\n"
          ]
        }
      ],
      "source": [
        "beta_0, beta_1 = MODELO(X, Y)\n",
        "Predicted_Values = Predict(beta_0, beta_1, X)\n",
        "r2_score = R2_score(Y, Predicted_Values)\n",
        "std_err = std_error(X, Y, Predicted_Values)\n",
        "ic_b0, ic_b1 = IC(beta_0, beta_1, X, Y, Predicted_Values, 0.05)\n",
        "t_b0, t_b1 = T(beta_0, beta_1, X, Y, Predicted_Values)\n",
        "p_value_b0 = Pvalue(t_b0, len(X) - 2, two_tails=True)\n",
        "p_value_b1 = Pvalue(t_b1, len(X) - 2, two_tails=True)\n",
        "print(f\"b_0: {beta_0}, b_1: {beta_1}\")\n",
        "print(f\"R^2: {r2_score}\")     \n",
        "print(f\"std error b_0: {std_err}\")\n",
        "print(f\"IC b_0: {ic_b0}, IC b_1: {ic_b1}\")\n",
        "print(f\"t b_0: {t_b0}, t b_1: {t_b1}\")\n",
        "print(f\"p-value b_0: {p_value_b0}, p-value b_1: {p_value_b1}\")\n"
      ]
    },
    {
      "cell_type": "markdown",
      "metadata": {
        "id": "sg4v3GrmvuK3"
      },
      "source": [
        "# Otros datos\n",
        "\n",
        "A continuacion mostramos un conjunto de datos alternativo. Aplica nuevamente el modelo a estos nuevos datos, junto con sus metricas estadisticas.\n",
        "\n",
        "* **¿Ha percibido algun valor anormal en los coeficientes, intervalos de confianza o P-values? De ser asi, ¿A que se lo adjudica?**"
      ]
    },
    {
      "cell_type": "code",
      "execution_count": 173,
      "metadata": {
        "id": "wFkO6dprvwK2"
      },
      "outputs": [],
      "source": [
        "df = pd.DataFrame({'x': [-10.583333333333332,-6.583333333333332, -6.583333333333332, -5.583333333333332, -4.583333333333332, -2.583333333333332, -1.5833333333333321, 3.416666666666668, 5.416666666666668, 7.416666666666668, 10.416666666666668, 11.416666666666668],\n",
        "                   'y': [-3.4166666666666643, -2.4166666666666643, -5.416666666666664, -6.416666666666664, -4.416666666666664, -5.416666666666664, 0.5833333333333357, 1.5833333333333357, -2.4166666666666643, 4.583333333333336, 10.583333333333336, 12.583333333333336]})"
      ]
    },
    {
      "cell_type": "code",
      "execution_count": 174,
      "metadata": {
        "id": "O4sfOppDv1gg"
      },
      "outputs": [],
      "source": [
        "# definimos la variable dependiente\n",
        "Y = df['y']\n",
        "\n",
        "# definimos la variable independiente\n",
        "X = df['x']"
      ]
    },
    {
      "cell_type": "code",
      "execution_count": 175,
      "metadata": {
        "id": "cKPp83GGbQJQ"
      },
      "outputs": [
        {
          "name": "stdout",
          "output_type": "stream",
          "text": [
            "b_0: 1.4984200709999033e-15, b_1: 0.7346967362375681\n",
            "R^2: 0.7349769943860474\n",
            "std error b_0: (np.float64(0.9823143090122662), np.float64(0.13951246923402263))\n",
            "IC b_0: (np.float64(-2.1887326767513215), np.float64(2.188732676751324)), IC b_1: (np.float64(0.42384358320367915), np.float64(1.0455498892714572))\n",
            "t b_0: 1.5253977848562444e-15, t b_1: 5.266172552685341\n",
            "p-value b_0: 0.9999999999999989, p-value b_1: 0.00036481025320703186\n"
          ]
        }
      ],
      "source": [
        "def R2_score(y_true, y_pred):\n",
        "  \"\"\" Calcula y regresa el valor del coeficiente de determinacion \"\"\"\n",
        "  ###\n",
        "  # Tu codigo va aqui\n",
        "  ss_res = np.sum((y_true - y_pred) ** 2)\n",
        "  ss_tot = np.sum((y_true - np.mean(y_true)) ** 2)\n",
        "  return 1 - ss_res / ss_tot\n",
        "\n",
        "# Tu codigo va aqui\n",
        "beta_0, beta_1 = MODELO(X, Y)\n",
        "Predicted_Values = Predict(beta_0, beta_1, X)\n",
        "r2_score = R2_score(Y, Predicted_Values)\n",
        "std_err = std_error(X, Y, Predicted_Values)\n",
        "ic_b0, ic_b1 = IC(beta_0, beta_1, X, Y, Predicted_Values, 0.05)\n",
        "t_b0, t_b1 = T(beta_0, beta_1, X, Y, Predicted_Values)\n",
        "p_value_b0 = Pvalue(t_b0, len(X) - 2, two_tails=True)\n",
        "p_value_b1 = Pvalue(t_b1, len(X) - 2, two_tails=True)\n",
        "print(f\"b_0: {beta_0}, b_1: {beta_1}\")\n",
        "print(f\"R^2: {r2_score}\")     \n",
        "print(f\"std error b_0: {std_err}\")\n",
        "print(f\"IC b_0: {ic_b0}, IC b_1: {ic_b1}\")\n",
        "print(f\"t b_0: {t_b0}, t b_1: {t_b1}\")\n",
        "print(f\"p-value b_0: {p_value_b0}, p-value b_1: {p_value_b1}\")\n"
      ]
    },
    {
      "cell_type": "code",
      "execution_count": null,
      "metadata": {},
      "outputs": [],
      "source": []
    },
    {
      "cell_type": "code",
      "execution_count": 176,
      "metadata": {
        "id": "c5F_ZlksbQLt"
      },
      "outputs": [
        {
          "name": "stdout",
          "output_type": "stream",
          "text": [
            "                            OLS Regression Results                            \n",
            "==============================================================================\n",
            "Dep. Variable:                      y   R-squared:                       0.735\n",
            "Model:                            OLS   Adj. R-squared:                  0.708\n",
            "Method:                 Least Squares   F-statistic:                     27.73\n",
            "Date:                Fri, 05 Sep 2025   Prob (F-statistic):           0.000365\n",
            "Time:                        19:56:43   Log-Likelihood:                -30.629\n",
            "No. Observations:                  12   AIC:                             65.26\n",
            "Df Residuals:                      10   BIC:                             66.23\n",
            "Df Model:                           1                                         \n",
            "Covariance Type:            nonrobust                                         \n",
            "==============================================================================\n",
            "                 coef    std err          t      P>|t|      [0.025      0.975]\n",
            "------------------------------------------------------------------------------\n",
            "const       2.109e-15      0.982   2.15e-15      1.000      -2.189       2.189\n",
            "x              0.7347      0.140      5.266      0.000       0.424       1.046\n",
            "==============================================================================\n",
            "Omnibus:                        0.388   Durbin-Watson:                   1.165\n",
            "Prob(Omnibus):                  0.824   Jarque-Bera (JB):                0.419\n",
            "Skew:                          -0.331   Prob(JB):                        0.811\n",
            "Kurtosis:                       2.369   Cond. No.                         7.04\n",
            "==============================================================================\n",
            "\n",
            "Notes:\n",
            "[1] Standard Errors assume that the covariance matrix of the errors is correctly specified.\n"
          ]
        }
      ],
      "source": [
        "# Tu codigo va aqui\n",
        "# Definicion & fit de un modelo de regresion lineal\n",
        "model = sm.OLS(Y, sm.add_constant(X))\n",
        "results = model.fit()\n",
        "\n",
        "# Imprimir el reporte estadistico\n",
        "print(results.summary())"
      ]
    }
  ],
  "metadata": {
    "colab": {
      "include_colab_link": true,
      "provenance": []
    },
    "kernelspec": {
      "display_name": ".venv (3.11.4)",
      "language": "python",
      "name": "python3"
    },
    "language_info": {
      "codemirror_mode": {
        "name": "ipython",
        "version": 3
      },
      "file_extension": ".py",
      "mimetype": "text/x-python",
      "name": "python",
      "nbconvert_exporter": "python",
      "pygments_lexer": "ipython3",
      "version": "3.11.4"
    }
  },
  "nbformat": 4,
  "nbformat_minor": 0
}
