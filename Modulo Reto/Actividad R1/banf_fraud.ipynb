{
 "cells": [
  {
   "cell_type": "code",
   "execution_count": 2,
   "id": "6333c37a",
   "metadata": {},
   "outputs": [],
   "source": [
    "import pandas as pd\n",
    "import numpy as np\n",
    "import matplotlib.pyplot as plt\n",
    "import seaborn as sns\n"
   ]
  },
  {
   "cell_type": "code",
   "execution_count": null,
   "id": "e35cad20",
   "metadata": {},
   "outputs": [],
   "source": [
    "base = pd.read_csv('./Base.csv')"
   ]
  },
  {
   "cell_type": "code",
   "execution_count": null,
   "id": "da531b61",
   "metadata": {},
   "outputs": [],
   "source": [
    "variantI = pd.read_csv('./Variant I.csv')"
   ]
  },
  {
   "cell_type": "markdown",
   "id": "f1a86a39",
   "metadata": {},
   "source": [
    "Eliminar Duplicados"
   ]
  },
  {
   "cell_type": "code",
   "execution_count": null,
   "id": "10d3ec80",
   "metadata": {},
   "outputs": [
    {
     "ename": "NameError",
     "evalue": "name 'base' is not defined",
     "output_type": "error",
     "traceback": [
      "\u001b[31m---------------------------------------------------------------------------\u001b[39m",
      "\u001b[31mNameError\u001b[39m                                 Traceback (most recent call last)",
      "\u001b[36mCell\u001b[39m\u001b[36m \u001b[39m\u001b[32mIn[1]\u001b[39m\u001b[32m, line 4\u001b[39m\n\u001b[32m      1\u001b[39m \u001b[38;5;66;03m# Eliminar duplicados y valores nulos\u001b[39;00m\n\u001b[32m      2\u001b[39m \n\u001b[32m      3\u001b[39m \u001b[38;5;66;03m# Para cada dataframe:\u001b[39;00m\n\u001b[32m----> \u001b[39m\u001b[32m4\u001b[39m base = \u001b[43mbase\u001b[49m.drop_duplicates().dropna()\n",
      "\u001b[31mNameError\u001b[39m: name 'base' is not defined"
     ]
    }
   ],
   "source": [
    "# Eliminar duplicados y valores nulos\n",
    "\n",
    "# Para cada dataframe:\n",
    "base = base.drop_duplicates().dropna()\n",
    "variantI = variantI.drop_duplicates().dropna()\n",
    "variantII = variantII.drop_duplicates().dropna()\n",
    "variantIII = variantIII.drop_duplicates().dropna()\n",
    "variantIV = variantIV.drop_duplicates().dropna()\n",
    "variantV = variantV.drop_duplicates().dropna()"
   ]
  }
 ],
 "metadata": {
  "kernelspec": {
   "display_name": ".venv (3.11.4)",
   "language": "python",
   "name": "python3"
  },
  "language_info": {
   "codemirror_mode": {
    "name": "ipython",
    "version": 3
   },
   "file_extension": ".py",
   "mimetype": "text/x-python",
   "name": "python",
   "nbconvert_exporter": "python",
   "pygments_lexer": "ipython3",
   "version": "3.11.4"
  }
 },
 "nbformat": 4,
 "nbformat_minor": 5
}
