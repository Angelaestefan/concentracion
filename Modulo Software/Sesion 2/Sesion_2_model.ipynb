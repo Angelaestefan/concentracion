{
  "cells": [
    {
      "cell_type": "code",
      "execution_count": 141,
      "id": "f556440d-d89a-43ac-a24c-24d3b10bbac2",
      "metadata": {
        "colab": {
          "base_uri": "https://localhost:8080/",
          "height": 393
        },
        "id": "f556440d-d89a-43ac-a24c-24d3b10bbac2",
        "outputId": "14e739bf-95de-4fdd-b621-25f57971db33"
      },
      "outputs": [],
      "source": [
        "import pandas as pd\n",
        "from sklearn.decomposition import PCA\n",
        "from sklearn.preprocessing import StandardScaler\n",
        "import matplotlib.pyplot as plt\n",
        "from sklearn.preprocessing import LabelEncoder\n",
        "import numpy as np\n",
        "from sklearn.impute import SimpleImputer\n",
        "from catboost import CatBoostClassifier\n",
        "import seaborn as sns\n",
        "#from sklearn.metrics import classification_report, confusion_matrix\n",
        "from sklearn.model_selection import train_test_split\n",
        "from sklearn.utils import resample\n",
        "\n",
        "# Modelado y preprocesamiento\n",
        "#from sklearn.ensemble import RandomForestClassifier, GradientBoostingClassifier\n",
        "#from sklearn.linear_model import LogisticRegression\n",
        "from sklearn.pipeline import Pipeline\n",
        "from sklearn.model_selection import GridSearchCV,KFold\n",
        "\n",
        "# Métricas\n",
        "from sklearn.metrics import (\n",
        "    classification_report,\n",
        "    confusion_matrix,\n",
        "    ConfusionMatrixDisplay,\n",
        "    RocCurveDisplay,\n",
        "    roc_auc_score\n",
        ")\n",
        "\n",
        "\n",
        "\n",
        "#from kmodes.kprototypes import KPrototypes"
      ]
    },
    {
      "cell_type": "code",
      "execution_count": 142,
      "id": "5643fb31-7aed-4363-b6e9-54d31fa7304d",
      "metadata": {
        "id": "5643fb31-7aed-4363-b6e9-54d31fa7304d"
      },
      "outputs": [],
      "source": [
        "# Set options to display all rows and columns\n",
        "pd.set_option('display.max_rows', None)\n",
        "pd.set_option('display.max_columns', None)\n",
        "pd.set_option('display.width', 1000) # Adjust width for better display of many columns\n",
        "pd.set_option('display.max_colwidth', None) # Display full content of cells"
      ]
    },
    {
      "cell_type": "code",
      "execution_count": 143,
      "id": "bd793fc6-3428-4858-a02f-e312c5b37b1b",
      "metadata": {
        "id": "bd793fc6-3428-4858-a02f-e312c5b37b1b"
      },
      "outputs": [],
      "source": [
        "categorical_variables = ['phone_carrier','phone_disposable_validation','phone_ported_original_carrier',\n",
        "                         'phone_ported_validation','email_deliverable_validation','email_disposable_validation',\n",
        "                        'email_domain_free_provider_flag','email_is_breached_flag','website_exists']"
      ]
    },
    {
      "cell_type": "code",
      "execution_count": 144,
      "id": "922d67ff-0483-4df1-8b33-28aeff0797f3",
      "metadata": {
        "id": "922d67ff-0483-4df1-8b33-28aeff0797f3"
      },
      "outputs": [],
      "source": [
        "model_data = pd.read_csv(\"data_clean.csv\")"
      ]
    },
    {
      "cell_type": "code",
      "execution_count": 145,
      "id": "e3905782-b745-4904-8766-2d8ca74fd68c",
      "metadata": {
        "id": "e3905782-b745-4904-8766-2d8ca74fd68c",
        "outputId": "2650c074-2169-4e4f-c695-761c9efd98cd"
      },
      "outputs": [
        {
          "name": "stdout",
          "output_type": "stream",
          "text": [
            "<class 'pandas.core.frame.DataFrame'>\n",
            "RangeIndex: 9129 entries, 0 to 9128\n",
            "Data columns (total 30 columns):\n",
            " #   Column                                                 Non-Null Count  Dtype  \n",
            "---  ------                                                 --------------  -----  \n",
            " 0   phone_carrier                                          9129 non-null   object \n",
            " 1   phone_disposable_validation                            9129 non-null   bool   \n",
            " 2   phone_ported_original_carrier                          9129 non-null   object \n",
            " 3   phone_ported_validation                                9129 non-null   bool   \n",
            " 4   phone_social_number_of_names_returned                  9129 non-null   int64  \n",
            " 5   phone_social_number_of_photos_returned                 9129 non-null   int64  \n",
            " 6   phone_social_registered_ecommerce_profiles             9129 non-null   int64  \n",
            " 7   phone_social_registered_email_provider_profiles        9129 non-null   int64  \n",
            " 8   phone_social_registered_messaging_profiles             9129 non-null   int64  \n",
            " 9   phone_social_registered_professional_profiles          9129 non-null   int64  \n",
            " 10  phone_social_registered_profiles                       9129 non-null   int64  \n",
            " 11  phone_social_registered_social_media_profiles          9129 non-null   int64  \n",
            " 12  email_deliverable_validation                           9129 non-null   bool   \n",
            " 13  email_disposable_validation                            9129 non-null   bool   \n",
            " 14  email_domain_free_provider_flag                        9129 non-null   bool   \n",
            " 15  email_is_breached_flag                                 9129 non-null   bool   \n",
            " 16  email_number_of_breaches                               9129 non-null   float64\n",
            " 17  email_social_number_of_names_returned                  9129 non-null   float64\n",
            " 18  email_social_number_of_photos_returned                 9129 non-null   float64\n",
            " 19  email_social_registered_consumer_electronics_profiles  9129 non-null   float64\n",
            " 20  email_social_registered_ecommerce_profiles             9129 non-null   float64\n",
            " 21  email_social_registered_email_provider_profiles        9129 non-null   float64\n",
            " 22  email_social_registered_entertainment_profiles         9129 non-null   float64\n",
            " 23  email_social_registered_messaging_profiles             9129 non-null   float64\n",
            " 24  email_social_registered_professional_profiles          9129 non-null   float64\n",
            " 25  email_social_registered_profiles                       9129 non-null   float64\n",
            " 26  email_social_registered_social_media_profiles          9129 non-null   float64\n",
            " 27  email_social_registered_travel_profiles                9129 non-null   float64\n",
            " 28  website_exists                                         9129 non-null   bool   \n",
            " 29  label                                                  9129 non-null   int64  \n",
            "dtypes: bool(7), float64(12), int64(9), object(2)\n",
            "memory usage: 1.7+ MB\n"
          ]
        }
      ],
      "source": [
        "model_data.info()"
      ]
    },
    {
      "cell_type": "code",
      "execution_count": 146,
      "id": "10371685",
      "metadata": {},
      "outputs": [
        {
          "data": {
            "text/html": [
              "<div>\n",
              "<style scoped>\n",
              "    .dataframe tbody tr th:only-of-type {\n",
              "        vertical-align: middle;\n",
              "    }\n",
              "\n",
              "    .dataframe tbody tr th {\n",
              "        vertical-align: top;\n",
              "    }\n",
              "\n",
              "    .dataframe thead th {\n",
              "        text-align: right;\n",
              "    }\n",
              "</style>\n",
              "<table border=\"1\" class=\"dataframe\">\n",
              "  <thead>\n",
              "    <tr style=\"text-align: right;\">\n",
              "      <th></th>\n",
              "      <th>phone_carrier</th>\n",
              "      <th>phone_disposable_validation</th>\n",
              "      <th>phone_ported_original_carrier</th>\n",
              "      <th>phone_ported_validation</th>\n",
              "      <th>phone_social_number_of_names_returned</th>\n",
              "      <th>phone_social_number_of_photos_returned</th>\n",
              "      <th>phone_social_registered_ecommerce_profiles</th>\n",
              "      <th>phone_social_registered_email_provider_profiles</th>\n",
              "      <th>phone_social_registered_messaging_profiles</th>\n",
              "      <th>phone_social_registered_professional_profiles</th>\n",
              "      <th>phone_social_registered_profiles</th>\n",
              "      <th>phone_social_registered_social_media_profiles</th>\n",
              "      <th>email_deliverable_validation</th>\n",
              "      <th>email_disposable_validation</th>\n",
              "      <th>email_domain_free_provider_flag</th>\n",
              "      <th>email_is_breached_flag</th>\n",
              "      <th>email_number_of_breaches</th>\n",
              "      <th>email_social_number_of_names_returned</th>\n",
              "      <th>email_social_number_of_photos_returned</th>\n",
              "      <th>email_social_registered_consumer_electronics_profiles</th>\n",
              "      <th>email_social_registered_ecommerce_profiles</th>\n",
              "      <th>email_social_registered_email_provider_profiles</th>\n",
              "      <th>email_social_registered_entertainment_profiles</th>\n",
              "      <th>email_social_registered_messaging_profiles</th>\n",
              "      <th>email_social_registered_professional_profiles</th>\n",
              "      <th>email_social_registered_profiles</th>\n",
              "      <th>email_social_registered_social_media_profiles</th>\n",
              "      <th>email_social_registered_travel_profiles</th>\n",
              "      <th>website_exists</th>\n",
              "      <th>label</th>\n",
              "    </tr>\n",
              "  </thead>\n",
              "  <tbody>\n",
              "    <tr>\n",
              "      <th>0</th>\n",
              "      <td>Comcel S.A. (Claro)</td>\n",
              "      <td>False</td>\n",
              "      <td>Claro Comunicacion Celular S.A. (Comcel)</td>\n",
              "      <td>True</td>\n",
              "      <td>0</td>\n",
              "      <td>0</td>\n",
              "      <td>1</td>\n",
              "      <td>0</td>\n",
              "      <td>1</td>\n",
              "      <td>1</td>\n",
              "      <td>5</td>\n",
              "      <td>2</td>\n",
              "      <td>True</td>\n",
              "      <td>False</td>\n",
              "      <td>True</td>\n",
              "      <td>True</td>\n",
              "      <td>1.0</td>\n",
              "      <td>0.0</td>\n",
              "      <td>1.0</td>\n",
              "      <td>0.0</td>\n",
              "      <td>1.0</td>\n",
              "      <td>1.0</td>\n",
              "      <td>0.0</td>\n",
              "      <td>0.0</td>\n",
              "      <td>2.0</td>\n",
              "      <td>6.0</td>\n",
              "      <td>1.0</td>\n",
              "      <td>0.0</td>\n",
              "      <td>True</td>\n",
              "      <td>0</td>\n",
              "    </tr>\n",
              "    <tr>\n",
              "      <th>1</th>\n",
              "      <td>Telefonica Colombia (Movistar)</td>\n",
              "      <td>False</td>\n",
              "      <td>Movistar Colombia Telecomunicaciones S.A. ESP</td>\n",
              "      <td>False</td>\n",
              "      <td>0</td>\n",
              "      <td>1</td>\n",
              "      <td>0</td>\n",
              "      <td>0</td>\n",
              "      <td>1</td>\n",
              "      <td>0</td>\n",
              "      <td>1</td>\n",
              "      <td>0</td>\n",
              "      <td>True</td>\n",
              "      <td>False</td>\n",
              "      <td>True</td>\n",
              "      <td>True</td>\n",
              "      <td>5.0</td>\n",
              "      <td>0.0</td>\n",
              "      <td>1.0</td>\n",
              "      <td>0.0</td>\n",
              "      <td>1.0</td>\n",
              "      <td>1.0</td>\n",
              "      <td>0.0</td>\n",
              "      <td>0.0</td>\n",
              "      <td>1.0</td>\n",
              "      <td>8.0</td>\n",
              "      <td>4.0</td>\n",
              "      <td>0.0</td>\n",
              "      <td>True</td>\n",
              "      <td>0</td>\n",
              "    </tr>\n",
              "    <tr>\n",
              "      <th>2</th>\n",
              "      <td>Comcel S.A. (Claro)</td>\n",
              "      <td>False</td>\n",
              "      <td>Claro Comunicacion Celular S.A. (Comcel)</td>\n",
              "      <td>False</td>\n",
              "      <td>0</td>\n",
              "      <td>0</td>\n",
              "      <td>0</td>\n",
              "      <td>0</td>\n",
              "      <td>1</td>\n",
              "      <td>1</td>\n",
              "      <td>4</td>\n",
              "      <td>2</td>\n",
              "      <td>True</td>\n",
              "      <td>False</td>\n",
              "      <td>True</td>\n",
              "      <td>True</td>\n",
              "      <td>3.0</td>\n",
              "      <td>0.0</td>\n",
              "      <td>1.0</td>\n",
              "      <td>0.0</td>\n",
              "      <td>1.0</td>\n",
              "      <td>2.0</td>\n",
              "      <td>0.0</td>\n",
              "      <td>0.0</td>\n",
              "      <td>2.0</td>\n",
              "      <td>10.0</td>\n",
              "      <td>4.0</td>\n",
              "      <td>0.0</td>\n",
              "      <td>True</td>\n",
              "      <td>0</td>\n",
              "    </tr>\n",
              "    <tr>\n",
              "      <th>3</th>\n",
              "      <td>Comcel S.A. (Claro)</td>\n",
              "      <td>False</td>\n",
              "      <td>Claro Comunicacion Celular S.A. (Comcel)</td>\n",
              "      <td>False</td>\n",
              "      <td>0</td>\n",
              "      <td>1</td>\n",
              "      <td>0</td>\n",
              "      <td>0</td>\n",
              "      <td>1</td>\n",
              "      <td>0</td>\n",
              "      <td>4</td>\n",
              "      <td>3</td>\n",
              "      <td>True</td>\n",
              "      <td>False</td>\n",
              "      <td>True</td>\n",
              "      <td>True</td>\n",
              "      <td>2.0</td>\n",
              "      <td>0.0</td>\n",
              "      <td>1.0</td>\n",
              "      <td>0.0</td>\n",
              "      <td>0.0</td>\n",
              "      <td>1.0</td>\n",
              "      <td>0.0</td>\n",
              "      <td>0.0</td>\n",
              "      <td>2.0</td>\n",
              "      <td>6.0</td>\n",
              "      <td>2.0</td>\n",
              "      <td>0.0</td>\n",
              "      <td>True</td>\n",
              "      <td>0</td>\n",
              "    </tr>\n",
              "    <tr>\n",
              "      <th>4</th>\n",
              "      <td>Comcel S.A. (Claro)</td>\n",
              "      <td>False</td>\n",
              "      <td>Claro Comunicacion Celular S.A. (Comcel)</td>\n",
              "      <td>True</td>\n",
              "      <td>0</td>\n",
              "      <td>0</td>\n",
              "      <td>0</td>\n",
              "      <td>0</td>\n",
              "      <td>1</td>\n",
              "      <td>1</td>\n",
              "      <td>4</td>\n",
              "      <td>2</td>\n",
              "      <td>True</td>\n",
              "      <td>False</td>\n",
              "      <td>True</td>\n",
              "      <td>True</td>\n",
              "      <td>2.0</td>\n",
              "      <td>0.0</td>\n",
              "      <td>1.0</td>\n",
              "      <td>0.0</td>\n",
              "      <td>0.0</td>\n",
              "      <td>1.0</td>\n",
              "      <td>0.0</td>\n",
              "      <td>0.0</td>\n",
              "      <td>2.0</td>\n",
              "      <td>5.0</td>\n",
              "      <td>1.0</td>\n",
              "      <td>0.0</td>\n",
              "      <td>True</td>\n",
              "      <td>0</td>\n",
              "    </tr>\n",
              "  </tbody>\n",
              "</table>\n",
              "</div>"
            ],
            "text/plain": [
              "                    phone_carrier  phone_disposable_validation                  phone_ported_original_carrier  phone_ported_validation  phone_social_number_of_names_returned  phone_social_number_of_photos_returned  phone_social_registered_ecommerce_profiles  phone_social_registered_email_provider_profiles  phone_social_registered_messaging_profiles  phone_social_registered_professional_profiles  phone_social_registered_profiles  phone_social_registered_social_media_profiles  email_deliverable_validation  email_disposable_validation  email_domain_free_provider_flag  email_is_breached_flag  email_number_of_breaches  email_social_number_of_names_returned  email_social_number_of_photos_returned  email_social_registered_consumer_electronics_profiles  email_social_registered_ecommerce_profiles  email_social_registered_email_provider_profiles  email_social_registered_entertainment_profiles  email_social_registered_messaging_profiles  email_social_registered_professional_profiles  \\\n",
              "0             Comcel S.A. (Claro)                        False       Claro Comunicacion Celular S.A. (Comcel)                     True                                      0                                       0                                           1                                                0                                           1                                              1                                 5                                              2                          True                        False                             True                    True                       1.0                                    0.0                                     1.0                                                    0.0                                         1.0                                              1.0                                             0.0                                         0.0                                            2.0   \n",
              "1  Telefonica Colombia (Movistar)                        False  Movistar Colombia Telecomunicaciones S.A. ESP                    False                                      0                                       1                                           0                                                0                                           1                                              0                                 1                                              0                          True                        False                             True                    True                       5.0                                    0.0                                     1.0                                                    0.0                                         1.0                                              1.0                                             0.0                                         0.0                                            1.0   \n",
              "2             Comcel S.A. (Claro)                        False       Claro Comunicacion Celular S.A. (Comcel)                    False                                      0                                       0                                           0                                                0                                           1                                              1                                 4                                              2                          True                        False                             True                    True                       3.0                                    0.0                                     1.0                                                    0.0                                         1.0                                              2.0                                             0.0                                         0.0                                            2.0   \n",
              "3             Comcel S.A. (Claro)                        False       Claro Comunicacion Celular S.A. (Comcel)                    False                                      0                                       1                                           0                                                0                                           1                                              0                                 4                                              3                          True                        False                             True                    True                       2.0                                    0.0                                     1.0                                                    0.0                                         0.0                                              1.0                                             0.0                                         0.0                                            2.0   \n",
              "4             Comcel S.A. (Claro)                        False       Claro Comunicacion Celular S.A. (Comcel)                     True                                      0                                       0                                           0                                                0                                           1                                              1                                 4                                              2                          True                        False                             True                    True                       2.0                                    0.0                                     1.0                                                    0.0                                         0.0                                              1.0                                             0.0                                         0.0                                            2.0   \n",
              "\n",
              "   email_social_registered_profiles  email_social_registered_social_media_profiles  email_social_registered_travel_profiles  website_exists  label  \n",
              "0                               6.0                                            1.0                                      0.0            True      0  \n",
              "1                               8.0                                            4.0                                      0.0            True      0  \n",
              "2                              10.0                                            4.0                                      0.0            True      0  \n",
              "3                               6.0                                            2.0                                      0.0            True      0  \n",
              "4                               5.0                                            1.0                                      0.0            True      0  "
            ]
          },
          "execution_count": 146,
          "metadata": {},
          "output_type": "execute_result"
        }
      ],
      "source": [
        "model_data.head()"
      ]
    },
    {
      "cell_type": "code",
      "execution_count": 147,
      "id": "a1afc1f5",
      "metadata": {},
      "outputs": [
        {
          "data": {
            "text/plain": [
              "label\n",
              "0    8485\n",
              "1     644\n",
              "Name: count, dtype: int64"
            ]
          },
          "execution_count": 147,
          "metadata": {},
          "output_type": "execute_result"
        }
      ],
      "source": [
        "model_data['label'].value_counts()"
      ]
    },
    {
      "cell_type": "code",
      "execution_count": 148,
      "id": "02d3df65",
      "metadata": {},
      "outputs": [],
      "source": [
        "\n",
        "counts = model_data['phone_carrier'].value_counts()\n",
        "\n",
        "to_replace = counts[counts < 10].index\n",
        "\n",
        "\n",
        "model_data['phone_carrier'] = model_data['phone_carrier'].replace(to_replace, 'Other')"
      ]
    },
    {
      "cell_type": "code",
      "execution_count": null,
      "id": "25373373",
      "metadata": {},
      "outputs": [],
      "source": [
        "\n"
      ]
    },
    {
      "cell_type": "code",
      "execution_count": 149,
      "id": "2a816671",
      "metadata": {},
      "outputs": [],
      "source": [
        "for col in categorical_variables:\n",
        "    counts = model_data[col].value_counts()\n",
        "    to_replace = counts[counts < 10].index\n",
        "    model_data[col] = model_data[col].replace(to_replace, 'Other')\n"
      ]
    },
    {
      "cell_type": "code",
      "execution_count": 150,
      "id": "bedd8e50",
      "metadata": {},
      "outputs": [
        {
          "data": {
            "text/plain": [
              "phone_carrier\n",
              "Comcel S.A. (Claro)                        5467\n",
              "Colombia Movil (Tigo)                      1508\n",
              "Telefonica Colombia (Movistar)             1488\n",
              "Partners Telecom (WOM)                      186\n",
              "Virgin Mobile (Colombia)                    135\n",
              "ALMACENES EXITO INVERSIONES S.A.S.           99\n",
              "EMPRESA DE TELECOMUNICACIONES DE BOGOTA      74\n",
              "COMUNICACION CELULAR S.A.                    58\n",
              "Other                                        35\n",
              "Telefnica Mviles Colombia (Movistar)         22\n",
              "Comcel                                       18\n",
              "COLOMBIA TELECOMUNICACIONES S.A. ESP         15\n",
              "Comunicacion Celular S.A.                    14\n",
              "COLOMBIA MOVIL S.A. E.S.P.                   10\n",
              "Name: count, dtype: int64"
            ]
          },
          "execution_count": 150,
          "metadata": {},
          "output_type": "execute_result"
        }
      ],
      "source": [
        "model_data['phone_carrier'].value_counts()"
      ]
    },
    {
      "cell_type": "code",
      "execution_count": 151,
      "id": "09ea945d-e469-41db-92fc-2aa10207cafc",
      "metadata": {
        "id": "09ea945d-e469-41db-92fc-2aa10207cafc"
      },
      "outputs": [],
      "source": [
        "y = model_data['label']\n",
        "model_data_train = model_data.drop('label',axis=1)"
      ]
    },
    {
      "cell_type": "code",
      "execution_count": 152,
      "id": "4e0623e8-c221-4bc8-8d46-ca6fbabd4e7d",
      "metadata": {
        "id": "4e0623e8-c221-4bc8-8d46-ca6fbabd4e7d",
        "outputId": "5cc58909-12c8-4810-9006-add8dd1b4e2f"
      },
      "outputs": [
        {
          "name": "stdout",
          "output_type": "stream",
          "text": [
            "<class 'pandas.core.frame.DataFrame'>\n",
            "RangeIndex: 9129 entries, 0 to 9128\n",
            "Data columns (total 29 columns):\n",
            " #   Column                                                 Non-Null Count  Dtype  \n",
            "---  ------                                                 --------------  -----  \n",
            " 0   phone_carrier                                          9129 non-null   object \n",
            " 1   phone_disposable_validation                            9129 non-null   bool   \n",
            " 2   phone_ported_original_carrier                          9129 non-null   object \n",
            " 3   phone_ported_validation                                9129 non-null   bool   \n",
            " 4   phone_social_number_of_names_returned                  9129 non-null   int64  \n",
            " 5   phone_social_number_of_photos_returned                 9129 non-null   int64  \n",
            " 6   phone_social_registered_ecommerce_profiles             9129 non-null   int64  \n",
            " 7   phone_social_registered_email_provider_profiles        9129 non-null   int64  \n",
            " 8   phone_social_registered_messaging_profiles             9129 non-null   int64  \n",
            " 9   phone_social_registered_professional_profiles          9129 non-null   int64  \n",
            " 10  phone_social_registered_profiles                       9129 non-null   int64  \n",
            " 11  phone_social_registered_social_media_profiles          9129 non-null   int64  \n",
            " 12  email_deliverable_validation                           9129 non-null   bool   \n",
            " 13  email_disposable_validation                            9129 non-null   object \n",
            " 14  email_domain_free_provider_flag                        9129 non-null   bool   \n",
            " 15  email_is_breached_flag                                 9129 non-null   bool   \n",
            " 16  email_number_of_breaches                               9129 non-null   float64\n",
            " 17  email_social_number_of_names_returned                  9129 non-null   float64\n",
            " 18  email_social_number_of_photos_returned                 9129 non-null   float64\n",
            " 19  email_social_registered_consumer_electronics_profiles  9129 non-null   float64\n",
            " 20  email_social_registered_ecommerce_profiles             9129 non-null   float64\n",
            " 21  email_social_registered_email_provider_profiles        9129 non-null   float64\n",
            " 22  email_social_registered_entertainment_profiles         9129 non-null   float64\n",
            " 23  email_social_registered_messaging_profiles             9129 non-null   float64\n",
            " 24  email_social_registered_professional_profiles          9129 non-null   float64\n",
            " 25  email_social_registered_profiles                       9129 non-null   float64\n",
            " 26  email_social_registered_social_media_profiles          9129 non-null   float64\n",
            " 27  email_social_registered_travel_profiles                9129 non-null   float64\n",
            " 28  website_exists                                         9129 non-null   bool   \n",
            "dtypes: bool(6), float64(12), int64(8), object(3)\n",
            "memory usage: 1.7+ MB\n"
          ]
        }
      ],
      "source": [
        "model_data_train.info()"
      ]
    },
    {
      "cell_type": "markdown",
      "id": "4bd8ffca-9e63-461e-bf8e-281ffbeca21f",
      "metadata": {
        "id": "4bd8ffca-9e63-461e-bf8e-281ffbeca21f"
      },
      "source": [
        "<h3> Catboost Classifier </h3>"
      ]
    },
    {
      "cell_type": "code",
      "execution_count": 153,
      "id": "ed8e6bb6-79dc-4d07-b528-43616f05096e",
      "metadata": {
        "id": "ed8e6bb6-79dc-4d07-b528-43616f05096e"
      },
      "outputs": [],
      "source": [
        "X_train, X_test, y_train, y_test = train_test_split(model_data_train, y, test_size=0.2, random_state=50)"
      ]
    },
    {
      "cell_type": "code",
      "execution_count": 154,
      "id": "263960aa",
      "metadata": {},
      "outputs": [
        {
          "name": "stdout",
          "output_type": "stream",
          "text": [
            "Antes del oversampling: label\n",
            "0    6796\n",
            "1     507\n",
            "Name: count, dtype: int64\n",
            "Después del oversampling: target\n",
            "0    6796\n",
            "1    6796\n",
            "Name: count, dtype: int64\n"
          ]
        }
      ],
      "source": [
        "train_df = X_train.copy()\n",
        "train_df['target'] = y_train  # cambia 'target' por el nombre real de tu variable objetivo si es distinto\n",
        "\n",
        "# Separar clases mayoritaria y minoritaria\n",
        "df_majority = train_df[train_df.target == 0]\n",
        "df_minority = train_df[train_df.target == 1]\n",
        "\n",
        "# Aumentar (duplicar) la clase minoritaria hasta igualar la mayoría\n",
        "df_minority_upsampled = resample(\n",
        "    df_minority,\n",
        "    replace=True,                      # con reemplazo\n",
        "    n_samples=len(df_majority),        # mismo número que clase 0\n",
        "    random_state=42\n",
        ")\n",
        "\n",
        "# Unir clases balanceadas\n",
        "train_balanced = pd.concat([df_majority, df_minority_upsampled])\n",
        "\n",
        "# Separar de nuevo en X e y\n",
        "X_train_balanced = train_balanced.drop('target', axis=1)\n",
        "y_train_balanced = train_balanced['target']\n",
        "\n",
        "print(\"Antes del oversampling:\", y_train.value_counts())\n",
        "print(\"Después del oversampling:\", y_train_balanced.value_counts())"
      ]
    },
    {
      "cell_type": "code",
      "execution_count": 155,
      "id": "349e037d",
      "metadata": {},
      "outputs": [
        {
          "data": {
            "text/plain": [
              "((7303, 29), (1826, 29), (7303,), (1826,))"
            ]
          },
          "execution_count": 155,
          "metadata": {},
          "output_type": "execute_result"
        }
      ],
      "source": [
        "X_train.shape, X_test.shape, y_train.shape, y_test.shape"
      ]
    },
    {
      "cell_type": "code",
      "execution_count": 156,
      "id": "e3d6b00c",
      "metadata": {},
      "outputs": [
        {
          "data": {
            "text/plain": [
              "507"
            ]
          },
          "execution_count": 156,
          "metadata": {},
          "output_type": "execute_result"
        }
      ],
      "source": [
        "sum(y_train)"
      ]
    },
    {
      "cell_type": "code",
      "execution_count": 157,
      "id": "99634da8",
      "metadata": {},
      "outputs": [
        {
          "data": {
            "text/plain": [
              "137"
            ]
          },
          "execution_count": 157,
          "metadata": {},
          "output_type": "execute_result"
        }
      ],
      "source": [
        "sum(y_test)"
      ]
    },
    {
      "cell_type": "code",
      "execution_count": 158,
      "id": "aaca0642-5edb-42ee-be33-74b2c3fcab81",
      "metadata": {
        "id": "aaca0642-5edb-42ee-be33-74b2c3fcab81"
      },
      "outputs": [],
      "source": [
        "pos_count = sum(y)"
      ]
    },
    {
      "cell_type": "code",
      "execution_count": 159,
      "id": "f0d4e8cd-73b4-4c19-aeb6-35cec8af1f89",
      "metadata": {
        "id": "f0d4e8cd-73b4-4c19-aeb6-35cec8af1f89",
        "outputId": "164bcf36-f3b1-49dd-8743-c8b83ac57890"
      },
      "outputs": [
        {
          "data": {
            "text/plain": [
              "644"
            ]
          },
          "execution_count": 159,
          "metadata": {},
          "output_type": "execute_result"
        }
      ],
      "source": [
        "pos_count"
      ]
    },
    {
      "cell_type": "code",
      "execution_count": 160,
      "id": "5e803bd8-c38c-42b0-89da-720aa3217547",
      "metadata": {
        "id": "5e803bd8-c38c-42b0-89da-720aa3217547"
      },
      "outputs": [],
      "source": [
        "neg_count = len(model_data_train) - pos_count"
      ]
    },
    {
      "cell_type": "code",
      "execution_count": 161,
      "id": "ad03b408-17a3-4d2a-a430-fa7e8602ffa9",
      "metadata": {
        "id": "ad03b408-17a3-4d2a-a430-fa7e8602ffa9",
        "outputId": "600193e9-40a0-480b-e022-ec2a6868d053"
      },
      "outputs": [
        {
          "data": {
            "text/plain": [
              "8485"
            ]
          },
          "execution_count": 161,
          "metadata": {},
          "output_type": "execute_result"
        }
      ],
      "source": [
        "neg_count"
      ]
    },
    {
      "cell_type": "code",
      "execution_count": 162,
      "id": "5f137460-8b44-4712-93d7-eec5ce452eee",
      "metadata": {
        "id": "5f137460-8b44-4712-93d7-eec5ce452eee",
        "outputId": "709f507e-7519-4a55-82e9-5fb2fa20a8b1"
      },
      "outputs": [
        {
          "name": "stdout",
          "output_type": "stream",
          "text": [
            "Calculated scale_pos_weight: 13.175465838509316\n"
          ]
        }
      ],
      "source": [
        "scale_pos_weight_value = neg_count / pos_count\n",
        "\n",
        "print(f\"Calculated scale_pos_weight: {scale_pos_weight_value}\")"
      ]
    },
    {
      "cell_type": "code",
      "execution_count": 163,
      "id": "7b777990-8351-4dc5-b55a-5b3a7f7ea62b",
      "metadata": {
        "id": "7b777990-8351-4dc5-b55a-5b3a7f7ea62b"
      },
      "outputs": [],
      "source": [
        "base_model = CatBoostClassifier(iterations=500,            # more boosting rounds for better learning\n",
        "                                depth=8,                    # slightly deeper trees\n",
        "                                learning_rate=0.05,         # smaller LR + more iterations helps stability\n",
        "                                l2_leaf_reg=5,              # regularization to avoid overfitting\n",
        "                                loss_function='Logloss',\n",
        "                                cat_features=categorical_variables,\n",
        "                                eval_metric='F1',\n",
        "                                scale_pos_weight=scale_pos_weight_value,\n",
        "                                random_seed=42,\n",
        "                                verbose=100\n",
        "                              )"
      ]
    },
    {
      "cell_type": "code",
      "execution_count": 164,
      "id": "3dc49e9e-1a48-4101-bca0-fccabd73a4ac",
      "metadata": {
        "id": "3dc49e9e-1a48-4101-bca0-fccabd73a4ac",
        "outputId": "1b152bd0-2965-467a-df4d-169af380c8ce"
      },
      "outputs": [
        {
          "name": "stdout",
          "output_type": "stream",
          "text": [
            "0:\tlearn: 0.5265258\ttotal: 148ms\tremaining: 1m 13s\n",
            "100:\tlearn: 0.7632145\ttotal: 2.57s\tremaining: 10.1s\n",
            "200:\tlearn: 0.8412037\ttotal: 4.12s\tremaining: 6.12s\n",
            "300:\tlearn: 0.9100280\ttotal: 6.13s\tremaining: 4.05s\n",
            "400:\tlearn: 0.9369293\ttotal: 7.92s\tremaining: 1.95s\n",
            "499:\tlearn: 0.9493191\ttotal: 9.81s\tremaining: 0us\n"
          ]
        },
        {
          "data": {
            "text/plain": [
              "<catboost.core.CatBoostClassifier at 0x7d0b374a7cd0>"
            ]
          },
          "execution_count": 164,
          "metadata": {},
          "output_type": "execute_result"
        }
      ],
      "source": [
        "base_model.fit(X_train, y_train)"
      ]
    },
    {
      "cell_type": "code",
      "execution_count": 166,
      "id": "3a6586b1",
      "metadata": {},
      "outputs": [
        {
          "name": "stdout",
          "output_type": "stream",
          "text": [
            "0:\tlearn: 0.6083735\ttotal: 123ms\tremaining: 1m 1s\n",
            "100:\tlearn: 0.8240974\ttotal: 4.75s\tremaining: 18.8s\n",
            "200:\tlearn: 0.8912721\ttotal: 8.95s\tremaining: 13.3s\n",
            "300:\tlearn: 0.9175141\ttotal: 13.6s\tremaining: 8.98s\n",
            "400:\tlearn: 0.9311661\ttotal: 17.9s\tremaining: 4.41s\n",
            "499:\tlearn: 0.9413764\ttotal: 22.1s\tremaining: 0us\n"
          ]
        },
        {
          "data": {
            "text/plain": [
              "<catboost.core.CatBoostClassifier at 0x7d0b352a1ad0>"
            ]
          },
          "execution_count": 166,
          "metadata": {},
          "output_type": "execute_result"
        }
      ],
      "source": [
        "base_model_balanced.fit(X_train_balanced, y_train_balanced)"
      ]
    },
    {
      "cell_type": "code",
      "execution_count": 167,
      "id": "20bab062-d3bc-45a4-8ebb-5e66f7418d77",
      "metadata": {
        "id": "20bab062-d3bc-45a4-8ebb-5e66f7418d77",
        "outputId": "9359aafd-a69d-4efe-96c8-dfc29b10715a"
      },
      "outputs": [
        {
          "name": "stdout",
          "output_type": "stream",
          "text": [
            "\n",
            "Classification Report:\n",
            "              precision    recall  f1-score   support\n",
            "\n",
            "           0       0.93      0.89      0.91      1689\n",
            "           1       0.10      0.16      0.13       137\n",
            "\n",
            "    accuracy                           0.83      1826\n",
            "   macro avg       0.52      0.52      0.52      1826\n",
            "weighted avg       0.87      0.83      0.85      1826\n",
            "\n"
          ]
        }
      ],
      "source": [
        "# 4.Evaluate the model\n",
        "y_pred = base_model.predict(X_test)\n",
        "print(\"\\nClassification Report:\")\n",
        "print(classification_report(y_test, y_pred)) "
      ]
    },
    {
      "cell_type": "code",
      "execution_count": 168,
      "id": "a7706c78",
      "metadata": {},
      "outputs": [
        {
          "name": "stdout",
          "output_type": "stream",
          "text": [
            "\n",
            "Classification Report:\n",
            "              precision    recall  f1-score   support\n",
            "\n",
            "           0       0.93      0.87      0.90      1689\n",
            "           1       0.09      0.16      0.11       137\n",
            "\n",
            "    accuracy                           0.81      1826\n",
            "   macro avg       0.51      0.51      0.51      1826\n",
            "weighted avg       0.86      0.81      0.84      1826\n",
            "\n"
          ]
        }
      ],
      "source": [
        "# 4.Evaluate the model\n",
        "y_pred = base_model_balanced.predict(X_test)\n",
        "print(\"\\nClassification Report:\")\n",
        "print(classification_report(y_test, y_pred)) "
      ]
    },
    {
      "cell_type": "code",
      "execution_count": null,
      "id": "91f037f9-69ca-487d-b48f-0d222f4353a9",
      "metadata": {
        "id": "91f037f9-69ca-487d-b48f-0d222f4353a9",
        "outputId": "9f6a7ba7-7d61-459a-ed41-45782488c8c1"
      },
      "outputs": [
        {
          "name": "stdout",
          "output_type": "stream",
          "text": [
            "                                                  Feature  Importance\n",
            "25                       email_social_registered_profiles   11.318755\n",
            "26          email_social_registered_social_media_profiles    8.966464\n",
            "2                           phone_ported_original_carrier    8.960369\n",
            "0                                           phone_carrier    8.684345\n",
            "10                       phone_social_registered_profiles    8.493669\n",
            "16                               email_number_of_breaches    7.124043\n",
            "3                                 phone_ported_validation    6.637436\n",
            "24          email_social_registered_professional_profiles    6.033395\n",
            "11          phone_social_registered_social_media_profiles    5.427820\n",
            "5                  phone_social_number_of_photos_returned    5.092335\n",
            "9           phone_social_registered_professional_profiles    4.334775\n",
            "7         phone_social_registered_email_provider_profiles    4.155297\n",
            "20             email_social_registered_ecommerce_profiles    3.102682\n",
            "15                                 email_is_breached_flag    2.831102\n",
            "21        email_social_registered_email_provider_profiles    2.636401\n",
            "18                 email_social_number_of_photos_returned    1.973549\n",
            "6              phone_social_registered_ecommerce_profiles    1.737133\n",
            "8              phone_social_registered_messaging_profiles    0.897788\n",
            "19  email_social_registered_consumer_electronics_profiles    0.834233\n",
            "17                  email_social_number_of_names_returned    0.529953\n"
          ]
        }
      ],
      "source": [
        "feature_importances = base_model.get_feature_importance()\n",
        "\n",
        "feature_importances_df = pd.DataFrame({'Feature': model_data_train.columns, 'Importance': feature_importances})\n",
        "feature_importances_df = feature_importances_df.sort_values(by='Importance', ascending=False)\n",
        "\n",
        "print(feature_importances_df.head(20))\n",
        "\n",
        "top_features = feature_importances_df.nlargest(10, 'Importance')['Feature']"
      ]
    },
    {
      "cell_type": "code",
      "execution_count": null,
      "id": "2cf5ad4e-2a9a-4f72-b2a7-09b2b2cfeb2b",
      "metadata": {
        "id": "2cf5ad4e-2a9a-4f72-b2a7-09b2b2cfeb2b",
        "outputId": "3385ad48-3c29-4d7c-d6bb-be004fff8c6d"
      },
      "outputs": [
        {
          "data": {
            "text/plain": [
              "25                 email_social_registered_profiles\n",
              "26    email_social_registered_social_media_profiles\n",
              "2                     phone_ported_original_carrier\n",
              "0                                     phone_carrier\n",
              "10                 phone_social_registered_profiles\n",
              "16                         email_number_of_breaches\n",
              "3                           phone_ported_validation\n",
              "24    email_social_registered_professional_profiles\n",
              "11    phone_social_registered_social_media_profiles\n",
              "5            phone_social_number_of_photos_returned\n",
              "Name: Feature, dtype: object"
            ]
          },
          "execution_count": 117,
          "metadata": {},
          "output_type": "execute_result"
        }
      ],
      "source": [
        "top_features"
      ]
    }
  ],
  "metadata": {
    "colab": {
      "provenance": []
    },
    "kernelspec": {
      "display_name": ".venv (3.11.4)",
      "language": "python",
      "name": "python3"
    },
    "language_info": {
      "codemirror_mode": {
        "name": "ipython",
        "version": 3
      },
      "file_extension": ".py",
      "mimetype": "text/x-python",
      "name": "python",
      "nbconvert_exporter": "python",
      "pygments_lexer": "ipython3",
      "version": "3.11.4"
    }
  },
  "nbformat": 4,
  "nbformat_minor": 5
}
