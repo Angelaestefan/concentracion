{
  "cells": [
    {
      "cell_type": "code",
      "execution_count": 3,
      "id": "f556440d-d89a-43ac-a24c-24d3b10bbac2",
      "metadata": {
        "colab": {
          "base_uri": "https://localhost:8080/",
          "height": 393
        },
        "id": "f556440d-d89a-43ac-a24c-24d3b10bbac2",
        "outputId": "14e739bf-95de-4fdd-b621-25f57971db33"
      },
      "outputs": [],
      "source": [
        "import pandas as pd\n",
        "from sklearn.decomposition import PCA\n",
        "from sklearn.preprocessing import StandardScaler\n",
        "import matplotlib.pyplot as plt\n",
        "from sklearn.preprocessing import LabelEncoder\n",
        "import numpy as np\n",
        "from sklearn.impute import SimpleImputer\n",
        "from catboost import CatBoostClassifier\n",
        "import seaborn as sns\n",
        "#from sklearn.metrics import classification_report, confusion_matrix\n",
        "from sklearn.model_selection import train_test_split\n",
        "\n",
        "# Modelado y preprocesamiento\n",
        "#from sklearn.ensemble import RandomForestClassifier, GradientBoostingClassifier\n",
        "#from sklearn.linear_model import LogisticRegression\n",
        "from sklearn.pipeline import Pipeline\n",
        "from sklearn.model_selection import GridSearchCV,KFold\n",
        "\n",
        "# Métricas\n",
        "from sklearn.metrics import (\n",
        "    classification_report,\n",
        "    confusion_matrix,\n",
        "    ConfusionMatrixDisplay,\n",
        "    RocCurveDisplay,\n",
        "    roc_auc_score\n",
        ")\n",
        "\n",
        "\n",
        "\n",
        "#from kmodes.kprototypes import KPrototypes"
      ]
    },
    {
      "cell_type": "code",
      "execution_count": null,
      "id": "5643fb31-7aed-4363-b6e9-54d31fa7304d",
      "metadata": {
        "id": "5643fb31-7aed-4363-b6e9-54d31fa7304d"
      },
      "outputs": [],
      "source": [
        "# Set options to display all rows and columns\n",
        "pd.set_option('display.max_rows', None)\n",
        "pd.set_option('display.max_columns', None)\n",
        "pd.set_option('display.width', 1000) # Adjust width for better display of many columns\n",
        "pd.set_option('display.max_colwidth', None) # Display full content of cells"
      ]
    },
    {
      "cell_type": "code",
      "execution_count": 5,
      "id": "bd793fc6-3428-4858-a02f-e312c5b37b1b",
      "metadata": {
        "id": "bd793fc6-3428-4858-a02f-e312c5b37b1b"
      },
      "outputs": [],
      "source": [
        "categorical_variables = ['phone_carrier','phone_disposable_validation','phone_ported_original_carrier',\n",
        "                         'phone_ported_validation','email_deliverable_validation','email_disposable_validation',\n",
        "                        'email_domain_free_provider_flag','email_is_breached_flag','website_exists']"
      ]
    },
    {
      "cell_type": "code",
      "execution_count": 6,
      "id": "922d67ff-0483-4df1-8b33-28aeff0797f3",
      "metadata": {
        "id": "922d67ff-0483-4df1-8b33-28aeff0797f3"
      },
      "outputs": [],
      "source": [
        "model_data = pd.read_csv(\"data_clean.csv\")"
      ]
    },
    {
      "cell_type": "code",
      "execution_count": 7,
      "id": "e3905782-b745-4904-8766-2d8ca74fd68c",
      "metadata": {
        "id": "e3905782-b745-4904-8766-2d8ca74fd68c",
        "outputId": "2650c074-2169-4e4f-c695-761c9efd98cd"
      },
      "outputs": [
        {
          "name": "stdout",
          "output_type": "stream",
          "text": [
            "<class 'pandas.core.frame.DataFrame'>\n",
            "RangeIndex: 9129 entries, 0 to 9128\n",
            "Data columns (total 30 columns):\n",
            " #   Column                                                 Non-Null Count  Dtype  \n",
            "---  ------                                                 --------------  -----  \n",
            " 0   phone_carrier                                          9129 non-null   object \n",
            " 1   phone_disposable_validation                            9129 non-null   bool   \n",
            " 2   phone_ported_original_carrier                          9129 non-null   object \n",
            " 3   phone_ported_validation                                9129 non-null   bool   \n",
            " 4   phone_social_number_of_names_returned                  9129 non-null   int64  \n",
            " 5   phone_social_number_of_photos_returned                 9129 non-null   int64  \n",
            " 6   phone_social_registered_ecommerce_profiles             9129 non-null   int64  \n",
            " 7   phone_social_registered_email_provider_profiles        9129 non-null   int64  \n",
            " 8   phone_social_registered_messaging_profiles             9129 non-null   int64  \n",
            " 9   phone_social_registered_professional_profiles          9129 non-null   int64  \n",
            " 10  phone_social_registered_profiles                       9129 non-null   int64  \n",
            " 11  phone_social_registered_social_media_profiles          9129 non-null   int64  \n",
            " 12  email_deliverable_validation                           9129 non-null   bool   \n",
            " 13  email_disposable_validation                            9129 non-null   bool   \n",
            " 14  email_domain_free_provider_flag                        9129 non-null   bool   \n",
            " 15  email_is_breached_flag                                 9129 non-null   bool   \n",
            " 16  email_number_of_breaches                               9129 non-null   float64\n",
            " 17  email_social_number_of_names_returned                  9129 non-null   float64\n",
            " 18  email_social_number_of_photos_returned                 9129 non-null   float64\n",
            " 19  email_social_registered_consumer_electronics_profiles  9129 non-null   float64\n",
            " 20  email_social_registered_ecommerce_profiles             9129 non-null   float64\n",
            " 21  email_social_registered_email_provider_profiles        9129 non-null   float64\n",
            " 22  email_social_registered_entertainment_profiles         9129 non-null   float64\n",
            " 23  email_social_registered_messaging_profiles             9129 non-null   float64\n",
            " 24  email_social_registered_professional_profiles          9129 non-null   float64\n",
            " 25  email_social_registered_profiles                       9129 non-null   float64\n",
            " 26  email_social_registered_social_media_profiles          9129 non-null   float64\n",
            " 27  email_social_registered_travel_profiles                9129 non-null   float64\n",
            " 28  website_exists                                         9129 non-null   bool   \n",
            " 29  label                                                  9129 non-null   int64  \n",
            "dtypes: bool(7), float64(12), int64(9), object(2)\n",
            "memory usage: 1.7+ MB\n"
          ]
        }
      ],
      "source": [
        "model_data.info()"
      ]
    },
    {
      "cell_type": "code",
      "execution_count": 21,
      "id": "10371685",
      "metadata": {},
      "outputs": [
        {
          "data": {
            "text/html": [
              "<div>\n",
              "<style scoped>\n",
              "    .dataframe tbody tr th:only-of-type {\n",
              "        vertical-align: middle;\n",
              "    }\n",
              "\n",
              "    .dataframe tbody tr th {\n",
              "        vertical-align: top;\n",
              "    }\n",
              "\n",
              "    .dataframe thead th {\n",
              "        text-align: right;\n",
              "    }\n",
              "</style>\n",
              "<table border=\"1\" class=\"dataframe\">\n",
              "  <thead>\n",
              "    <tr style=\"text-align: right;\">\n",
              "      <th></th>\n",
              "      <th>phone_carrier</th>\n",
              "      <th>phone_disposable_validation</th>\n",
              "      <th>phone_ported_original_carrier</th>\n",
              "      <th>phone_ported_validation</th>\n",
              "      <th>phone_social_number_of_names_returned</th>\n",
              "      <th>phone_social_number_of_photos_returned</th>\n",
              "      <th>phone_social_registered_ecommerce_profiles</th>\n",
              "      <th>phone_social_registered_email_provider_profiles</th>\n",
              "      <th>phone_social_registered_messaging_profiles</th>\n",
              "      <th>phone_social_registered_professional_profiles</th>\n",
              "      <th>phone_social_registered_profiles</th>\n",
              "      <th>phone_social_registered_social_media_profiles</th>\n",
              "      <th>email_deliverable_validation</th>\n",
              "      <th>email_disposable_validation</th>\n",
              "      <th>email_domain_free_provider_flag</th>\n",
              "      <th>email_is_breached_flag</th>\n",
              "      <th>email_number_of_breaches</th>\n",
              "      <th>email_social_number_of_names_returned</th>\n",
              "      <th>email_social_number_of_photos_returned</th>\n",
              "      <th>email_social_registered_consumer_electronics_profiles</th>\n",
              "      <th>email_social_registered_ecommerce_profiles</th>\n",
              "      <th>email_social_registered_email_provider_profiles</th>\n",
              "      <th>email_social_registered_entertainment_profiles</th>\n",
              "      <th>email_social_registered_messaging_profiles</th>\n",
              "      <th>email_social_registered_professional_profiles</th>\n",
              "      <th>email_social_registered_profiles</th>\n",
              "      <th>email_social_registered_social_media_profiles</th>\n",
              "      <th>email_social_registered_travel_profiles</th>\n",
              "      <th>website_exists</th>\n",
              "      <th>label</th>\n",
              "    </tr>\n",
              "  </thead>\n",
              "  <tbody>\n",
              "    <tr>\n",
              "      <th>0</th>\n",
              "      <td>Comcel S.A. (Claro)</td>\n",
              "      <td>False</td>\n",
              "      <td>Claro Comunicacion Celular S.A. (Comcel)</td>\n",
              "      <td>True</td>\n",
              "      <td>0</td>\n",
              "      <td>0</td>\n",
              "      <td>1</td>\n",
              "      <td>0</td>\n",
              "      <td>1</td>\n",
              "      <td>1</td>\n",
              "      <td>5</td>\n",
              "      <td>2</td>\n",
              "      <td>True</td>\n",
              "      <td>False</td>\n",
              "      <td>True</td>\n",
              "      <td>True</td>\n",
              "      <td>1.0</td>\n",
              "      <td>0.0</td>\n",
              "      <td>1.0</td>\n",
              "      <td>0.0</td>\n",
              "      <td>1.0</td>\n",
              "      <td>1.0</td>\n",
              "      <td>0.0</td>\n",
              "      <td>0.0</td>\n",
              "      <td>2.0</td>\n",
              "      <td>6.0</td>\n",
              "      <td>1.0</td>\n",
              "      <td>0.0</td>\n",
              "      <td>True</td>\n",
              "      <td>0</td>\n",
              "    </tr>\n",
              "    <tr>\n",
              "      <th>1</th>\n",
              "      <td>Telefonica Colombia (Movistar)</td>\n",
              "      <td>False</td>\n",
              "      <td>Movistar Colombia Telecomunicaciones S.A. ESP</td>\n",
              "      <td>False</td>\n",
              "      <td>0</td>\n",
              "      <td>1</td>\n",
              "      <td>0</td>\n",
              "      <td>0</td>\n",
              "      <td>1</td>\n",
              "      <td>0</td>\n",
              "      <td>1</td>\n",
              "      <td>0</td>\n",
              "      <td>True</td>\n",
              "      <td>False</td>\n",
              "      <td>True</td>\n",
              "      <td>True</td>\n",
              "      <td>5.0</td>\n",
              "      <td>0.0</td>\n",
              "      <td>1.0</td>\n",
              "      <td>0.0</td>\n",
              "      <td>1.0</td>\n",
              "      <td>1.0</td>\n",
              "      <td>0.0</td>\n",
              "      <td>0.0</td>\n",
              "      <td>1.0</td>\n",
              "      <td>8.0</td>\n",
              "      <td>4.0</td>\n",
              "      <td>0.0</td>\n",
              "      <td>True</td>\n",
              "      <td>0</td>\n",
              "    </tr>\n",
              "    <tr>\n",
              "      <th>2</th>\n",
              "      <td>Comcel S.A. (Claro)</td>\n",
              "      <td>False</td>\n",
              "      <td>Claro Comunicacion Celular S.A. (Comcel)</td>\n",
              "      <td>False</td>\n",
              "      <td>0</td>\n",
              "      <td>0</td>\n",
              "      <td>0</td>\n",
              "      <td>0</td>\n",
              "      <td>1</td>\n",
              "      <td>1</td>\n",
              "      <td>4</td>\n",
              "      <td>2</td>\n",
              "      <td>True</td>\n",
              "      <td>False</td>\n",
              "      <td>True</td>\n",
              "      <td>True</td>\n",
              "      <td>3.0</td>\n",
              "      <td>0.0</td>\n",
              "      <td>1.0</td>\n",
              "      <td>0.0</td>\n",
              "      <td>1.0</td>\n",
              "      <td>2.0</td>\n",
              "      <td>0.0</td>\n",
              "      <td>0.0</td>\n",
              "      <td>2.0</td>\n",
              "      <td>10.0</td>\n",
              "      <td>4.0</td>\n",
              "      <td>0.0</td>\n",
              "      <td>True</td>\n",
              "      <td>0</td>\n",
              "    </tr>\n",
              "    <tr>\n",
              "      <th>3</th>\n",
              "      <td>Comcel S.A. (Claro)</td>\n",
              "      <td>False</td>\n",
              "      <td>Claro Comunicacion Celular S.A. (Comcel)</td>\n",
              "      <td>False</td>\n",
              "      <td>0</td>\n",
              "      <td>1</td>\n",
              "      <td>0</td>\n",
              "      <td>0</td>\n",
              "      <td>1</td>\n",
              "      <td>0</td>\n",
              "      <td>4</td>\n",
              "      <td>3</td>\n",
              "      <td>True</td>\n",
              "      <td>False</td>\n",
              "      <td>True</td>\n",
              "      <td>True</td>\n",
              "      <td>2.0</td>\n",
              "      <td>0.0</td>\n",
              "      <td>1.0</td>\n",
              "      <td>0.0</td>\n",
              "      <td>0.0</td>\n",
              "      <td>1.0</td>\n",
              "      <td>0.0</td>\n",
              "      <td>0.0</td>\n",
              "      <td>2.0</td>\n",
              "      <td>6.0</td>\n",
              "      <td>2.0</td>\n",
              "      <td>0.0</td>\n",
              "      <td>True</td>\n",
              "      <td>0</td>\n",
              "    </tr>\n",
              "    <tr>\n",
              "      <th>4</th>\n",
              "      <td>Comcel S.A. (Claro)</td>\n",
              "      <td>False</td>\n",
              "      <td>Claro Comunicacion Celular S.A. (Comcel)</td>\n",
              "      <td>True</td>\n",
              "      <td>0</td>\n",
              "      <td>0</td>\n",
              "      <td>0</td>\n",
              "      <td>0</td>\n",
              "      <td>1</td>\n",
              "      <td>1</td>\n",
              "      <td>4</td>\n",
              "      <td>2</td>\n",
              "      <td>True</td>\n",
              "      <td>False</td>\n",
              "      <td>True</td>\n",
              "      <td>True</td>\n",
              "      <td>2.0</td>\n",
              "      <td>0.0</td>\n",
              "      <td>1.0</td>\n",
              "      <td>0.0</td>\n",
              "      <td>0.0</td>\n",
              "      <td>1.0</td>\n",
              "      <td>0.0</td>\n",
              "      <td>0.0</td>\n",
              "      <td>2.0</td>\n",
              "      <td>5.0</td>\n",
              "      <td>1.0</td>\n",
              "      <td>0.0</td>\n",
              "      <td>True</td>\n",
              "      <td>0</td>\n",
              "    </tr>\n",
              "  </tbody>\n",
              "</table>\n",
              "</div>"
            ],
            "text/plain": [
              "                    phone_carrier  phone_disposable_validation                  phone_ported_original_carrier  phone_ported_validation  phone_social_number_of_names_returned  phone_social_number_of_photos_returned  phone_social_registered_ecommerce_profiles  phone_social_registered_email_provider_profiles  phone_social_registered_messaging_profiles  phone_social_registered_professional_profiles  phone_social_registered_profiles  phone_social_registered_social_media_profiles  email_deliverable_validation  email_disposable_validation  email_domain_free_provider_flag  email_is_breached_flag  email_number_of_breaches  email_social_number_of_names_returned  email_social_number_of_photos_returned  email_social_registered_consumer_electronics_profiles  email_social_registered_ecommerce_profiles  email_social_registered_email_provider_profiles  email_social_registered_entertainment_profiles  email_social_registered_messaging_profiles  email_social_registered_professional_profiles  \\\n",
              "0             Comcel S.A. (Claro)                        False       Claro Comunicacion Celular S.A. (Comcel)                     True                                      0                                       0                                           1                                                0                                           1                                              1                                 5                                              2                          True                        False                             True                    True                       1.0                                    0.0                                     1.0                                                    0.0                                         1.0                                              1.0                                             0.0                                         0.0                                            2.0   \n",
              "1  Telefonica Colombia (Movistar)                        False  Movistar Colombia Telecomunicaciones S.A. ESP                    False                                      0                                       1                                           0                                                0                                           1                                              0                                 1                                              0                          True                        False                             True                    True                       5.0                                    0.0                                     1.0                                                    0.0                                         1.0                                              1.0                                             0.0                                         0.0                                            1.0   \n",
              "2             Comcel S.A. (Claro)                        False       Claro Comunicacion Celular S.A. (Comcel)                    False                                      0                                       0                                           0                                                0                                           1                                              1                                 4                                              2                          True                        False                             True                    True                       3.0                                    0.0                                     1.0                                                    0.0                                         1.0                                              2.0                                             0.0                                         0.0                                            2.0   \n",
              "3             Comcel S.A. (Claro)                        False       Claro Comunicacion Celular S.A. (Comcel)                    False                                      0                                       1                                           0                                                0                                           1                                              0                                 4                                              3                          True                        False                             True                    True                       2.0                                    0.0                                     1.0                                                    0.0                                         0.0                                              1.0                                             0.0                                         0.0                                            2.0   \n",
              "4             Comcel S.A. (Claro)                        False       Claro Comunicacion Celular S.A. (Comcel)                     True                                      0                                       0                                           0                                                0                                           1                                              1                                 4                                              2                          True                        False                             True                    True                       2.0                                    0.0                                     1.0                                                    0.0                                         0.0                                              1.0                                             0.0                                         0.0                                            2.0   \n",
              "\n",
              "   email_social_registered_profiles  email_social_registered_social_media_profiles  email_social_registered_travel_profiles  website_exists  label  \n",
              "0                               6.0                                            1.0                                      0.0            True      0  \n",
              "1                               8.0                                            4.0                                      0.0            True      0  \n",
              "2                              10.0                                            4.0                                      0.0            True      0  \n",
              "3                               6.0                                            2.0                                      0.0            True      0  \n",
              "4                               5.0                                            1.0                                      0.0            True      0  "
            ]
          },
          "execution_count": 21,
          "metadata": {},
          "output_type": "execute_result"
        }
      ],
      "source": [
        "model_data.head()"
      ]
    },
    {
      "cell_type": "code",
      "execution_count": 22,
      "id": "a1afc1f5",
      "metadata": {},
      "outputs": [
        {
          "data": {
            "text/plain": [
              "label\n",
              "0    8485\n",
              "1     644\n",
              "Name: count, dtype: int64"
            ]
          },
          "execution_count": 22,
          "metadata": {},
          "output_type": "execute_result"
        }
      ],
      "source": [
        "model_data['label'].value_counts()"
      ]
    },
    {
      "cell_type": "code",
      "execution_count": 23,
      "id": "02d3df65",
      "metadata": {},
      "outputs": [
        {
          "data": {
            "text/plain": [
              "phone_carrier\n",
              "Comcel S.A. (Claro)                                  5467\n",
              "Colombia Movil (Tigo)                                1508\n",
              "Telefonica Colombia (Movistar)                       1488\n",
              "Partners Telecom (WOM)                                186\n",
              "Virgin Mobile (Colombia)                              135\n",
              "ALMACENES EXITO INVERSIONES S.A.S.                     99\n",
              "EMPRESA DE TELECOMUNICACIONES DE BOGOTA                74\n",
              "COMUNICACION CELULAR S.A.                              58\n",
              "Telefnica Mviles Colombia (Movistar)                   22\n",
              "Comcel                                                 18\n",
              "COLOMBIA TELECOMUNICACIONES S.A. ESP                   15\n",
              "Comunicacion Celular S.A.                              14\n",
              "COLOMBIA MOVIL S.A. E.S.P.                             10\n",
              "Colombia Mvil                                           7\n",
              "Colombia Telecomunicaciones S.A. E.S.P.                 5\n",
              "COMUNICACION CELULAR (Claro)                            4\n",
              "Avantel S.A.                                            3\n",
              "Colombia Movil S.A. E.S.P.                              3\n",
              "EMPRESA DE TELECOMUNICACIONES DE BOGOTA S.A. ESP.       3\n",
              "LOGISTICA FLASH COLOMBIA S.A.S                          2\n",
              "Avantel S.A.S                                           2\n",
              "Avantel                                                 2\n",
              "Movistar                                                1\n",
              "WOM                                                     1\n",
              "Suma Movil SAS                                          1\n",
              "Claro                                                   1\n",
              "Name: count, dtype: int64"
            ]
          },
          "execution_count": 23,
          "metadata": {},
          "output_type": "execute_result"
        }
      ],
      "source": [
        "model_data['phone_carrier'].value_counts()"
      ]
    },
    {
      "cell_type": "code",
      "execution_count": 8,
      "id": "09ea945d-e469-41db-92fc-2aa10207cafc",
      "metadata": {
        "id": "09ea945d-e469-41db-92fc-2aa10207cafc"
      },
      "outputs": [],
      "source": [
        "y = model_data['label']\n",
        "model_data_train = model_data.drop('label',axis=1)"
      ]
    },
    {
      "cell_type": "code",
      "execution_count": 9,
      "id": "4e0623e8-c221-4bc8-8d46-ca6fbabd4e7d",
      "metadata": {
        "id": "4e0623e8-c221-4bc8-8d46-ca6fbabd4e7d",
        "outputId": "5cc58909-12c8-4810-9006-add8dd1b4e2f"
      },
      "outputs": [
        {
          "name": "stdout",
          "output_type": "stream",
          "text": [
            "<class 'pandas.core.frame.DataFrame'>\n",
            "RangeIndex: 9129 entries, 0 to 9128\n",
            "Data columns (total 29 columns):\n",
            " #   Column                                                 Non-Null Count  Dtype  \n",
            "---  ------                                                 --------------  -----  \n",
            " 0   phone_carrier                                          9129 non-null   object \n",
            " 1   phone_disposable_validation                            9129 non-null   bool   \n",
            " 2   phone_ported_original_carrier                          9129 non-null   object \n",
            " 3   phone_ported_validation                                9129 non-null   bool   \n",
            " 4   phone_social_number_of_names_returned                  9129 non-null   int64  \n",
            " 5   phone_social_number_of_photos_returned                 9129 non-null   int64  \n",
            " 6   phone_social_registered_ecommerce_profiles             9129 non-null   int64  \n",
            " 7   phone_social_registered_email_provider_profiles        9129 non-null   int64  \n",
            " 8   phone_social_registered_messaging_profiles             9129 non-null   int64  \n",
            " 9   phone_social_registered_professional_profiles          9129 non-null   int64  \n",
            " 10  phone_social_registered_profiles                       9129 non-null   int64  \n",
            " 11  phone_social_registered_social_media_profiles          9129 non-null   int64  \n",
            " 12  email_deliverable_validation                           9129 non-null   bool   \n",
            " 13  email_disposable_validation                            9129 non-null   bool   \n",
            " 14  email_domain_free_provider_flag                        9129 non-null   bool   \n",
            " 15  email_is_breached_flag                                 9129 non-null   bool   \n",
            " 16  email_number_of_breaches                               9129 non-null   float64\n",
            " 17  email_social_number_of_names_returned                  9129 non-null   float64\n",
            " 18  email_social_number_of_photos_returned                 9129 non-null   float64\n",
            " 19  email_social_registered_consumer_electronics_profiles  9129 non-null   float64\n",
            " 20  email_social_registered_ecommerce_profiles             9129 non-null   float64\n",
            " 21  email_social_registered_email_provider_profiles        9129 non-null   float64\n",
            " 22  email_social_registered_entertainment_profiles         9129 non-null   float64\n",
            " 23  email_social_registered_messaging_profiles             9129 non-null   float64\n",
            " 24  email_social_registered_professional_profiles          9129 non-null   float64\n",
            " 25  email_social_registered_profiles                       9129 non-null   float64\n",
            " 26  email_social_registered_social_media_profiles          9129 non-null   float64\n",
            " 27  email_social_registered_travel_profiles                9129 non-null   float64\n",
            " 28  website_exists                                         9129 non-null   bool   \n",
            "dtypes: bool(7), float64(12), int64(8), object(2)\n",
            "memory usage: 1.6+ MB\n"
          ]
        }
      ],
      "source": [
        "model_data_train.info()"
      ]
    },
    {
      "cell_type": "markdown",
      "id": "4bd8ffca-9e63-461e-bf8e-281ffbeca21f",
      "metadata": {
        "id": "4bd8ffca-9e63-461e-bf8e-281ffbeca21f"
      },
      "source": [
        "<h3> Catboost Classifier </h3>"
      ]
    },
    {
      "cell_type": "code",
      "execution_count": 10,
      "id": "ed8e6bb6-79dc-4d07-b528-43616f05096e",
      "metadata": {
        "id": "ed8e6bb6-79dc-4d07-b528-43616f05096e"
      },
      "outputs": [],
      "source": [
        "X_train, X_test, y_train, y_test = train_test_split(model_data_train, y, test_size=0.2, random_state=42)"
      ]
    },
    {
      "cell_type": "code",
      "execution_count": 24,
      "id": "349e037d",
      "metadata": {},
      "outputs": [
        {
          "data": {
            "text/plain": [
              "((7303, 29), (1826, 29), (7303,), (1826,))"
            ]
          },
          "execution_count": 24,
          "metadata": {},
          "output_type": "execute_result"
        }
      ],
      "source": [
        "X_train.shape, X_test.shape, y_train.shape, y_test.shape"
      ]
    },
    {
      "cell_type": "code",
      "execution_count": 25,
      "id": "e3d6b00c",
      "metadata": {},
      "outputs": [
        {
          "data": {
            "text/plain": [
              "518"
            ]
          },
          "execution_count": 25,
          "metadata": {},
          "output_type": "execute_result"
        }
      ],
      "source": [
        "sum(y_train)"
      ]
    },
    {
      "cell_type": "code",
      "execution_count": 26,
      "id": "99634da8",
      "metadata": {},
      "outputs": [
        {
          "data": {
            "text/plain": [
              "126"
            ]
          },
          "execution_count": 26,
          "metadata": {},
          "output_type": "execute_result"
        }
      ],
      "source": [
        "sum(y_test)"
      ]
    },
    {
      "cell_type": "code",
      "execution_count": 11,
      "id": "aaca0642-5edb-42ee-be33-74b2c3fcab81",
      "metadata": {
        "id": "aaca0642-5edb-42ee-be33-74b2c3fcab81"
      },
      "outputs": [],
      "source": [
        "pos_count = sum(y)"
      ]
    },
    {
      "cell_type": "code",
      "execution_count": 12,
      "id": "f0d4e8cd-73b4-4c19-aeb6-35cec8af1f89",
      "metadata": {
        "id": "f0d4e8cd-73b4-4c19-aeb6-35cec8af1f89",
        "outputId": "164bcf36-f3b1-49dd-8743-c8b83ac57890"
      },
      "outputs": [
        {
          "data": {
            "text/plain": [
              "644"
            ]
          },
          "execution_count": 12,
          "metadata": {},
          "output_type": "execute_result"
        }
      ],
      "source": [
        "pos_count"
      ]
    },
    {
      "cell_type": "code",
      "execution_count": 13,
      "id": "5e803bd8-c38c-42b0-89da-720aa3217547",
      "metadata": {
        "id": "5e803bd8-c38c-42b0-89da-720aa3217547"
      },
      "outputs": [],
      "source": [
        "neg_count = len(model_data_train) - pos_count"
      ]
    },
    {
      "cell_type": "code",
      "execution_count": 14,
      "id": "ad03b408-17a3-4d2a-a430-fa7e8602ffa9",
      "metadata": {
        "id": "ad03b408-17a3-4d2a-a430-fa7e8602ffa9",
        "outputId": "600193e9-40a0-480b-e022-ec2a6868d053"
      },
      "outputs": [
        {
          "data": {
            "text/plain": [
              "8485"
            ]
          },
          "execution_count": 14,
          "metadata": {},
          "output_type": "execute_result"
        }
      ],
      "source": [
        "neg_count"
      ]
    },
    {
      "cell_type": "code",
      "execution_count": 15,
      "id": "5f137460-8b44-4712-93d7-eec5ce452eee",
      "metadata": {
        "id": "5f137460-8b44-4712-93d7-eec5ce452eee",
        "outputId": "709f507e-7519-4a55-82e9-5fb2fa20a8b1"
      },
      "outputs": [
        {
          "name": "stdout",
          "output_type": "stream",
          "text": [
            "Calculated scale_pos_weight: 13.175465838509316\n"
          ]
        }
      ],
      "source": [
        "scale_pos_weight_value = neg_count / pos_count\n",
        "\n",
        "print(f\"Calculated scale_pos_weight: {scale_pos_weight_value}\")"
      ]
    },
    {
      "cell_type": "code",
      "execution_count": 16,
      "id": "7b777990-8351-4dc5-b55a-5b3a7f7ea62b",
      "metadata": {
        "id": "7b777990-8351-4dc5-b55a-5b3a7f7ea62b"
      },
      "outputs": [],
      "source": [
        "base_model = CatBoostClassifier(iterations=100,\n",
        "                               depth=6,\n",
        "                               learning_rate=0.1,\n",
        "                               loss_function='Logloss',\n",
        "                               cat_features=categorical_variables,\n",
        "                               eval_metric='F1',\n",
        "                               verbose=True,\n",
        "                               scale_pos_weight=scale_pos_weight_value\n",
        "                              )"
      ]
    },
    {
      "cell_type": "code",
      "execution_count": 17,
      "id": "3dc49e9e-1a48-4101-bca0-fccabd73a4ac",
      "metadata": {
        "id": "3dc49e9e-1a48-4101-bca0-fccabd73a4ac",
        "outputId": "1b152bd0-2965-467a-df4d-169af380c8ce"
      },
      "outputs": [
        {
          "name": "stdout",
          "output_type": "stream",
          "text": [
            "0:\tlearn: 0.6570932\ttotal: 70.9ms\tremaining: 7.02s\n",
            "1:\tlearn: 0.5943596\ttotal: 94.1ms\tremaining: 4.61s\n",
            "2:\tlearn: 0.5923449\ttotal: 113ms\tremaining: 3.65s\n",
            "3:\tlearn: 0.6136128\ttotal: 137ms\tremaining: 3.29s\n",
            "4:\tlearn: 0.6197993\ttotal: 143ms\tremaining: 2.72s\n",
            "5:\tlearn: 0.6144828\ttotal: 162ms\tremaining: 2.54s\n",
            "6:\tlearn: 0.6222115\ttotal: 173ms\tremaining: 2.3s\n",
            "7:\tlearn: 0.6289514\ttotal: 189ms\tremaining: 2.17s\n",
            "8:\tlearn: 0.6230620\ttotal: 200ms\tremaining: 2.02s\n",
            "9:\tlearn: 0.6143322\ttotal: 211ms\tremaining: 1.9s\n",
            "10:\tlearn: 0.6189358\ttotal: 220ms\tremaining: 1.78s\n",
            "11:\tlearn: 0.6221422\ttotal: 237ms\tremaining: 1.74s\n",
            "12:\tlearn: 0.6280510\ttotal: 251ms\tremaining: 1.68s\n",
            "13:\tlearn: 0.6238624\ttotal: 272ms\tremaining: 1.67s\n",
            "14:\tlearn: 0.6275339\ttotal: 281ms\tremaining: 1.59s\n",
            "15:\tlearn: 0.6266817\ttotal: 297ms\tremaining: 1.56s\n",
            "16:\tlearn: 0.6346279\ttotal: 312ms\tremaining: 1.52s\n",
            "17:\tlearn: 0.6364048\ttotal: 320ms\tremaining: 1.46s\n",
            "18:\tlearn: 0.6523959\ttotal: 333ms\tremaining: 1.42s\n",
            "19:\tlearn: 0.6610596\ttotal: 347ms\tremaining: 1.39s\n",
            "20:\tlearn: 0.6708626\ttotal: 363ms\tremaining: 1.37s\n",
            "21:\tlearn: 0.6711440\ttotal: 375ms\tremaining: 1.33s\n",
            "22:\tlearn: 0.6724628\ttotal: 385ms\tremaining: 1.29s\n",
            "23:\tlearn: 0.6711067\ttotal: 393ms\tremaining: 1.24s\n",
            "24:\tlearn: 0.6713840\ttotal: 407ms\tremaining: 1.22s\n",
            "25:\tlearn: 0.6707113\ttotal: 421ms\tremaining: 1.2s\n",
            "26:\tlearn: 0.6745218\ttotal: 434ms\tremaining: 1.17s\n",
            "27:\tlearn: 0.6722823\ttotal: 446ms\tremaining: 1.15s\n",
            "28:\tlearn: 0.6771587\ttotal: 461ms\tremaining: 1.13s\n",
            "29:\tlearn: 0.6826726\ttotal: 473ms\tremaining: 1.1s\n",
            "30:\tlearn: 0.6853796\ttotal: 483ms\tremaining: 1.07s\n",
            "31:\tlearn: 0.6900304\ttotal: 493ms\tremaining: 1.05s\n",
            "32:\tlearn: 0.6938611\ttotal: 506ms\tremaining: 1.03s\n",
            "33:\tlearn: 0.6933917\ttotal: 516ms\tremaining: 1s\n",
            "34:\tlearn: 0.6936910\ttotal: 526ms\tremaining: 976ms\n",
            "35:\tlearn: 0.6936438\ttotal: 531ms\tremaining: 944ms\n",
            "36:\tlearn: 0.6956505\ttotal: 542ms\tremaining: 923ms\n",
            "37:\tlearn: 0.6939646\ttotal: 555ms\tremaining: 905ms\n",
            "38:\tlearn: 0.6949430\ttotal: 571ms\tremaining: 893ms\n",
            "39:\tlearn: 0.6984309\ttotal: 583ms\tremaining: 874ms\n",
            "40:\tlearn: 0.6979590\ttotal: 598ms\tremaining: 861ms\n",
            "41:\tlearn: 0.7010297\ttotal: 628ms\tremaining: 867ms\n",
            "42:\tlearn: 0.7016930\ttotal: 641ms\tremaining: 850ms\n",
            "43:\tlearn: 0.7038112\ttotal: 653ms\tremaining: 831ms\n",
            "44:\tlearn: 0.7093093\ttotal: 671ms\tremaining: 820ms\n",
            "45:\tlearn: 0.7051721\ttotal: 691ms\tremaining: 811ms\n",
            "46:\tlearn: 0.7052769\ttotal: 703ms\tremaining: 793ms\n",
            "47:\tlearn: 0.7066231\ttotal: 718ms\tremaining: 778ms\n",
            "48:\tlearn: 0.7062883\ttotal: 729ms\tremaining: 759ms\n",
            "49:\tlearn: 0.7044323\ttotal: 749ms\tremaining: 749ms\n",
            "50:\tlearn: 0.7024358\ttotal: 762ms\tremaining: 732ms\n",
            "51:\tlearn: 0.7046620\ttotal: 781ms\tremaining: 721ms\n",
            "52:\tlearn: 0.7088311\ttotal: 795ms\tremaining: 705ms\n",
            "53:\tlearn: 0.7098947\ttotal: 819ms\tremaining: 698ms\n",
            "54:\tlearn: 0.7098947\ttotal: 828ms\tremaining: 677ms\n",
            "55:\tlearn: 0.7121776\ttotal: 844ms\tremaining: 663ms\n",
            "56:\tlearn: 0.7123238\ttotal: 855ms\tremaining: 645ms\n",
            "57:\tlearn: 0.7123635\ttotal: 865ms\tremaining: 626ms\n",
            "58:\tlearn: 0.7143002\ttotal: 874ms\tremaining: 607ms\n",
            "59:\tlearn: 0.7165605\ttotal: 892ms\tremaining: 595ms\n",
            "60:\tlearn: 0.7176142\ttotal: 909ms\tremaining: 581ms\n",
            "61:\tlearn: 0.7171959\ttotal: 929ms\tremaining: 569ms\n",
            "62:\tlearn: 0.7162376\ttotal: 946ms\tremaining: 556ms\n",
            "63:\tlearn: 0.7162376\ttotal: 958ms\tremaining: 539ms\n",
            "64:\tlearn: 0.7162376\ttotal: 965ms\tremaining: 519ms\n",
            "65:\tlearn: 0.7145929\ttotal: 982ms\tremaining: 506ms\n",
            "66:\tlearn: 0.7145243\ttotal: 999ms\tremaining: 492ms\n",
            "67:\tlearn: 0.7171615\ttotal: 1.01s\tremaining: 475ms\n",
            "68:\tlearn: 0.7168659\ttotal: 1.01s\tremaining: 456ms\n",
            "69:\tlearn: 0.7172601\ttotal: 1.02s\tremaining: 439ms\n",
            "70:\tlearn: 0.7173094\ttotal: 1.04s\tremaining: 425ms\n",
            "71:\tlearn: 0.7185687\ttotal: 1.05s\tremaining: 411ms\n",
            "72:\tlearn: 0.7172601\ttotal: 1.07s\tremaining: 395ms\n",
            "73:\tlearn: 0.7224343\ttotal: 1.08s\tremaining: 381ms\n",
            "74:\tlearn: 0.7240720\ttotal: 1.1s\tremaining: 367ms\n",
            "75:\tlearn: 0.7269258\ttotal: 1.12s\tremaining: 353ms\n",
            "76:\tlearn: 0.7267221\ttotal: 1.13s\tremaining: 338ms\n",
            "77:\tlearn: 0.7255673\ttotal: 1.14s\tremaining: 323ms\n",
            "78:\tlearn: 0.7279236\ttotal: 1.16s\tremaining: 308ms\n",
            "79:\tlearn: 0.7282748\ttotal: 1.17s\tremaining: 294ms\n",
            "80:\tlearn: 0.7282246\ttotal: 1.19s\tremaining: 278ms\n",
            "81:\tlearn: 0.7279738\ttotal: 1.2s\tremaining: 263ms\n",
            "82:\tlearn: 0.7280239\ttotal: 1.21s\tremaining: 249ms\n",
            "83:\tlearn: 0.7307814\ttotal: 1.23s\tremaining: 234ms\n",
            "84:\tlearn: 0.7281243\ttotal: 1.24s\tremaining: 218ms\n",
            "85:\tlearn: 0.7310832\ttotal: 1.25s\tremaining: 203ms\n",
            "86:\tlearn: 0.7310832\ttotal: 1.25s\tremaining: 187ms\n",
            "87:\tlearn: 0.7330284\ttotal: 1.26s\tremaining: 172ms\n",
            "88:\tlearn: 0.7326761\ttotal: 1.28s\tremaining: 158ms\n",
            "89:\tlearn: 0.7415424\ttotal: 1.29s\tremaining: 143ms\n",
            "90:\tlearn: 0.7406903\ttotal: 1.31s\tremaining: 130ms\n",
            "91:\tlearn: 0.7404868\ttotal: 1.33s\tremaining: 116ms\n",
            "92:\tlearn: 0.7432217\ttotal: 1.34s\tremaining: 101ms\n",
            "93:\tlearn: 0.7426965\ttotal: 1.36s\tremaining: 87ms\n",
            "94:\tlearn: 0.7470767\ttotal: 1.38s\tremaining: 72.4ms\n",
            "95:\tlearn: 0.7486197\ttotal: 1.39s\tremaining: 57.8ms\n",
            "96:\tlearn: 0.7474872\ttotal: 1.4s\tremaining: 43.4ms\n",
            "97:\tlearn: 0.7495970\ttotal: 1.42s\tremaining: 28.9ms\n",
            "98:\tlearn: 0.7493910\ttotal: 1.44s\tremaining: 14.5ms\n",
            "99:\tlearn: 0.7552315\ttotal: 1.45s\tremaining: 0us\n"
          ]
        },
        {
          "data": {
            "text/plain": [
              "<catboost.core.CatBoostClassifier at 0x7ae9e24b28d0>"
            ]
          },
          "execution_count": 17,
          "metadata": {},
          "output_type": "execute_result"
        }
      ],
      "source": [
        "base_model.fit(X_train, y_train)"
      ]
    },
    {
      "cell_type": "code",
      "execution_count": 18,
      "id": "20bab062-d3bc-45a4-8ebb-5e66f7418d77",
      "metadata": {
        "id": "20bab062-d3bc-45a4-8ebb-5e66f7418d77",
        "outputId": "9359aafd-a69d-4efe-96c8-dfc29b10715a"
      },
      "outputs": [
        {
          "name": "stdout",
          "output_type": "stream",
          "text": [
            "\n",
            "Classification Report:\n",
            "              precision    recall  f1-score   support\n",
            "\n",
            "           0       0.94      0.61      0.74      1700\n",
            "           1       0.08      0.44      0.13       126\n",
            "\n",
            "    accuracy                           0.60      1826\n",
            "   macro avg       0.51      0.53      0.44      1826\n",
            "weighted avg       0.88      0.60      0.70      1826\n",
            "\n"
          ]
        }
      ],
      "source": [
        "# 4. Evaluate the model\n",
        "y_pred = base_model.predict(X_test)\n",
        "print(\"\\nClassification Report:\")\n",
        "print(classification_report(y_test, y_pred))"
      ]
    },
    {
      "cell_type": "code",
      "execution_count": 19,
      "id": "91f037f9-69ca-487d-b48f-0d222f4353a9",
      "metadata": {
        "id": "91f037f9-69ca-487d-b48f-0d222f4353a9",
        "outputId": "9f6a7ba7-7d61-459a-ed41-45782488c8c1"
      },
      "outputs": [
        {
          "name": "stdout",
          "output_type": "stream",
          "text": [
            "                                                  Feature  Importance\n",
            "2                           phone_ported_original_carrier   11.688295\n",
            "10                       phone_social_registered_profiles   10.928113\n",
            "25                       email_social_registered_profiles    9.649132\n",
            "11          phone_social_registered_social_media_profiles    8.342622\n",
            "16                               email_number_of_breaches    7.655931\n",
            "21        email_social_registered_email_provider_profiles    6.791395\n",
            "26          email_social_registered_social_media_profiles    6.585435\n",
            "0                                           phone_carrier    6.344137\n",
            "24          email_social_registered_professional_profiles    6.166218\n",
            "20             email_social_registered_ecommerce_profiles    5.203487\n",
            "15                                 email_is_breached_flag    4.597751\n",
            "3                                 phone_ported_validation    3.509762\n",
            "6              phone_social_registered_ecommerce_profiles    2.388198\n",
            "5                  phone_social_number_of_photos_returned    2.077261\n",
            "9           phone_social_registered_professional_profiles    2.027084\n",
            "7         phone_social_registered_email_provider_profiles    1.653667\n",
            "19  email_social_registered_consumer_electronics_profiles    1.461819\n",
            "8              phone_social_registered_messaging_profiles    0.895635\n",
            "18                 email_social_number_of_photos_returned    0.723573\n",
            "14                        email_domain_free_provider_flag    0.683862\n"
          ]
        }
      ],
      "source": [
        "feature_importances = base_model.get_feature_importance()\n",
        "\n",
        "feature_importances_df = pd.DataFrame({'Feature': model_data_train.columns, 'Importance': feature_importances})\n",
        "feature_importances_df = feature_importances_df.sort_values(by='Importance', ascending=False)\n",
        "\n",
        "print(feature_importances_df.head(20))\n",
        "\n",
        "top_features = feature_importances_df.nlargest(10, 'Importance')['Feature']"
      ]
    },
    {
      "cell_type": "code",
      "execution_count": 20,
      "id": "2cf5ad4e-2a9a-4f72-b2a7-09b2b2cfeb2b",
      "metadata": {
        "id": "2cf5ad4e-2a9a-4f72-b2a7-09b2b2cfeb2b",
        "outputId": "3385ad48-3c29-4d7c-d6bb-be004fff8c6d"
      },
      "outputs": [
        {
          "data": {
            "text/plain": [
              "2                       phone_ported_original_carrier\n",
              "10                   phone_social_registered_profiles\n",
              "25                   email_social_registered_profiles\n",
              "11      phone_social_registered_social_media_profiles\n",
              "16                           email_number_of_breaches\n",
              "21    email_social_registered_email_provider_profiles\n",
              "26      email_social_registered_social_media_profiles\n",
              "0                                       phone_carrier\n",
              "24      email_social_registered_professional_profiles\n",
              "20         email_social_registered_ecommerce_profiles\n",
              "Name: Feature, dtype: object"
            ]
          },
          "execution_count": 20,
          "metadata": {},
          "output_type": "execute_result"
        }
      ],
      "source": [
        "top_features"
      ]
    }
  ],
  "metadata": {
    "colab": {
      "provenance": []
    },
    "kernelspec": {
      "display_name": ".venv (3.11.4)",
      "language": "python",
      "name": "python3"
    },
    "language_info": {
      "codemirror_mode": {
        "name": "ipython",
        "version": 3
      },
      "file_extension": ".py",
      "mimetype": "text/x-python",
      "name": "python",
      "nbconvert_exporter": "python",
      "pygments_lexer": "ipython3",
      "version": "3.11.4"
    }
  },
  "nbformat": 4,
  "nbformat_minor": 5
}
