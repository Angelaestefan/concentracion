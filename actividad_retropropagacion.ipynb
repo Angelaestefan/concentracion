{
  "cells": [
    {
      "cell_type": "markdown",
      "metadata": {
        "id": "view-in-github",
        "colab_type": "text"
      },
      "source": [
        "<a href=\"https://colab.research.google.com/github/Angelaestefan/concentracion/blob/master/actividad_retropropagacion.ipynb\" target=\"_parent\"><img src=\"https://colab.research.google.com/assets/colab-badge.svg\" alt=\"Open In Colab\"/></a>"
      ]
    },
    {
      "cell_type": "markdown",
      "id": "c20722d1",
      "metadata": {
        "id": "c20722d1"
      },
      "source": [
        "# En esta actividad trabajarás con las clases *Setosa* y *Versicolor* del dataset Iris"
      ]
    },
    {
      "cell_type": "code",
      "execution_count": null,
      "id": "da4f087d",
      "metadata": {
        "id": "da4f087d"
      },
      "outputs": [],
      "source": [
        "import numpy as np\n",
        "import matplotlib.pyplot as plt\n",
        "from sklearn.datasets import load_iris\n",
        "from sklearn.model_selection import train_test_split\n",
        "from sklearn.preprocessing import StandardScaler\n",
        "\n",
        "\n",
        "# Cargar dataset\n",
        "iris = load_iris()\n",
        "\n",
        "# Seleccionar solo clases 0 (setosa) y 1 (versicolor)\n",
        "mask = (iris.target == 0) | (iris.target == 1)\n",
        "\n",
        "# Extraer solo dos features: sepal length (0) y sepal width (1)\n",
        "X = iris.data[mask][:, :2]   # columnas 0 y 1\n",
        "y = iris.target[mask]\n",
        "\n",
        "# Graficar\n",
        "plt.figure(figsize=(8,6))\n",
        "\n",
        "plt.scatter(X[y==0, 0], X[y==0, 1], label=\"Setosa\", alpha=0.7)\n",
        "plt.scatter(X[y==1, 0], X[y==1, 1], label=\"Versicolor\", alpha=0.7)\n",
        "\n",
        "plt.xlabel(\"Sepal length (cm)\")\n",
        "plt.ylabel(\"Sepal width (cm)\")\n",
        "plt.title(\"Iris dataset - 2 clases y 2 features\")\n",
        "plt.legend()\n",
        "plt.grid(True)\n",
        "plt.show()"
      ]
    },
    {
      "cell_type": "markdown",
      "id": "7c2d2615",
      "metadata": {
        "id": "7c2d2615"
      },
      "source": [
        "Divide y prepara el dataset"
      ]
    },
    {
      "cell_type": "code",
      "execution_count": null,
      "id": "dd251a0b",
      "metadata": {
        "id": "dd251a0b"
      },
      "outputs": [],
      "source": [
        "# Separar en entrenamiento (80%) y prueba (20%)\n",
        "X_train, X_test, y_train, y_test = train_test_split(\n",
        "    X, y, test_size=0.2, random_state=42, stratify=y\n",
        ")\n",
        "\n",
        "scaler = StandardScaler()\n",
        "X_train = scaler.fit_transform(X_train)\n",
        "X_test = scaler.transform(X_test)\n",
        "\n",
        "print(\"Tamaño de X_train:\", X_train.shape)\n",
        "print(\"Tamaño de X_test:\", X_test.shape)"
      ]
    },
    {
      "cell_type": "markdown",
      "id": "101d5b59",
      "metadata": {
        "id": "101d5b59"
      },
      "source": [
        "### Trabaja sobre la siguiente plantilla para completar el paso hacia adelante y la retropropagación cuando se te indique.\n"
      ]
    },
    {
      "cell_type": "markdown",
      "id": "a7f108a5",
      "metadata": {
        "id": "a7f108a5"
      },
      "source": [
        "Para cada epoca k:\n",
        "1. haz propagación hacia adelante con cada instancia i\n",
        "2. calcula el error cuadrático y los gradientes\n",
        "3. actualiza los pesos"
      ]
    },
    {
      "cell_type": "code",
      "execution_count": null,
      "id": "334ced77",
      "metadata": {
        "id": "334ced77"
      },
      "outputs": [],
      "source": [
        "\n",
        "# Para reproducibilidad\n",
        "import numpy as np\n",
        "np.random.seed(0)\n",
        "\n",
        "class RedNeuronal:\n",
        "  def __init__(self, x, y):\n",
        "    # datos de entrenamiento\n",
        "    self.x = x\n",
        "    # clase asociada a los datos de entrenamiento\n",
        "    self.y = y\n",
        "    # estructura de la red e inicialización aleatoria de los pesos\n",
        "    self.pesos1 = np.random.rand(4)  # [wa1, wb1, wc1, wd1]\n",
        "    self.sesgos1 = np.random.rand(2) # [b11, b12]\n",
        "    self.pesos2 = np.random.rand(2)  # [wa2, wb2]\n",
        "    self.sesgos2 = np.random.rand(1)  # [b21]\n",
        "\n",
        "  def sigmoid(self, z):\n",
        "    return 1/(1 + np.exp(-z))\n",
        "\n",
        "  def entrenamiento(self, tasa_aprendizaje=0.1, epocas=1000):\n",
        "    # entrenamiento por k epocas\n",
        "    for k in range(epocas):\n",
        "      error = 0\n",
        "\n",
        "      for i in range(self.x.shape[0]):\n",
        "        pass\n",
        "        # Entradas a las neuronas sigmoides ocultas\n",
        "\n",
        "        # Salidas de las neuronas sigmoides ocultas\n",
        "\n",
        "        # Entrada de la neurona sigmoide de la capa de salida\n",
        "\n",
        "        # Salida de la red neuronal (y_gorro)\n",
        "\n",
        "        # Cálculo del error cuadrático\n",
        "\n",
        "        # Cálculo de los gradientes\n",
        "\n",
        "        # Actualización de los pesos (SGD)\n",
        "\n",
        "      #print(error)\n",
        "\n",
        "  def clasificacion(self, x1, x2):\n",
        "    # Propagación hacia adelante con la nueva instancia (x1, x2) a evaluar\n",
        "    #return round(y_gorro)\n",
        "    pass\n",
        "\n",
        "# Crea una Red Neuronal Artificial\n",
        "red_neuronal = RedNeuronal(X_train, y_train)\n",
        "red_neuronal.entrenamiento()"
      ]
    },
    {
      "cell_type": "code",
      "execution_count": null,
      "id": "32f2da2f",
      "metadata": {
        "id": "32f2da2f"
      },
      "outputs": [],
      "source": [
        "from sklearn.metrics import confusion_matrix, ConfusionMatrixDisplay\n",
        "import matplotlib.pyplot as plt\n",
        "\n",
        "# Predecir todas las instancias\n",
        "y_pred = [red_neuronal.clasificacion(x[0], x[1]) for x in X_test]\n",
        "\n",
        "# Matriz de confusión\n",
        "\n",
        "# Scatter plot"
      ]
    }
  ],
  "metadata": {
    "kernelspec": {
      "display_name": "ds",
      "language": "python",
      "name": "python3"
    },
    "language_info": {
      "codemirror_mode": {
        "name": "ipython",
        "version": 3
      },
      "file_extension": ".py",
      "mimetype": "text/x-python",
      "name": "python",
      "nbconvert_exporter": "python",
      "pygments_lexer": "ipython3",
      "version": "3.10.18"
    },
    "colab": {
      "provenance": [],
      "include_colab_link": true
    }
  },
  "nbformat": 4,
  "nbformat_minor": 5
}