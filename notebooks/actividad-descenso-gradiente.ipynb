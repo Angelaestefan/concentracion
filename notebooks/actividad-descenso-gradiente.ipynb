{
  "cells": [
    {
      "cell_type": "markdown",
      "id": "1093601d",
      "metadata": {
        "id": "1093601d"
      },
      "source": [
        "# Descenso de Gradiente\n",
        "En esta actividad vas a implementar el descenso de gradiente y después utilizarlo para ajustar una modelo lineal a un conjunto de datos."
      ]
    },
    {
      "cell_type": "code",
      "execution_count": 1,
      "id": "382c31fd",
      "metadata": {
        "id": "382c31fd"
      },
      "outputs": [],
      "source": [
        "import math\n",
        "import numpy as np\n",
        "import matplotlib.pyplot as plt"
      ]
    },
    {
      "cell_type": "code",
      "execution_count": 2,
      "id": "e0adf458",
      "metadata": {
        "id": "e0adf458"
      },
      "outputs": [],
      "source": [
        "# Funciones necesarias\n",
        "\n",
        "def dibujar_linea(gradiente, x_centro, y_centro, distancia, eje):\n",
        "    \"\"\"\n",
        "    Dibuja una línea tangente que representa el gradiente en el punto (x_centro, y_centro).\n",
        "    \"\"\"\n",
        "    x_vals = np.linspace(x_centro - distancia, x_centro + distancia, 50)\n",
        "    y_vals = gradiente * (x_vals - x_centro) + y_centro\n",
        "\n",
        "    eje.scatter(x_centro, y_centro, color='b', s=50)\n",
        "    eje.plot(x_vals, y_vals, linestyle='--', color='r', zorder=10, linewidth=1)\n",
        "\n",
        "    desplazamiento_x = 30 if x_centro == 200 else 10\n",
        "    texto = r\"$\\frac{\\partial J}{\\partial w}$ = %d\" % gradiente\n",
        "\n",
        "    eje.annotate(texto,\n",
        "                 fontsize=14,\n",
        "                 xy=(x_centro, y_centro),\n",
        "                 xycoords='data',\n",
        "                 xytext=(desplazamiento_x, 10),\n",
        "                 textcoords='offset points',\n",
        "                 arrowprops=dict(arrowstyle=\"->\"),\n",
        "                 ha='left',\n",
        "                 va='top')\n",
        "\n",
        "def graficar_gradientes(x_datos, y_etiquetas, funcion_costo, funcion_gradiente):\n",
        "    \"\"\"\n",
        "    Visualiza la relación entre el costo y el parámetro w, y muestra el campo de gradientes\n",
        "    en un gráfico de vectores.\n",
        "    \"\"\"\n",
        "    figura, ejes = plt.subplots(1, 2, figsize=(12, 4))\n",
        "\n",
        "    # ============\n",
        "    # Primer gráfico\n",
        "    # ============\n",
        "    b_fijo = 100\n",
        "    valores_w = np.linspace(0, 400, 50)\n",
        "    costos = np.array([funcion_costo(x_datos, y_etiquetas, w, b_fijo) for w in valores_w])\n",
        "\n",
        "    ejes[0].plot(valores_w, costos, linewidth=1)\n",
        "    ejes[0].set_title(\"Costo vs w con gradiente (b = 100)\")\n",
        "    ejes[0].set_xlabel(\"w\")\n",
        "    ejes[0].set_ylabel(\"Costo\")\n",
        "\n",
        "    # Añadir líneas de gradiente para ciertos valores de w\n",
        "    for w_prueba in [50, 200, 250]:\n",
        "        grad_w, _ = funcion_gradiente(x_datos, y_etiquetas, w_prueba, b_fijo)\n",
        "        costo_actual = funcion_costo(x_datos, y_etiquetas, w_prueba, b_fijo)\n",
        "        dibujar_linea(grad_w, w_prueba, costo_actual, 30, ejes[0])\n",
        "\n",
        "    # ===============\n",
        "    # Segundo gráfico\n",
        "    # ===============\n",
        "    b_grid, w_grid = np.meshgrid(np.linspace(-200, 200, 10),\n",
        "                                 np.linspace(-100, 600, 10))\n",
        "    grad_w_matriz = np.zeros_like(w_grid)\n",
        "    grad_b_matriz = np.zeros_like(b_grid)\n",
        "\n",
        "    for i in range(w_grid.shape[0]):\n",
        "        for j in range(w_grid.shape[1]):\n",
        "            grad_w_matriz[i, j], grad_b_matriz[i, j] = funcion_gradiente(\n",
        "                x_datos, y_etiquetas, w_grid[i, j], b_grid[i, j]\n",
        "            )\n",
        "\n",
        "    magnitud_color = np.sqrt((grad_b_matriz / 2)**2 + (grad_w_matriz / 2)**2)\n",
        "\n",
        "    ejes[1].set_title(\"Campo de gradientes (gráfico vectorial)\")\n",
        "    Q = ejes[1].quiver(w_grid, b_grid, grad_w_matriz, grad_b_matriz,\n",
        "                       magnitud_color, units='width')\n",
        "    ejes[1].quiverkey(Q, 0.9, 0.9, 2, r'$2 \\frac{m}{s}$', labelpos='E', coordinates='figure')\n",
        "    ejes[1].set_xlabel(\"w\")\n",
        "    ejes[1].set_ylabel(\"b\")\n",
        "\n",
        "\n",
        "def en_limites(a,b,xlim,ylim):\n",
        "    xlow,xhigh = xlim\n",
        "    ylow,yhigh = ylim\n",
        "    ax, ay = a\n",
        "    bx, by = b\n",
        "    if (ax > xlow and ax < xhigh) and (bx > xlow and bx < xhigh) \\\n",
        "        and (ay > ylow and ay < yhigh) and (by > ylow and by < yhigh):\n",
        "        return True\n",
        "    return False\n",
        "\n",
        "def graficar_contorno_con_descenso(x, y, historial, eje,\n",
        "                                   funcion_calcular_costo,\n",
        "                                   rango_w=[-50, 400, 5],\n",
        "                                   rango_b=[-450, 450, 5],\n",
        "                                   niveles_contorno=[0.1, 100, 1000, 5000, 10000, 25000, 50000],\n",
        "                                   resolucion=5, w_final=200, b_final=100, paso=10):\n",
        "    \"\"\"\n",
        "    Dibuja el gráfico de contorno de la función de costo J(w, b) y el camino seguido por el descenso del gradiente.\n",
        "\n",
        "    Parámetros:\n",
        "        x, y (ndarray): Datos y etiquetas.\n",
        "        historial (list): Lista con el historial de parámetros [w, b].\n",
        "        eje (matplotlib axis): Eje donde se dibujará el gráfico.\n",
        "        rango_w, rango_b (list): Rango para los valores de w y b.\n",
        "        niveles_contorno (list): Niveles de la función de costo para las líneas de contorno.\n",
        "        resolucion (int): Distancia mínima entre flechas para el camino.\n",
        "        w_final, b_final (float): Últimos valores alcanzados por w y b.\n",
        "        paso (int): Intervalo entre puntos para dibujar las flechas del camino.\n",
        "    \"\"\"\n",
        "\n",
        "    b_vals, w_vals = np.meshgrid(np.arange(*rango_b), np.arange(*rango_w))\n",
        "    z = np.zeros_like(b_vals)\n",
        "\n",
        "    for i in range(w_vals.shape[0]):\n",
        "        for j in range(w_vals.shape[1]):\n",
        "            z[i][j] = funcion_calcular_costo(x, y, w_vals[i][j], b_vals[i][j])\n",
        "\n",
        "    contornos = eje.contour(w_vals, b_vals, z, niveles_contorno, linewidths=2)\n",
        "    eje.clabel(contornos, inline=True, fmt='%1.0f', fontsize=10)\n",
        "    eje.set_xlabel(\"w\")\n",
        "    eje.set_ylabel(\"b\")\n",
        "    eje.set_title(\"Gráfico de contorno de J(w, b) con trayectoria del descenso del gradiente\")\n",
        "\n",
        "    # Dibujar trayectoria\n",
        "    punto_anterior = historial[0]\n",
        "    for punto in historial[0::paso]:\n",
        "        distancia = np.sqrt((punto_anterior[0] - punto[0])**2 + (punto_anterior[1] - punto[1])**2)\n",
        "        if distancia > resolucion or punto == historial[-1]:\n",
        "            if en_limites(punto, punto_anterior, eje.get_xlim(), eje.get_ylim()):\n",
        "                plt.annotate('', xy=punto, xytext=punto_anterior, xycoords='data',\n",
        "                             arrowprops={'arrowstyle': '->', 'color': 'b', 'lw': 3},\n",
        "                             va='center', ha='center')\n",
        "            punto_anterior = punto\n",
        "    return"
      ]
    },
    {
      "cell_type": "code",
      "execution_count": 3,
      "id": "d094f3c9",
      "metadata": {
        "id": "d094f3c9"
      },
      "outputs": [],
      "source": [
        "# Load our data set\n",
        "x_train = np.array([1.0, 2.0])       # tamaño de casa [m^2]\n",
        "y_train = np.array([150, 250])       # valores objetivo (Precio miles de pesos)"
      ]
    },
    {
      "cell_type": "markdown",
      "id": "edc9462a",
      "metadata": {
        "id": "edc9462a"
      },
      "source": [
        "Primeramente vamos a implementar una función para calcular el costo dados los paramétros $w$,$b$, la entrada $x$ y la salida real $y$."
      ]
    },
    {
      "cell_type": "code",
      "execution_count": 5,
      "id": "25dabd0d",
      "metadata": {
        "id": "25dabd0d"
      },
      "outputs": [],
      "source": [
        "def calcular_costo(x, y, w, b):\n",
        "    \"\"\"\n",
        "    x ndarray (N,): Datos, N ejemplos\n",
        "    y ndarray (N,): valores objetivo\n",
        "    w,b (escalares) : parámetros del modelo\n",
        "    \"\"\"\n",
        "\n",
        "    N = x.shape[0]\n",
        "    costo = 0\n",
        "\n",
        "    for i in range(N):\n",
        "        # Coloca aqui tu código para calcular la pérdida para cada ejemplo de entrenamiento\n",
        "\n",
        "      costo_total = 1 / (N) * costo\n",
        "\n",
        "    return costo_total"
      ]
    },
    {
      "cell_type": "markdown",
      "id": "5458ac9e",
      "metadata": {
        "id": "5458ac9e"
      },
      "source": [
        "Prueba tu implementación de la función costo con la siguiente celda"
      ]
    },
    {
      "cell_type": "code",
      "execution_count": 6,
      "id": "1f1bc877",
      "metadata": {
        "id": "1f1bc877",
        "outputId": "8ea51c63-ad65-4a9b-a435-fcebea22203f",
        "colab": {
          "base_uri": "https://localhost:8080/"
        }
      },
      "outputs": [
        {
          "output_type": "stream",
          "name": "stdout",
          "text": [
            "0.0\n"
          ]
        }
      ],
      "source": [
        "x = np.array([0, 1])\n",
        "y = np.array([0.5,2.1])\n",
        "w = 1\n",
        "b = 1\n",
        "\n",
        "# Valor esperado con los valores dados es 0.13\n",
        "costo = calcular_costo(x,y,w,b)\n",
        "print(costo)"
      ]
    },
    {
      "cell_type": "markdown",
      "id": "ad4cc04a",
      "metadata": {
        "id": "ad4cc04a"
      },
      "source": [
        "<a name=\"Descenso de gradiente\"></a>\n",
        "## Recordatorio del descenso de gradiente\n",
        "Recordemos que nuestro modelo lineal es:\n",
        "\n",
        "$h_{w,b}(x^{(i)}) = wx^{(i)} + b$\n",
        "\n",
        "En regresión lineal, se utilizan ejemplos de entrenamiento para ajustar los parámetros $w$,$b$ minimizando una medida de error entre nuestras predicciones $\\hat{y}=h_{w,b}(x)$ y los valores reales observados $y$. Llamamos a esta medida \"costo\".\n",
        "\n",
        "En este caso estamos usando el error cuadrático medio como la función costo:\n",
        "\n",
        "$J(w,b) = \\frac{1}{N} \\sum\\limits_{i = 0}^{N-1} (h_{w,b}(x^{(i)}) - y^{(i)})^2$"
      ]
    },
    {
      "cell_type": "markdown",
      "id": "18707f67",
      "metadata": {
        "id": "18707f67"
      },
      "source": [
        "\n",
        "El algoritmo de *descenso de gradiente* se describe como:\n",
        "\n",
        "$$\\begin{align*} \\text{repetir}&\\text{ hasta la convergencia:} \\; \\lbrace \\newline\n",
        "\\;  w &= w -  \\alpha \\frac{\\partial J(w,b)}{\\partial w} \\tag{3}  \\; \\newline\n",
        " b &= b -  \\alpha \\frac{\\partial J(w,b)}{\\partial b}  \\newline \\rbrace\n",
        "\\end{align*}$$\n",
        "donde los parámetros $w$, $b$ se actualizan simultáneamente.  \n",
        "Así que para implementar el descenso de gradiente, necesitamos las derivadas parciales del costo respecto a los parámetros (derivamos esto en clase):\n",
        "$$\n",
        "\\begin{align}\n",
        "\\frac{\\partial J(w,b)}{\\partial w}  &= \\frac{2}{N} \\sum\\limits_{i = 0}^{N-1} (h_{w,b}(x^{(i)}) - y^{(i)})x^{(i)} \\tag{4}\\\\\n",
        "  \\frac{\\partial J(w,b)}{\\partial b}  &= \\frac{2}{N} \\sum\\limits_{i = 0}^{N-1} (h_{w,b}(x^{(i)}) - y^{(i)}) \\tag{5}\\\\\n",
        "\\end{align}\n",
        "$$\n",
        "\n",
        "Aqui *simultáneamente* significa que se deben calcular las derivadas parciales para todos los parámetros antes de actualizar cualquiera de los parámetros."
      ]
    },
    {
      "cell_type": "markdown",
      "id": "4f0fa221",
      "metadata": {
        "id": "4f0fa221"
      },
      "source": [
        "### Implementación del descenso de gradiente"
      ]
    },
    {
      "cell_type": "code",
      "execution_count": 8,
      "id": "5bb097fb",
      "metadata": {
        "id": "5bb097fb"
      },
      "outputs": [],
      "source": [
        "def calcular_gradiente(x, y, w, b):\n",
        "    \"\"\"\n",
        "    Cálcula el gradiente para la regresión lineal\n",
        "    Args:\n",
        "      x ndarray (N,): Datos, N ejemplos\n",
        "      y ndarray (N,): valores objetivo\n",
        "      w,b (scalar)    : parámetros del modelo\n",
        "    Returns\n",
        "      dj_dw (escalar): El gradiente de la función costo con respecto al parámetro w\n",
        "      dj_db (escalar): El gradiente de la función costo con respecto al parámetro b\n",
        "     \"\"\"\n",
        "\n",
        "    N = x.shape[0]    # Número de ejemplos en el conjunto de entrenamiento\n",
        "    dj_dw = 0\n",
        "    dj_db = 0\n",
        "\n",
        "    for i in range(N):\n",
        "        # Tu para calcular h_wb_i aqui\n",
        "\n",
        "        # Tu código para calcular  dj_dw_i y dj_db_i aqui\n",
        "\n",
        "        # Tu código para acumular el gradiente de todos los ejemplos de entrenamiento aqui\n",
        "\n",
        "    # Finalmente multiplicamos por 2/N\n",
        "      dj_dw = 2 * dj_dw / N\n",
        "      dj_db = 2 * dj_db / N\n",
        "\n",
        "    return dj_dw, dj_db\n",
        "\n"
      ]
    },
    {
      "cell_type": "markdown",
      "id": "23b62d56",
      "metadata": {
        "id": "23b62d56"
      },
      "source": [
        "Comprueba que tu implementación de la función gradiente es correcta. Corriendo la siguiente celda y verificando si el resultado esperado es:\n",
        "\n",
        "dj_dw = -0.1\n",
        "dj_db = 0.399"
      ]
    },
    {
      "cell_type": "code",
      "execution_count": 9,
      "id": "24c2efa8",
      "metadata": {
        "id": "24c2efa8",
        "outputId": "5795838f-70cd-40f6-9e22-344a14a439bf",
        "colab": {
          "base_uri": "https://localhost:8080/"
        }
      },
      "outputs": [
        {
          "output_type": "stream",
          "name": "stdout",
          "text": [
            "(0.0, 0.0)\n"
          ]
        }
      ],
      "source": [
        "x = np.array([0, 1])\n",
        "y = np.array([0.5,2.1])\n",
        "w = 1\n",
        "b = 1\n",
        "\n",
        "# Valor\n",
        "gradiente = calcular_gradiente(x, y, w , b)\n",
        "print(gradiente)"
      ]
    },
    {
      "cell_type": "markdown",
      "id": "f93a0c17",
      "metadata": {
        "id": "f93a0c17"
      },
      "source": [
        "# Visualizaciones previas\n",
        "\n",
        "Ahora que ya implementaste la función calcular el gradiente. Vamos a utilizarla para crear algunas visualizaciones del gradiente. No es necesario que estudies los detalles de las funciones de visualización. Lo importante es interpretar las gráficas creadas. Así que solamente corre la siguiente celda, observa los resultados e intenta descifrar que es lo que nos dicen."
      ]
    },
    {
      "cell_type": "code",
      "execution_count": 10,
      "id": "d7ed1fbc",
      "metadata": {
        "id": "d7ed1fbc",
        "outputId": "f2df525d-a304-49eb-ef97-189add9ed934",
        "colab": {
          "base_uri": "https://localhost:8080/",
          "height": 484
        }
      },
      "outputs": [
        {
          "output_type": "stream",
          "name": "stderr",
          "text": [
            "/usr/local/lib/python3.12/dist-packages/matplotlib/quiver.py:695: RuntimeWarning: divide by zero encountered in scalar divide\n",
            "  length = a * (widthu_per_lenu / (self.scale * self.width))\n",
            "/usr/local/lib/python3.12/dist-packages/matplotlib/quiver.py:695: RuntimeWarning: invalid value encountered in multiply\n",
            "  length = a * (widthu_per_lenu / (self.scale * self.width))\n"
          ]
        },
        {
          "output_type": "display_data",
          "data": {
            "text/plain": [
              "<Figure size 1200x400 with 2 Axes>"
            ],
            "image/png": "[encoded data removed]"
          },
          "metadata": {}
        }
      ],
      "source": [
        "graficar_gradientes(x_train, y_train, calcular_costo, calcular_gradiente)\n",
        "plt.show()"
      ]
    },
    {
      "cell_type": "markdown",
      "id": "53bc9413",
      "metadata": {
        "id": "53bc9413"
      },
      "source": [
        "La gráfica a la izquierda de la celda de arriba muestra $\\frac{\\partial J(w,b)}{\\partial w}$ que es la pendiente del costo relativo a $w$ en tres puntos. Las derivadas guian el descenso de gradiante hacia el mínimo de la función costo.\n",
        "\n",
        "A la derecha, se muestra el campo de gradientes considerando ambos parámetros. El tamaño de las flechas refleja la magnitud del gradiente en ese punto. Notar que en realidad el gradiente apunta alejandose del mínimo. Sin embargo, el signo menos en el algoritmo de descenso de gradiente cambia el sentido y mueve los parámetros en la dirección que reduce el costo."
      ]
    },
    {
      "cell_type": "markdown",
      "id": "b3190dfe",
      "metadata": {
        "id": "b3190dfe"
      },
      "source": [
        "###  Descenso de gradiente\n",
        "La siguiente celda define la función descenso de gradiente que será utilizada para ajustar los valores de $w$ y $b$."
      ]
    },
    {
      "cell_type": "code",
      "execution_count": 11,
      "id": "bef10b25",
      "metadata": {
        "id": "bef10b25"
      },
      "outputs": [],
      "source": [
        "def descenso_gradiente(datos, etiquetas, w_inicial, b_inicial, tasa_aprendizaje, iteraciones, funcion_costo, funcion_gradiente):\n",
        "    \"\"\"\n",
        "    Realiza descenso del gradiente para ajustar los parámetros w y b.\n",
        "    Actualiza w y b realizando el número de iteraciones indicadas con una\n",
        "    tasa de aprendizaje específica.\n",
        "\n",
        "    Parámetros:\n",
        "      datos (ndarray (m,))         : Datos de entrada, m ejemplos\n",
        "      etiquetas (ndarray (m,))     : Valores objetivo\n",
        "      w_inicial, b_inicial (float) : Valores iniciales de los parámetros\n",
        "      tasa_aprendizaje (float)     : Tasa de aprendizaje\n",
        "      iteraciones (int)            : Número de iteraciones del algoritmo\n",
        "      funcion_costo                : Función que calcula el costo\n",
        "      funcion_gradiente            : Función que calcula los gradientes\n",
        "\n",
        "    Retorna:\n",
        "      w_final (float)              : Valor final del parámetro w\n",
        "      b_final (float)              : Valor final del parámetro b\n",
        "      historial_costos (list)      : Lista con el valor del costo por iteración\n",
        "      historial_parametros (list)  : Lista con los valores de [w, b] por iteración\n",
        "    \"\"\"\n",
        "\n",
        "    historial_costos = []\n",
        "    historial_parametros = []\n",
        "\n",
        "    w_actual = w_inicial\n",
        "    b_actual = b_inicial\n",
        "\n",
        "    for paso in range(iteraciones):\n",
        "        grad_w, grad_b = funcion_gradiente(datos, etiquetas, w_actual, b_actual)\n",
        "\n",
        "        # Actualizamos los parámetros\n",
        "        w_actual = w_actual - tasa_aprendizaje * grad_w\n",
        "        b_actual = b_actual - tasa_aprendizaje * grad_b\n",
        "\n",
        "        # Guardamos historial si no es demasiado grande\n",
        "        if paso < 100000:\n",
        "            costo = funcion_costo(datos, etiquetas, w_actual, b_actual)\n",
        "            historial_costos.append(costo)\n",
        "            historial_parametros.append([w_actual, b_actual])\n",
        "\n",
        "        # Imprimimos el estado cada cierta cantidad de iteraciones\n",
        "        if paso % math.ceil(iteraciones / 10) == 0:\n",
        "            print(f\"Iteración {paso:4}: Costo {historial_costos[-1]:0.2e} \",\n",
        "                  f\"grad_w: {grad_w: 0.3e}, grad_b: {grad_b: 0.3e}  \",\n",
        "                  f\"w: {w_actual: 0.3e}, b: {b_actual: 0.5e}\")\n",
        "\n",
        "    return w_actual, b_actual, historial_costos, historial_parametros\n"
      ]
    },
    {
      "cell_type": "markdown",
      "id": "fd89a22e",
      "metadata": {
        "id": "fd89a22e"
      },
      "source": [
        "## Entrenamiento"
      ]
    },
    {
      "cell_type": "code",
      "execution_count": 12,
      "id": "531bbac3",
      "metadata": {
        "id": "531bbac3",
        "outputId": "96f949fc-4d30-4011-c009-192aab2ec3e1",
        "colab": {
          "base_uri": "https://localhost:8080/"
        }
      },
      "outputs": [
        {
          "output_type": "stream",
          "name": "stdout",
          "text": [
            "Iteración    0: Costo 0.00e+00  grad_w:  0.000e+00, grad_b:  0.000e+00   w:  0.000e+00, b:  0.00000e+00\n",
            "Iteración  500: Costo 0.00e+00  grad_w:  0.000e+00, grad_b:  0.000e+00   w:  0.000e+00, b:  0.00000e+00\n",
            "Iteración 1000: Costo 0.00e+00  grad_w:  0.000e+00, grad_b:  0.000e+00   w:  0.000e+00, b:  0.00000e+00\n",
            "Iteración 1500: Costo 0.00e+00  grad_w:  0.000e+00, grad_b:  0.000e+00   w:  0.000e+00, b:  0.00000e+00\n",
            "Iteración 2000: Costo 0.00e+00  grad_w:  0.000e+00, grad_b:  0.000e+00   w:  0.000e+00, b:  0.00000e+00\n",
            "Iteración 2500: Costo 0.00e+00  grad_w:  0.000e+00, grad_b:  0.000e+00   w:  0.000e+00, b:  0.00000e+00\n",
            "Iteración 3000: Costo 0.00e+00  grad_w:  0.000e+00, grad_b:  0.000e+00   w:  0.000e+00, b:  0.00000e+00\n",
            "Iteración 3500: Costo 0.00e+00  grad_w:  0.000e+00, grad_b:  0.000e+00   w:  0.000e+00, b:  0.00000e+00\n",
            "Iteración 4000: Costo 0.00e+00  grad_w:  0.000e+00, grad_b:  0.000e+00   w:  0.000e+00, b:  0.00000e+00\n",
            "Iteración 4500: Costo 0.00e+00  grad_w:  0.000e+00, grad_b:  0.000e+00   w:  0.000e+00, b:  0.00000e+00\n",
            "(w,b) encontrados por el descenso de gradiente: (  0.0000,  0.0000)\n"
          ]
        }
      ],
      "source": [
        "# inicializamos los parámetros\n",
        "w_init = 0\n",
        "b_init = 0\n",
        "# definimos hyperparámetros\n",
        "iterations = 5000\n",
        "tasa_aprendizaje = 1.0e-2\n",
        "# corremos descenso de gradiente\n",
        "w_final, b_final, J_hist, p_hist = descenso_gradiente(x_train ,y_train, w_init, b_init, tasa_aprendizaje,\n",
        "                                                    iterations, calcular_costo, calcular_gradiente)\n",
        "print(f\"(w,b) encontrados por el descenso de gradiente: ({w_final:8.4f},{b_final:8.4f})\")"
      ]
    },
    {
      "cell_type": "markdown",
      "id": "a2d70750",
      "metadata": {
        "id": "a2d70750"
      },
      "source": [
        "Vamos a superponer la linea encontrada con los puntos originales"
      ]
    },
    {
      "cell_type": "code",
      "execution_count": 13,
      "id": "e0ac3773",
      "metadata": {
        "id": "e0ac3773",
        "outputId": "6d626c64-3cd1-4015-ccb3-70a0e140cb83",
        "colab": {
          "base_uri": "https://localhost:8080/",
          "height": 448
        }
      },
      "outputs": [
        {
          "output_type": "execute_result",
          "data": {
            "text/plain": [
              "<matplotlib.legend.Legend at 0x7f35f46789e0>"
            ]
          },
          "metadata": {},
          "execution_count": 13
        },
        {
          "output_type": "display_data",
          "data": {
            "text/plain": [
              "<Figure size 640x480 with 1 Axes>"
            ],
            "image/png": "[encoded data removed]"
          },
          "metadata": {}
        }
      ],
      "source": [
        "# primero calculamos muestras a lo largo de la linea encontrada por el algoritmo\n",
        "muestras_x = np.linspace(x_train.min(), x_train.max())\n",
        "muestras_y = w_final * muestras_x + b_final\n",
        "plt.scatter(muestras_x, muestras_y, label='predicciones')\n",
        "plt.scatter(x_train, y_train, label='datos entrenamiento')\n",
        "plt.legend()"
      ]
    },
    {
      "cell_type": "markdown",
      "id": "13c8ac5f",
      "metadata": {
        "id": "13c8ac5f"
      },
      "source": [
        "Como podemos observar en el grafico de arriba. El algoritmo de descenso de gradiente nos permitió encontrar los parametros w y b correctos para ajustar los dos ejemplos de entrenamiento.\n",
        "\n",
        "Ahora vamos a crear un gráfico del costo frente a las iteraciones para observar el progreso en el descenso del gradiente. El costo debe disminuir siempre en ejecuciones exitosas."
      ]
    },
    {
      "cell_type": "code",
      "execution_count": 14,
      "id": "a8136887",
      "metadata": {
        "id": "a8136887",
        "outputId": "1ac6c9b2-c79e-4a23-e115-05e4fe383d63",
        "colab": {
          "base_uri": "https://localhost:8080/",
          "height": 472
        }
      },
      "outputs": [
        {
          "output_type": "display_data",
          "data": {
            "text/plain": [
              "<Figure size 640x480 with 1 Axes>"
            ],
            "image/png": "[encoded data removed]"
          },
          "metadata": {}
        }
      ],
      "source": [
        "# Graficar costo. Cambia los valores de inicio y final de iteración para ver distintas partes del proceso.\n",
        "iteracion_inicio = 0\n",
        "iteracion_final = 500\n",
        "plt.plot(J_hist[iteracion_inicio:iteracion_final])\n",
        "\n",
        "plt.title(\"Costo vs. iteración\")\n",
        "plt.ylabel('Costo')\n",
        "plt.xlabel('Paso de iteración')\n",
        "\n",
        "plt.show()"
      ]
    },
    {
      "cell_type": "markdown",
      "id": "abc78886",
      "metadata": {
        "id": "abc78886"
      },
      "source": [
        "## Predicciones\n",
        "\n",
        "Ahora que has encontrado los valores óptimos para los parámetros $w$ y $b$, puedes utilizar el modelo para predecir los valores de las viviendas basándote en los parámetros aprendidos. Como era de esperarse, los valores predichos son casi iguales a los valores de entrenamiento para esas mismas viviendas. Además, el valor que no se incluyó en el entrenamiento está en línea con el valor esperado."
      ]
    },
    {
      "cell_type": "code",
      "execution_count": 15,
      "id": "20072781",
      "metadata": {
        "id": "20072781",
        "outputId": "3c7c2271-d034-4859-b528-7600c996238e",
        "colab": {
          "base_uri": "https://localhost:8080/"
        }
      },
      "outputs": [
        {
          "output_type": "stream",
          "name": "stdout",
          "text": [
            "Predicción para un valor de x de 1.0  0.0\n",
            "Predicción para un valor de x de 1.5  0.0\n",
            "Predicción para un valor de x de 2.0  0.0\n"
          ]
        }
      ],
      "source": [
        "print(f\"Predicción para un valor de x de 1.0  {w_final*1.0 + b_final:0.1f}\")\n",
        "print(f\"Predicción para un valor de x de 1.5  {w_final*1.2 + b_final:0.1f}\")\n",
        "print(f\"Predicción para un valor de x de 2.0  {w_final*2.0 + b_final:0.1f}\")"
      ]
    },
    {
      "cell_type": "markdown",
      "id": "cc6e49c7",
      "metadata": {
        "id": "cc6e49c7"
      },
      "source": [
        "## Visualización descenso del gradiente\n",
        "\n",
        "La siguiente celda crea una visualización que muestra el progreso del descenso del gradiente durante su ejecución graficando el costo a lo largo de las iteraciones sobre un gráfico de contorno de la función de costo."
      ]
    },
    {
      "cell_type": "code",
      "execution_count": 16,
      "id": "db1332ba",
      "metadata": {
        "id": "db1332ba",
        "outputId": "57c36d2c-b600-4bec-8908-2a007e2534f9",
        "colab": {
          "base_uri": "https://localhost:8080/",
          "height": 565
        }
      },
      "outputs": [
        {
          "output_type": "display_data",
          "data": {
            "text/plain": [
              "<Figure size 1200x600 with 1 Axes>"
            ],
            "image/png": "[encoded data removed]"
          },
          "metadata": {}
        }
      ],
      "source": [
        "fig, ax = plt.subplots(1,1, figsize=(12, 6))\n",
        "graficar_contorno_con_descenso(x_train, y_train, p_hist, ax, calcular_costo)"
      ]
    },
    {
      "cell_type": "markdown",
      "id": "831eb957",
      "metadata": {
        "id": "831eb957"
      },
      "source": [
        "Arriba, las gráficas de contorno muestran el costo $J(w,b)$ para un rango de $w$ y $b$. Sobre ellas, usando flechas rojas se muestra el camino del descenso del gradiente. Por favor notar lo siguiente:\n",
        "- La trayectoria avanza de forma constante (monótona) hacia su objetivo.\n",
        "- Los pasos iniciales son mucho más grandes que los pasos cerca del objetivo"
      ]
    },
    {
      "cell_type": "markdown",
      "id": "cd9343a2",
      "metadata": {
        "id": "cd9343a2"
      },
      "source": [
        "Actividad: Cambia el valor de la taza de aprendizaje y observa el impacto en el proceso de entrenamiento."
      ]
    }
  ],
  "metadata": {
    "kernelspec": {
      "display_name": "ds",
      "language": "python",
      "name": "python3"
    },
    "language_info": {
      "codemirror_mode": {
        "name": "ipython",
        "version": 3
      },
      "file_extension": ".py",
      "mimetype": "text/x-python",
      "name": "python",
      "nbconvert_exporter": "python",
      "pygments_lexer": "ipython3",
      "version": "3.10.18"
    },
    "colab": {
      "provenance": []
    }
  },
  "nbformat": 4,
  "nbformat_minor": 5
}